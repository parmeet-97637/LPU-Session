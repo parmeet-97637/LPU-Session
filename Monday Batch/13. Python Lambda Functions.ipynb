{
 "cells": [
  {
   "cell_type": "markdown",
   "id": "1149bae7",
   "metadata": {},
   "source": [
    "# Python Lambda\n",
    "- A lambda function is a small anonymous function.\n",
    "\n",
    "- A lambda function can take any number of arguments, but can only have one expression.\n",
    "\n",
    "# Syntax\n",
    "<b>lambda arguments : expression\n",
    "- The expression is executed and the result is returned\n"
   ]
  },
  {
   "cell_type": "code",
   "execution_count": null,
   "id": "ee276b67",
   "metadata": {},
   "outputs": [],
   "source": [
    "# single line functions, anonymous functions"
   ]
  },
  {
   "cell_type": "code",
   "execution_count": null,
   "id": "28ac8eaf",
   "metadata": {},
   "outputs": [],
   "source": [
    "lambda argments : expression"
   ]
  },
  {
   "cell_type": "code",
   "execution_count": 1,
   "id": "b1d8057c",
   "metadata": {},
   "outputs": [],
   "source": [
    "def square(x):\n",
    "    return x*x"
   ]
  },
  {
   "cell_type": "code",
   "execution_count": 3,
   "id": "6344617e",
   "metadata": {},
   "outputs": [],
   "source": [
    "a = lambda x : x*x #lambda function"
   ]
  },
  {
   "cell_type": "code",
   "execution_count": 6,
   "id": "0f93aea2",
   "metadata": {},
   "outputs": [
    {
     "data": {
      "text/plain": [
       "4"
      ]
     },
     "execution_count": 6,
     "metadata": {},
     "output_type": "execute_result"
    }
   ],
   "source": [
    "a(2)"
   ]
  },
  {
   "cell_type": "code",
   "execution_count": 9,
   "id": "9fd2c413",
   "metadata": {},
   "outputs": [],
   "source": [
    "a = lambda x : x*x*x"
   ]
  },
  {
   "cell_type": "code",
   "execution_count": 10,
   "id": "6c0ebc52",
   "metadata": {},
   "outputs": [
    {
     "data": {
      "text/plain": [
       "8"
      ]
     },
     "execution_count": 10,
     "metadata": {},
     "output_type": "execute_result"
    }
   ],
   "source": [
    "a(2)"
   ]
  },
  {
   "cell_type": "code",
   "execution_count": null,
   "id": "58b40a2b",
   "metadata": {},
   "outputs": [],
   "source": []
  },
  {
   "cell_type": "code",
   "execution_count": null,
   "id": "52651637",
   "metadata": {},
   "outputs": [],
   "source": []
  },
  {
   "cell_type": "code",
   "execution_count": null,
   "id": "29937d46",
   "metadata": {},
   "outputs": [],
   "source": []
  },
  {
   "cell_type": "code",
   "execution_count": 11,
   "id": "0e6223bc",
   "metadata": {},
   "outputs": [
    {
     "name": "stdout",
     "output_type": "stream",
     "text": [
      "50\n"
     ]
    }
   ],
   "source": [
    "#Example-1\n",
    "#Multiply 10 to argument a, and return the result:\n",
    "\n",
    "x = lambda a : a * 10\n",
    "print(x(5))"
   ]
  },
  {
   "cell_type": "markdown",
   "id": "58f93df3",
   "metadata": {},
   "source": [
    "<b>Lambda functions can take any number of arguments"
   ]
  },
  {
   "cell_type": "code",
   "execution_count": 12,
   "id": "9b95c0fc",
   "metadata": {},
   "outputs": [],
   "source": [
    "x = lambda a,b : a*b"
   ]
  },
  {
   "cell_type": "code",
   "execution_count": 13,
   "id": "c14f79be",
   "metadata": {},
   "outputs": [
    {
     "data": {
      "text/plain": [
       "20"
      ]
     },
     "execution_count": 13,
     "metadata": {},
     "output_type": "execute_result"
    }
   ],
   "source": [
    "x(5,4)"
   ]
  },
  {
   "cell_type": "code",
   "execution_count": 15,
   "id": "942e0671",
   "metadata": {},
   "outputs": [],
   "source": [
    "x = lambda a,b,c : a+b+c"
   ]
  },
  {
   "cell_type": "code",
   "execution_count": 16,
   "id": "969fb332",
   "metadata": {},
   "outputs": [
    {
     "data": {
      "text/plain": [
       "14"
      ]
     },
     "execution_count": 16,
     "metadata": {},
     "output_type": "execute_result"
    }
   ],
   "source": [
    "x(5,4,5)"
   ]
  },
  {
   "cell_type": "code",
   "execution_count": null,
   "id": "7c4f3953",
   "metadata": {},
   "outputs": [],
   "source": []
  },
  {
   "cell_type": "code",
   "execution_count": 2,
   "id": "1edce130",
   "metadata": {},
   "outputs": [
    {
     "name": "stdout",
     "output_type": "stream",
     "text": [
      "12\n"
     ]
    }
   ],
   "source": [
    "#Example-2\n",
    "#Multiply argument a with argument b and return the result:\n",
    "\n",
    "x = lambda a, b : a * b\n",
    "print(x(4, 3))"
   ]
  },
  {
   "cell_type": "code",
   "execution_count": 3,
   "id": "99ac3147",
   "metadata": {},
   "outputs": [
    {
     "name": "stdout",
     "output_type": "stream",
     "text": [
      "18\n"
     ]
    }
   ],
   "source": [
    "#Example:3\n",
    "#Summarize argument a, b, and c and return the result:\n",
    "\n",
    "x= lambda a,b,c:a+b+c\n",
    "print(x(5,6,7))"
   ]
  },
  {
   "cell_type": "markdown",
   "id": "f7b17260",
   "metadata": {},
   "source": [
    "## Why Use Lambda Functions?\n",
    "- The power of lambda is better shown when you use them as an anonymous function inside another function.\n",
    "\n",
    "- Say you have a function definition that takes one argument, and that argument will be multiplied with an unknown number"
   ]
  },
  {
   "cell_type": "code",
   "execution_count": 19,
   "id": "703e424a",
   "metadata": {},
   "outputs": [],
   "source": [
    "#Example:4\n",
    "# This function always double the element what we send\n",
    "def myfunc1(n):\n",
    "    return lambda a : a * n"
   ]
  },
  {
   "cell_type": "code",
   "execution_count": 17,
   "id": "17bb3b61",
   "metadata": {},
   "outputs": [],
   "source": [
    "def myfunc(n):\n",
    "    def myfunc2(a):\n",
    "        return a*n"
   ]
  },
  {
   "cell_type": "code",
   "execution_count": 18,
   "id": "045b9979",
   "metadata": {},
   "outputs": [],
   "source": [
    "myfunc(10)"
   ]
  },
  {
   "cell_type": "code",
   "execution_count": 21,
   "id": "47331bf3",
   "metadata": {
    "scrolled": true
   },
   "outputs": [
    {
     "data": {
      "text/plain": [
       "20"
      ]
     },
     "execution_count": 21,
     "metadata": {},
     "output_type": "execute_result"
    }
   ],
   "source": [
    "myfunc1(10)(2)"
   ]
  },
  {
   "cell_type": "code",
   "execution_count": 22,
   "id": "f2b44b13",
   "metadata": {},
   "outputs": [],
   "source": [
    "f1 = myfunc1(10)"
   ]
  },
  {
   "cell_type": "code",
   "execution_count": 24,
   "id": "74c92680",
   "metadata": {},
   "outputs": [
    {
     "data": {
      "text/plain": [
       "40"
      ]
     },
     "execution_count": 24,
     "metadata": {},
     "output_type": "execute_result"
    }
   ],
   "source": [
    "f1(4)"
   ]
  },
  {
   "cell_type": "code",
   "execution_count": 25,
   "id": "f28dd908",
   "metadata": {},
   "outputs": [
    {
     "data": {
      "text/plain": [
       "<function __main__.myfunc1.<locals>.<lambda>(a)>"
      ]
     },
     "execution_count": 25,
     "metadata": {},
     "output_type": "execute_result"
    }
   ],
   "source": [
    "f1"
   ]
  },
  {
   "cell_type": "code",
   "execution_count": 5,
   "id": "97962127",
   "metadata": {},
   "outputs": [
    {
     "name": "stdout",
     "output_type": "stream",
     "text": [
      "<function myfunc.<locals>.<lambda> at 0x0000018BEF1A1040>\n",
      "22\n"
     ]
    }
   ],
   "source": [
    "mydoubler = myfunc(2) #always multiple any number by 2\n",
    "print(mydoubler) #returns the object which is ready to apply the lambda function over a value and return it\n",
    "print(mydoubler(11))"
   ]
  },
  {
   "cell_type": "code",
   "execution_count": 6,
   "id": "f4d4ec38",
   "metadata": {
    "scrolled": true
   },
   "outputs": [
    {
     "name": "stdout",
     "output_type": "stream",
     "text": [
      "<function myfunc.<locals>.<lambda> at 0x0000018BEF1A1EE0>\n",
      "33\n"
     ]
    }
   ],
   "source": [
    "mytripler = myfunc(3) #always multiple any number by 3\n",
    "print(mytripler) #returns the object which is ready to apply the lambda function over a value and return it\n",
    "print(mytripler(11))"
   ]
  },
  {
   "cell_type": "code",
   "execution_count": 26,
   "id": "8637208d",
   "metadata": {},
   "outputs": [],
   "source": [
    "string ='PythonProgramming'"
   ]
  },
  {
   "cell_type": "code",
   "execution_count": 30,
   "id": "325063ae",
   "metadata": {},
   "outputs": [],
   "source": [
    "def my_string(string):\n",
    "    return string.lower()\n",
    "\n",
    "#lambda arguments : expression\n",
    "f1 = lambda string : string.lower()"
   ]
  },
  {
   "cell_type": "code",
   "execution_count": 31,
   "id": "252cab47",
   "metadata": {},
   "outputs": [
    {
     "data": {
      "text/plain": [
       "'parmeet'"
      ]
     },
     "execution_count": 31,
     "metadata": {},
     "output_type": "execute_result"
    }
   ],
   "source": [
    "f1(\"Parmeet\")"
   ]
  },
  {
   "cell_type": "code",
   "execution_count": 28,
   "id": "99f5c930",
   "metadata": {
    "scrolled": true
   },
   "outputs": [
    {
     "data": {
      "text/plain": [
       "'pythonprogramming'"
      ]
     },
     "execution_count": 28,
     "metadata": {},
     "output_type": "execute_result"
    }
   ],
   "source": [
    "my_string(string)"
   ]
  },
  {
   "cell_type": "code",
   "execution_count": null,
   "id": "1062ec4b",
   "metadata": {},
   "outputs": [],
   "source": []
  },
  {
   "cell_type": "code",
   "execution_count": 7,
   "id": "d8fcc4de",
   "metadata": {},
   "outputs": [
    {
     "name": "stdout",
     "output_type": "stream",
     "text": [
      "<function <lambda> at 0x0000018BEF1CC3A0>\n"
     ]
    }
   ],
   "source": [
    "#Example-5\n",
    "'''In below example, the lambda is not being called by the print function but simply returning the function object \n",
    "and the memory location where it is stored.\n",
    "\n",
    "So, to make the print to print the string first we need to call the lambda so that the string will get pass the print'''\n",
    "\n",
    "string ='PythonProgramming'\n",
    " \n",
    "# lambda returns a function object\n",
    "print(lambda string : string)"
   ]
  },
  {
   "cell_type": "code",
   "execution_count": 8,
   "id": "986c7c8a",
   "metadata": {},
   "outputs": [
    {
     "name": "stdout",
     "output_type": "stream",
     "text": [
      "PythonProgramming\n"
     ]
    }
   ],
   "source": [
    "# lambda gets pass to print\n",
    "(lambda x : print(string))(string)"
   ]
  },
  {
   "cell_type": "markdown",
   "id": "2a424568",
   "metadata": {},
   "source": [
    "##  Python Lambda Function with if-else"
   ]
  },
  {
   "cell_type": "code",
   "execution_count": 32,
   "id": "c79f3122",
   "metadata": {},
   "outputs": [],
   "source": [
    "f1 = lambda a,b : a if a>b else b\n",
    "\n",
    "# lambda arguments : <\"output of if\"> if condtion else <\"output of else\">"
   ]
  },
  {
   "cell_type": "code",
   "execution_count": 33,
   "id": "e080ad79",
   "metadata": {},
   "outputs": [
    {
     "data": {
      "text/plain": [
       "5"
      ]
     },
     "execution_count": 33,
     "metadata": {},
     "output_type": "execute_result"
    }
   ],
   "source": [
    "f1(5,4)"
   ]
  },
  {
   "cell_type": "code",
   "execution_count": 34,
   "id": "e77803f1",
   "metadata": {},
   "outputs": [
    {
     "data": {
      "text/plain": [
       "10"
      ]
     },
     "execution_count": 34,
     "metadata": {},
     "output_type": "execute_result"
    }
   ],
   "source": [
    "f1(4,10)"
   ]
  },
  {
   "cell_type": "code",
   "execution_count": null,
   "id": "0584f30c",
   "metadata": {},
   "outputs": [],
   "source": []
  },
  {
   "cell_type": "code",
   "execution_count": 9,
   "id": "ef7061b9",
   "metadata": {},
   "outputs": [
    {
     "name": "stdout",
     "output_type": "stream",
     "text": [
      "72\n"
     ]
    }
   ],
   "source": [
    "# Example of lambda function using if-else\n",
    "Max = lambda a, b : a if(a > b) else b\n",
    "\n",
    "print(Max(15, 72))\n"
   ]
  },
  {
   "cell_type": "markdown",
   "id": "bbf42f51",
   "metadata": {},
   "source": [
    "## Python Lambda with Multiple statements"
   ]
  },
  {
   "cell_type": "code",
   "execution_count": 35,
   "id": "a0cb5f55",
   "metadata": {},
   "outputs": [
    {
     "data": {
      "text/plain": [
       "[1, 41, 64, 166]"
      ]
     },
     "execution_count": 35,
     "metadata": {},
     "output_type": "execute_result"
    }
   ],
   "source": [
    "sorted([1, 41, 166, 64])"
   ]
  },
  {
   "cell_type": "code",
   "execution_count": null,
   "id": "443fd191",
   "metadata": {},
   "outputs": [],
   "source": []
  },
  {
   "cell_type": "code",
   "execution_count": 36,
   "id": "da324e34",
   "metadata": {},
   "outputs": [],
   "source": [
    "List = [[2,3,4],[1, 4, 16, 64],[3, 6, 9, 12]]\n",
    "\n",
    "# Sort each sublist\n",
    "sortList = lambda x: (sorted(i) for i in x)"
   ]
  },
  {
   "cell_type": "code",
   "execution_count": 39,
   "id": "e0758eef",
   "metadata": {},
   "outputs": [],
   "source": [
    "secondLargest = lambda x, f : [y[len(y)-2] for y in f(x)]"
   ]
  },
  {
   "cell_type": "code",
   "execution_count": 40,
   "id": "8066ad0c",
   "metadata": {},
   "outputs": [],
   "source": [
    "res = secondLargest(List, sortList)"
   ]
  },
  {
   "cell_type": "code",
   "execution_count": 41,
   "id": "fb3d4a33",
   "metadata": {},
   "outputs": [
    {
     "data": {
      "text/plain": [
       "[3, 16, 9]"
      ]
     },
     "execution_count": 41,
     "metadata": {},
     "output_type": "execute_result"
    }
   ],
   "source": [
    "res"
   ]
  },
  {
   "cell_type": "code",
   "execution_count": 58,
   "id": "f0e042a3",
   "metadata": {},
   "outputs": [],
   "source": [
    "# def sortlist(list1):\n",
    "#     for i in list1:\n",
    "#         print(sorted(i))\n",
    "# Sort each sublist\n",
    "sortlist = lambda x: (sorted(i) for i in x)"
   ]
  },
  {
   "cell_type": "code",
   "execution_count": 53,
   "id": "df6fb706",
   "metadata": {},
   "outputs": [
    {
     "name": "stdout",
     "output_type": "stream",
     "text": [
      "[2, 3, 4]\n",
      "[1, 4, 16, 64]\n",
      "[3, 6, 9, 12]\n"
     ]
    }
   ],
   "source": [
    "sortlist([[2,4,3],[1, 4, 64, 16],[3, 9, 6, 12]])"
   ]
  },
  {
   "cell_type": "code",
   "execution_count": 62,
   "id": "fa5f0b70",
   "metadata": {},
   "outputs": [],
   "source": [
    "def secondlargest(x, f):\n",
    "    for y in f(x):\n",
    "        print(y[len(y)-2])"
   ]
  },
  {
   "cell_type": "code",
   "execution_count": 63,
   "id": "724074bd",
   "metadata": {},
   "outputs": [
    {
     "data": {
      "text/plain": [
       "[3, 16, 9]"
      ]
     },
     "execution_count": 63,
     "metadata": {},
     "output_type": "execute_result"
    }
   ],
   "source": [
    "secondLargest(sortlist([[2,4,3],[1, 4, 64, 16],[3, 9, 6, 12]]), sortlist)"
   ]
  },
  {
   "cell_type": "code",
   "execution_count": null,
   "id": "1769b2a0",
   "metadata": {},
   "outputs": [],
   "source": [
    "[2,4,3] - > [2,3,4] -> 3\n",
    "[1,4,64,16] - > [1,4,16,64] - >16\n",
    "\n",
    "[3,9,6,12] - > [ 3,6,9,12] - > 9"
   ]
  },
  {
   "cell_type": "code",
   "execution_count": 10,
   "id": "5d94fbae",
   "metadata": {},
   "outputs": [
    {
     "name": "stdout",
     "output_type": "stream",
     "text": [
      "[3, 16, 9]\n"
     ]
    }
   ],
   "source": [
    "List = [[2,3,4],[1, 4, 16, 64],[3, 6, 9, 12]]\n",
    "\n",
    "# Sort each sublist\n",
    "sortList = lambda x: (sorted(i) for i in x)\n",
    "\n",
    "# Get the second largest element\n",
    "secondLargest = lambda x, f : [y[len(y)-2] for y in f(x)]\n",
    "res = secondLargest(List, sortList)\n",
    "\n",
    "print(res)"
   ]
  },
  {
   "cell_type": "code",
   "execution_count": 64,
   "id": "9d7e3614",
   "metadata": {},
   "outputs": [
    {
     "data": {
      "text/plain": [
       "[3, 9, 16]"
      ]
     },
     "execution_count": 64,
     "metadata": {},
     "output_type": "execute_result"
    }
   ],
   "source": [
    "#Alternate way\n",
    "List = [[2,3,4],[1, 4, 16, 64],[3, 6, 9, 12]]\n",
    "sorted(list(map(lambda x: x[-2], sorted(List))))"
   ]
  },
  {
   "cell_type": "code",
   "execution_count": 67,
   "id": "b1571876",
   "metadata": {},
   "outputs": [
    {
     "data": {
      "text/plain": [
       "[16, 3, 9]"
      ]
     },
     "execution_count": 67,
     "metadata": {},
     "output_type": "execute_result"
    }
   ],
   "source": [
    "list(map(lambda x:x[-2],sorted(List)))"
   ]
  },
  {
   "cell_type": "code",
   "execution_count": null,
   "id": "acf7972d",
   "metadata": {},
   "outputs": [],
   "source": []
  }
 ],
 "metadata": {
  "kernelspec": {
   "display_name": "Python 3",
   "language": "python",
   "name": "python3"
  },
  "language_info": {
   "codemirror_mode": {
    "name": "ipython",
    "version": 3
   },
   "file_extension": ".py",
   "mimetype": "text/x-python",
   "name": "python",
   "nbconvert_exporter": "python",
   "pygments_lexer": "ipython3",
   "version": "3.8.8"
  }
 },
 "nbformat": 4,
 "nbformat_minor": 5
}
