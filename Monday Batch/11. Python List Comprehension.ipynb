{
 "cells": [
  {
   "cell_type": "markdown",
   "id": "842b0da2",
   "metadata": {},
   "source": [
    "# Python - List Comprehension"
   ]
  },
  {
   "cell_type": "markdown",
   "id": "b744ffa4",
   "metadata": {},
   "source": [
    "## 1. List Comprehension\n",
    "- List comprehension offers a shorter syntax when you want to create a new list based on the values of an existing list.\n",
    "\n",
    "- Without list comprehension you will have to write a for statement with a conditional test inside"
   ]
  },
  {
   "cell_type": "markdown",
   "id": "01a98d72",
   "metadata": {},
   "source": [
    "Example\n",
    "- Only accept items that are not \"apple\":"
   ]
  },
  {
   "cell_type": "code",
   "execution_count": 1,
   "id": "79de32db",
   "metadata": {},
   "outputs": [
    {
     "name": "stdout",
     "output_type": "stream",
     "text": [
      "['banana', 'cherry', 'kiwi', 'mango']\n"
     ]
    }
   ],
   "source": [
    "list1 = [\"apple\", \"banana\", \"cherry\", \"kiwi\", \"mango\"]\n",
    "new_list = []\n",
    "\n",
    "for i in list1:\n",
    "    if i!='apple':\n",
    "        new_list.append(i)\n",
    "print(new_list)"
   ]
  },
  {
   "cell_type": "code",
   "execution_count": null,
   "id": "21859024",
   "metadata": {},
   "outputs": [],
   "source": [
    "#List comprehension\n",
    "new_list = [expression for lops conditions]"
   ]
  },
  {
   "cell_type": "code",
   "execution_count": 2,
   "id": "a7b97516",
   "metadata": {},
   "outputs": [
    {
     "data": {
      "text/plain": [
       "['banana', 'cherry', 'kiwi', 'mango']"
      ]
     },
     "execution_count": 2,
     "metadata": {},
     "output_type": "execute_result"
    }
   ],
   "source": [
    "new_list = [i for i in list1 if i!='apple'] #list comprehension\n",
    "new_list"
   ]
  },
  {
   "cell_type": "code",
   "execution_count": null,
   "id": "b03792d5",
   "metadata": {},
   "outputs": [],
   "source": []
  },
  {
   "cell_type": "code",
   "execution_count": 1,
   "id": "4065e2b1",
   "metadata": {},
   "outputs": [
    {
     "name": "stdout",
     "output_type": "stream",
     "text": [
      "['banana', 'cherry', 'kiwi', 'mango']\n"
     ]
    }
   ],
   "source": [
    "#Without list comprehension\n",
    "fruits = [\"apple\", \"banana\", \"cherry\", \"kiwi\", \"mango\"]\n",
    "newlist= []\n",
    "for x in fruits:\n",
    "    if x!= 'apple':\n",
    "        newlist.append(x)\n",
    "print(newlist)"
   ]
  },
  {
   "cell_type": "markdown",
   "id": "bd016d08",
   "metadata": {},
   "source": [
    "## 2. The Syntax\n",
    "<b> newlist = [expression for item in iterable if condition == True] \n",
    "- The return value is a new list, leaving the old list unchanged."
   ]
  },
  {
   "cell_type": "code",
   "execution_count": 2,
   "id": "0c768a74",
   "metadata": {},
   "outputs": [
    {
     "data": {
      "text/plain": [
       "['banana', 'cherry', 'kiwi', 'mango']"
      ]
     },
     "execution_count": 2,
     "metadata": {},
     "output_type": "execute_result"
    }
   ],
   "source": [
    "#with list comprehension    \n",
    "fruits = [\"apple\", \"banana\", \"cherry\", \"kiwi\", \"mango\"]\n",
    "newlist = [x for x in fruits if x != \"apple\"]\n",
    "newlist"
   ]
  },
  {
   "cell_type": "code",
   "execution_count": 3,
   "id": "40274850",
   "metadata": {},
   "outputs": [
    {
     "name": "stdout",
     "output_type": "stream",
     "text": [
      "['apple', 'banana', 'mango']\n"
     ]
    }
   ],
   "source": [
    "lst1 =  [\"apple\", \"banana\", \"cherry\", \"kiwi\", \"mango\"]\n",
    "new_list = []\n",
    "\n",
    "for i in lst1:\n",
    "    if 'a' in i:\n",
    "        new_list.append(i)\n",
    "        \n",
    "print(new_list)\n"
   ]
  },
  {
   "cell_type": "code",
   "execution_count": null,
   "id": "9ea47b37",
   "metadata": {},
   "outputs": [],
   "source": [
    "new_list = [ expression Loops conditions]"
   ]
  },
  {
   "cell_type": "code",
   "execution_count": 4,
   "id": "6d9e2a1d",
   "metadata": {},
   "outputs": [
    {
     "data": {
      "text/plain": [
       "['apple', 'banana', 'mango']"
      ]
     },
     "execution_count": 4,
     "metadata": {},
     "output_type": "execute_result"
    }
   ],
   "source": [
    "new_list = [x for x in lst1 if 'a' in x] #list comprehension\n",
    "new_list"
   ]
  },
  {
   "cell_type": "code",
   "execution_count": 3,
   "id": "202b9d24",
   "metadata": {},
   "outputs": [
    {
     "name": "stdout",
     "output_type": "stream",
     "text": [
      "['apple', 'banana', 'mango']\n"
     ]
    }
   ],
   "source": [
    "#Without list comprehension\n",
    "fruits = [\"apple\", \"banana\", \"cherry\", \"kiwi\", \"mango\"]\n",
    "list1 = []\n",
    "\n",
    "for x in fruits:\n",
    "    if \"a\" in x:\n",
    "        list1.append(x)\n",
    "\n",
    "print(list1)"
   ]
  },
  {
   "cell_type": "code",
   "execution_count": 4,
   "id": "d2effac6",
   "metadata": {},
   "outputs": [
    {
     "name": "stdout",
     "output_type": "stream",
     "text": [
      "['apple', 'banana', 'mango']\n"
     ]
    }
   ],
   "source": [
    "#with list comprehension\n",
    "list1 = [x for x in fruits if \"a\" in x]\n",
    "print(list1)"
   ]
  },
  {
   "cell_type": "markdown",
   "id": "e4201038",
   "metadata": {},
   "source": [
    "## 3. Iterable\n",
    "- The iterable can be any iterable object, like a list, tuple, set etc.\n",
    "\n",
    "**Example**\n",
    "- You can use the range() function to create an iterable:"
   ]
  },
  {
   "cell_type": "code",
   "execution_count": 6,
   "id": "db271c18",
   "metadata": {},
   "outputs": [
    {
     "data": {
      "text/plain": [
       "[0, 1, 2, 3, 4, 5, 6, 7, 8, 9]"
      ]
     },
     "execution_count": 6,
     "metadata": {},
     "output_type": "execute_result"
    }
   ],
   "source": [
    "list1 = [ x for x in range(10)]\n",
    "list1"
   ]
  },
  {
   "cell_type": "code",
   "execution_count": 7,
   "id": "3bd442be",
   "metadata": {},
   "outputs": [
    {
     "data": {
      "text/plain": [
       "[0, 1, 2, 3, 4]"
      ]
     },
     "execution_count": 7,
     "metadata": {},
     "output_type": "execute_result"
    }
   ],
   "source": [
    "list1 = [ x for x in range(10) if x<5]\n",
    "list1"
   ]
  },
  {
   "cell_type": "code",
   "execution_count": 8,
   "id": "77a4d169",
   "metadata": {},
   "outputs": [
    {
     "data": {
      "text/plain": [
       "[0, 2, 4, 6, 8]"
      ]
     },
     "execution_count": 8,
     "metadata": {},
     "output_type": "execute_result"
    }
   ],
   "source": [
    "list1 = [ x for x in range(10) if x%2==0]\n",
    "list1"
   ]
  },
  {
   "cell_type": "code",
   "execution_count": 5,
   "id": "3e7c0dca",
   "metadata": {},
   "outputs": [
    {
     "name": "stdout",
     "output_type": "stream",
     "text": [
      "[0, 1, 2, 3, 4, 5, 6, 7, 8, 9]\n"
     ]
    }
   ],
   "source": [
    "list1 = [x for x in range(10)]\n",
    "print(list1)"
   ]
  },
  {
   "cell_type": "markdown",
   "id": "15b1d222",
   "metadata": {},
   "source": [
    "## Same example, but with a condition:\n",
    "\n",
    "**Example**\n",
    "- Accept only numbers lower than 5:"
   ]
  },
  {
   "cell_type": "code",
   "execution_count": 6,
   "id": "0ff730bd",
   "metadata": {},
   "outputs": [
    {
     "name": "stdout",
     "output_type": "stream",
     "text": [
      "[0, 1, 2, 3, 4]\n"
     ]
    }
   ],
   "source": [
    "list1 = [x for x in range(10) if x < 5]\n",
    "print(list1)"
   ]
  },
  {
   "cell_type": "markdown",
   "id": "465a4489",
   "metadata": {},
   "source": [
    "## 4. Expression\n",
    "- The expression is the current item in the iteration, but it is also the outcome, which you can manipulate before it ends up like a list item in the new list:\n",
    "\n",
    "**Example**\n",
    "- Set the values in the new list to upper case:"
   ]
  },
  {
   "cell_type": "code",
   "execution_count": 9,
   "id": "f83af766",
   "metadata": {},
   "outputs": [
    {
     "data": {
      "text/plain": [
       "['APPLE', 'BANANA', 'CHERRY', 'KIWI', 'MANGO']"
      ]
     },
     "execution_count": 9,
     "metadata": {},
     "output_type": "execute_result"
    }
   ],
   "source": [
    "list1 = ['apple', 'banana', 'cherry', 'kiwi', 'mango']\n",
    "#upper case \n",
    "list1 = [ x.upper() for x in list1]\n",
    "list1"
   ]
  },
  {
   "cell_type": "code",
   "execution_count": 11,
   "id": "c3c7a7a1",
   "metadata": {},
   "outputs": [
    {
     "data": {
      "text/plain": [
       "['Apple', 'Banana', 'Cherry', 'Kiwi', 'Mango']"
      ]
     },
     "execution_count": 11,
     "metadata": {},
     "output_type": "execute_result"
    }
   ],
   "source": [
    "#upper case \n",
    "list1 = ['apple', 'banana', 'cherry', 'kiwi', 'mango']\n",
    "list1 = [ x[0].upper()+x[1:] for x in list1]\n",
    "list1"
   ]
  },
  {
   "cell_type": "code",
   "execution_count": 16,
   "id": "31d1489b",
   "metadata": {},
   "outputs": [
    {
     "name": "stdout",
     "output_type": "stream",
     "text": [
      "Apple\n",
      "Banana\n",
      "Cherry\n",
      "Kiwi\n",
      "Mango\n"
     ]
    }
   ],
   "source": [
    "list1 = ['apple', 'banana', 'cherry', 'kiwi', 'mango']\n",
    "\n",
    "for x in list1:\n",
    "    print(x[0].upper()+x[1:])"
   ]
  },
  {
   "cell_type": "code",
   "execution_count": null,
   "id": "a45a35de",
   "metadata": {},
   "outputs": [],
   "source": []
  },
  {
   "cell_type": "code",
   "execution_count": null,
   "id": "7b3b3f35",
   "metadata": {},
   "outputs": [],
   "source": []
  },
  {
   "cell_type": "code",
   "execution_count": 7,
   "id": "277c0b3d",
   "metadata": {},
   "outputs": [
    {
     "name": "stdout",
     "output_type": "stream",
     "text": [
      "Original List :  ['apple', 'banana', 'cherry', 'kiwi', 'mango']\n",
      "After Implementing List Comprehension :  ['APPLE', 'BANANA', 'CHERRY', 'KIWI', 'MANGO']\n"
     ]
    }
   ],
   "source": [
    "print(\"Original List : \",fruits)\n",
    "list1 = [x.upper() for x in fruits]\n",
    "print(\"After Implementing List Comprehension : \",list1)"
   ]
  },
  {
   "cell_type": "markdown",
   "id": "acbdf771",
   "metadata": {},
   "source": [
    "## 5. Few Excercies"
   ]
  },
  {
   "cell_type": "markdown",
   "id": "5a557401",
   "metadata": {},
   "source": [
    "## a. find the numbers divisible by 3 between 1 to 100"
   ]
  },
  {
   "cell_type": "code",
   "execution_count": 8,
   "id": "f1fa9bfa",
   "metadata": {},
   "outputs": [
    {
     "data": {
      "text/plain": [
       "[1, 2, 3, 4, 5, 6, 7, 8, 9, 10, 11, 12, 13, 14, 15]"
      ]
     },
     "execution_count": 8,
     "metadata": {},
     "output_type": "execute_result"
    }
   ],
   "source": [
    "nums = [i for i in range(1,101)]\n",
    "nums[:15]"
   ]
  },
  {
   "cell_type": "code",
   "execution_count": 20,
   "id": "d2098c95",
   "metadata": {},
   "outputs": [
    {
     "data": {
      "text/plain": [
       "[3,\n",
       " 6,\n",
       " 9,\n",
       " 12,\n",
       " 15,\n",
       " 18,\n",
       " 21,\n",
       " 24,\n",
       " 27,\n",
       " 30,\n",
       " 33,\n",
       " 36,\n",
       " 39,\n",
       " 42,\n",
       " 45,\n",
       " 48,\n",
       " 51,\n",
       " 54,\n",
       " 57,\n",
       " 60,\n",
       " 63,\n",
       " 66,\n",
       " 69,\n",
       " 72,\n",
       " 75,\n",
       " 78,\n",
       " 81,\n",
       " 84,\n",
       " 87,\n",
       " 90,\n",
       " 93,\n",
       " 96,\n",
       " 99]"
      ]
     },
     "execution_count": 20,
     "metadata": {},
     "output_type": "execute_result"
    }
   ],
   "source": [
    "[i for i in range(1,101) if i%3==0]"
   ]
  },
  {
   "cell_type": "code",
   "execution_count": null,
   "id": "7bdde499",
   "metadata": {},
   "outputs": [],
   "source": []
  },
  {
   "cell_type": "code",
   "execution_count": null,
   "id": "bf57caf6",
   "metadata": {},
   "outputs": [],
   "source": []
  },
  {
   "cell_type": "code",
   "execution_count": null,
   "id": "1970d010",
   "metadata": {},
   "outputs": [],
   "source": []
  },
  {
   "cell_type": "code",
   "execution_count": 9,
   "id": "d86bdab0",
   "metadata": {},
   "outputs": [
    {
     "name": "stdout",
     "output_type": "stream",
     "text": [
      "[3, 6, 9, 12, 15, 18, 21, 24, 27, 30, 33, 36, 39, 42, 45, 48, 51, 54, 57, 60, 63, 66, 69, 72, 75, 78, 81, 84, 87, 90, 93, 96, 99]\n"
     ]
    }
   ],
   "source": [
    "odd = [x for x in nums if x%3==0]\n",
    "print(odd)"
   ]
  },
  {
   "cell_type": "markdown",
   "id": "e2d4eca2",
   "metadata": {},
   "source": [
    "## b. Find all of the numbers from 1–100 that have a 6 in them"
   ]
  },
  {
   "cell_type": "code",
   "execution_count": 24,
   "id": "58d1d067",
   "metadata": {},
   "outputs": [
    {
     "data": {
      "text/plain": [
       "[6, 16, 26, 36, 46, 56, 60, 61, 62, 63, 64, 65, 66, 67, 68, 69, 76, 86, 96]"
      ]
     },
     "execution_count": 24,
     "metadata": {},
     "output_type": "execute_result"
    }
   ],
   "source": [
    "# for x in range(1,101):\n",
    "#     if '6' in str(x):\n",
    "#         print(x)\n",
    "        \n",
    "[x for x in range(1,101) if '6' in str(x)]"
   ]
  },
  {
   "cell_type": "code",
   "execution_count": null,
   "id": "a380eb25",
   "metadata": {},
   "outputs": [],
   "source": []
  },
  {
   "cell_type": "code",
   "execution_count": null,
   "id": "d6ee26e1",
   "metadata": {},
   "outputs": [],
   "source": []
  },
  {
   "cell_type": "code",
   "execution_count": null,
   "id": "75d5f51e",
   "metadata": {},
   "outputs": [],
   "source": []
  },
  {
   "cell_type": "code",
   "execution_count": null,
   "id": "d8e744d4",
   "metadata": {},
   "outputs": [],
   "source": []
  },
  {
   "cell_type": "code",
   "execution_count": 10,
   "id": "a322d5af",
   "metadata": {
    "scrolled": true
   },
   "outputs": [
    {
     "data": {
      "text/plain": [
       "[6, 16, 26, 36, 46, 56, 60, 61, 62, 63, 64, 65, 66, 67, 68, 69, 76, 86, 96]"
      ]
     },
     "execution_count": 10,
     "metadata": {},
     "output_type": "execute_result"
    }
   ],
   "source": [
    "num = [num for num in nums if \"6\" in str(num)]\n",
    "num"
   ]
  },
  {
   "cell_type": "markdown",
   "id": "8a72bf8b",
   "metadata": {},
   "source": [
    "### c. Count the number of spaces in a string"
   ]
  },
  {
   "cell_type": "code",
   "execution_count": 25,
   "id": "677fe50d",
   "metadata": {},
   "outputs": [],
   "source": [
    "string = \"Python is a roadmap for Data Science\""
   ]
  },
  {
   "cell_type": "code",
   "execution_count": 26,
   "id": "bb70e61f",
   "metadata": {},
   "outputs": [],
   "source": [
    "count =0 \n",
    "for x in string:\n",
    "    if x == \" \":\n",
    "        count +=1\n",
    "    "
   ]
  },
  {
   "cell_type": "code",
   "execution_count": 29,
   "id": "8d2fd87d",
   "metadata": {},
   "outputs": [
    {
     "data": {
      "text/plain": [
       "6"
      ]
     },
     "execution_count": 29,
     "metadata": {},
     "output_type": "execute_result"
    }
   ],
   "source": [
    "len([x for x in string if x ==\" \"])"
   ]
  },
  {
   "cell_type": "code",
   "execution_count": 30,
   "id": "4cf7d277",
   "metadata": {},
   "outputs": [],
   "source": [
    "string = \"Python is a roadmap for Data Science\""
   ]
  },
  {
   "cell_type": "code",
   "execution_count": 38,
   "id": "4c83179c",
   "metadata": {},
   "outputs": [
    {
     "data": {
      "text/plain": [
       "'Pythn s  rdmp fr Dt Scnc'"
      ]
     },
     "execution_count": 38,
     "metadata": {},
     "output_type": "execute_result"
    }
   ],
   "source": [
    "# for words in string:\n",
    "#     if words.lower() not in ('a','e','i','o','u'): \n",
    "#         print(words)\n",
    "        \n",
    "\"\".join([words for words in string if words not in [\"a\",\"e\",\"i\",\"o\",\"u\"]])"
   ]
  },
  {
   "cell_type": "code",
   "execution_count": 45,
   "id": "5e53a53e",
   "metadata": {},
   "outputs": [
    {
     "data": {
      "text/plain": [
       "'is a for Data'"
      ]
     },
     "execution_count": 45,
     "metadata": {},
     "output_type": "execute_result"
    }
   ],
   "source": [
    "string = \"Python is a roadmap for Data Science\"\n",
    "\n",
    "' '.join([words for words in string.split() if len(words)<6])"
   ]
  },
  {
   "cell_type": "code",
   "execution_count": 50,
   "id": "7cf9f047",
   "metadata": {},
   "outputs": [
    {
     "name": "stdout",
     "output_type": "stream",
     "text": [
      "Python 6\n",
      "is 2\n",
      "a 1\n",
      "roadmap 7\n",
      "for 3\n",
      "Data 4\n",
      "Science 7\n"
     ]
    }
   ],
   "source": [
    "for i in string.split():\n",
    "    print(i,len(i))"
   ]
  },
  {
   "cell_type": "code",
   "execution_count": 43,
   "id": "3daf2e20",
   "metadata": {},
   "outputs": [
    {
     "name": "stdout",
     "output_type": "stream",
     "text": [
      "Python 6\n",
      "is 2\n",
      "a 1\n",
      "roadmap 7\n",
      "for 3\n",
      "Data 4\n",
      "Science 7\n"
     ]
    }
   ],
   "source": [
    "for i in string.split():\n",
    "    print(i,len(i))"
   ]
  },
  {
   "cell_type": "code",
   "execution_count": null,
   "id": "a05f983e",
   "metadata": {},
   "outputs": [],
   "source": [
    "# first 10 numbers\n",
    "{1:1,2:4,3:9,4:16,5:25,6:36,7:49,8:64,9:81,10:100}"
   ]
  },
  {
   "cell_type": "code",
   "execution_count": 53,
   "id": "74b24ccf",
   "metadata": {},
   "outputs": [
    {
     "data": {
      "text/plain": [
       "{1: 1, 2: 4, 3: 9, 4: 16, 5: 25, 6: 36, 7: 49, 8: 64, 9: 81, 10: 100}"
      ]
     },
     "execution_count": 53,
     "metadata": {},
     "output_type": "execute_result"
    }
   ],
   "source": [
    "{ x: x*x for x in range(1,11)}"
   ]
  },
  {
   "cell_type": "code",
   "execution_count": null,
   "id": "674c902d",
   "metadata": {},
   "outputs": [],
   "source": []
  },
  {
   "cell_type": "code",
   "execution_count": null,
   "id": "236217d6",
   "metadata": {},
   "outputs": [],
   "source": []
  },
  {
   "cell_type": "code",
   "execution_count": null,
   "id": "1688d486",
   "metadata": {},
   "outputs": [],
   "source": []
  },
  {
   "cell_type": "code",
   "execution_count": 12,
   "id": "10d9f53e",
   "metadata": {},
   "outputs": [
    {
     "data": {
      "text/plain": [
       "6"
      ]
     },
     "execution_count": 12,
     "metadata": {},
     "output_type": "execute_result"
    }
   ],
   "source": [
    "cnt = len([char for char in string if char == \" \"])\n",
    "cnt"
   ]
  },
  {
   "cell_type": "markdown",
   "id": "f6b886e3",
   "metadata": {},
   "source": [
    "## d. Remove all of the vowels in a string"
   ]
  },
  {
   "cell_type": "code",
   "execution_count": 13,
   "id": "03f1db96",
   "metadata": {},
   "outputs": [
    {
     "data": {
      "text/plain": [
       "'Pythn s  rdmp fr Dt Scnc'"
      ]
     },
     "execution_count": 13,
     "metadata": {},
     "output_type": "execute_result"
    }
   ],
   "source": [
    "new_string = \"\".join([char for char in string if char not in [\"a\",\"e\",\"i\",\"o\",\"u\"]])\n",
    "new_string"
   ]
  },
  {
   "cell_type": "markdown",
   "id": "042a062a",
   "metadata": {},
   "source": [
    "## e. Find all of the words in a string that are less than 6 letters"
   ]
  },
  {
   "cell_type": "code",
   "execution_count": 14,
   "id": "eeba62b3",
   "metadata": {},
   "outputs": [
    {
     "data": {
      "text/plain": [
       "['is', 'a', 'for', 'Data']"
      ]
     },
     "execution_count": 14,
     "metadata": {},
     "output_type": "execute_result"
    }
   ],
   "source": [
    "words = string.split(\" \")\n",
    "new_list = [word for word in words if len(word) < 5]\n",
    "new_list"
   ]
  },
  {
   "cell_type": "markdown",
   "id": "c782fc5e",
   "metadata": {},
   "source": [
    "## f. Use a dictionary comprehension to count the length of each word in a sentence"
   ]
  },
  {
   "cell_type": "code",
   "execution_count": 15,
   "id": "0e487b7d",
   "metadata": {},
   "outputs": [
    {
     "data": {
      "text/plain": [
       "{'Python': 6, 'is': 2, 'a': 1, 'roadmap': 7, 'for': 3, 'Data': 4, 'Science': 7}"
      ]
     },
     "execution_count": 15,
     "metadata": {},
     "output_type": "execute_result"
    }
   ],
   "source": [
    "new_dict = {word:len(word) for word in words}\n",
    "new_dict"
   ]
  },
  {
   "cell_type": "markdown",
   "id": "7834ce41",
   "metadata": {},
   "source": [
    "## g. Use a nested list comprehension to find all of the numbers from 1–100 that are divisible by any single digit besides 1,2,3 (2–9)"
   ]
  },
  {
   "cell_type": "code",
   "execution_count": 16,
   "id": "798d903a",
   "metadata": {},
   "outputs": [
    {
     "data": {
      "text/plain": [
       "[4, 5, 6, 7, 8, 9, 10, 12, 14, 15, 16, 18, 20, 21, 24]"
      ]
     },
     "execution_count": 16,
     "metadata": {},
     "output_type": "execute_result"
    }
   ],
   "source": [
    "new_list = [num for num in nums if True in [True for divisor in range(4,10) if num % divisor == 0]]\n",
    "new_list[:15] #displaying first 15 elements"
   ]
  },
  {
   "cell_type": "markdown",
   "id": "b636e85e",
   "metadata": {},
   "source": [
    "## h. For all the numbers 1–25, use a nested list/dictionary comprehension to find the highest single digit any of the numbers is divisible by"
   ]
  },
  {
   "cell_type": "code",
   "execution_count": 17,
   "id": "e346bbb2",
   "metadata": {},
   "outputs": [
    {
     "data": {
      "text/plain": [
       "{1: 1,\n",
       " 2: 2,\n",
       " 3: 3,\n",
       " 4: 4,\n",
       " 5: 5,\n",
       " 6: 6,\n",
       " 7: 7,\n",
       " 8: 8,\n",
       " 9: 9,\n",
       " 10: 5,\n",
       " 11: 1,\n",
       " 12: 6,\n",
       " 13: 1,\n",
       " 14: 7,\n",
       " 15: 5,\n",
       " 16: 8,\n",
       " 17: 1,\n",
       " 18: 9,\n",
       " 19: 1,\n",
       " 20: 5,\n",
       " 21: 7,\n",
       " 22: 2,\n",
       " 23: 1,\n",
       " 24: 8,\n",
       " 25: 5}"
      ]
     },
     "execution_count": 17,
     "metadata": {},
     "output_type": "execute_result"
    }
   ],
   "source": [
    "new_dict = {num:max([divisor for divisor in range(1,10) if num % divisor == 0]) for num in nums[:25]}\n",
    "new_dict"
   ]
  },
  {
   "cell_type": "code",
   "execution_count": null,
   "id": "64a3892c",
   "metadata": {},
   "outputs": [],
   "source": []
  }
 ],
 "metadata": {
  "kernelspec": {
   "display_name": "Python 3",
   "language": "python",
   "name": "python3"
  },
  "language_info": {
   "codemirror_mode": {
    "name": "ipython",
    "version": 3
   },
   "file_extension": ".py",
   "mimetype": "text/x-python",
   "name": "python",
   "nbconvert_exporter": "python",
   "pygments_lexer": "ipython3",
   "version": "3.8.8"
  }
 },
 "nbformat": 4,
 "nbformat_minor": 5
}
