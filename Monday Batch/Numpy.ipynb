{
 "cells": [
  {
   "cell_type": "markdown",
   "id": "2b3c2f76",
   "metadata": {
    "slideshow": {
     "slide_type": "slide"
    }
   },
   "source": [
    "# 1. What is Numpy.?\n",
    "- NumPy is the fundamental package for scientific computing in Python. \n",
    "- It is a Python library that provides a multidimensional array object, various derived objects (such as masked arrays and matrices), and an assortment of routines for fast operations on arrays, including mathematical, logical, shape manipulation, sorting, selecting, I/O, discrete.\n",
    "- It has two important concepts vectorization and broadcasting\n",
    "# Why is NumPy Fast?\n",
    "- Vectorization describes the absence of any explicit looping, indexing, etc.\n",
    "    - vectorized code is more concise and easier to read\n",
    "    - fewer lines of code generally means fewer bugs\n",
    "    - the code more closely resembles standard mathematical notation \n",
    "    - vectorization results in more “Pythonic” code.\n",
    "- Broadcasting is the term used to describe the implicit element-by-element behavior of operations\n",
    "\n",
    "# Learning Objectives\n",
    "\n",
    "- Understand the difference between one-, two- and n-dimensional arrays in NumPy;\n",
    "- Understand how to apply some linear algebra operations to n-dimensional arrays without using for-loops;\n",
    "- Understand axis and shape properties for n-dimensional arrays."
   ]
  },
  {
   "cell_type": "markdown",
   "id": "f08f5a8f",
   "metadata": {
    "slideshow": {
     "slide_type": "slide"
    }
   },
   "source": [
    "# 2. The Basics"
   ]
  },
  {
   "cell_type": "markdown",
   "id": "a7da7242",
   "metadata": {},
   "source": [
    "## a. Importing numpy library"
   ]
  },
  {
   "cell_type": "code",
   "execution_count": 1,
   "id": "180e34ca",
   "metadata": {},
   "outputs": [],
   "source": [
    "import numpy as np"
   ]
  },
  {
   "cell_type": "markdown",
   "id": "068ab13f",
   "metadata": {},
   "source": [
    "## b. Range - arange() \n",
    "***It is similar to range function to generate the valueswithin specified interval<br>\n",
    "np.arange(start,stop,step)***"
   ]
  },
  {
   "cell_type": "code",
   "execution_count": 2,
   "id": "bc8b024d",
   "metadata": {},
   "outputs": [
    {
     "data": {
      "text/plain": [
       "array([0, 1, 2, 3, 4])"
      ]
     },
     "execution_count": 2,
     "metadata": {},
     "output_type": "execute_result"
    }
   ],
   "source": [
    "np.arange(5) #default is stop"
   ]
  },
  {
   "cell_type": "code",
   "execution_count": 3,
   "id": "fffdf615",
   "metadata": {},
   "outputs": [
    {
     "data": {
      "text/plain": [
       "array([1, 2, 3, 4])"
      ]
     },
     "execution_count": 3,
     "metadata": {},
     "output_type": "execute_result"
    }
   ],
   "source": [
    "np.arange(1,5)"
   ]
  },
  {
   "cell_type": "code",
   "execution_count": 4,
   "id": "8eec4d03",
   "metadata": {},
   "outputs": [
    {
     "data": {
      "text/plain": [
       "array([1, 3, 5, 7, 9])"
      ]
     },
     "execution_count": 4,
     "metadata": {},
     "output_type": "execute_result"
    }
   ],
   "source": [
    "a = np.arange(1,10,2)\n",
    "a"
   ]
  },
  {
   "cell_type": "markdown",
   "id": "558c2f57",
   "metadata": {},
   "source": [
    "## c. checking type of numpy array - returns ndarray"
   ]
  },
  {
   "cell_type": "code",
   "execution_count": 5,
   "id": "05e809e2",
   "metadata": {},
   "outputs": [
    {
     "data": {
      "text/plain": [
       "numpy.ndarray"
      ]
     },
     "execution_count": 5,
     "metadata": {},
     "output_type": "execute_result"
    }
   ],
   "source": [
    "type(np.arange(5))"
   ]
  },
  {
   "cell_type": "code",
   "execution_count": 6,
   "id": "2fee3c29",
   "metadata": {},
   "outputs": [
    {
     "data": {
      "text/plain": [
       "numpy.ndarray"
      ]
     },
     "execution_count": 6,
     "metadata": {},
     "output_type": "execute_result"
    }
   ],
   "source": [
    "type(a)"
   ]
  },
  {
   "cell_type": "code",
   "execution_count": 7,
   "id": "ed7a2d1a",
   "metadata": {},
   "outputs": [
    {
     "data": {
      "text/plain": [
       "dtype('int32')"
      ]
     },
     "execution_count": 7,
     "metadata": {},
     "output_type": "execute_result"
    }
   ],
   "source": [
    "a.dtype"
   ]
  },
  {
   "cell_type": "markdown",
   "id": "e17d0a3c",
   "metadata": {},
   "source": [
    "## d. assining datatype of an array"
   ]
  },
  {
   "cell_type": "code",
   "execution_count": 8,
   "id": "ac1f3796",
   "metadata": {},
   "outputs": [
    {
     "data": {
      "text/plain": [
       "array([0., 1., 2., 3., 4., 5., 6., 7., 8., 9.])"
      ]
     },
     "execution_count": 8,
     "metadata": {},
     "output_type": "execute_result"
    }
   ],
   "source": [
    "a =np.arange(10,dtype = float)\n",
    "a"
   ]
  },
  {
   "cell_type": "code",
   "execution_count": 9,
   "id": "9e4ffcc8",
   "metadata": {},
   "outputs": [
    {
     "data": {
      "text/plain": [
       "dtype('float64')"
      ]
     },
     "execution_count": 9,
     "metadata": {},
     "output_type": "execute_result"
    }
   ],
   "source": [
    "a.dtype"
   ]
  },
  {
   "cell_type": "markdown",
   "id": "ee34e776",
   "metadata": {},
   "source": [
    "## e. Reshaping an array - np.reshape()\n",
    "***Gives a new shape to an array without changing its data.<br>\n",
    "reshape(shape, order='C')***"
   ]
  },
  {
   "cell_type": "code",
   "execution_count": 10,
   "id": "ceededa6",
   "metadata": {},
   "outputs": [
    {
     "data": {
      "text/plain": [
       "array([0, 1, 2, 3, 4, 5, 6, 7, 8, 9])"
      ]
     },
     "execution_count": 10,
     "metadata": {},
     "output_type": "execute_result"
    }
   ],
   "source": [
    "#creating an array\n",
    "a = np.arange(10)\n",
    "a"
   ]
  },
  {
   "cell_type": "code",
   "execution_count": 11,
   "id": "8302a6df",
   "metadata": {},
   "outputs": [
    {
     "data": {
      "text/plain": [
       "array([[0, 1, 2, 3, 4],\n",
       "       [5, 6, 7, 8, 9]])"
      ]
     },
     "execution_count": 11,
     "metadata": {},
     "output_type": "execute_result"
    }
   ],
   "source": [
    "#Creating an array of 2 by 5\n",
    "arr1 = a.reshape(2,5)\n",
    "arr1"
   ]
  },
  {
   "cell_type": "code",
   "execution_count": 12,
   "id": "baffd9d7",
   "metadata": {},
   "outputs": [
    {
     "data": {
      "text/plain": [
       "array([[0, 1],\n",
       "       [2, 3],\n",
       "       [4, 5],\n",
       "       [6, 7],\n",
       "       [8, 9]])"
      ]
     },
     "execution_count": 12,
     "metadata": {},
     "output_type": "execute_result"
    }
   ],
   "source": [
    "arr2 = a.reshape(5,2)\n",
    "arr2"
   ]
  },
  {
   "cell_type": "code",
   "execution_count": 13,
   "id": "75415793",
   "metadata": {
    "scrolled": true
   },
   "outputs": [
    {
     "ename": "ValueError",
     "evalue": "cannot reshape array of size 10 into shape (3,4)",
     "output_type": "error",
     "traceback": [
      "\u001b[1;31m---------------------------------------------------------------------------\u001b[0m",
      "\u001b[1;31mValueError\u001b[0m                                Traceback (most recent call last)",
      "\u001b[1;32m<ipython-input-13-4548c7d6c3ec>\u001b[0m in \u001b[0;36m<module>\u001b[1;34m\u001b[0m\n\u001b[1;32m----> 1\u001b[1;33m \u001b[0ma\u001b[0m\u001b[1;33m.\u001b[0m\u001b[0mreshape\u001b[0m\u001b[1;33m(\u001b[0m\u001b[1;36m3\u001b[0m\u001b[1;33m,\u001b[0m\u001b[1;36m4\u001b[0m\u001b[1;33m)\u001b[0m \u001b[1;31m#Error as we are trying to fit 10 elements into size of 12\u001b[0m\u001b[1;33m\u001b[0m\u001b[1;33m\u001b[0m\u001b[0m\n\u001b[0m",
      "\u001b[1;31mValueError\u001b[0m: cannot reshape array of size 10 into shape (3,4)"
     ]
    }
   ],
   "source": [
    "a.reshape(3,4) #Error as we are trying to fit 10 elements into size of 12"
   ]
  },
  {
   "cell_type": "markdown",
   "id": "891cadd5",
   "metadata": {},
   "source": [
    "## f. shape of an array - np.shape\n",
    "***It returns number of rows and number of columns in an array<br>\n",
    "shape(nrows,ncols)***"
   ]
  },
  {
   "cell_type": "code",
   "execution_count": null,
   "id": "62cf2c2f",
   "metadata": {},
   "outputs": [],
   "source": [
    "arr1.shape"
   ]
  },
  {
   "cell_type": "code",
   "execution_count": null,
   "id": "5eb349cd",
   "metadata": {},
   "outputs": [],
   "source": [
    "arr2.shape"
   ]
  },
  {
   "cell_type": "markdown",
   "id": "0626c568",
   "metadata": {},
   "source": [
    "## g. the number of axes (dimensions) of the array - ndim()"
   ]
  },
  {
   "cell_type": "code",
   "execution_count": null,
   "id": "201b250f",
   "metadata": {},
   "outputs": [],
   "source": [
    "arr1.ndim"
   ]
  },
  {
   "cell_type": "code",
   "execution_count": null,
   "id": "9f1cf7f8",
   "metadata": {},
   "outputs": [],
   "source": [
    "arr2.ndim"
   ]
  },
  {
   "cell_type": "code",
   "execution_count": null,
   "id": "a4bb6185",
   "metadata": {},
   "outputs": [],
   "source": [
    "a.ndim"
   ]
  },
  {
   "cell_type": "markdown",
   "id": "97e53594",
   "metadata": {},
   "source": [
    "## h. checking size in bytes of each elements in an array - itemsize()\n",
    "<br>\n",
    "For example, an array of elements of type float64 has itemsize 8 (=64/8), while one of type complex32 has itemsize 4 (=32/8). It is equivalent to ndarray.dtype.itemsize."
   ]
  },
  {
   "cell_type": "code",
   "execution_count": null,
   "id": "3dc10b4f",
   "metadata": {},
   "outputs": [],
   "source": [
    "a.itemsize"
   ]
  },
  {
   "cell_type": "code",
   "execution_count": null,
   "id": "3165d278",
   "metadata": {},
   "outputs": [],
   "source": [
    "arr1.itemsize"
   ]
  },
  {
   "cell_type": "markdown",
   "id": "9fc09030",
   "metadata": {},
   "source": [
    "## i. Total number of elements in an array - size()"
   ]
  },
  {
   "cell_type": "code",
   "execution_count": null,
   "id": "502f2f8e",
   "metadata": {},
   "outputs": [],
   "source": [
    "a.size"
   ]
  },
  {
   "cell_type": "code",
   "execution_count": null,
   "id": "86ed3580",
   "metadata": {},
   "outputs": [],
   "source": [
    "arr3 = np.arange(15).reshape(5,3)\n",
    "arr3"
   ]
  },
  {
   "cell_type": "code",
   "execution_count": null,
   "id": "e7b0ac11",
   "metadata": {},
   "outputs": [],
   "source": [
    "arr3.size"
   ]
  },
  {
   "cell_type": "markdown",
   "id": "68d32e00",
   "metadata": {},
   "source": [
    "## j.  Creating an identity matrix -np.eye()"
   ]
  },
  {
   "cell_type": "code",
   "execution_count": null,
   "id": "df14f7f7",
   "metadata": {
    "scrolled": true
   },
   "outputs": [],
   "source": [
    "np.eye(7)"
   ]
  },
  {
   "cell_type": "markdown",
   "id": "da92a730",
   "metadata": {},
   "source": [
    "## k. fetch unique elements"
   ]
  },
  {
   "cell_type": "code",
   "execution_count": null,
   "id": "c96be66b",
   "metadata": {},
   "outputs": [],
   "source": [
    "a = np.array([11, 11, 12, 13, 14, 15, 16, 17, 12, 13, 11, 14, 18, 19, 20])\n",
    "np.unique(a)"
   ]
  },
  {
   "cell_type": "code",
   "execution_count": null,
   "id": "dce7a168",
   "metadata": {},
   "outputs": [],
   "source": [
    "#Return index of unique elements\n",
    "#unique_values, indices_list = np.unique(a, return_index=True)\n",
    "np.unique(a, return_index=True)"
   ]
  },
  {
   "cell_type": "code",
   "execution_count": null,
   "id": "fb2948be",
   "metadata": {},
   "outputs": [],
   "source": [
    "# Returns frequency of elements\n",
    "unique_values, occurrence_count = np.unique(a, return_counts=True)\n",
    "print(occurrence_count)"
   ]
  },
  {
   "cell_type": "code",
   "execution_count": null,
   "id": "e10509f8",
   "metadata": {},
   "outputs": [],
   "source": [
    "# 2D array\n",
    "a_2d = np.array([[1, 2, 3, 4], [5, 6, 7, 8], [9, 10, 11, 12], [1, 2, 3, 4]])\n",
    "print(a_2d)"
   ]
  },
  {
   "cell_type": "code",
   "execution_count": null,
   "id": "8b9c9c97",
   "metadata": {},
   "outputs": [],
   "source": [
    "unique_rows, indices, occurrence_count = np.unique(\n",
    "     a_2d, axis=0, return_counts=True, return_index=True)\n",
    "print(unique_rows)\n",
    "print(indices)\n",
    "print(occurrence_count)"
   ]
  },
  {
   "cell_type": "markdown",
   "id": "3be8796a",
   "metadata": {},
   "source": [
    "## l. sorting an array"
   ]
  },
  {
   "cell_type": "code",
   "execution_count": null,
   "id": "19b836c7",
   "metadata": {},
   "outputs": [],
   "source": [
    "arr = np.array([2, 1, 5, 3, 7, 4, 6, 8])\n",
    "np.sort(arr)"
   ]
  },
  {
   "cell_type": "markdown",
   "id": "fca49811",
   "metadata": {},
   "source": [
    "## m. concatenate two arrays"
   ]
  },
  {
   "cell_type": "code",
   "execution_count": null,
   "id": "2bb29375",
   "metadata": {},
   "outputs": [],
   "source": [
    "a = np.array([1, 2, 3, 4])\n",
    "b = np.array([5, 6, 7, 8])\n",
    "np.concatenate((a,b))"
   ]
  },
  {
   "cell_type": "code",
   "execution_count": null,
   "id": "fd687fa2",
   "metadata": {},
   "outputs": [],
   "source": [
    "x = np.array([[1, 2], [3, 4]])\n",
    "y = np.array([[5, 6]])\n",
    "print(x)\n",
    "print(y)\n",
    "np.concatenate((x,y),axis=0)"
   ]
  },
  {
   "cell_type": "markdown",
   "id": "95df5050",
   "metadata": {},
   "source": [
    "## n . reversing an array"
   ]
  },
  {
   "cell_type": "code",
   "execution_count": null,
   "id": "e501e7b3",
   "metadata": {},
   "outputs": [],
   "source": [
    "print(a)"
   ]
  },
  {
   "cell_type": "code",
   "execution_count": null,
   "id": "09d89ba6",
   "metadata": {},
   "outputs": [],
   "source": [
    "np.flip(a)"
   ]
  },
  {
   "cell_type": "code",
   "execution_count": null,
   "id": "06c83813",
   "metadata": {},
   "outputs": [],
   "source": [
    "arr_2d = np.array([[1, 2, 3, 4], [5, 6, 7, 8], [9, 10, 11, 12]])\n",
    "arr_2d"
   ]
  },
  {
   "cell_type": "code",
   "execution_count": null,
   "id": "86a7fc50",
   "metadata": {},
   "outputs": [],
   "source": [
    "np.flip(arr_2d)"
   ]
  },
  {
   "cell_type": "code",
   "execution_count": null,
   "id": "6106cee5",
   "metadata": {},
   "outputs": [],
   "source": [
    "np.flip(arr_2d, axis=0) #flipping only rows"
   ]
  },
  {
   "cell_type": "code",
   "execution_count": null,
   "id": "7a07903e",
   "metadata": {},
   "outputs": [],
   "source": [
    "np.flip(arr_2d, axis=1) #flipping columns"
   ]
  },
  {
   "cell_type": "markdown",
   "id": "3033d168",
   "metadata": {},
   "source": [
    "# 3. Array Creation"
   ]
  },
  {
   "cell_type": "markdown",
   "id": "95c70744",
   "metadata": {},
   "source": [
    "## a. creating array from list - np.array()"
   ]
  },
  {
   "cell_type": "code",
   "execution_count": null,
   "id": "bd928f77",
   "metadata": {},
   "outputs": [],
   "source": [
    "list1 = [1,2,3,4,5]\n",
    "a = np.array(list1)\n",
    "a"
   ]
  },
  {
   "cell_type": "code",
   "execution_count": null,
   "id": "615ff692",
   "metadata": {},
   "outputs": [],
   "source": [
    "type(a)"
   ]
  },
  {
   "cell_type": "code",
   "execution_count": null,
   "id": "c83d7018",
   "metadata": {},
   "outputs": [],
   "source": [
    "a.dtype"
   ]
  },
  {
   "cell_type": "code",
   "execution_count": null,
   "id": "b57c7738",
   "metadata": {},
   "outputs": [],
   "source": [
    "list2 =[5,6,7,8.9,10]\n",
    "b = np.array(list2)\n",
    "b"
   ]
  },
  {
   "cell_type": "code",
   "execution_count": null,
   "id": "6058ce04",
   "metadata": {},
   "outputs": [],
   "source": [
    "type(b)"
   ]
  },
  {
   "cell_type": "code",
   "execution_count": null,
   "id": "fb58383e",
   "metadata": {},
   "outputs": [],
   "source": [
    "b.dtype"
   ]
  },
  {
   "cell_type": "code",
   "execution_count": null,
   "id": "76c93293",
   "metadata": {},
   "outputs": [],
   "source": [
    "a = np.array(1, 2, 3, 4) # This is wrong way, you wll get error"
   ]
  },
  {
   "cell_type": "markdown",
   "id": "ba375f0c",
   "metadata": {},
   "source": [
    "## b. creating two dimensional array"
   ]
  },
  {
   "cell_type": "code",
   "execution_count": null,
   "id": "f8ad25f1",
   "metadata": {},
   "outputs": [],
   "source": [
    "np.array([[1,2,3],[4,5,6]])"
   ]
  },
  {
   "cell_type": "code",
   "execution_count": null,
   "id": "679dc232",
   "metadata": {},
   "outputs": [],
   "source": [
    "np.array([(1,2,3),(4,5,6)])"
   ]
  },
  {
   "cell_type": "code",
   "execution_count": null,
   "id": "2e0e163f",
   "metadata": {},
   "outputs": [],
   "source": [
    "#More simplification -list\n",
    "ele1 = [1,2,3]\n",
    "ele2 =[4,5,6]\n",
    "np.array([ele1,ele2])"
   ]
  },
  {
   "cell_type": "code",
   "execution_count": null,
   "id": "e2408ecb",
   "metadata": {},
   "outputs": [],
   "source": [
    "#More simplification - tuples\n",
    "ele1 = (1,2,3)\n",
    "ele2 =(4,5,6)\n",
    "np.array([ele1,ele2])"
   ]
  },
  {
   "cell_type": "markdown",
   "id": "694392ca",
   "metadata": {},
   "source": [
    "## c. specifying type of array explicitly -  np.array()\n",
    "\n",
    "***array(object, dtype=None, *, copy=True, order='K', subok=False, ndmin=0,like=None)<br>\n",
    "Create an array.***"
   ]
  },
  {
   "cell_type": "code",
   "execution_count": null,
   "id": "680d29a4",
   "metadata": {},
   "outputs": [],
   "source": [
    "c = np.array([[1, 2], [3, 4]], dtype=complex)\n",
    "c"
   ]
  },
  {
   "cell_type": "markdown",
   "id": "775bfeae",
   "metadata": {},
   "source": [
    "## d. creating an array of all element as 0 - np.zeros()\n",
    "\n",
    "***zeros(shape, dtype=float, order='C', *, like=None)<br>\n",
    "Return a new array of given shape and type, filled with zeros.***"
   ]
  },
  {
   "cell_type": "code",
   "execution_count": null,
   "id": "eebafb3d",
   "metadata": {},
   "outputs": [],
   "source": [
    "#1-d array\n",
    "np.zeros(4)"
   ]
  },
  {
   "cell_type": "code",
   "execution_count": null,
   "id": "e497adbe",
   "metadata": {},
   "outputs": [],
   "source": [
    "#2-d array\n",
    "np.zeros([4,2])"
   ]
  },
  {
   "cell_type": "markdown",
   "id": "70c4505b",
   "metadata": {},
   "source": [
    "## e. creating an array of all elements as 1 - np.ones()"
   ]
  },
  {
   "attachments": {
    "image-2.png": {
     "image/png": "[encoded data removed]"
    },
    "image.png": {
     "image/png": "[encoded data removed]"
    }
   },
   "cell_type": "markdown",
   "id": "e8c7314f",
   "metadata": {},
   "source": [
    "![image.png](attachment:image.png)\n",
    "![image-2.png](attachment:image-2.png)"
   ]
  },
  {
   "cell_type": "code",
   "execution_count": null,
   "id": "950174c6",
   "metadata": {},
   "outputs": [],
   "source": [
    "#1-d array\n",
    "np.ones(10)"
   ]
  },
  {
   "cell_type": "code",
   "execution_count": null,
   "id": "fc64ff25",
   "metadata": {},
   "outputs": [],
   "source": [
    "#2-d array deafuly datatype is float\n",
    "np.ones([5,2])"
   ]
  },
  {
   "cell_type": "code",
   "execution_count": null,
   "id": "f00d7cbb",
   "metadata": {},
   "outputs": [],
   "source": [
    "#2-d array creating with int data type\n",
    "np.ones([5,2], dtype =int)"
   ]
  },
  {
   "cell_type": "markdown",
   "id": "43477d2f",
   "metadata": {},
   "source": [
    "## f. creating an empy array - np.empty()\n",
    "\n",
    "***empty(shape, dtype=float, order='C', *, like=None)<br>\n",
    "Return a new array of given shape and type, without initializing entries.***"
   ]
  },
  {
   "cell_type": "code",
   "execution_count": null,
   "id": "a8bafdcb",
   "metadata": {},
   "outputs": [],
   "source": [
    "#1-d array\n",
    "np.empty(2)"
   ]
  },
  {
   "cell_type": "code",
   "execution_count": null,
   "id": "0a1f16db",
   "metadata": {},
   "outputs": [],
   "source": [
    "#2-d array default is float data type\n",
    "np.empty([4,3])"
   ]
  },
  {
   "cell_type": "code",
   "execution_count": null,
   "id": "59071e96",
   "metadata": {},
   "outputs": [],
   "source": [
    "#2-d array creating with int data type\n",
    "np.empty([4,3], dtype = int)"
   ]
  },
  {
   "cell_type": "markdown",
   "id": "a12b52e6",
   "metadata": {},
   "source": [
    "## g. creating an array with linear spacing between elements - np.linspace()\n",
    "\n",
    "***np.linspace(start,stop,num=50,endpoint=True,retstep=False,dtype=None,axis=0)<br>\n",
    "Return evenly spaced numbers over a specified interval.***"
   ]
  },
  {
   "cell_type": "code",
   "execution_count": null,
   "id": "5dd24d27",
   "metadata": {},
   "outputs": [],
   "source": [
    "np.linspace(0,5,5)"
   ]
  },
  {
   "cell_type": "code",
   "execution_count": null,
   "id": "44f2e894",
   "metadata": {},
   "outputs": [],
   "source": [
    "np.linspace(0,2,9)"
   ]
  },
  {
   "cell_type": "code",
   "execution_count": null,
   "id": "be95db64",
   "metadata": {},
   "outputs": [],
   "source": [
    "# Linspace is also useful to evaluate function at lots of points\n",
    "from numpy import pi\n",
    "x = np.linspace(0,2*pi, 100)\n",
    "f = np.sin(x)\n",
    "f"
   ]
  },
  {
   "cell_type": "code",
   "execution_count": null,
   "id": "e89e9495",
   "metadata": {},
   "outputs": [],
   "source": [
    "np.linspace(2.0, 3.0, num=5)"
   ]
  },
  {
   "cell_type": "code",
   "execution_count": null,
   "id": "6ec138a9",
   "metadata": {},
   "outputs": [],
   "source": [
    "np.linspace(2.0, 3.0, num=5, endpoint=False)"
   ]
  },
  {
   "cell_type": "code",
   "execution_count": null,
   "id": "1bd3fe97",
   "metadata": {},
   "outputs": [],
   "source": [
    "np.linspace(2.0, 3.0, num=5, endpoint=False,retstep= True)"
   ]
  },
  {
   "cell_type": "code",
   "execution_count": null,
   "id": "f6131f38",
   "metadata": {},
   "outputs": [],
   "source": [
    "np.linspace(2.0, 3.0, num=5, endpoint=True,retstep= True)"
   ]
  },
  {
   "cell_type": "markdown",
   "id": "26d96d0f",
   "metadata": {},
   "source": [
    "## h. Creating multidmensional array"
   ]
  },
  {
   "cell_type": "code",
   "execution_count": null,
   "id": "6aa3a2eb",
   "metadata": {},
   "outputs": [],
   "source": [
    "#2-d array\n",
    "arr1 = np.array([1,2,3,4,5,6,7,8,9,10], ndmin =2)\n",
    "arr1"
   ]
  },
  {
   "cell_type": "code",
   "execution_count": null,
   "id": "96fd1a3c",
   "metadata": {},
   "outputs": [],
   "source": [
    "arr1.ndim"
   ]
  },
  {
   "cell_type": "code",
   "execution_count": null,
   "id": "315059cd",
   "metadata": {},
   "outputs": [],
   "source": [
    "#3-d array\n",
    "arr2 = np.array([1,2,3,4,5,6,7,8,9,10], ndmin =3)\n",
    "arr2"
   ]
  },
  {
   "cell_type": "code",
   "execution_count": null,
   "id": "ae47aec5",
   "metadata": {},
   "outputs": [],
   "source": [
    "arr2.ndim"
   ]
  },
  {
   "cell_type": "markdown",
   "id": "c2095df5",
   "metadata": {},
   "source": [
    "## i. Structured Array"
   ]
  },
  {
   "cell_type": "code",
   "execution_count": null,
   "id": "2cafc12e",
   "metadata": {},
   "outputs": [],
   "source": [
    "x = np.array([('Rex', 9, 81.0), ('Fido', 3, 27.0)],\n",
    "      dtype=[('name', 'U10'), ('age', 'i4'), ('weight', 'f4')])\n",
    "x"
   ]
  },
  {
   "cell_type": "markdown",
   "id": "e837bd31",
   "metadata": {},
   "source": [
    "- First element is  string of length 10 or less and named as \"Name\"\n",
    "- Second element is 32-bit integer of name \"Age\"\n",
    "- Third element is 34-bit float of name \"Weight\""
   ]
  },
  {
   "cell_type": "code",
   "execution_count": null,
   "id": "f7dbad8b",
   "metadata": {},
   "outputs": [],
   "source": [
    "#passing name more than 10 characters, truncated the element name\n",
    "x = np.array([('ParmeetSinghDang', 9, 81.0), ('Fido', 3, 27.0)],\n",
    "      dtype=[('name', 'U10'), ('age', 'i4'), ('weight', 'f4')])\n",
    "x"
   ]
  },
  {
   "cell_type": "markdown",
   "id": "b5dc0247",
   "metadata": {},
   "source": [
    "## j.Creating an array from sub-classes"
   ]
  },
  {
   "cell_type": "code",
   "execution_count": null,
   "id": "66e2eec2",
   "metadata": {},
   "outputs": [],
   "source": [
    "#Creating the matrix\n",
    "'''np.mat(data, dtype=None)\n",
    "Interpret the input as a matrix.'''\n",
    "np.mat('1,2,3,4;3,4,5,6')"
   ]
  },
  {
   "cell_type": "code",
   "execution_count": null,
   "id": "1dd31cc8",
   "metadata": {},
   "outputs": [],
   "source": [
    "#converting matrix to an array\n",
    "np.array(np.mat('1,2;3,4'))"
   ]
  },
  {
   "cell_type": "code",
   "execution_count": null,
   "id": "49ed44e5",
   "metadata": {},
   "outputs": [],
   "source": [
    "#converting matrix to an array\n",
    "'''If True, then sub-classes will be passed-through, otherwise\n",
    "    the returned array will be forced to be a base-class array'''\n",
    "np.array(np.mat('1,2;3,4'),subok= True)"
   ]
  },
  {
   "cell_type": "markdown",
   "id": "3966ebe7",
   "metadata": {},
   "source": [
    "## k. zeros_like()\n",
    "\n",
    "***np.zeros_like(a, dtype=None, order='K', subok=True, shape=None)<br>\n",
    "Return an array of zeros with the same shape and type as a given array.***"
   ]
  },
  {
   "cell_type": "code",
   "execution_count": null,
   "id": "9bd01c24",
   "metadata": {},
   "outputs": [],
   "source": [
    "x = arr1.reshape(2,5)\n",
    "x"
   ]
  },
  {
   "cell_type": "code",
   "execution_count": null,
   "id": "e1667f03",
   "metadata": {},
   "outputs": [],
   "source": [
    "#leveraging the shape from exiting numpy array\n",
    "np.zeros_like(x)"
   ]
  },
  {
   "cell_type": "markdown",
   "id": "e8cd31fd",
   "metadata": {},
   "source": [
    "## l. ones_like()\n",
    "\n",
    "***np.ones_like(a, dtype=None, order='K', subok=True, shape=None)<br>\n",
    "Return an array of ones with the same shape and type as a given array.***"
   ]
  },
  {
   "cell_type": "code",
   "execution_count": null,
   "id": "43c88a85",
   "metadata": {},
   "outputs": [],
   "source": [
    "np.ones_like(x)"
   ]
  },
  {
   "cell_type": "code",
   "execution_count": null,
   "id": "7dc11143",
   "metadata": {},
   "outputs": [],
   "source": [
    "np.ones_like(x,dtype=float)"
   ]
  },
  {
   "cell_type": "markdown",
   "id": "45530043",
   "metadata": {},
   "source": [
    "## m. empty_like()\n",
    "\n",
    "***empty_like(prototype, dtype=None, order='K', subok=True, shape=None)<br>\n",
    "Return a new array with the same shape and type as a given array.***"
   ]
  },
  {
   "cell_type": "code",
   "execution_count": null,
   "id": "2e67d817",
   "metadata": {},
   "outputs": [],
   "source": [
    "np.empty_like(x)"
   ]
  },
  {
   "cell_type": "code",
   "execution_count": null,
   "id": "0ba8ad10",
   "metadata": {},
   "outputs": [],
   "source": [
    "np.empty_like(x, dtype = float)"
   ]
  },
  {
   "cell_type": "markdown",
   "id": "62561d53",
   "metadata": {},
   "source": [
    "## n. fromfunction() in numpy\n",
    "***numpy.fromfunction(function, shape, *, dtype=<class 'float'>, like=None, **kwargs)<br>\n",
    "Construct an array by executing a function over each coordinate.***"
   ]
  },
  {
   "cell_type": "code",
   "execution_count": null,
   "id": "6394b7f4",
   "metadata": {},
   "outputs": [],
   "source": [
    "np.fromfunction(lambda i, j: i, (2, 2), dtype=float)"
   ]
  },
  {
   "cell_type": "code",
   "execution_count": null,
   "id": "ccb2561f",
   "metadata": {},
   "outputs": [],
   "source": [
    "np.fromfunction(lambda i, j: j, (2, 2), dtype=float)"
   ]
  },
  {
   "cell_type": "code",
   "execution_count": null,
   "id": "90fbd9cf",
   "metadata": {},
   "outputs": [],
   "source": [
    "np.fromfunction(lambda i, j: i==j, (2, 2), dtype=float)"
   ]
  },
  {
   "cell_type": "code",
   "execution_count": null,
   "id": "42a8badb",
   "metadata": {},
   "outputs": [],
   "source": [
    "np.fromfunction(lambda i, j: i+j, (3, 3), dtype=float)"
   ]
  },
  {
   "cell_type": "markdown",
   "id": "fa95f27c",
   "metadata": {},
   "source": [
    "# 4. Printing Arrays"
   ]
  },
  {
   "cell_type": "code",
   "execution_count": null,
   "id": "c17c9628",
   "metadata": {},
   "outputs": [],
   "source": [
    "a = np.arange(6) #1-d array\n",
    "print(a)"
   ]
  },
  {
   "cell_type": "code",
   "execution_count": null,
   "id": "c51d88a3",
   "metadata": {},
   "outputs": [],
   "source": [
    "b = np.arange(12).reshape(4, 3) #2-d array\n",
    "print(b)"
   ]
  },
  {
   "cell_type": "code",
   "execution_count": null,
   "id": "178f95b1",
   "metadata": {},
   "outputs": [],
   "source": [
    "c = np.arange(24).reshape(2, 3, 4)  # 3d array\n",
    "print(c)"
   ]
  },
  {
   "cell_type": "code",
   "execution_count": null,
   "id": "0c241bd8",
   "metadata": {},
   "outputs": [],
   "source": [
    "print(np.arange(10000))"
   ]
  },
  {
   "cell_type": "code",
   "execution_count": null,
   "id": "ef9fce5d",
   "metadata": {},
   "outputs": [],
   "source": [
    "print(np.arange(10000).reshape(100, 100))"
   ]
  },
  {
   "cell_type": "code",
   "execution_count": null,
   "id": "5af9bee9",
   "metadata": {},
   "outputs": [],
   "source": [
    "print(np.arange(10000).reshape(100, 100))"
   ]
  },
  {
   "cell_type": "code",
   "execution_count": null,
   "id": "d384551a",
   "metadata": {},
   "outputs": [],
   "source": [
    "#To print entire array\n",
    "'''To disable this behaviour and force NumPy to print the entire array, \n",
    "you can change the printing options using set_printoptions.'''\n",
    "import sys\n",
    "np.set_printoptions(threshold=sys.maxsize)  # sys module should be imported"
   ]
  },
  {
   "cell_type": "code",
   "execution_count": null,
   "id": "041ebee6",
   "metadata": {},
   "outputs": [],
   "source": [
    "print(np.arange(10000).reshape(100, 100))"
   ]
  },
  {
   "cell_type": "markdown",
   "id": "d5256cce",
   "metadata": {},
   "source": [
    "# 5.Basic Operations\n",
    "Arithmetic operators on arrays apply elementwise. A new array is created and filled with the result."
   ]
  },
  {
   "cell_type": "code",
   "execution_count": null,
   "id": "1b629da5",
   "metadata": {},
   "outputs": [],
   "source": [
    "a = np.array([20, 30, 40, 50])\n",
    "b = np.arange(4)\n",
    "print(a)\n",
    "print(b)"
   ]
  },
  {
   "cell_type": "markdown",
   "id": "6d203a45",
   "metadata": {},
   "source": [
    "## a. Addition"
   ]
  },
  {
   "cell_type": "code",
   "execution_count": null,
   "id": "f5f8f50a",
   "metadata": {},
   "outputs": [],
   "source": [
    "c = a-b\n",
    "c"
   ]
  },
  {
   "cell_type": "markdown",
   "id": "4fc29dcb",
   "metadata": {},
   "source": [
    "## b. Multiplication"
   ]
  },
  {
   "cell_type": "code",
   "execution_count": null,
   "id": "29488bd6",
   "metadata": {},
   "outputs": [],
   "source": [
    "b*2"
   ]
  },
  {
   "cell_type": "markdown",
   "id": "4f952bd9",
   "metadata": {},
   "source": [
    "## c. sin() applied over ech element"
   ]
  },
  {
   "cell_type": "code",
   "execution_count": null,
   "id": "43b858e6",
   "metadata": {},
   "outputs": [],
   "source": [
    "np.sin(a)"
   ]
  },
  {
   "cell_type": "code",
   "execution_count": null,
   "id": "4364e7bd",
   "metadata": {},
   "outputs": [],
   "source": [
    "10* np.sin(a)"
   ]
  },
  {
   "cell_type": "markdown",
   "id": "8918bd0d",
   "metadata": {},
   "source": [
    "## d. comparison operator over each element"
   ]
  },
  {
   "cell_type": "code",
   "execution_count": null,
   "id": "e1b059d7",
   "metadata": {
    "scrolled": true
   },
   "outputs": [],
   "source": [
    "a<35"
   ]
  },
  {
   "cell_type": "markdown",
   "id": "7c25390b",
   "metadata": {},
   "source": [
    "## e. division operation"
   ]
  },
  {
   "cell_type": "code",
   "execution_count": null,
   "id": "b374484f",
   "metadata": {},
   "outputs": [],
   "source": [
    "#float operation\n",
    "a/2"
   ]
  },
  {
   "cell_type": "code",
   "execution_count": null,
   "id": "7f172dd5",
   "metadata": {},
   "outputs": [],
   "source": [
    "#integer operation\n",
    "a//2"
   ]
  },
  {
   "cell_type": "markdown",
   "id": "5782ead9",
   "metadata": {},
   "source": [
    "## f. element wise product"
   ]
  },
  {
   "attachments": {
    "image.png": {
     "image/png": "[encoded data removed]"
    }
   },
   "cell_type": "markdown",
   "id": "681639df",
   "metadata": {},
   "source": [
    "![image.png](attachment:image.png)"
   ]
  },
  {
   "cell_type": "code",
   "execution_count": null,
   "id": "bae64db8",
   "metadata": {},
   "outputs": [],
   "source": [
    "A = np.array([[1, 1],\n",
    "              [0, 1]])\n",
    "B = np.array([[2, 0],\n",
    "              [3, 4]])\n",
    "print(A,\"\\n\\n\")\n",
    "print(B)"
   ]
  },
  {
   "cell_type": "code",
   "execution_count": null,
   "id": "931d9daa",
   "metadata": {},
   "outputs": [],
   "source": [
    "A * B"
   ]
  },
  {
   "cell_type": "markdown",
   "id": "0f85134b",
   "metadata": {},
   "source": [
    "- First Row calculation\n",
    "    - First element calculation  - 1*2 = 2\n",
    "    - Second element calculation - 1*0 = 0\n",
    "- Second Row calculation\n",
    "    - First element calculation -  0*3 = 0\n",
    "    - Second element calculation - 1*4 = 4"
   ]
  },
  {
   "cell_type": "markdown",
   "id": "3788bd68",
   "metadata": {},
   "source": [
    "## g. Matrix product"
   ]
  },
  {
   "attachments": {
    "image.png": {
     "image/png": "[encoded data removed]"
    }
   },
   "cell_type": "markdown",
   "id": "9ceee26f",
   "metadata": {},
   "source": [
    "![image.png](attachment:image.png)"
   ]
  },
  {
   "attachments": {
    "image.png": {
     "image/png": "[encoded data removed]"
    }
   },
   "cell_type": "markdown",
   "id": "f96a18ad",
   "metadata": {},
   "source": [
    "![image.png](attachment:image.png)"
   ]
  },
  {
   "cell_type": "code",
   "execution_count": null,
   "id": "f6a8c7ed",
   "metadata": {
    "scrolled": true
   },
   "outputs": [],
   "source": [
    "print(A,\"\\n\")\n",
    "print(B)"
   ]
  },
  {
   "cell_type": "code",
   "execution_count": null,
   "id": "08e0b6ac",
   "metadata": {},
   "outputs": [],
   "source": [
    "A @ B"
   ]
  },
  {
   "cell_type": "markdown",
   "id": "5587881a",
   "metadata": {},
   "source": [
    "- First Row\n",
    "    - 1$^{st}$ Element - 1*2 + 1*3 = 5\n",
    "    - 2$^{nd}$ Element - 1*0 + 1*4 = 4\n",
    "\n",
    "- Second Row\n",
    "    - 1$^{st}$ Element - 0*2 + 1*3 = 3\n",
    "    - 2$^{nd}$ Element - 0*0 + 1*4 = 4"
   ]
  },
  {
   "cell_type": "markdown",
   "id": "95e10d7d",
   "metadata": {},
   "source": [
    "## h. Dot Product"
   ]
  },
  {
   "cell_type": "code",
   "execution_count": null,
   "id": "3a8b1699",
   "metadata": {},
   "outputs": [],
   "source": [
    "A.dot(B) # It produces similar output as matrix product"
   ]
  },
  {
   "cell_type": "code",
   "execution_count": null,
   "id": "1833ec59",
   "metadata": {},
   "outputs": [],
   "source": [
    "np.dot(A,B) #Alternative way"
   ]
  },
  {
   "cell_type": "code",
   "execution_count": null,
   "id": "581284db",
   "metadata": {},
   "outputs": [],
   "source": [
    "np.random.default_rng(1).random((2,3))"
   ]
  },
  {
   "cell_type": "markdown",
   "id": "e53d641a",
   "metadata": {},
   "source": [
    "## i. Creating array of random numbers"
   ]
  },
  {
   "cell_type": "code",
   "execution_count": null,
   "id": "aae6a07b",
   "metadata": {
    "scrolled": true
   },
   "outputs": [],
   "source": [
    "#creating 1-D arrat of 3 numbers which would range from 0 to 1\n",
    "np.random.rand(3)"
   ]
  },
  {
   "cell_type": "code",
   "execution_count": null,
   "id": "a1ea60b3",
   "metadata": {},
   "outputs": [],
   "source": [
    "#Creating an 2-D array of random numbers ranging from 0 to 1\n",
    "np.random.random((2,3))"
   ]
  },
  {
   "cell_type": "code",
   "execution_count": null,
   "id": "e5c8d558",
   "metadata": {},
   "outputs": [],
   "source": [
    "#Creating a random array of integers\n",
    "'''np.random.randint(low,high,size=None)'''\n",
    "np.random.randint(0,3,(2,3))"
   ]
  },
  {
   "cell_type": "code",
   "execution_count": null,
   "id": "0db8026a",
   "metadata": {},
   "outputs": [],
   "source": [
    "'''Return a sample (or samples) from the \"standard normal\" distribution.'''\n",
    "np.random.randn(1,2,3)"
   ]
  },
  {
   "cell_type": "markdown",
   "id": "1fa22035",
   "metadata": {},
   "source": [
    "## j . comprehend operations on numpy"
   ]
  },
  {
   "cell_type": "code",
   "execution_count": null,
   "id": "1c3f5aba",
   "metadata": {},
   "outputs": [],
   "source": [
    "a = np.ones((2, 3), dtype=int)\n",
    "print(a)\n",
    "a *= 3\n",
    "a"
   ]
  },
  {
   "cell_type": "code",
   "execution_count": null,
   "id": "7030495e",
   "metadata": {},
   "outputs": [],
   "source": [
    "rg = np.random.default_rng(1)  # create instance of default random number generator\n",
    "b = rg.random((2, 3))\n",
    "print(b)"
   ]
  },
  {
   "cell_type": "code",
   "execution_count": null,
   "id": "35a475c8",
   "metadata": {},
   "outputs": [],
   "source": [
    "b+=a\n",
    "print(b)"
   ]
  },
  {
   "cell_type": "code",
   "execution_count": null,
   "id": "3c3403cc",
   "metadata": {},
   "outputs": [],
   "source": [
    "a += b  # b is not automatically converted to integer type"
   ]
  },
  {
   "cell_type": "markdown",
   "id": "2e02b555",
   "metadata": {},
   "source": [
    "## k. Aggragation functions on numpy"
   ]
  },
  {
   "cell_type": "code",
   "execution_count": null,
   "id": "ce98e28c",
   "metadata": {},
   "outputs": [],
   "source": [
    "a = np.random.random((2,3))\n",
    "a"
   ]
  },
  {
   "cell_type": "code",
   "execution_count": null,
   "id": "2270090b",
   "metadata": {},
   "outputs": [],
   "source": [
    "a.sum()"
   ]
  },
  {
   "cell_type": "code",
   "execution_count": null,
   "id": "78805ff2",
   "metadata": {},
   "outputs": [],
   "source": [
    "a.max()"
   ]
  },
  {
   "cell_type": "code",
   "execution_count": null,
   "id": "ef0f48fa",
   "metadata": {},
   "outputs": [],
   "source": [
    "a.min()"
   ]
  },
  {
   "cell_type": "code",
   "execution_count": null,
   "id": "c8c7fd08",
   "metadata": {},
   "outputs": [],
   "source": [
    "#sum row wise\n",
    "a.sum(axis=0)"
   ]
  },
  {
   "cell_type": "code",
   "execution_count": null,
   "id": "c7dd83c5",
   "metadata": {},
   "outputs": [],
   "source": [
    "# sum column wise\n",
    "a.sum(axis =1)"
   ]
  },
  {
   "cell_type": "code",
   "execution_count": null,
   "id": "52bd5f81",
   "metadata": {},
   "outputs": [],
   "source": [
    "#cumulative sum row wise\n",
    "print(a)\n",
    "a.cumsum(axis=0)"
   ]
  },
  {
   "cell_type": "code",
   "execution_count": null,
   "id": "8de1ba63",
   "metadata": {},
   "outputs": [],
   "source": [
    "#cumulative sum columnwise\n",
    "a.cumsum(axis =1)"
   ]
  },
  {
   "cell_type": "code",
   "execution_count": null,
   "id": "8f35aed5",
   "metadata": {},
   "outputs": [],
   "source": [
    "print(a)\n",
    "print(np.cumprod(a)) #default \n",
    "print(np.cumprod(a,axis =0)) #along columns\n",
    "print(np.cumprod(a,axis =1)) #along rows"
   ]
  },
  {
   "cell_type": "markdown",
   "id": "0a79a1c1",
   "metadata": {},
   "source": [
    "# 6. Universal Functions"
   ]
  },
  {
   "cell_type": "code",
   "execution_count": null,
   "id": "01fcec3f",
   "metadata": {},
   "outputs": [],
   "source": [
    "B = np.arange(3)\n",
    "print(B)"
   ]
  },
  {
   "cell_type": "markdown",
   "id": "871c3332",
   "metadata": {},
   "source": [
    "## a. Exponential - np.exp()"
   ]
  },
  {
   "cell_type": "code",
   "execution_count": null,
   "id": "90004579",
   "metadata": {},
   "outputs": [],
   "source": [
    "np.exp(B)"
   ]
  },
  {
   "cell_type": "markdown",
   "id": "b7b92096",
   "metadata": {},
   "source": [
    "## b. Square Root - np.sqrt()"
   ]
  },
  {
   "cell_type": "code",
   "execution_count": null,
   "id": "e851921d",
   "metadata": {},
   "outputs": [],
   "source": [
    "np.sqrt(B)"
   ]
  },
  {
   "cell_type": "markdown",
   "id": "49140449",
   "metadata": {},
   "source": [
    "## c. Addition - np.Add()"
   ]
  },
  {
   "cell_type": "code",
   "execution_count": null,
   "id": "2dfbb063",
   "metadata": {},
   "outputs": [],
   "source": [
    "C = np.array([-2.,-1.,4.])\n",
    "print(B)\n",
    "print(C)\n",
    "np.add(B,C)"
   ]
  },
  {
   "cell_type": "markdown",
   "id": "4cf0b110",
   "metadata": {},
   "source": [
    "## d. Average - np.Avg()"
   ]
  },
  {
   "cell_type": "code",
   "execution_count": null,
   "id": "5a4ec84e",
   "metadata": {},
   "outputs": [],
   "source": [
    "np.average(C)"
   ]
  },
  {
   "cell_type": "code",
   "execution_count": null,
   "id": "62a15460",
   "metadata": {},
   "outputs": [],
   "source": [
    "print(a)\n",
    "print(\"Along Rows : \",np.average(a,axis =1))\n",
    "print(\"Along Columns : \", np.average(a,axis =0))"
   ]
  },
  {
   "cell_type": "markdown",
   "id": "a25e5675",
   "metadata": {},
   "source": [
    "## e. Difference - np.difference()\n",
    "***Calculate the n-th discrete difference along the given axis.<br>\n",
    "The first difference is given by out[i] = a[i+1] - a[i]***"
   ]
  },
  {
   "cell_type": "code",
   "execution_count": null,
   "id": "1fb4afe9",
   "metadata": {},
   "outputs": [],
   "source": [
    "x = np.array([1, 2, 4, 7, 0])\n",
    "np.diff(x)"
   ]
  },
  {
   "cell_type": "code",
   "execution_count": null,
   "id": "b80155bc",
   "metadata": {
    "scrolled": true
   },
   "outputs": [],
   "source": [
    "x = np.array([[1, 3, 6, 10], [0, 5, 6, 8]])\n",
    "print(x)\n",
    "np.diff(x)"
   ]
  },
  {
   "cell_type": "code",
   "execution_count": null,
   "id": "32b1ac30",
   "metadata": {},
   "outputs": [],
   "source": [
    "np.diff(x, axis =0)"
   ]
  },
  {
   "cell_type": "code",
   "execution_count": null,
   "id": "a05a568f",
   "metadata": {},
   "outputs": [],
   "source": [
    "np.diff(x, axis =1)"
   ]
  },
  {
   "cell_type": "markdown",
   "id": "1c93eb86",
   "metadata": {},
   "source": [
    "## f. Mean - np.mean ()"
   ]
  },
  {
   "cell_type": "code",
   "execution_count": null,
   "id": "1d4c1eea",
   "metadata": {},
   "outputs": [],
   "source": [
    "print(x)\n",
    "np.mean(x)"
   ]
  },
  {
   "cell_type": "code",
   "execution_count": null,
   "id": "ae8e382b",
   "metadata": {},
   "outputs": [],
   "source": [
    "np.mean(x, axis =0)"
   ]
  },
  {
   "cell_type": "code",
   "execution_count": null,
   "id": "be1eec5b",
   "metadata": {},
   "outputs": [],
   "source": [
    "np.mean(x, axis =1)"
   ]
  },
  {
   "cell_type": "markdown",
   "id": "5136303b",
   "metadata": {},
   "source": [
    "## g. Median - np.median()"
   ]
  },
  {
   "cell_type": "code",
   "execution_count": null,
   "id": "bd68710e",
   "metadata": {
    "scrolled": true
   },
   "outputs": [],
   "source": [
    "print(x)\n",
    "np.median(x)"
   ]
  },
  {
   "cell_type": "code",
   "execution_count": null,
   "id": "3a041c1b",
   "metadata": {},
   "outputs": [],
   "source": [
    "np.median(x, axis =0) #along cols"
   ]
  },
  {
   "cell_type": "code",
   "execution_count": null,
   "id": "38e30611",
   "metadata": {},
   "outputs": [],
   "source": [
    "np.median(x, axis =1) #along rows"
   ]
  },
  {
   "cell_type": "markdown",
   "id": "f9c66dd6",
   "metadata": {},
   "source": [
    "## h.Standard Deviation - np.std()  "
   ]
  },
  {
   "cell_type": "code",
   "execution_count": null,
   "id": "d9dbabe2",
   "metadata": {},
   "outputs": [],
   "source": [
    "np.std(x)"
   ]
  },
  {
   "cell_type": "markdown",
   "id": "d402cb6e",
   "metadata": {},
   "source": [
    "## i. Variance - np.var()\n",
    "***var(a, axis=None, dtype=None, out=None, ddof=0, keepdims=<no value>, *, where=<no value>)[source]<br>\n",
    "Compute the variance along the specified axis.***"
   ]
  },
  {
   "cell_type": "code",
   "execution_count": null,
   "id": "dcb6a9a9",
   "metadata": {},
   "outputs": [],
   "source": [
    "np.var(x)"
   ]
  },
  {
   "cell_type": "markdown",
   "id": "68fef624",
   "metadata": {},
   "source": [
    "# 7. Advance Functions"
   ]
  },
  {
   "cell_type": "markdown",
   "id": "20ef8a34",
   "metadata": {},
   "source": [
    "## a. all()\n",
    "***numpy.all(a, axis=None, out=None, keepdims=<no value>, *, where=<no value>)<br>\n",
    "   Test whether all array elements along a given axis evaluate to True***"
   ]
  },
  {
   "cell_type": "code",
   "execution_count": null,
   "id": "f7ad63f0",
   "metadata": {},
   "outputs": [],
   "source": [
    "np.all([True,False,True,True])"
   ]
  },
  {
   "cell_type": "code",
   "execution_count": null,
   "id": "76baf227",
   "metadata": {},
   "outputs": [],
   "source": [
    "np.all([False,False,False])"
   ]
  },
  {
   "cell_type": "code",
   "execution_count": null,
   "id": "37270960",
   "metadata": {},
   "outputs": [],
   "source": [
    "np.all([True,True,True])"
   ]
  },
  {
   "cell_type": "code",
   "execution_count": null,
   "id": "4846a9f1",
   "metadata": {},
   "outputs": [],
   "source": [
    "np.all([-1, 4, 5])"
   ]
  },
  {
   "cell_type": "code",
   "execution_count": null,
   "id": "02f80424",
   "metadata": {},
   "outputs": [],
   "source": [
    "np.all([1,np.nan])"
   ]
  },
  {
   "cell_type": "code",
   "execution_count": null,
   "id": "ec095d37",
   "metadata": {},
   "outputs": [],
   "source": [
    "#along rows \n",
    "a = np.array([[True,True],[True,False]])\n",
    "print(a)\n",
    "np.all(a, axis=1)"
   ]
  },
  {
   "cell_type": "code",
   "execution_count": null,
   "id": "96293851",
   "metadata": {},
   "outputs": [],
   "source": [
    "#along columns\n",
    "a = np.array([[False,True,True],[False,True,False]])\n",
    "print(a)\n",
    "np.all(a, axis=0)"
   ]
  },
  {
   "cell_type": "code",
   "execution_count": null,
   "id": "a46a7559",
   "metadata": {},
   "outputs": [],
   "source": [
    "#where condition on np.all where first row is True and second row is false\n",
    "a = np.array([[True,True],[True,False]])\n",
    "print(a)\n",
    "np.all(a, where=[[True], [False]])"
   ]
  },
  {
   "cell_type": "code",
   "execution_count": null,
   "id": "13833b51",
   "metadata": {},
   "outputs": [],
   "source": [
    "a = np.array([[True,True],[False,False]])\n",
    "print(a)\n",
    "np.all(a, where=[[True], [False]])"
   ]
  },
  {
   "cell_type": "code",
   "execution_count": null,
   "id": "e4cb1dfb",
   "metadata": {},
   "outputs": [],
   "source": [
    "a = np.array([[False,False],[True,True]])\n",
    "print(a)\n",
    "np.all(a, where=[[True], [False]])"
   ]
  },
  {
   "cell_type": "code",
   "execution_count": null,
   "id": "69cb9f28",
   "metadata": {},
   "outputs": [],
   "source": [
    "o=np.array(False)\n",
    "z=np.all([-1, 4, 5], out=o)\n",
    "print(o)\n",
    "print(z)\n",
    "id(z), id(o), z"
   ]
  },
  {
   "cell_type": "markdown",
   "id": "6c526057",
   "metadata": {},
   "source": [
    "## b. any()\n",
    "***numpy.any(a, axis=None, out=None, keepdims=<no value>, *, where=<no value>)<br>\n",
    "    Test whether any array element along a given axis evaluates to True.***"
   ]
  },
  {
   "cell_type": "code",
   "execution_count": null,
   "id": "8b76b5cb",
   "metadata": {},
   "outputs": [],
   "source": [
    "np.any([True,False])"
   ]
  },
  {
   "cell_type": "code",
   "execution_count": null,
   "id": "48b27353",
   "metadata": {},
   "outputs": [],
   "source": [
    "np.any([False,False])"
   ]
  },
  {
   "cell_type": "code",
   "execution_count": null,
   "id": "2f0e51a0",
   "metadata": {},
   "outputs": [],
   "source": [
    "np.any([[True, False], [False, False]], axis=0)"
   ]
  },
  {
   "cell_type": "code",
   "execution_count": null,
   "id": "cc414967",
   "metadata": {},
   "outputs": [],
   "source": [
    "np.any([-1, 0, 5])"
   ]
  },
  {
   "cell_type": "code",
   "execution_count": null,
   "id": "473576d6",
   "metadata": {},
   "outputs": [],
   "source": [
    "np.any([0,0,0,0])"
   ]
  },
  {
   "cell_type": "code",
   "execution_count": null,
   "id": "3307acec",
   "metadata": {},
   "outputs": [],
   "source": [
    "np.any(np.nan)"
   ]
  },
  {
   "cell_type": "code",
   "execution_count": null,
   "id": "88850bd2",
   "metadata": {},
   "outputs": [],
   "source": [
    "np.any([[True, False], [False, False]], where=[[False], [True]])"
   ]
  },
  {
   "cell_type": "code",
   "execution_count": null,
   "id": "b4bf282d",
   "metadata": {},
   "outputs": [],
   "source": [
    "np.any([[True, False], [False, False]], where=[[True], [False]])"
   ]
  },
  {
   "cell_type": "code",
   "execution_count": null,
   "id": "3bc0be94",
   "metadata": {},
   "outputs": [],
   "source": [
    "o=np.array(False)\n",
    "z=np.any([-1, 4, 5], out=o)\n",
    "print(o)\n",
    "print(z)\n",
    "z, o"
   ]
  },
  {
   "cell_type": "markdown",
   "id": "eae0bf35",
   "metadata": {},
   "source": [
    "## c. apply_along_axis\n",
    "***numpy.apply_along_axis(func1d, axis, arr, *args, **kwargs)<br>\n",
    "Apply a function to 1-D slices along the given axis.***"
   ]
  },
  {
   "cell_type": "code",
   "execution_count": null,
   "id": "03ad0cc0",
   "metadata": {},
   "outputs": [],
   "source": [
    "def my_func(a):\n",
    "    \"\"\"Average first and last element of a 1-D array\"\"\"\n",
    "    return (a[0] + a[-1]) * 0.5\n",
    "\n",
    "b = np.array([[1,2,3], [4,5,6], [7,8,9]])\n",
    "print(b)\n",
    "np.apply_along_axis(my_func, 0, b)"
   ]
  },
  {
   "cell_type": "code",
   "execution_count": null,
   "id": "083a1a68",
   "metadata": {},
   "outputs": [],
   "source": [
    "(1+7)/2,(2+8)/2,(3+9)/2"
   ]
  },
  {
   "cell_type": "code",
   "execution_count": null,
   "id": "fb9b7109",
   "metadata": {},
   "outputs": [],
   "source": [
    "np.apply_along_axis(my_func, 1, b)"
   ]
  },
  {
   "cell_type": "code",
   "execution_count": null,
   "id": "aaa5fcfb",
   "metadata": {},
   "outputs": [],
   "source": [
    "# applying sorted function along the rows\n",
    "b = np.array([[8,1,7], [4,3,9], [5,2,6]])\n",
    "print(b)\n",
    "np.apply_along_axis(sorted, 1, b)"
   ]
  },
  {
   "cell_type": "code",
   "execution_count": null,
   "id": "f399333e",
   "metadata": {},
   "outputs": [],
   "source": [
    "np.apply_along_axis(sorted, 0, b) #along the columns"
   ]
  },
  {
   "cell_type": "code",
   "execution_count": null,
   "id": "1738f211",
   "metadata": {},
   "outputs": [],
   "source": [
    "#creating diagonal matrix out of any array\n",
    "b = np.array([[1,2,3], [4,5,6], [7,8,9]])\n",
    "print(b)\n",
    "np.apply_along_axis(np.diag, -1, b)"
   ]
  },
  {
   "cell_type": "code",
   "execution_count": null,
   "id": "df8cd33e",
   "metadata": {},
   "outputs": [],
   "source": [
    "np.diag([1,2,3]) #deafult position is at 1st"
   ]
  },
  {
   "cell_type": "code",
   "execution_count": null,
   "id": "433e3925",
   "metadata": {},
   "outputs": [],
   "source": [
    "np.diag([1,2,3],k=1) #changing position to 2nd"
   ]
  },
  {
   "cell_type": "markdown",
   "id": "a60a9431",
   "metadata": {},
   "source": [
    "## d. np.argmax()\n",
    "***numpy.argmax(a, axis=None, out=None, *, keepdims=<no value>)<br>\n",
    "    Returns the indices of the maximum values along an axis.***"
   ]
  },
  {
   "cell_type": "code",
   "execution_count": null,
   "id": "31480946",
   "metadata": {},
   "outputs": [],
   "source": [
    "a = np.arange(6).reshape(2,3) +10\n",
    "print(a)"
   ]
  },
  {
   "cell_type": "code",
   "execution_count": null,
   "id": "25ea4a5c",
   "metadata": {},
   "outputs": [],
   "source": [
    "np.argmax(a) #returns the index of maximum value"
   ]
  },
  {
   "cell_type": "code",
   "execution_count": null,
   "id": "9464fd28",
   "metadata": {},
   "outputs": [],
   "source": [
    "np.argmax(a, axis=0) #returns the maximum value position along the columns"
   ]
  },
  {
   "cell_type": "code",
   "execution_count": null,
   "id": "124c0b10",
   "metadata": {},
   "outputs": [],
   "source": [
    "np.argmax(a, axis=1) #returns the maximum value position along the rows"
   ]
  },
  {
   "cell_type": "code",
   "execution_count": null,
   "id": "af7dbc21",
   "metadata": {},
   "outputs": [],
   "source": [
    "#convert array to tuples\n",
    "np.unravel_index(np.argmax(a, axis=None), a.shape)"
   ]
  },
  {
   "cell_type": "code",
   "execution_count": null,
   "id": "90db924b",
   "metadata": {},
   "outputs": [],
   "source": [
    "# only first occurence of high element is returned\n",
    "b = np.arange(6)\n",
    "b[1] = 5\n",
    "b"
   ]
  },
  {
   "cell_type": "code",
   "execution_count": null,
   "id": "7441e831",
   "metadata": {},
   "outputs": [],
   "source": [
    "np.argmax(b) #only first ocurence is returned "
   ]
  },
  {
   "cell_type": "code",
   "execution_count": null,
   "id": "4f193f3d",
   "metadata": {},
   "outputs": [],
   "source": [
    "x = np.array([[4,2,3], [1,0,3]])\n",
    "print(x)\n",
    "index_array = np.argmax(x, axis=-1)\n",
    "index_array"
   ]
  },
  {
   "cell_type": "code",
   "execution_count": null,
   "id": "9347bf42",
   "metadata": {},
   "outputs": [],
   "source": [
    "#Expanding dimension alongs the axis - returning the index\n",
    "np.expand_dims(index_array, axis =1) # same as np.expand_dims(index_array, axis =-1)"
   ]
  },
  {
   "cell_type": "code",
   "execution_count": null,
   "id": "c38789ff",
   "metadata": {},
   "outputs": [],
   "source": [
    "#extracting the elements of the index\n",
    "np.take_along_axis(x,np.expand_dims(index_array, axis =1), axis =1)"
   ]
  },
  {
   "cell_type": "code",
   "execution_count": null,
   "id": "788c3122",
   "metadata": {},
   "outputs": [],
   "source": [
    "#Alternative to the above cell function - It also returns the elements at the particulat index\n",
    "np.amax(x, axis=-1)"
   ]
  },
  {
   "cell_type": "markdown",
   "id": "26ce1773",
   "metadata": {},
   "source": [
    "## e. np.argmin()\n",
    "***numpy.argmin(a, axis=None, out=None, *, keepdims=<no value>)<br>\n",
    "    Returns the indices of the minimum values along an axis.***"
   ]
  },
  {
   "cell_type": "code",
   "execution_count": null,
   "id": "9feaf1f3",
   "metadata": {},
   "outputs": [],
   "source": [
    "a = np.arange(6).reshape(2,3) +10\n",
    "print(a)"
   ]
  },
  {
   "cell_type": "code",
   "execution_count": null,
   "id": "4eafd704",
   "metadata": {},
   "outputs": [],
   "source": [
    "np.argmin(a) #returns the index of minimum value"
   ]
  },
  {
   "cell_type": "code",
   "execution_count": null,
   "id": "e392a462",
   "metadata": {},
   "outputs": [],
   "source": [
    "np.argmin(a, axis=0) #returns the minimum value position along the columns"
   ]
  },
  {
   "cell_type": "code",
   "execution_count": null,
   "id": "bb34046b",
   "metadata": {},
   "outputs": [],
   "source": [
    "np.argmin(a, axis=1) #returns the minimum value position along the rows"
   ]
  },
  {
   "cell_type": "code",
   "execution_count": 14,
   "id": "c53115ba",
   "metadata": {},
   "outputs": [
    {
     "data": {
      "text/plain": [
       "(0,)"
      ]
     },
     "execution_count": 14,
     "metadata": {},
     "output_type": "execute_result"
    }
   ],
   "source": [
    "#convert array to tuples\n",
    "np.unravel_index(np.argmin(a, axis=None), a.shape)"
   ]
  },
  {
   "cell_type": "code",
   "execution_count": 15,
   "id": "6439f6a5",
   "metadata": {},
   "outputs": [
    {
     "data": {
      "text/plain": [
       "array([1, 1, 2, 3, 4, 5])"
      ]
     },
     "execution_count": 15,
     "metadata": {},
     "output_type": "execute_result"
    }
   ],
   "source": [
    "# only first occurence of low element is returned\n",
    "b = np.arange(6)\n",
    "b[0] = 1\n",
    "b"
   ]
  },
  {
   "cell_type": "code",
   "execution_count": 16,
   "id": "2f16295e",
   "metadata": {},
   "outputs": [
    {
     "data": {
      "text/plain": [
       "0"
      ]
     },
     "execution_count": 16,
     "metadata": {},
     "output_type": "execute_result"
    }
   ],
   "source": [
    "np.argmin(b) #only first ocurence is returned "
   ]
  },
  {
   "cell_type": "code",
   "execution_count": 17,
   "id": "5905aa95",
   "metadata": {},
   "outputs": [
    {
     "name": "stdout",
     "output_type": "stream",
     "text": [
      "[[4 2 3]\n",
      " [1 0 3]]\n"
     ]
    },
    {
     "data": {
      "text/plain": [
       "array([1, 1], dtype=int64)"
      ]
     },
     "execution_count": 17,
     "metadata": {},
     "output_type": "execute_result"
    }
   ],
   "source": [
    "x = np.array([[4,2,3], [1,0,3]])\n",
    "print(x)\n",
    "index_array = np.argmin(x, axis=-1)\n",
    "index_array"
   ]
  },
  {
   "cell_type": "code",
   "execution_count": 18,
   "id": "316814db",
   "metadata": {},
   "outputs": [
    {
     "data": {
      "text/plain": [
       "array([[1],\n",
       "       [1]], dtype=int64)"
      ]
     },
     "execution_count": 18,
     "metadata": {},
     "output_type": "execute_result"
    }
   ],
   "source": [
    "#Expanding dimension alongs the axis - returning the index\n",
    "np.expand_dims(index_array, axis =1) # same as np.expand_dims(index_array, axis =-1)"
   ]
  },
  {
   "cell_type": "code",
   "execution_count": 19,
   "id": "6a787a80",
   "metadata": {},
   "outputs": [
    {
     "data": {
      "text/plain": [
       "array([[2],\n",
       "       [0]])"
      ]
     },
     "execution_count": 19,
     "metadata": {},
     "output_type": "execute_result"
    }
   ],
   "source": [
    "#extracting the elements of the index\n",
    "np.take_along_axis(x,np.expand_dims(index_array, axis =1), axis =1)"
   ]
  },
  {
   "cell_type": "code",
   "execution_count": 20,
   "id": "10ba4c5c",
   "metadata": {},
   "outputs": [
    {
     "data": {
      "text/plain": [
       "array([2, 0])"
      ]
     },
     "execution_count": 20,
     "metadata": {},
     "output_type": "execute_result"
    }
   ],
   "source": [
    "#Alternative to the above cell function - It also returns the elements at the particulat index\n",
    "np.amin(x, axis=-1)"
   ]
  },
  {
   "cell_type": "markdown",
   "id": "dd60abb3",
   "metadata": {},
   "source": [
    "## f. np.argsort()\n",
    "***numpy.argsort(a, axis=- 1, kind=None, order=None)***"
   ]
  },
  {
   "cell_type": "code",
   "execution_count": 21,
   "id": "f0ce1f8a",
   "metadata": {},
   "outputs": [
    {
     "name": "stdout",
     "output_type": "stream",
     "text": [
      "[3 1 2]\n"
     ]
    },
    {
     "data": {
      "text/plain": [
       "array([1, 2, 0], dtype=int64)"
      ]
     },
     "execution_count": 21,
     "metadata": {},
     "output_type": "execute_result"
    }
   ],
   "source": [
    "#Returns the indices that would sort an array.\n",
    "x = np.array([3,1,2])\n",
    "print(x)\n",
    "idx = np.argsort(x)\n",
    "idx"
   ]
  },
  {
   "cell_type": "code",
   "execution_count": 22,
   "id": "deab0987",
   "metadata": {},
   "outputs": [
    {
     "data": {
      "text/plain": [
       "array([0, 5, 6, 1, 3, 2, 4], dtype=int64)"
      ]
     },
     "execution_count": 22,
     "metadata": {},
     "output_type": "execute_result"
    }
   ],
   "source": [
    "listExample  = [0 , 2, 2456,  2000, 5000, 0, 1]\n",
    "np.argsort(listExample)"
   ]
  },
  {
   "cell_type": "code",
   "execution_count": 23,
   "id": "64da68ac",
   "metadata": {},
   "outputs": [
    {
     "data": {
      "text/plain": [
       "array([[0, 3],\n",
       "       [2, 2]])"
      ]
     },
     "execution_count": 23,
     "metadata": {},
     "output_type": "execute_result"
    }
   ],
   "source": [
    "x = np.array([[0, 3], [2, 2]])\n",
    "x"
   ]
  },
  {
   "cell_type": "code",
   "execution_count": 24,
   "id": "f41eaa6c",
   "metadata": {},
   "outputs": [
    {
     "data": {
      "text/plain": [
       "array([[0, 1],\n",
       "       [0, 1]], dtype=int64)"
      ]
     },
     "execution_count": 24,
     "metadata": {},
     "output_type": "execute_result"
    }
   ],
   "source": [
    "ind = np.argsort(x)\n",
    "ind"
   ]
  },
  {
   "cell_type": "code",
   "execution_count": 25,
   "id": "1fd9ab2e",
   "metadata": {},
   "outputs": [
    {
     "data": {
      "text/plain": [
       "array([[0, 2],\n",
       "       [0, 2]])"
      ]
     },
     "execution_count": 25,
     "metadata": {},
     "output_type": "execute_result"
    }
   ],
   "source": [
    "np.take_along_axis(x, ind, axis=0) "
   ]
  },
  {
   "cell_type": "code",
   "execution_count": 26,
   "id": "581afd82",
   "metadata": {},
   "outputs": [
    {
     "data": {
      "text/plain": [
       "array([[0, 2],\n",
       "       [2, 3]])"
      ]
     },
     "execution_count": 26,
     "metadata": {},
     "output_type": "execute_result"
    }
   ],
   "source": [
    "np.sort(x, axis=0)"
   ]
  },
  {
   "cell_type": "markdown",
   "id": "62509388",
   "metadata": {},
   "source": [
    "## g. nonzero()\n",
    "***numpy.nonzero(a)<br>\n",
    "Return the indices of the elements that are non-zero***"
   ]
  },
  {
   "cell_type": "code",
   "execution_count": 27,
   "id": "6b56e207",
   "metadata": {},
   "outputs": [
    {
     "name": "stdout",
     "output_type": "stream",
     "text": [
      "[[0 3]\n",
      " [2 2]]\n"
     ]
    }
   ],
   "source": [
    "print(x)"
   ]
  },
  {
   "cell_type": "code",
   "execution_count": 28,
   "id": "e798434c",
   "metadata": {},
   "outputs": [
    {
     "data": {
      "text/plain": [
       "(array([0, 1, 1], dtype=int64), array([1, 0, 1], dtype=int64))"
      ]
     },
     "execution_count": 28,
     "metadata": {},
     "output_type": "execute_result"
    }
   ],
   "source": [
    "np.nonzero(x)"
   ]
  },
  {
   "cell_type": "code",
   "execution_count": 29,
   "id": "227b20fd",
   "metadata": {},
   "outputs": [
    {
     "data": {
      "text/plain": [
       "array([[False, False],\n",
       "       [False, False]])"
      ]
     },
     "execution_count": 29,
     "metadata": {},
     "output_type": "execute_result"
    }
   ],
   "source": [
    "x>3"
   ]
  },
  {
   "cell_type": "code",
   "execution_count": 30,
   "id": "59d65afe",
   "metadata": {},
   "outputs": [
    {
     "data": {
      "text/plain": [
       "(array([], dtype=int64), array([], dtype=int64))"
      ]
     },
     "execution_count": 30,
     "metadata": {},
     "output_type": "execute_result"
    }
   ],
   "source": [
    "np.nonzero(x > 3)"
   ]
  },
  {
   "cell_type": "code",
   "execution_count": 31,
   "id": "8f376c29",
   "metadata": {},
   "outputs": [
    {
     "data": {
      "text/plain": [
       "(array([], dtype=int64), array([], dtype=int64))"
      ]
     },
     "execution_count": 31,
     "metadata": {},
     "output_type": "execute_result"
    }
   ],
   "source": [
    "(x > 3).nonzero()"
   ]
  },
  {
   "cell_type": "markdown",
   "id": "f383bb9a",
   "metadata": {},
   "source": [
    "## h. bincount()\n",
    "***numpy.bincount(x, /, weights=None, minlength=0)\n",
    "Count number of occurrences of each value in array of non-negative ints.***"
   ]
  },
  {
   "cell_type": "code",
   "execution_count": 32,
   "id": "9fbfce21",
   "metadata": {},
   "outputs": [
    {
     "name": "stdout",
     "output_type": "stream",
     "text": [
      "[0 1 2 3 4]\n"
     ]
    },
    {
     "data": {
      "text/plain": [
       "array([1, 1, 1, 1, 1], dtype=int64)"
      ]
     },
     "execution_count": 32,
     "metadata": {},
     "output_type": "execute_result"
    }
   ],
   "source": [
    "a = np.arange(5)\n",
    "print(a)\n",
    "np.bincount(a)"
   ]
  },
  {
   "cell_type": "code",
   "execution_count": 33,
   "id": "b92973ad",
   "metadata": {},
   "outputs": [
    {
     "name": "stdout",
     "output_type": "stream",
     "text": [
      "[ 0  1  1  2  2  2  2  3  3  3  5  5  5  5  6 10]\n"
     ]
    },
    {
     "data": {
      "text/plain": [
       "array([1, 2, 4, 3, 0, 4, 1, 0, 0, 0, 1], dtype=int64)"
      ]
     },
     "execution_count": 33,
     "metadata": {},
     "output_type": "execute_result"
    }
   ],
   "source": [
    "a = np.array([0,1,1,2,2,2,2,3,3,3,5,5,5,5,6,10])\n",
    "print(a)\n",
    "np.bincount(a)"
   ]
  },
  {
   "cell_type": "code",
   "execution_count": 34,
   "id": "1bdf5236",
   "metadata": {},
   "outputs": [
    {
     "data": {
      "text/plain": [
       "11"
      ]
     },
     "execution_count": 34,
     "metadata": {},
     "output_type": "execute_result"
    }
   ],
   "source": [
    "np.bincount(a).size #size function return the array size"
   ]
  },
  {
   "cell_type": "code",
   "execution_count": 35,
   "id": "e25c5abc",
   "metadata": {
    "scrolled": true
   },
   "outputs": [
    {
     "name": "stdout",
     "output_type": "stream",
     "text": [
      "w :  [ 0.3  0.5  0.2  0.7  1.  -0.6]\n",
      " x :  [0 1 1 2 2 2]\n",
      "without weights : [1 2 3]\n",
      "with weights :  [0.3 0.7 1.1]\n"
     ]
    }
   ],
   "source": [
    "#applying weights\n",
    "'''A possible use of bincount is to perform sums over variable-size chunks of an array, using the weights keyword.'''\n",
    "w = np.array([0.3, 0.5, 0.2, 0.7, 1., -0.6]) # weights\n",
    "x = np.array([0, 1, 1, 2, 2, 2])\n",
    "print(\"w : \",w)\n",
    "print(\" x : \",x)\n",
    "print(\"without weights :\",np.bincount(x))\n",
    "print(\"with weights : \",np.bincount(x,  weights=w))"
   ]
  },
  {
   "cell_type": "markdown",
   "id": "36b6df74",
   "metadata": {},
   "source": [
    "- first weight : 0 : 0.3 \n",
    "- second weight : 1 1 : 0.5+0.2 = 0.7\n",
    "- third weight : 2 2 2 : 0.7+1.+ -.6 = 1.1        "
   ]
  },
  {
   "cell_type": "markdown",
   "id": "90b36f0b",
   "metadata": {},
   "source": [
    "## i. ceil() and floor()"
   ]
  },
  {
   "cell_type": "code",
   "execution_count": 36,
   "id": "13dff501",
   "metadata": {},
   "outputs": [
    {
     "data": {
      "text/plain": [
       "array([-1., -1., -0.,  1.,  2.,  2.,  2.])"
      ]
     },
     "execution_count": 36,
     "metadata": {},
     "output_type": "execute_result"
    }
   ],
   "source": [
    "a = np.array([-1.7, -1.5, -0.2, 0.2, 1.5, 1.7, 2.0])\n",
    "np.ceil(a)"
   ]
  },
  {
   "cell_type": "code",
   "execution_count": 37,
   "id": "94e1583c",
   "metadata": {},
   "outputs": [
    {
     "data": {
      "text/plain": [
       "array([-2., -2., -1.,  0.,  1.,  1.,  2.])"
      ]
     },
     "execution_count": 37,
     "metadata": {},
     "output_type": "execute_result"
    }
   ],
   "source": [
    "np.floor(a)"
   ]
  },
  {
   "cell_type": "markdown",
   "id": "b7113995",
   "metadata": {},
   "source": [
    "## j. clip()\n",
    "***numpy.clip(a, a_min, a_max, out=None, **kwargs)<br>\n",
    "Clip (limit) the values in an array.***"
   ]
  },
  {
   "cell_type": "code",
   "execution_count": 38,
   "id": "6532a1e1",
   "metadata": {},
   "outputs": [
    {
     "data": {
      "text/plain": [
       "array([0, 1, 2, 3, 4, 5, 6, 7, 8, 9])"
      ]
     },
     "execution_count": 38,
     "metadata": {},
     "output_type": "execute_result"
    }
   ],
   "source": [
    "a = np.arange(10)\n",
    "a"
   ]
  },
  {
   "cell_type": "code",
   "execution_count": 39,
   "id": "6cf1487c",
   "metadata": {},
   "outputs": [
    {
     "data": {
      "text/plain": [
       "array([0, 1, 2, 3, 4, 5, 6, 7, 7, 7])"
      ]
     },
     "execution_count": 39,
     "metadata": {},
     "output_type": "execute_result"
    }
   ],
   "source": [
    "np.clip(a,0,7) #clipping all values above 7 as 7"
   ]
  },
  {
   "cell_type": "code",
   "execution_count": 40,
   "id": "bd7a84b0",
   "metadata": {},
   "outputs": [
    {
     "data": {
      "text/plain": [
       "array([1, 1, 1, 1, 1, 1, 1, 1, 1, 1])"
      ]
     },
     "execution_count": 40,
     "metadata": {},
     "output_type": "execute_result"
    }
   ],
   "source": [
    "np.clip(a, 8, 1) #clipping all values to 1"
   ]
  },
  {
   "cell_type": "markdown",
   "id": "dabfc6da",
   "metadata": {},
   "source": [
    "## k.vdot()\n",
    "***numpy.vdot(a, b, /)<br>\n",
    "Return the dot product of two vectors.***"
   ]
  },
  {
   "cell_type": "code",
   "execution_count": 41,
   "id": "458858d2",
   "metadata": {},
   "outputs": [
    {
     "data": {
      "text/plain": [
       "(70-8j)"
      ]
     },
     "execution_count": 41,
     "metadata": {},
     "output_type": "execute_result"
    }
   ],
   "source": [
    "a = np.array([1+2j,3+4j])\n",
    "b = np.array([5+6j,7+8j])\n",
    "np.vdot(a, b)"
   ]
  },
  {
   "cell_type": "code",
   "execution_count": 42,
   "id": "1d19e5f8",
   "metadata": {},
   "outputs": [
    {
     "name": "stdout",
     "output_type": "stream",
     "text": [
      "[[1 4]\n",
      " [5 6]]\n",
      "[[4 1]\n",
      " [2 2]]\n"
     ]
    },
    {
     "data": {
      "text/plain": [
       "30"
      ]
     },
     "execution_count": 42,
     "metadata": {},
     "output_type": "execute_result"
    }
   ],
   "source": [
    "a = np.array([[1, 4], [5, 6]])\n",
    "b = np.array([[4, 1], [2, 2]])\n",
    "print(a)\n",
    "print(b)\n",
    "np.vdot(a, b)"
   ]
  },
  {
   "cell_type": "code",
   "execution_count": 43,
   "id": "11d55d78",
   "metadata": {
    "scrolled": true
   },
   "outputs": [
    {
     "data": {
      "text/plain": [
       "30"
      ]
     },
     "execution_count": 43,
     "metadata": {},
     "output_type": "execute_result"
    }
   ],
   "source": [
    "1*4 + 4*1 + 5*2 + 6*2"
   ]
  },
  {
   "cell_type": "code",
   "execution_count": 44,
   "id": "5052b72e",
   "metadata": {},
   "outputs": [
    {
     "data": {
      "text/plain": [
       "array([[12,  9],\n",
       "       [32, 17]])"
      ]
     },
     "execution_count": 44,
     "metadata": {},
     "output_type": "execute_result"
    }
   ],
   "source": [
    "np.dot(a,b) #a@b"
   ]
  },
  {
   "cell_type": "code",
   "execution_count": 45,
   "id": "5b5bcd39",
   "metadata": {},
   "outputs": [
    {
     "data": {
      "text/plain": [
       "array([[ 4,  4],\n",
       "       [10, 12]])"
      ]
     },
     "execution_count": 45,
     "metadata": {},
     "output_type": "execute_result"
    }
   ],
   "source": [
    "a*b"
   ]
  },
  {
   "cell_type": "markdown",
   "id": "4b3df21c",
   "metadata": {},
   "source": [
    "## l. vectorize()\n",
    "**class numpy.vectorize(pyfunc, otypes=None, doc=None, excluded=None, cache=False, signature=None)<br>\n",
    "Generalized function class.**"
   ]
  },
  {
   "cell_type": "code",
   "execution_count": 46,
   "id": "859447f8",
   "metadata": {},
   "outputs": [],
   "source": [
    "def myfunc(a, b):\n",
    "    \"Return a-b if a>b, otherwise return a+b\"\n",
    "    if a > b:\n",
    "        return a - b\n",
    "    else:\n",
    "        return a + b"
   ]
  },
  {
   "cell_type": "code",
   "execution_count": 47,
   "id": "9d712048",
   "metadata": {},
   "outputs": [],
   "source": [
    "vfunc = np.vectorize(myfunc) #created an object"
   ]
  },
  {
   "cell_type": "code",
   "execution_count": 48,
   "id": "cb8b9435",
   "metadata": {},
   "outputs": [
    {
     "data": {
      "text/plain": [
       "<numpy.vectorize at 0x1ec91694460>"
      ]
     },
     "execution_count": 48,
     "metadata": {},
     "output_type": "execute_result"
    }
   ],
   "source": [
    "vfunc"
   ]
  },
  {
   "cell_type": "code",
   "execution_count": 49,
   "id": "b988ab5f",
   "metadata": {},
   "outputs": [
    {
     "name": "stdout",
     "output_type": "stream",
     "text": [
      "[[1 4]\n",
      " [5 6]]\n"
     ]
    }
   ],
   "source": [
    "print(a)"
   ]
  },
  {
   "cell_type": "code",
   "execution_count": 50,
   "id": "4b01ad18",
   "metadata": {},
   "outputs": [
    {
     "data": {
      "text/plain": [
       "array([[3, 2],\n",
       "       [3, 4]])"
      ]
     },
     "execution_count": 50,
     "metadata": {},
     "output_type": "execute_result"
    }
   ],
   "source": [
    "vfunc(a,2)"
   ]
  },
  {
   "cell_type": "code",
   "execution_count": 51,
   "id": "b03a8b30",
   "metadata": {},
   "outputs": [],
   "source": [
    "def mypolyval(p, x):\n",
    "    _p = list(p)\n",
    "    res = _p.pop(0)\n",
    "    while _p:\n",
    "        res = res*x + _p.pop(0)\n",
    "    return res"
   ]
  },
  {
   "cell_type": "code",
   "execution_count": 52,
   "id": "2bbb0e83",
   "metadata": {},
   "outputs": [
    {
     "data": {
      "text/plain": [
       "array([3, 6])"
      ]
     },
     "execution_count": 52,
     "metadata": {},
     "output_type": "execute_result"
    }
   ],
   "source": [
    "vpolyval = np.vectorize(mypolyval, excluded=['p'])\n",
    "vpolyval(p=[1, 2, 3], x=[0, 1])"
   ]
  },
  {
   "cell_type": "markdown",
   "id": "fd675286",
   "metadata": {},
   "source": [
    "Explanation :- <br>\n",
    "- p = p.array([1,2,3])<br>\n",
    "- x = np.array([0,1])<br>\n",
    "- _p = list(p) = [1,2,3]<br>\n",
    "- res = _p.pop(0) = 1<br>\n",
    "- while _p:<br>\n",
    "    - res = res *x + _p.pop(0) <br>              \n",
    "        - res = 1 * np.array([0,1]) + 2 = [2,3]<br>\n",
    "        - res = 2 * np.array([0,1]) + 3 = [3,6]<br>"
   ]
  },
  {
   "cell_type": "code",
   "execution_count": 53,
   "id": "6d7ea129",
   "metadata": {},
   "outputs": [
    {
     "name": "stdout",
     "output_type": "stream",
     "text": [
      "[2 3]\n",
      "[3 6]\n"
     ]
    }
   ],
   "source": [
    "a = 1 * np.array([0,1]) + 2\n",
    "print(a)\n",
    "a = a * np.array([0,1]) + 3\n",
    "print(a)"
   ]
  },
  {
   "cell_type": "markdown",
   "id": "93f77fb9",
   "metadata": {},
   "source": [
    "## m. np.where()\n",
    "***numpy.where(condition, [x, y, ]/)<br>\n",
    "Return elements chosen from x or y depending on condition.***"
   ]
  },
  {
   "cell_type": "code",
   "execution_count": 54,
   "id": "a1157b5c",
   "metadata": {},
   "outputs": [
    {
     "data": {
      "text/plain": [
       "array([0, 1, 2, 3, 4, 5, 6, 7, 8, 9])"
      ]
     },
     "execution_count": 54,
     "metadata": {},
     "output_type": "execute_result"
    }
   ],
   "source": [
    "a = np.arange(10)\n",
    "a"
   ]
  },
  {
   "cell_type": "code",
   "execution_count": 55,
   "id": "24235b1b",
   "metadata": {},
   "outputs": [
    {
     "data": {
      "text/plain": [
       "array([ 0, 10, 20, 30, 40, 50,  6,  7,  8,  9])"
      ]
     },
     "execution_count": 55,
     "metadata": {},
     "output_type": "execute_result"
    }
   ],
   "source": [
    "np.where(a>5,a,a*10)"
   ]
  },
  {
   "cell_type": "code",
   "execution_count": 56,
   "id": "fa77697d",
   "metadata": {},
   "outputs": [
    {
     "data": {
      "text/plain": [
       "array([[1, 8],\n",
       "       [3, 4]])"
      ]
     },
     "execution_count": 56,
     "metadata": {},
     "output_type": "execute_result"
    }
   ],
   "source": [
    "np.where([[True, False], [True, True]],\n",
    "         [[1, 2], [3, 4]],\n",
    "         [[9, 8], [7, 6]])"
   ]
  },
  {
   "cell_type": "code",
   "execution_count": 57,
   "id": "fcd1f678",
   "metadata": {},
   "outputs": [
    {
     "name": "stdout",
     "output_type": "stream",
     "text": [
      "[[0]\n",
      " [1]\n",
      " [2]]\n",
      "[[0 1 2 3]]\n"
     ]
    },
    {
     "data": {
      "text/plain": [
       "array([[10,  0,  0,  0],\n",
       "       [10, 11,  1,  1],\n",
       "       [10, 11, 12,  2]])"
      ]
     },
     "execution_count": 57,
     "metadata": {},
     "output_type": "execute_result"
    }
   ],
   "source": [
    "x, y = np.ogrid[:3, :4]\n",
    "print(x)\n",
    "print(y)\n",
    "np.where(x < y, x, 10 + y)  # both x and 10+y are broadcast"
   ]
  },
  {
   "cell_type": "markdown",
   "id": "5820f527",
   "metadata": {},
   "source": [
    "## o. np.ogrid()\n",
    "\n",
    "- ***numpy.ogrid = <numpy.lib.index_tricks.OGridClass object><br>\n",
    "nd_grid instance which returns an open multi-dimensional “meshgrid”.***"
   ]
  },
  {
   "cell_type": "code",
   "execution_count": 58,
   "id": "bc617874",
   "metadata": {},
   "outputs": [
    {
     "data": {
      "text/plain": [
       "[array([[-4],\n",
       "        [-2],\n",
       "        [ 0],\n",
       "        [ 2],\n",
       "        [ 4]]),\n",
       " array([[-4, -3, -2, -1,  0,  1,  2,  3,  4]])]"
      ]
     },
     "execution_count": 58,
     "metadata": {},
     "output_type": "execute_result"
    }
   ],
   "source": [
    "a = np.ogrid[-4:6:2, -4:5]\n",
    "a"
   ]
  },
  {
   "attachments": {
    "image.png": {
     "image/png": "[encoded data removed]"
    }
   },
   "cell_type": "markdown",
   "id": "f6c8e270",
   "metadata": {},
   "source": [
    "![image.png](attachment:image.png)"
   ]
  },
  {
   "cell_type": "markdown",
   "id": "2a087fcd",
   "metadata": {},
   "source": [
    "## p.np.meshgrid()\n",
    "\n",
    "- ***numpy.meshgrid(*xi, copy=True, sparse=False, indexing='xy')<br>\n",
    "Return coordinate matrices from coordinate vectors.***"
   ]
  },
  {
   "cell_type": "code",
   "execution_count": 59,
   "id": "c040e852",
   "metadata": {
    "scrolled": false
   },
   "outputs": [
    {
     "data": {
      "text/plain": [
       "[array([[-4, -2,  0,  2,  4],\n",
       "        [-4, -2,  0,  2,  4],\n",
       "        [-4, -2,  0,  2,  4],\n",
       "        [-4, -2,  0,  2,  4],\n",
       "        [-4, -2,  0,  2,  4],\n",
       "        [-4, -2,  0,  2,  4],\n",
       "        [-4, -2,  0,  2,  4],\n",
       "        [-4, -2,  0,  2,  4],\n",
       "        [-4, -2,  0,  2,  4]]),\n",
       " array([[-4, -4, -4, -4, -4],\n",
       "        [-3, -3, -3, -3, -3],\n",
       "        [-2, -2, -2, -2, -2],\n",
       "        [-1, -1, -1, -1, -1],\n",
       "        [ 0,  0,  0,  0,  0],\n",
       "        [ 1,  1,  1,  1,  1],\n",
       "        [ 2,  2,  2,  2,  2],\n",
       "        [ 3,  3,  3,  3,  3],\n",
       "        [ 4,  4,  4,  4,  4]])]"
      ]
     },
     "execution_count": 59,
     "metadata": {},
     "output_type": "execute_result"
    }
   ],
   "source": [
    "np.meshgrid(a[0],a[1])"
   ]
  },
  {
   "cell_type": "markdown",
   "id": "df34cb0c",
   "metadata": {},
   "source": [
    "## q. np.transpose()\n",
    "***numpy.transpose(a, axes=None)<br>\n",
    "Reverse or permute the axes of an array; returns the modified array.***"
   ]
  },
  {
   "attachments": {
    "image.png": {
     "image/png": "[encoded data removed]"
    }
   },
   "cell_type": "markdown",
   "id": "c0f972a8",
   "metadata": {},
   "source": [
    "![image.png](attachment:image.png)"
   ]
  },
  {
   "cell_type": "code",
   "execution_count": 60,
   "id": "48c78d92",
   "metadata": {
    "scrolled": true
   },
   "outputs": [
    {
     "name": "stdout",
     "output_type": "stream",
     "text": [
      "[[0]\n",
      " [1]\n",
      " [2]]\n"
     ]
    }
   ],
   "source": [
    "print(x)"
   ]
  },
  {
   "cell_type": "code",
   "execution_count": 61,
   "id": "fc5358e6",
   "metadata": {},
   "outputs": [
    {
     "data": {
      "text/plain": [
       "array([[0, 1, 2]])"
      ]
     },
     "execution_count": 61,
     "metadata": {},
     "output_type": "execute_result"
    }
   ],
   "source": [
    "np.transpose(x)"
   ]
  },
  {
   "cell_type": "code",
   "execution_count": 62,
   "id": "79703564",
   "metadata": {},
   "outputs": [
    {
     "data": {
      "text/plain": [
       "array([[0, 1],\n",
       "       [2, 3]])"
      ]
     },
     "execution_count": 62,
     "metadata": {},
     "output_type": "execute_result"
    }
   ],
   "source": [
    "x = np.arange(4).reshape((2,2))\n",
    "x"
   ]
  },
  {
   "cell_type": "code",
   "execution_count": 63,
   "id": "ae8fdedd",
   "metadata": {},
   "outputs": [
    {
     "data": {
      "text/plain": [
       "array([[0, 2],\n",
       "       [1, 3]])"
      ]
     },
     "execution_count": 63,
     "metadata": {},
     "output_type": "execute_result"
    }
   ],
   "source": [
    "np.transpose(x)"
   ]
  },
  {
   "cell_type": "markdown",
   "id": "d8b21a6d",
   "metadata": {},
   "source": [
    "## r. np.trace()\n",
    "***numpy.trace(a, offset=0, axis1=0, axis2=1, dtype=None, out=None)<br>\n",
    "Return the sum along diagonals of the array.***"
   ]
  },
  {
   "cell_type": "code",
   "execution_count": 64,
   "id": "126498c9",
   "metadata": {},
   "outputs": [
    {
     "data": {
      "text/plain": [
       "array([[0, 1],\n",
       "       [2, 3],\n",
       "       [4, 5],\n",
       "       [6, 7]])"
      ]
     },
     "execution_count": 64,
     "metadata": {},
     "output_type": "execute_result"
    }
   ],
   "source": [
    "a = np.arange(8).reshape((4,2))\n",
    "a"
   ]
  },
  {
   "cell_type": "code",
   "execution_count": 65,
   "id": "4f0982a5",
   "metadata": {},
   "outputs": [
    {
     "data": {
      "text/plain": [
       "3"
      ]
     },
     "execution_count": 65,
     "metadata": {},
     "output_type": "execute_result"
    }
   ],
   "source": [
    "np.trace(a)"
   ]
  },
  {
   "cell_type": "code",
   "execution_count": 66,
   "id": "9ad5a04a",
   "metadata": {},
   "outputs": [
    {
     "name": "stdout",
     "output_type": "stream",
     "text": [
      "[[[[ 0  1  2]\n",
      "   [ 3  4  5]]\n",
      "\n",
      "  [[ 6  7  8]\n",
      "   [ 9 10 11]]]\n",
      "\n",
      "\n",
      " [[[12 13 14]\n",
      "   [15 16 17]]\n",
      "\n",
      "  [[18 19 20]\n",
      "   [21 22 23]]]]\n",
      "shape of trace :  (2, 3)\n"
     ]
    },
    {
     "data": {
      "text/plain": [
       "array([[18, 20, 22],\n",
       "       [24, 26, 28]])"
      ]
     },
     "execution_count": 66,
     "metadata": {},
     "output_type": "execute_result"
    }
   ],
   "source": [
    "a = np.arange(24).reshape((2,2,2,3))\n",
    "print(a)\n",
    "print(\"shape of trace : \", np.trace(a).shape)\n",
    "np.trace(a)\n"
   ]
  },
  {
   "cell_type": "markdown",
   "id": "33ebafc1",
   "metadata": {},
   "source": [
    "## r. np.maximum()\n",
    "***numpy.maximum(x1, x2, /, out=None, *, where=True, casting='same_kind', order='K', dtype=None, subok=True[, signature, extobj]) = <ufunc 'maximum'><br>\n",
    "Element-wise maximum of array elements.***"
   ]
  },
  {
   "cell_type": "code",
   "execution_count": 67,
   "id": "c095d762",
   "metadata": {
    "scrolled": true
   },
   "outputs": [
    {
     "data": {
      "text/plain": [
       "array([2, 5, 4])"
      ]
     },
     "execution_count": 67,
     "metadata": {},
     "output_type": "execute_result"
    }
   ],
   "source": [
    "np.maximum([2, 3, 4], [1, 5, 2])"
   ]
  },
  {
   "cell_type": "code",
   "execution_count": 68,
   "id": "bcbe8bb7",
   "metadata": {},
   "outputs": [
    {
     "data": {
      "text/plain": [
       "array([[1. , 2. ],\n",
       "       [0.5, 2. ]])"
      ]
     },
     "execution_count": 68,
     "metadata": {},
     "output_type": "execute_result"
    }
   ],
   "source": [
    "np.maximum(np.eye(2), [0.5, 2]) # broadcasting"
   ]
  },
  {
   "cell_type": "code",
   "execution_count": 69,
   "id": "edc5d967",
   "metadata": {},
   "outputs": [
    {
     "data": {
      "text/plain": [
       "array([nan, nan, nan])"
      ]
     },
     "execution_count": 69,
     "metadata": {},
     "output_type": "execute_result"
    }
   ],
   "source": [
    "np.maximum([np.nan, 0, np.nan], [0, np.nan, np.nan])"
   ]
  },
  {
   "cell_type": "code",
   "execution_count": 70,
   "id": "e4f210f1",
   "metadata": {},
   "outputs": [
    {
     "data": {
      "text/plain": [
       "inf"
      ]
     },
     "execution_count": 70,
     "metadata": {},
     "output_type": "execute_result"
    }
   ],
   "source": [
    "np.maximum(np.Inf, 1)"
   ]
  },
  {
   "cell_type": "markdown",
   "id": "618d8be5",
   "metadata": {},
   "source": [
    "## s. np.minimum()\n",
    "***numpy.minimum(x1, x2, /, out=None, *, where=True, casting='same_kind', order='K', dtype=None, subok=True[, signature, extobj]) = <ufunc 'minimum'><br>\n",
    "Element-wise minimum of array elements.***"
   ]
  },
  {
   "cell_type": "code",
   "execution_count": 71,
   "id": "2968f69e",
   "metadata": {},
   "outputs": [
    {
     "data": {
      "text/plain": [
       "array([1, 3, 2])"
      ]
     },
     "execution_count": 71,
     "metadata": {},
     "output_type": "execute_result"
    }
   ],
   "source": [
    "np.minimum([2, 3, 4], [1, 5, 2])"
   ]
  },
  {
   "cell_type": "code",
   "execution_count": 72,
   "id": "9797fb97",
   "metadata": {},
   "outputs": [
    {
     "data": {
      "text/plain": [
       "array([[0.5, 0. ],\n",
       "       [0. , 1. ]])"
      ]
     },
     "execution_count": 72,
     "metadata": {},
     "output_type": "execute_result"
    }
   ],
   "source": [
    "np.minimum(np.eye(2), [0.5, 2]) # broadcasting"
   ]
  },
  {
   "cell_type": "code",
   "execution_count": 73,
   "id": "f8d00532",
   "metadata": {},
   "outputs": [
    {
     "data": {
      "text/plain": [
       "array([nan, nan, nan])"
      ]
     },
     "execution_count": 73,
     "metadata": {},
     "output_type": "execute_result"
    }
   ],
   "source": [
    "np.minimum([np.nan, 0, np.nan],[0, np.nan, np.nan])"
   ]
  },
  {
   "cell_type": "code",
   "execution_count": 74,
   "id": "07c8ef01",
   "metadata": {},
   "outputs": [
    {
     "data": {
      "text/plain": [
       "-inf"
      ]
     },
     "execution_count": 74,
     "metadata": {},
     "output_type": "execute_result"
    }
   ],
   "source": [
    "np.minimum(-np.Inf, 1)"
   ]
  },
  {
   "attachments": {
    "image.png": {
     "image/png": "[encoded data removed]"
    }
   },
   "cell_type": "markdown",
   "id": "e48ea4fc",
   "metadata": {},
   "source": [
    "## t. numpy.outer()\n",
    "***numpy.outer(a, b, out=None)\n",
    "Compute the outer product of two vectors.***\n",
    "\n",
    "Given two vectors, a = [a0, a1, ..., aM] and b = [b0, b1, ..., bN], the outer product [1] is:<br>\n",
    "\n",
    "![image.png](attachment:image.png)"
   ]
  },
  {
   "cell_type": "code",
   "execution_count": 75,
   "id": "b9a4eee6",
   "metadata": {},
   "outputs": [
    {
     "name": "stdout",
     "output_type": "stream",
     "text": [
      "['a' 'b' 'c']\n"
     ]
    },
    {
     "data": {
      "text/plain": [
       "array([['a', 'aa', 'aaa'],\n",
       "       ['b', 'bb', 'bbb'],\n",
       "       ['c', 'cc', 'ccc']], dtype=object)"
      ]
     },
     "execution_count": 75,
     "metadata": {},
     "output_type": "execute_result"
    }
   ],
   "source": [
    "x = np.array(['a', 'b', 'c'], dtype=object)\n",
    "print(x)\n",
    "np.outer(x, [1, 2, 3])"
   ]
  },
  {
   "cell_type": "code",
   "execution_count": 76,
   "id": "ae10a079",
   "metadata": {},
   "outputs": [
    {
     "data": {
      "text/plain": [
       "'abbccc'"
      ]
     },
     "execution_count": 76,
     "metadata": {},
     "output_type": "execute_result"
    }
   ],
   "source": [
    "np.dot(x, [1, 2, 3])"
   ]
  },
  {
   "cell_type": "code",
   "execution_count": 77,
   "id": "40a83769",
   "metadata": {},
   "outputs": [
    {
     "data": {
      "text/plain": [
       "array(['a', 'bb', 'ccc'], dtype=object)"
      ]
     },
     "execution_count": 77,
     "metadata": {},
     "output_type": "execute_result"
    }
   ],
   "source": [
    "x * [1,2,3]"
   ]
  },
  {
   "cell_type": "code",
   "execution_count": 78,
   "id": "7eaf5359",
   "metadata": {},
   "outputs": [
    {
     "data": {
      "text/plain": [
       "'abbccc'"
      ]
     },
     "execution_count": 78,
     "metadata": {},
     "output_type": "execute_result"
    }
   ],
   "source": [
    "x @ [1,2,3]"
   ]
  },
  {
   "cell_type": "code",
   "execution_count": 79,
   "id": "6c19723a",
   "metadata": {},
   "outputs": [
    {
     "data": {
      "text/plain": [
       "array([[-2., -1.,  0.,  1.,  2.],\n",
       "       [-2., -1.,  0.,  1.,  2.],\n",
       "       [-2., -1.,  0.,  1.,  2.],\n",
       "       [-2., -1.,  0.,  1.,  2.],\n",
       "       [-2., -1.,  0.,  1.,  2.]])"
      ]
     },
     "execution_count": 79,
     "metadata": {},
     "output_type": "execute_result"
    }
   ],
   "source": [
    "np.outer(np.ones((5,)), np.linspace(-2, 2, 5))"
   ]
  },
  {
   "cell_type": "markdown",
   "id": "7e0242dc",
   "metadata": {},
   "source": [
    "## u. np.inner()\n",
    "***numpy.inner(a, b, /)<br>\n",
    "Inner product of two arrays.***"
   ]
  },
  {
   "cell_type": "code",
   "execution_count": 80,
   "id": "b0fc2f5e",
   "metadata": {},
   "outputs": [
    {
     "data": {
      "text/plain": [
       "'abbccc'"
      ]
     },
     "execution_count": 80,
     "metadata": {},
     "output_type": "execute_result"
    }
   ],
   "source": [
    "np.inner(x,[1,2,3])"
   ]
  },
  {
   "cell_type": "code",
   "execution_count": 81,
   "id": "25530dce",
   "metadata": {},
   "outputs": [
    {
     "name": "stdout",
     "output_type": "stream",
     "text": [
      "[1 2 3]\n",
      "[0 1 0]\n"
     ]
    },
    {
     "data": {
      "text/plain": [
       "2"
      ]
     },
     "execution_count": 81,
     "metadata": {},
     "output_type": "execute_result"
    }
   ],
   "source": [
    "a = np.array([1,2,3])\n",
    "b = np.array([0,1,0])\n",
    "print(a)\n",
    "print(b)\n",
    "np.inner(a, b)"
   ]
  },
  {
   "cell_type": "code",
   "execution_count": 82,
   "id": "7b5b0187",
   "metadata": {},
   "outputs": [
    {
     "name": "stdout",
     "output_type": "stream",
     "text": [
      "\n",
      " [[[ 0  1  2  3]\n",
      "  [ 4  5  6  7]\n",
      "  [ 8  9 10 11]]\n",
      "\n",
      " [[12 13 14 15]\n",
      "  [16 17 18 19]\n",
      "  [20 21 22 23]]]\n",
      "\n",
      " [0 1 2 3]\n",
      "\n",
      " [[ 14  38  62]\n",
      " [ 86 110 134]]\n",
      "\n",
      " (2, 3)\n"
     ]
    }
   ],
   "source": [
    "a = np.arange(24).reshape((2,3,4))\n",
    "b = np.arange(4)\n",
    "c = np.inner(a, b)\n",
    "print(\"\\n\",a)\n",
    "print(\"\\n\",b)\n",
    "print(\"\\n\",c)\n",
    "print(\"\\n\",c.shape)"
   ]
  },
  {
   "cell_type": "code",
   "execution_count": 83,
   "id": "97b42591",
   "metadata": {},
   "outputs": [
    {
     "data": {
      "text/plain": [
       "array([[7., 0.],\n",
       "       [0., 7.]])"
      ]
     },
     "execution_count": 83,
     "metadata": {},
     "output_type": "execute_result"
    }
   ],
   "source": [
    "np.inner(np.eye(2), 7)"
   ]
  },
  {
   "cell_type": "markdown",
   "id": "b69f6635",
   "metadata": {},
   "source": [
    "## v. np.prod()\n",
    "***numpy.prod(a, axis=None, dtype=None, out=None, keepdims=<no value>, initial=<no value>, where=<no value>)<br>\n",
    "Return the product of array elements over a given axis.***"
   ]
  },
  {
   "cell_type": "code",
   "execution_count": 84,
   "id": "646e119a",
   "metadata": {},
   "outputs": [
    {
     "data": {
      "text/plain": [
       "1.0"
      ]
     },
     "execution_count": 84,
     "metadata": {},
     "output_type": "execute_result"
    }
   ],
   "source": [
    "np.prod([])"
   ]
  },
  {
   "cell_type": "code",
   "execution_count": 85,
   "id": "888363d5",
   "metadata": {},
   "outputs": [
    {
     "data": {
      "text/plain": [
       "2.0"
      ]
     },
     "execution_count": 85,
     "metadata": {},
     "output_type": "execute_result"
    }
   ],
   "source": [
    "np.prod([1.,2.])"
   ]
  },
  {
   "cell_type": "code",
   "execution_count": 86,
   "id": "8d90e149",
   "metadata": {},
   "outputs": [
    {
     "data": {
      "text/plain": [
       "24.0"
      ]
     },
     "execution_count": 86,
     "metadata": {},
     "output_type": "execute_result"
    }
   ],
   "source": [
    "np.prod([[1.,2.],[3.,4.]])"
   ]
  },
  {
   "cell_type": "code",
   "execution_count": 87,
   "id": "59f9d93f",
   "metadata": {},
   "outputs": [
    {
     "data": {
      "text/plain": [
       "array([ 2., 12.])"
      ]
     },
     "execution_count": 87,
     "metadata": {},
     "output_type": "execute_result"
    }
   ],
   "source": [
    "np.prod([[1.,2.],[3.,4.]], axis=1)"
   ]
  },
  {
   "cell_type": "code",
   "execution_count": 88,
   "id": "9f05bdd8",
   "metadata": {},
   "outputs": [
    {
     "data": {
      "text/plain": [
       "3.0"
      ]
     },
     "execution_count": 88,
     "metadata": {},
     "output_type": "execute_result"
    }
   ],
   "source": [
    "np.prod([1., np.nan, 3.], where=[True, False, True])"
   ]
  },
  {
   "cell_type": "code",
   "execution_count": 89,
   "id": "b3f48b56",
   "metadata": {},
   "outputs": [
    {
     "data": {
      "text/plain": [
       "'unsigned integers are one which are always positive. Let us say we want to count number of players'"
      ]
     },
     "execution_count": 89,
     "metadata": {},
     "output_type": "execute_result"
    }
   ],
   "source": [
    "x = np.array([1, 2, 3], dtype=np.uint8) #uint8 means x is unsigned\n",
    "x\n",
    "'''unsigned integers are one which are always positive. Let us say we want to count number of players'''"
   ]
  },
  {
   "cell_type": "code",
   "execution_count": 90,
   "id": "d80e9e99",
   "metadata": {},
   "outputs": [
    {
     "data": {
      "text/plain": [
       "10"
      ]
     },
     "execution_count": 90,
     "metadata": {},
     "output_type": "execute_result"
    }
   ],
   "source": [
    "#You can also start the product with a value other than one:\n",
    "np.prod([1,2],initial =5)"
   ]
  },
  {
   "cell_type": "code",
   "execution_count": 91,
   "id": "fd53fca7",
   "metadata": {
    "scrolled": true
   },
   "outputs": [
    {
     "data": {
      "text/plain": [
       "90"
      ]
     },
     "execution_count": 91,
     "metadata": {},
     "output_type": "execute_result"
    }
   ],
   "source": [
    "np.prod([3,6],initial =5)"
   ]
  },
  {
   "cell_type": "markdown",
   "id": "2c9edfcf",
   "metadata": {},
   "source": [
    "# 8. Indexing, Slicing and Iterating"
   ]
  },
  {
   "cell_type": "markdown",
   "id": "c6b206c6",
   "metadata": {},
   "source": [
    "## a. One-dimensional arrays can be indexed, sliced and iterated over, much like lists and other Python sequences."
   ]
  },
  {
   "cell_type": "code",
   "execution_count": 92,
   "id": "0f65a94a",
   "metadata": {},
   "outputs": [
    {
     "data": {
      "text/plain": [
       "array([  0,   1,   8,  27,  64, 125, 216, 343, 512, 729], dtype=int32)"
      ]
     },
     "execution_count": 92,
     "metadata": {},
     "output_type": "execute_result"
    }
   ],
   "source": [
    "a = np.arange(10)**3\n",
    "a"
   ]
  },
  {
   "cell_type": "code",
   "execution_count": 93,
   "id": "58c965f8",
   "metadata": {},
   "outputs": [
    {
     "data": {
      "text/plain": [
       "8"
      ]
     },
     "execution_count": 93,
     "metadata": {},
     "output_type": "execute_result"
    }
   ],
   "source": [
    "a[2]"
   ]
  },
  {
   "cell_type": "code",
   "execution_count": 94,
   "id": "c67f91af",
   "metadata": {},
   "outputs": [
    {
     "data": {
      "text/plain": [
       "array([ 8, 27, 64], dtype=int32)"
      ]
     },
     "execution_count": 94,
     "metadata": {},
     "output_type": "execute_result"
    }
   ],
   "source": [
    "a[2:5]"
   ]
  },
  {
   "cell_type": "code",
   "execution_count": 95,
   "id": "50057765",
   "metadata": {},
   "outputs": [
    {
     "data": {
      "text/plain": [
       "array([1000,    1, 1000,   27, 1000,  125,  216,  343,  512,  729],\n",
       "      dtype=int32)"
      ]
     },
     "execution_count": 95,
     "metadata": {},
     "output_type": "execute_result"
    }
   ],
   "source": [
    "#from start to position 6, exclusive, set every 2nd element to 1000\n",
    "a[:6:2] = 1000\n",
    "a"
   ]
  },
  {
   "cell_type": "code",
   "execution_count": 96,
   "id": "16109b17",
   "metadata": {},
   "outputs": [
    {
     "data": {
      "text/plain": [
       "array([ 729,  512,  343,  216,  125, 1000,   27, 1000,    1, 1000],\n",
       "      dtype=int32)"
      ]
     },
     "execution_count": 96,
     "metadata": {},
     "output_type": "execute_result"
    }
   ],
   "source": [
    "a[::-1]  # reversed a"
   ]
  },
  {
   "cell_type": "code",
   "execution_count": 97,
   "id": "41146345",
   "metadata": {},
   "outputs": [
    {
     "name": "stdout",
     "output_type": "stream",
     "text": [
      "9.999999999999998\n",
      "1.0\n",
      "9.999999999999998\n",
      "3.0\n",
      "9.999999999999998\n",
      "5.0\n",
      "5.999999999999999\n",
      "6.999999999999999\n",
      "7.999999999999999\n",
      "8.999999999999998\n"
     ]
    }
   ],
   "source": [
    "for i in a:\n",
    "    print(i**(1 / 3.))"
   ]
  },
  {
   "cell_type": "markdown",
   "id": "63e7c223",
   "metadata": {},
   "source": [
    "## b. Multidimensional arrays can have one index per axis. These indices are given in a tuple separated by commas:"
   ]
  },
  {
   "cell_type": "code",
   "execution_count": 98,
   "id": "65ff46d3",
   "metadata": {},
   "outputs": [],
   "source": [
    "def f(x, y):\n",
    "    return 10 * x + y"
   ]
  },
  {
   "cell_type": "code",
   "execution_count": 99,
   "id": "d8fa8d98",
   "metadata": {},
   "outputs": [
    {
     "data": {
      "text/plain": [
       "array([[ 0,  1,  2,  3],\n",
       "       [10, 11, 12, 13],\n",
       "       [20, 21, 22, 23],\n",
       "       [30, 31, 32, 33],\n",
       "       [40, 41, 42, 43]])"
      ]
     },
     "execution_count": 99,
     "metadata": {},
     "output_type": "execute_result"
    }
   ],
   "source": [
    "b = np.fromfunction(f, (5, 4), dtype=int)\n",
    "b"
   ]
  },
  {
   "cell_type": "code",
   "execution_count": 100,
   "id": "d5cab469",
   "metadata": {},
   "outputs": [
    {
     "data": {
      "text/plain": [
       "23"
      ]
     },
     "execution_count": 100,
     "metadata": {},
     "output_type": "execute_result"
    }
   ],
   "source": [
    "b[2, 3]"
   ]
  },
  {
   "cell_type": "code",
   "execution_count": 101,
   "id": "f1985775",
   "metadata": {},
   "outputs": [
    {
     "data": {
      "text/plain": [
       "array([ 1, 11, 21, 31, 41])"
      ]
     },
     "execution_count": 101,
     "metadata": {},
     "output_type": "execute_result"
    }
   ],
   "source": [
    "b[0:5, 1]  # each row in the second column of b"
   ]
  },
  {
   "cell_type": "code",
   "execution_count": 102,
   "id": "2cf0a02f",
   "metadata": {},
   "outputs": [
    {
     "data": {
      "text/plain": [
       "array([ 1, 11, 21, 31, 41])"
      ]
     },
     "execution_count": 102,
     "metadata": {},
     "output_type": "execute_result"
    }
   ],
   "source": [
    "b[:, 1]    # equivalent to the previous example"
   ]
  },
  {
   "cell_type": "code",
   "execution_count": 103,
   "id": "346babec",
   "metadata": {},
   "outputs": [
    {
     "data": {
      "text/plain": [
       "array([[10, 11, 12, 13],\n",
       "       [20, 21, 22, 23]])"
      ]
     },
     "execution_count": 103,
     "metadata": {},
     "output_type": "execute_result"
    }
   ],
   "source": [
    "b[1:3, :]  # each column in the second and third row of b"
   ]
  },
  {
   "cell_type": "code",
   "execution_count": 104,
   "id": "baf0071a",
   "metadata": {},
   "outputs": [
    {
     "data": {
      "text/plain": [
       "array([40, 41, 42, 43])"
      ]
     },
     "execution_count": 104,
     "metadata": {},
     "output_type": "execute_result"
    }
   ],
   "source": [
    "b[-1]   # the last row. Equivalent to b[-1, :]"
   ]
  },
  {
   "cell_type": "code",
   "execution_count": 105,
   "id": "c615b2cc",
   "metadata": {},
   "outputs": [
    {
     "name": "stdout",
     "output_type": "stream",
     "text": [
      "[[[  0   1   2]\n",
      "  [ 10  12  13]]\n",
      "\n",
      " [[100 101 102]\n",
      "  [110 112 113]]]\n"
     ]
    },
    {
     "data": {
      "text/plain": [
       "(2, 2, 3)"
      ]
     },
     "execution_count": 105,
     "metadata": {},
     "output_type": "execute_result"
    }
   ],
   "source": [
    "c = np.array([[[  0,  1,  2],  # a 3D array (two stacked 2D arrays)\n",
    "               [ 10, 12, 13]],\n",
    "              [[100, 101, 102],\n",
    "               [110, 112, 113]]])\n",
    "print(c)\n",
    "c.shape"
   ]
  },
  {
   "cell_type": "markdown",
   "id": "20d36421",
   "metadata": {},
   "source": [
    "<b> The dots (...) represent as many colons as needed to produce a complete indexing tuple. For example, if x is an array with 5 axes, then\n",
    "\n",
    "x[1, 2, ...] is equivalent to x[1, 2, :, :, :],\n",
    "\n",
    "x[..., 3] to x[:, :, :, :, 3] and\n",
    "\n",
    "x[4, ..., 5, :] to x[4, :, :, 5, :]."
   ]
  },
  {
   "cell_type": "code",
   "execution_count": 106,
   "id": "18960e96",
   "metadata": {
    "scrolled": true
   },
   "outputs": [
    {
     "data": {
      "text/plain": [
       "array([[100, 101, 102],\n",
       "       [110, 112, 113]])"
      ]
     },
     "execution_count": 106,
     "metadata": {},
     "output_type": "execute_result"
    }
   ],
   "source": [
    "c[1, ...] #same as c[1, :, :] or c[1]"
   ]
  },
  {
   "cell_type": "code",
   "execution_count": 107,
   "id": "c344bbf2",
   "metadata": {},
   "outputs": [
    {
     "data": {
      "text/plain": [
       "array([[  2,  13],\n",
       "       [102, 113]])"
      ]
     },
     "execution_count": 107,
     "metadata": {},
     "output_type": "execute_result"
    }
   ],
   "source": [
    "c[..., 2]  # same as c[:, :, 2]"
   ]
  },
  {
   "cell_type": "markdown",
   "id": "ee23daad",
   "metadata": {},
   "source": [
    "## c. Iterating over multidimensional arrays is done with respect to the first axis:"
   ]
  },
  {
   "cell_type": "code",
   "execution_count": 108,
   "id": "a1ab0dd0",
   "metadata": {},
   "outputs": [
    {
     "name": "stdout",
     "output_type": "stream",
     "text": [
      "[[ 0  1  2  3]\n",
      " [10 11 12 13]\n",
      " [20 21 22 23]\n",
      " [30 31 32 33]\n",
      " [40 41 42 43]]\n"
     ]
    }
   ],
   "source": [
    "print(b)"
   ]
  },
  {
   "cell_type": "code",
   "execution_count": 109,
   "id": "9586ea72",
   "metadata": {},
   "outputs": [
    {
     "name": "stdout",
     "output_type": "stream",
     "text": [
      "[0 1 2 3]\n",
      "[10 11 12 13]\n",
      "[20 21 22 23]\n",
      "[30 31 32 33]\n",
      "[40 41 42 43]\n"
     ]
    }
   ],
   "source": [
    "for row in b:\n",
    "    print(row)"
   ]
  },
  {
   "cell_type": "markdown",
   "id": "231af906",
   "metadata": {},
   "source": [
    "## d.flatten the array - flat attribute or np.ravel()"
   ]
  },
  {
   "cell_type": "code",
   "execution_count": 110,
   "id": "48e60062",
   "metadata": {
    "scrolled": true
   },
   "outputs": [
    {
     "name": "stdout",
     "output_type": "stream",
     "text": [
      "0\n",
      "1\n",
      "2\n",
      "3\n",
      "10\n",
      "11\n",
      "12\n",
      "13\n",
      "20\n",
      "21\n",
      "22\n",
      "23\n",
      "30\n",
      "31\n",
      "32\n",
      "33\n",
      "40\n",
      "41\n",
      "42\n",
      "43\n"
     ]
    }
   ],
   "source": [
    "for element in b.flat:\n",
    "    print(element)"
   ]
  },
  {
   "cell_type": "code",
   "execution_count": 111,
   "id": "4c71e4b1",
   "metadata": {},
   "outputs": [
    {
     "data": {
      "text/plain": [
       "array([ 0,  1,  2,  3, 10, 11, 12, 13, 20, 21, 22, 23, 30, 31, 32, 33, 40,\n",
       "       41, 42, 43])"
      ]
     },
     "execution_count": 111,
     "metadata": {},
     "output_type": "execute_result"
    }
   ],
   "source": [
    "np.ravel(b) #b.ravel()"
   ]
  },
  {
   "cell_type": "code",
   "execution_count": 112,
   "id": "2abf499d",
   "metadata": {},
   "outputs": [
    {
     "name": "stdout",
     "output_type": "stream",
     "text": [
      "0\n",
      "1\n",
      "2\n",
      "3\n",
      "10\n",
      "11\n",
      "12\n",
      "13\n",
      "20\n",
      "21\n",
      "22\n",
      "23\n",
      "30\n",
      "31\n",
      "32\n",
      "33\n",
      "40\n",
      "41\n",
      "42\n",
      "43\n"
     ]
    }
   ],
   "source": [
    "for element in b.ravel():\n",
    "    print(element)"
   ]
  },
  {
   "cell_type": "markdown",
   "id": "b58601a3",
   "metadata": {},
   "source": [
    "# 9. Shape Manipulation"
   ]
  },
  {
   "cell_type": "markdown",
   "id": "885322a2",
   "metadata": {},
   "source": [
    "## a.Changing the shape of an array"
   ]
  },
  {
   "cell_type": "code",
   "execution_count": 113,
   "id": "7ead028c",
   "metadata": {},
   "outputs": [
    {
     "ename": "NameError",
     "evalue": "name 'rg' is not defined",
     "output_type": "error",
     "traceback": [
      "\u001b[1;31m---------------------------------------------------------------------------\u001b[0m",
      "\u001b[1;31mNameError\u001b[0m                                 Traceback (most recent call last)",
      "\u001b[1;32m<ipython-input-113-980011d4385f>\u001b[0m in \u001b[0;36m<module>\u001b[1;34m\u001b[0m\n\u001b[1;32m----> 1\u001b[1;33m \u001b[0ma\u001b[0m \u001b[1;33m=\u001b[0m \u001b[0mnp\u001b[0m\u001b[1;33m.\u001b[0m\u001b[0mfloor\u001b[0m\u001b[1;33m(\u001b[0m\u001b[1;36m10\u001b[0m \u001b[1;33m*\u001b[0m \u001b[0mrg\u001b[0m\u001b[1;33m.\u001b[0m\u001b[0mrandom\u001b[0m\u001b[1;33m(\u001b[0m\u001b[1;33m(\u001b[0m\u001b[1;36m3\u001b[0m\u001b[1;33m,\u001b[0m \u001b[1;36m4\u001b[0m\u001b[1;33m)\u001b[0m\u001b[1;33m)\u001b[0m\u001b[1;33m)\u001b[0m\u001b[1;33m\u001b[0m\u001b[1;33m\u001b[0m\u001b[0m\n\u001b[0m\u001b[0;32m      2\u001b[0m \u001b[0ma\u001b[0m\u001b[1;33m\u001b[0m\u001b[1;33m\u001b[0m\u001b[0m\n",
      "\u001b[1;31mNameError\u001b[0m: name 'rg' is not defined"
     ]
    }
   ],
   "source": [
    "a = np.floor(10 * rg.random((3, 4)))\n",
    "a"
   ]
  },
  {
   "cell_type": "code",
   "execution_count": null,
   "id": "a9653fc7",
   "metadata": {},
   "outputs": [],
   "source": [
    "a.shape"
   ]
  },
  {
   "cell_type": "code",
   "execution_count": null,
   "id": "9d359d39",
   "metadata": {},
   "outputs": [],
   "source": [
    "a.ravel()  # returns the array, flattened"
   ]
  },
  {
   "cell_type": "code",
   "execution_count": null,
   "id": "b3465023",
   "metadata": {},
   "outputs": [],
   "source": [
    "a.reshape(6, 2)  # returns the array with a modified shape"
   ]
  },
  {
   "cell_type": "code",
   "execution_count": null,
   "id": "796cb8f4",
   "metadata": {},
   "outputs": [],
   "source": [
    "a.T  # returns the array, transposed"
   ]
  },
  {
   "cell_type": "code",
   "execution_count": null,
   "id": "3a472c33",
   "metadata": {},
   "outputs": [],
   "source": [
    "a.resize((2, 6))\n",
    "a"
   ]
  },
  {
   "cell_type": "code",
   "execution_count": null,
   "id": "8bc04772",
   "metadata": {},
   "outputs": [],
   "source": [
    "#If a dimension is given as -1 in a reshaping operation, the other dimensions are automatically calculated:\n",
    "a.reshape(3, -1)"
   ]
  },
  {
   "cell_type": "markdown",
   "id": "d2f8de63",
   "metadata": {},
   "source": [
    "## b. Stacking together different arrays"
   ]
  },
  {
   "cell_type": "code",
   "execution_count": null,
   "id": "836e4841",
   "metadata": {},
   "outputs": [],
   "source": [
    "a = np.floor(10 * rg.random((2, 2)))\n",
    "a"
   ]
  },
  {
   "cell_type": "code",
   "execution_count": null,
   "id": "4d4117ab",
   "metadata": {},
   "outputs": [],
   "source": [
    "b = np.floor(10 * rg.random((2, 2)))\n",
    "b"
   ]
  },
  {
   "cell_type": "code",
   "execution_count": null,
   "id": "61bcf215",
   "metadata": {},
   "outputs": [],
   "source": [
    "np.vstack((a,b))"
   ]
  },
  {
   "cell_type": "code",
   "execution_count": null,
   "id": "1f946849",
   "metadata": {},
   "outputs": [],
   "source": [
    "np.hstack((a,b))"
   ]
  },
  {
   "cell_type": "code",
   "execution_count": null,
   "id": "52f0cca2",
   "metadata": {},
   "outputs": [],
   "source": [
    "from numpy import newaxis\n",
    "np.column_stack((a, b))  # with 2D arrays"
   ]
  },
  {
   "cell_type": "code",
   "execution_count": null,
   "id": "c4c7d755",
   "metadata": {},
   "outputs": [],
   "source": [
    "a = np.array([4., 2.])\n",
    "b = np.array([3., 8.])\n",
    "print(a)\n",
    "print(b)"
   ]
  },
  {
   "cell_type": "code",
   "execution_count": null,
   "id": "dff6884c",
   "metadata": {},
   "outputs": [],
   "source": [
    "np.column_stack((a, b))  # returns a 2D array"
   ]
  },
  {
   "cell_type": "code",
   "execution_count": null,
   "id": "016bb529",
   "metadata": {},
   "outputs": [],
   "source": [
    "np.hstack((a, b))        # the result is different"
   ]
  },
  {
   "cell_type": "code",
   "execution_count": null,
   "id": "c91dc2e7",
   "metadata": {},
   "outputs": [],
   "source": [
    "a[:, newaxis]  # view `a` as a 2D column vector"
   ]
  },
  {
   "cell_type": "code",
   "execution_count": null,
   "id": "53dae4e5",
   "metadata": {},
   "outputs": [],
   "source": [
    "np.column_stack((a[:, newaxis], b[:, newaxis]))"
   ]
  },
  {
   "cell_type": "code",
   "execution_count": null,
   "id": "86adb991",
   "metadata": {},
   "outputs": [],
   "source": [
    "np.hstack((a[:, newaxis], b[:, newaxis]))  # the result is the same"
   ]
  },
  {
   "cell_type": "code",
   "execution_count": null,
   "id": "2a943da2",
   "metadata": {},
   "outputs": [],
   "source": [
    "np.column_stack is np.hstack"
   ]
  },
  {
   "cell_type": "code",
   "execution_count": null,
   "id": "5ffb14c1",
   "metadata": {},
   "outputs": [],
   "source": [
    "np.row_stack is np.vstack"
   ]
  },
  {
   "cell_type": "code",
   "execution_count": null,
   "id": "b199e761",
   "metadata": {},
   "outputs": [],
   "source": [
    "#When used with arrays as arguments, r_ and c_ are similar to vstack and hstack in their default behavior,\n",
    "np.r_[a,b]"
   ]
  },
  {
   "cell_type": "code",
   "execution_count": null,
   "id": "52131ad6",
   "metadata": {},
   "outputs": [],
   "source": [
    "np.c_[a,b]"
   ]
  },
  {
   "cell_type": "markdown",
   "id": "a8fd4a48",
   "metadata": {},
   "source": [
    "## c. Splitting one array into several smaller ones"
   ]
  },
  {
   "cell_type": "markdown",
   "id": "e8fc5b25",
   "metadata": {},
   "source": [
    "Using hsplit, you can split an array along its horizontal axis, either by specifying the number of equally shaped arrays to return, or by specifying the columns after which the division should occur:"
   ]
  },
  {
   "cell_type": "code",
   "execution_count": null,
   "id": "4f591bfc",
   "metadata": {},
   "outputs": [],
   "source": [
    "a = np.floor(10 * rg.random((2, 12)))\n",
    "a"
   ]
  },
  {
   "cell_type": "code",
   "execution_count": null,
   "id": "28d190c5",
   "metadata": {},
   "outputs": [],
   "source": [
    "np.hsplit(a, 3)"
   ]
  },
  {
   "cell_type": "code",
   "execution_count": null,
   "id": "bd72c282",
   "metadata": {},
   "outputs": [],
   "source": [
    "# Split `a` after the third and the fourth column\n",
    "np.hsplit(a, (3, 4))"
   ]
  },
  {
   "cell_type": "markdown",
   "id": "71d2d101",
   "metadata": {},
   "source": [
    "vsplit splits along the vertical axis, and array_split allows one to specify along which axis to split."
   ]
  },
  {
   "cell_type": "markdown",
   "id": "ef9c5ba8",
   "metadata": {},
   "source": [
    "## d. Copies and Views\n",
    "When operating and manipulating arrays, their data is sometimes copied into a new array and sometimes not. This is often a source of confusion for beginners. There are three cases:"
   ]
  },
  {
   "cell_type": "markdown",
   "id": "c4a97a2e",
   "metadata": {},
   "source": [
    "<b>i. No Copy at All<br></b>\n",
    "Simple assignments make no copy of objects or their data"
   ]
  },
  {
   "cell_type": "code",
   "execution_count": null,
   "id": "ebf52024",
   "metadata": {},
   "outputs": [],
   "source": [
    "a = np.array([[ 0,  1,  2,  3],\n",
    "              [ 4,  5,  6,  7],\n",
    "              [ 8,  9, 10, 11]])\n",
    "b = a            # no new object is created\n",
    "b is a           # a and b are two names for the same ndarray object"
   ]
  },
  {
   "cell_type": "code",
   "execution_count": null,
   "id": "72d34f01",
   "metadata": {},
   "outputs": [],
   "source": [
    "id(a)"
   ]
  },
  {
   "cell_type": "markdown",
   "id": "07f37d19",
   "metadata": {},
   "source": [
    "<b>ii.View or Shallow Copy<br></b>\n",
    "Different array objects can share the same data. The view method creates a new array object that looks at the same data."
   ]
  },
  {
   "cell_type": "code",
   "execution_count": null,
   "id": "2d9b0814",
   "metadata": {},
   "outputs": [],
   "source": [
    "c = a.view()\n",
    "c is a"
   ]
  },
  {
   "cell_type": "code",
   "execution_count": null,
   "id": "bc5a2591",
   "metadata": {},
   "outputs": [],
   "source": [
    "id(c)"
   ]
  },
  {
   "cell_type": "code",
   "execution_count": null,
   "id": "cd7e5977",
   "metadata": {},
   "outputs": [],
   "source": [
    "c.base is a # c is a view of the data owned by a"
   ]
  },
  {
   "cell_type": "code",
   "execution_count": null,
   "id": "977fb0e0",
   "metadata": {},
   "outputs": [],
   "source": [
    "c.flags.owndata  #does view owns data"
   ]
  },
  {
   "cell_type": "code",
   "execution_count": null,
   "id": "db4d81a7",
   "metadata": {},
   "outputs": [],
   "source": [
    "c = c.reshape((2, 6))\n",
    "print(c.shape)\n",
    "print(a.shape)"
   ]
  },
  {
   "cell_type": "code",
   "execution_count": null,
   "id": "a5a62657",
   "metadata": {},
   "outputs": [],
   "source": [
    "c[0, 4] = 1234         # a's data changes\n",
    "print(c,\"\\n\")\n",
    "print(a)"
   ]
  },
  {
   "cell_type": "code",
   "execution_count": null,
   "id": "41491819",
   "metadata": {},
   "outputs": [],
   "source": [
    "s = a[:, 1:3]\n",
    "s"
   ]
  },
  {
   "cell_type": "code",
   "execution_count": null,
   "id": "9240c4e0",
   "metadata": {
    "scrolled": true
   },
   "outputs": [],
   "source": [
    "s[:] = 10  # s[:] is a view of s. Note the difference between s = 10 and s[:] = 10\n",
    "print(s,\"\\n\")\n",
    "print(a)"
   ]
  },
  {
   "cell_type": "markdown",
   "id": "73dec5d2",
   "metadata": {},
   "source": [
    "<b>iii.Deep Copy<br></b>\n",
    "The copy method makes a complete copy of the array and its data."
   ]
  },
  {
   "cell_type": "code",
   "execution_count": null,
   "id": "82e6a0fc",
   "metadata": {},
   "outputs": [],
   "source": [
    "d = a.copy()\n",
    "d is a"
   ]
  },
  {
   "cell_type": "code",
   "execution_count": null,
   "id": "2dda12dd",
   "metadata": {
    "scrolled": true
   },
   "outputs": [],
   "source": [
    "d.base is a ## c is not a view of the data owned by a, but its a copy"
   ]
  },
  {
   "cell_type": "code",
   "execution_count": null,
   "id": "70c6dd9a",
   "metadata": {},
   "outputs": [],
   "source": [
    "id(d)"
   ]
  },
  {
   "cell_type": "code",
   "execution_count": null,
   "id": "68c7031c",
   "metadata": {},
   "outputs": [],
   "source": [
    "d[0, 0] = 9999\n",
    "print(d,\"\\n\")\n",
    "print(a)"
   ]
  },
  {
   "cell_type": "code",
   "execution_count": null,
   "id": "6e32d8f5",
   "metadata": {},
   "outputs": [],
   "source": [
    "a = np.arange(int(1e8))\n",
    "b = a[:100].copy()\n",
    "del a  # the memory of ``a`` can be released."
   ]
  },
  {
   "cell_type": "code",
   "execution_count": null,
   "id": "1d80bd78",
   "metadata": {
    "scrolled": true
   },
   "outputs": [],
   "source": [
    "a #a memory is released"
   ]
  },
  {
   "cell_type": "markdown",
   "id": "8e02e2ef",
   "metadata": {},
   "source": [
    "# 10. Broadcasting"
   ]
  },
  {
   "cell_type": "markdown",
   "id": "cc15ff66",
   "metadata": {},
   "source": [
    "- The term broadcasting describes how NumPy treats arrays with different shapes during arithmetic operations.\n",
    "- The smaller array is “broadcast” across the larger array so that they have compatible shapes."
   ]
  },
  {
   "cell_type": "code",
   "execution_count": null,
   "id": "026ac88b",
   "metadata": {},
   "outputs": [],
   "source": [
    "a = np.array([1.0, 2.0, 3.0])\n",
    "b = np.array([2.0, 2.0, 2.0])\n",
    "a * b"
   ]
  },
  {
   "cell_type": "code",
   "execution_count": null,
   "id": "7dc41c1f",
   "metadata": {},
   "outputs": [],
   "source": [
    "#Broadcast on scalar value\n",
    "a = np.array([1.0, 2.0, 3.0])\n",
    "b = 2.0\n",
    "a * b"
   ]
  },
  {
   "attachments": {
    "image.png": {
     "image/png": "[encoded data removed]"
    }
   },
   "cell_type": "markdown",
   "id": "178d880d",
   "metadata": {},
   "source": [
    "![image.png](attachment:image.png)"
   ]
  },
  {
   "cell_type": "markdown",
   "id": "7b709e8c",
   "metadata": {},
   "source": [
    "## General Broadcasting Rules"
   ]
  },
  {
   "cell_type": "markdown",
   "id": "3cfd401c",
   "metadata": {},
   "source": [
    "When operating on two arrays, NumPy compares their shapes element-wise. It starts with the trailing (i.e. rightmost) dimensions and works its way left. Two dimensions are compatible when\n",
    "\n",
    "- they are equal, or\n",
    "\n",
    "- one of them is 1\n",
    "\n",
    "If these conditions are not met, a ValueError: operands could not be broadcast together exception is thrown, indicating that the arrays have incompatible shapes. The size of the resulting array is the size that is not 1 along each axis of the inputs."
   ]
  },
  {
   "cell_type": "markdown",
   "id": "fd7bdc30",
   "metadata": {},
   "source": [
    "<b>Example: -</b><br>\n",
    "Image  (3d array): 256 x 256 x 3<br>\n",
    "Scale  (1d array):             3<br>\n",
    "Result (3d array): 256 x 256 x 3"
   ]
  },
  {
   "cell_type": "code",
   "execution_count": null,
   "id": "09814b9a",
   "metadata": {},
   "outputs": [],
   "source": [
    "a = np.array([[ 0.0,  0.0,  0.0],\n",
    "              [10.0, 10.0, 10.0],\n",
    "              [20.0, 20.0, 20.0],\n",
    "              [30.0, 30.0, 30.0]])\n",
    "b = np.array([1.0, 2.0, 3.0])\n",
    "print(a,\"\\n\")\n",
    "print(b,\"\\n\")\n",
    "a + b"
   ]
  },
  {
   "cell_type": "code",
   "execution_count": null,
   "id": "c5c870b5",
   "metadata": {},
   "outputs": [],
   "source": [
    "b = np.array([1.0, 2.0, 3.0, 4.0]) #ValueError: operands could not be broadcast together with shapes (4,3) (4,)\n",
    "a + b"
   ]
  },
  {
   "attachments": {
    "image.png": {
     "image/png": "[encoded data removed]"
    }
   },
   "cell_type": "markdown",
   "id": "7740fd19",
   "metadata": {},
   "source": [
    "![image.png](attachment:image.png)"
   ]
  },
  {
   "attachments": {
    "image.png": {
     "image/png": "[encoded data removed]"
    }
   },
   "cell_type": "markdown",
   "id": "c13c5fa2",
   "metadata": {},
   "source": [
    "![image.png](attachment:image.png)"
   ]
  },
  {
   "cell_type": "code",
   "execution_count": null,
   "id": "d05f83f8",
   "metadata": {},
   "outputs": [],
   "source": [
    "a = np.array([0.0, 10.0, 20.0, 30.0])\n",
    "b = np.array([1.0, 2.0, 3.0])\n",
    "print(\"a : \\n\",a,\"\\n\")\n",
    "print(\"b : \\n\",b,\"\\n\")\n",
    "print(\"a[:,np.newaxis] \\n\",a[:,np.newaxis],\"\\n\")\n",
    "\n",
    "a[:, np.newaxis] + b"
   ]
  },
  {
   "attachments": {
    "image.png": {
     "image/png": "[encoded data removed]"
    }
   },
   "cell_type": "markdown",
   "id": "a91a4c1d",
   "metadata": {},
   "source": [
    "![image.png](attachment:image.png)"
   ]
  },
  {
   "cell_type": "markdown",
   "id": "d143275d",
   "metadata": {},
   "source": [
    "# 11. Advanced indexing and index tricks"
   ]
  },
  {
   "attachments": {
    "image.png": {
     "image/png": "[encoded data removed]"
    }
   },
   "cell_type": "markdown",
   "id": "38cc468a",
   "metadata": {},
   "source": [
    "![image.png](attachment:image.png)"
   ]
  },
  {
   "cell_type": "markdown",
   "id": "8e45cb36",
   "metadata": {},
   "source": [
    "## a. Indexing with Arrays of Indices"
   ]
  },
  {
   "cell_type": "code",
   "execution_count": null,
   "id": "09e371ba",
   "metadata": {},
   "outputs": [],
   "source": [
    "a = np.arange(12)**2  # the first 12 square numbers\n",
    "print(a)"
   ]
  },
  {
   "cell_type": "code",
   "execution_count": null,
   "id": "c11e68d6",
   "metadata": {},
   "outputs": [],
   "source": [
    "a[[0,2,5,6,5]] #Extracting individual elements by index"
   ]
  },
  {
   "cell_type": "code",
   "execution_count": null,
   "id": "e224d21b",
   "metadata": {},
   "outputs": [],
   "source": [
    "i = np.array([0, 2, 5, 6, 5])  # an array of indices\n",
    "a[i]  # the elements of `a` at the positions `i`"
   ]
  },
  {
   "cell_type": "code",
   "execution_count": null,
   "id": "51bc15ca",
   "metadata": {},
   "outputs": [],
   "source": [
    "j = np.array([[3, 4], [9, 7]])  # a bidimensional array of indices\n",
    "a[j]  # the same shape as `j`"
   ]
  },
  {
   "cell_type": "code",
   "execution_count": null,
   "id": "626ffb2b",
   "metadata": {},
   "outputs": [],
   "source": [
    "palette = np.array([[0, 0, 0],         # black\n",
    "                    [255, 0, 0],       # red\n",
    "                    [0, 255, 0],       # green\n",
    "                    [0, 0, 255],       # blue\n",
    "                    [255, 255, 255]])  # white\n",
    "image = np.array([[0, 1, 2, 0],  # each value corresponds to a color in the palette\n",
    "                  [0, 3, 4, 0]])\n",
    "palette[image]  # the (2, 4, 3) color image"
   ]
  },
  {
   "cell_type": "code",
   "execution_count": null,
   "id": "dc020f80",
   "metadata": {},
   "outputs": [],
   "source": [
    "a = np.arange(12).reshape(3, 4)\n",
    "a"
   ]
  },
  {
   "cell_type": "code",
   "execution_count": null,
   "id": "c14f02a8",
   "metadata": {},
   "outputs": [],
   "source": [
    "i = np.array([[0, 1],  # indices for the first dim of `a`\n",
    "              [1, 2]])\n",
    "j = np.array([[2, 1],  # indices for the second dim\n",
    "              [3, 3]])"
   ]
  },
  {
   "cell_type": "code",
   "execution_count": null,
   "id": "76b17afd",
   "metadata": {},
   "outputs": [],
   "source": [
    "a[i, j]  # i and j must have equal shape"
   ]
  },
  {
   "cell_type": "code",
   "execution_count": null,
   "id": "b0309733",
   "metadata": {},
   "outputs": [],
   "source": [
    "a[i, 2]"
   ]
  },
  {
   "cell_type": "code",
   "execution_count": null,
   "id": "ad0681ac",
   "metadata": {},
   "outputs": [],
   "source": [
    "a[:, j]"
   ]
  },
  {
   "cell_type": "markdown",
   "id": "fb550962",
   "metadata": {},
   "source": [
    "In Python, arr[i, j] is exactly the same as arr[(i, j)] - so we can put i and j in a tuple and then do the indexing with that."
   ]
  },
  {
   "cell_type": "code",
   "execution_count": null,
   "id": "1bf5fb1e",
   "metadata": {},
   "outputs": [],
   "source": [
    "l = (i, j)\n",
    "# equivalent to a[i, j]\n",
    "a[l]"
   ]
  },
  {
   "cell_type": "code",
   "execution_count": null,
   "id": "956e595a",
   "metadata": {},
   "outputs": [],
   "source": [
    "#Assigning values to the particular index\n",
    "a = np.arange(5)\n",
    "print(a)\n",
    "a[[0, 0, 2]] = [1, 2, 3]\n",
    "a"
   ]
  },
  {
   "cell_type": "code",
   "execution_count": null,
   "id": "02ce9ef2",
   "metadata": {},
   "outputs": [],
   "source": [
    "a = np.arange(5)\n",
    "a[[0, 0, 2]] += 1\n",
    "a"
   ]
  },
  {
   "cell_type": "markdown",
   "id": "f73d92c5",
   "metadata": {},
   "source": [
    "## b. Indexing with Boolean Arrays"
   ]
  },
  {
   "cell_type": "code",
   "execution_count": null,
   "id": "5ae65363",
   "metadata": {},
   "outputs": [],
   "source": [
    "a = np.arange(12).reshape(3, 4)\n",
    "b = a > 4\n",
    "print(a)\n",
    "b  # `b` is a boolean with `a`'s shape"
   ]
  },
  {
   "cell_type": "code",
   "execution_count": null,
   "id": "560285ba",
   "metadata": {},
   "outputs": [],
   "source": [
    "#Retrieving only True elements\n",
    "a[b]  # 1d array with the selected elements"
   ]
  },
  {
   "cell_type": "code",
   "execution_count": null,
   "id": "2d3cc3fd",
   "metadata": {},
   "outputs": [],
   "source": [
    "a[b] = 0  # All elements of `a` higher than 4 become 0\n",
    "a"
   ]
  },
  {
   "cell_type": "markdown",
   "id": "0e69c008",
   "metadata": {},
   "source": [
    "## c. The ix_() function\n",
    "The ix_ function can be used to combine different vectors so as to obtain the result for each n-uplet. For example, if you want to compute all the a+b*c for all the triplets taken from each of the vectors a, b and c:"
   ]
  },
  {
   "cell_type": "code",
   "execution_count": null,
   "id": "362e80eb",
   "metadata": {},
   "outputs": [],
   "source": [
    "a = np.array([2, 3, 4, 5])\n",
    "b = np.array([8, 5, 4])\n",
    "c = np.array([5, 4, 6, 8, 3])\n",
    "print(a,b,c)"
   ]
  },
  {
   "cell_type": "code",
   "execution_count": null,
   "id": "f5299465",
   "metadata": {},
   "outputs": [],
   "source": [
    "ax, bx, cx = np.ix_(a, b, c)"
   ]
  },
  {
   "cell_type": "code",
   "execution_count": null,
   "id": "bfc63f2c",
   "metadata": {},
   "outputs": [],
   "source": [
    "ax"
   ]
  },
  {
   "cell_type": "code",
   "execution_count": null,
   "id": "36a6e427",
   "metadata": {},
   "outputs": [],
   "source": [
    "bx"
   ]
  },
  {
   "cell_type": "code",
   "execution_count": null,
   "id": "da7deadb",
   "metadata": {},
   "outputs": [],
   "source": [
    "cx"
   ]
  },
  {
   "cell_type": "code",
   "execution_count": null,
   "id": "66990070",
   "metadata": {},
   "outputs": [],
   "source": [
    "ax.shape, bx.shape, cx.shape"
   ]
  },
  {
   "cell_type": "code",
   "execution_count": null,
   "id": "cf5a79a8",
   "metadata": {},
   "outputs": [],
   "source": [
    "result = ax + bx * cx\n",
    "result"
   ]
  },
  {
   "cell_type": "code",
   "execution_count": null,
   "id": "7ebef549",
   "metadata": {},
   "outputs": [],
   "source": [
    "result[3, 2, 4]"
   ]
  },
  {
   "cell_type": "code",
   "execution_count": null,
   "id": "7ae708c6",
   "metadata": {},
   "outputs": [],
   "source": [
    "##Achieving same using functions\n",
    "def ufunc_reduce(ufct, *vectors):\n",
    "   vs = np.ix_(*vectors)\n",
    "   r = ufct.identity\n",
    "   for v in vs:\n",
    "       r = ufct(r, v)\n",
    "   return r"
   ]
  },
  {
   "cell_type": "code",
   "execution_count": null,
   "id": "3c2b7aa6",
   "metadata": {},
   "outputs": [],
   "source": [
    "ufunc_reduce(np.add, a, b, c)"
   ]
  },
  {
   "cell_type": "markdown",
   "id": "3a8b1c10",
   "metadata": {},
   "source": [
    "# 12. Save and Load Array"
   ]
  },
  {
   "cell_type": "code",
   "execution_count": null,
   "id": "eee3e17f",
   "metadata": {},
   "outputs": [],
   "source": [
    "a = np.array([1, 2, 3, 4, 5, 6])\n",
    "np.save('filename', a)"
   ]
  },
  {
   "cell_type": "code",
   "execution_count": null,
   "id": "71092c3e",
   "metadata": {},
   "outputs": [],
   "source": [
    "b = np.load('filename.npy')\n",
    "print(b)"
   ]
  },
  {
   "cell_type": "code",
   "execution_count": null,
   "id": "16d2ec39",
   "metadata": {},
   "outputs": [],
   "source": [
    "csv_arr = np.array([1, 2, 3, 4, 5, 6, 7, 8])\n",
    "np.savetxt('new_file.csv', csv_arr)"
   ]
  },
  {
   "cell_type": "code",
   "execution_count": null,
   "id": "7783d199",
   "metadata": {},
   "outputs": [],
   "source": [
    "np.loadtxt('new_file.csv')"
   ]
  },
  {
   "cell_type": "code",
   "execution_count": null,
   "id": "4617e64d",
   "metadata": {},
   "outputs": [],
   "source": [
    "#Creating pandas dataframe from numpy array\n",
    "a = np.array([[-2.58289208,  0.43014843, -1.24082018, 1.59572603],\n",
    "              [ 0.99027828, 1.17150989,  0.94125714, -0.14692469],\n",
    "              [ 0.76989341,  0.81299683, -0.95068423, 0.11769564],\n",
    "              [ 0.20484034,  0.34784527,  1.96979195, 0.51992837]])"
   ]
  },
  {
   "cell_type": "code",
   "execution_count": null,
   "id": "0c990ff7",
   "metadata": {},
   "outputs": [],
   "source": [
    "import pandas as pd\n",
    "df = pd.DataFrame(a)\n",
    "print(df)"
   ]
  },
  {
   "cell_type": "code",
   "execution_count": null,
   "id": "00547099",
   "metadata": {},
   "outputs": [],
   "source": [
    "df.to_csv('pd.csv')\n",
    "data = pd.read_csv('pd.csv')\n",
    "data"
   ]
  },
  {
   "cell_type": "code",
   "execution_count": null,
   "id": "160eade8",
   "metadata": {},
   "outputs": [],
   "source": [
    "#directly save numpy using numpy savetxt\n",
    "np.savetxt('np.csv', a, fmt='%.2f', delimiter=',', header='1,  2,  3,  4')"
   ]
  },
  {
   "cell_type": "code",
   "execution_count": null,
   "id": "d4952d2e",
   "metadata": {},
   "outputs": [],
   "source": []
  }
 ],
 "metadata": {
  "kernelspec": {
   "display_name": "Python 3",
   "language": "python",
   "name": "python3"
  },
  "language_info": {
   "codemirror_mode": {
    "name": "ipython",
    "version": 3
   },
   "file_extension": ".py",
   "mimetype": "text/x-python",
   "name": "python",
   "nbconvert_exporter": "python",
   "pygments_lexer": "ipython3",
   "version": "3.8.8"
  }
 },
 "nbformat": 4,
 "nbformat_minor": 5
}
