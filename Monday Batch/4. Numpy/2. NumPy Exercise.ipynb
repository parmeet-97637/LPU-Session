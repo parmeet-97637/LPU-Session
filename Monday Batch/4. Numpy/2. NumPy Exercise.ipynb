{
 "cells": [
  {
   "cell_type": "markdown",
   "id": "95a6060f",
   "metadata": {},
   "source": [
    "# 1. Import numpy library and see the version"
   ]
  },
  {
   "cell_type": "code",
   "execution_count": null,
   "id": "b76add50",
   "metadata": {},
   "outputs": [],
   "source": []
  },
  {
   "cell_type": "markdown",
   "id": "06ffb694",
   "metadata": {},
   "source": [
    "# 2. How to create a 1D array ranging from 1 to 100?"
   ]
  },
  {
   "cell_type": "code",
   "execution_count": null,
   "id": "30746acf",
   "metadata": {},
   "outputs": [],
   "source": []
  },
  {
   "cell_type": "markdown",
   "id": "b806405d",
   "metadata": {},
   "source": [
    "# 3. How to create a 2-D array?"
   ]
  },
  {
   "cell_type": "code",
   "execution_count": null,
   "id": "6fe6ee25",
   "metadata": {},
   "outputs": [],
   "source": []
  },
  {
   "cell_type": "markdown",
   "id": "0ada9fc8",
   "metadata": {},
   "source": [
    "# 4. How to create a 3-D array?"
   ]
  },
  {
   "cell_type": "code",
   "execution_count": null,
   "id": "111816a7",
   "metadata": {},
   "outputs": [],
   "source": []
  },
  {
   "cell_type": "markdown",
   "id": "72cccef5",
   "metadata": {},
   "source": [
    "# 5. How to create a boolean array?"
   ]
  },
  {
   "cell_type": "code",
   "execution_count": null,
   "id": "4e302bb2",
   "metadata": {},
   "outputs": [],
   "source": []
  },
  {
   "cell_type": "markdown",
   "id": "f469afbd",
   "metadata": {},
   "source": [
    "# 6. How to create a 5 by 5 array of all ones?"
   ]
  },
  {
   "cell_type": "code",
   "execution_count": null,
   "id": "a4d0f1ed",
   "metadata": {},
   "outputs": [],
   "source": []
  },
  {
   "cell_type": "markdown",
   "id": "bab7c1d8",
   "metadata": {},
   "source": [
    "# 7. How to extract items that satisfy a given condition from 1D array?"
   ]
  },
  {
   "cell_type": "markdown",
   "id": "b7f75f4f",
   "metadata": {},
   "source": [
    "$arr = np.array([0, 1, 2, 3, 4, 5, 6, 7, 8, 9])$\n",
    "\n",
    "**Desired output:** $array([1, 3, 5, 7, 9])$"
   ]
  },
  {
   "cell_type": "code",
   "execution_count": null,
   "id": "22c6194d",
   "metadata": {},
   "outputs": [],
   "source": []
  },
  {
   "cell_type": "markdown",
   "id": "a32f62b0",
   "metadata": {},
   "source": [
    "# 8. How to replace items that satisfy a condition with another value in numpy array?"
   ]
  },
  {
   "cell_type": "markdown",
   "id": "01a86e33",
   "metadata": {},
   "source": [
    "**Replace all odd numbers in arr with -1**\n",
    "\n",
    "**Input:**\n",
    "\n",
    "$array([0, 1, 2, 3, 4, 5, 6, 7, 8, 9])$\n",
    "\n",
    "**Desired Output:**\n",
    "\n",
    "$array([ 0, -1,  2, -1,  4, -1,  6, -1,  8, -1])$"
   ]
  },
  {
   "cell_type": "code",
   "execution_count": null,
   "id": "0cc24030",
   "metadata": {},
   "outputs": [],
   "source": []
  },
  {
   "cell_type": "markdown",
   "id": "48a388ea",
   "metadata": {},
   "source": [
    "# 9.How to reshape an array?"
   ]
  },
  {
   "cell_type": "markdown",
   "id": "b22c5078",
   "metadata": {},
   "source": [
    "**Convert a 1D array to a 2D array with 2 rows**\n",
    "\n",
    "**Input:**\n",
    "$array([ 0, 1, 2, 3, 4, 5, 6, 7, 8, 9])$\n",
    "\n",
    "**Desired Output:**\n",
    "\n",
    "$ array([[0, 1, 2, 3, 4],\n",
    "        [5, 6, 7, 8, 9]])$"
   ]
  },
  {
   "cell_type": "code",
   "execution_count": null,
   "id": "3b05ad86",
   "metadata": {},
   "outputs": [],
   "source": []
  },
  {
   "cell_type": "markdown",
   "id": "a25b5c99",
   "metadata": {},
   "source": [
    "# 10. How to stack two arrays vertically? \n",
    "### Do it in 3 different ways"
   ]
  },
  {
   "cell_type": "code",
   "execution_count": null,
   "id": "99716120",
   "metadata": {},
   "outputs": [],
   "source": []
  },
  {
   "cell_type": "markdown",
   "id": "e6d4dae1",
   "metadata": {},
   "source": [
    "# 11. How to stack two arrays horizontally?\n",
    "### Do it in 3 different ways"
   ]
  },
  {
   "cell_type": "code",
   "execution_count": null,
   "id": "5035ee46",
   "metadata": {},
   "outputs": [],
   "source": []
  },
  {
   "cell_type": "markdown",
   "id": "dbbf60f1",
   "metadata": {},
   "source": [
    "# 12. How to generate custom sequences in numpy without hardcoding?"
   ]
  },
  {
   "cell_type": "markdown",
   "id": "3b46db9e",
   "metadata": {},
   "source": [
    "**Input:**\n",
    "\n",
    "$array([1,2,3])$\n",
    "\n",
    "**Desired Output:**\n",
    "\n",
    "$array([1, 1, 1, 2, 2, 2, 3, 3, 3, 1, 2, 3, 1, 2, 3, 1, 2, 3])$"
   ]
  },
  {
   "cell_type": "code",
   "execution_count": null,
   "id": "36fcbae9",
   "metadata": {},
   "outputs": [],
   "source": []
  },
  {
   "cell_type": "code",
   "execution_count": null,
   "id": "275ed3ec",
   "metadata": {},
   "outputs": [],
   "source": []
  },
  {
   "cell_type": "markdown",
   "id": "8075e835",
   "metadata": {},
   "source": [
    "# 13. How to get the common items between two python numpy arrays?"
   ]
  },
  {
   "cell_type": "markdown",
   "id": "f6cbb8cd",
   "metadata": {},
   "source": [
    "**Get the common items between a and b**\n",
    "\n",
    "**Input:**\n",
    "\n",
    "$array([1,2,3,2,3,4,3,4,5,6])$<br>\n",
    "$array([7,2,10,2,7,4,9,4,9,8])$\n",
    "\n",
    "**Desired Output:**\n",
    "\n",
    "$array([2, 4])$"
   ]
  },
  {
   "cell_type": "code",
   "execution_count": null,
   "id": "39313bf5",
   "metadata": {},
   "outputs": [],
   "source": []
  },
  {
   "cell_type": "markdown",
   "id": "d027f716",
   "metadata": {},
   "source": [
    "# 14. How to remove from one array those items that exist in another?"
   ]
  },
  {
   "cell_type": "markdown",
   "id": "393d2433",
   "metadata": {},
   "source": [
    "**From array a remove all items present in array b**\n",
    "\n",
    "**Input:**\n",
    "\n",
    "$array([1,2,3,4,5])$<br>\n",
    "$array([5,6,7,8,9])$\n",
    "\n",
    "**Desired Output:**\n",
    "\n",
    "$array([1,2,3,4])$"
   ]
  },
  {
   "cell_type": "code",
   "execution_count": null,
   "id": "3cd74ba7",
   "metadata": {},
   "outputs": [],
   "source": []
  },
  {
   "cell_type": "markdown",
   "id": "ad825aba",
   "metadata": {},
   "source": [
    "# 15. How to get the positions where elements of two arrays match?"
   ]
  },
  {
   "cell_type": "markdown",
   "id": "47ac9cf8",
   "metadata": {},
   "source": [
    "**Input:**\n",
    "\n",
    "$array([1,2,3,2,3,4,3,4,5,6])$<br>\n",
    "$array([7,2,10,2,7,4,9,4,9,8])$\n",
    "\n",
    "**Desired Output:**\n",
    "\n",
    "$(array([1, 3, 5, 7]),)$"
   ]
  },
  {
   "cell_type": "code",
   "execution_count": null,
   "id": "1ed88410",
   "metadata": {},
   "outputs": [],
   "source": []
  },
  {
   "cell_type": "markdown",
   "id": "04b28f69",
   "metadata": {},
   "source": [
    "# 16. How to extract all numbers between a given range from a numpy array?"
   ]
  },
  {
   "cell_type": "markdown",
   "id": "8df87945",
   "metadata": {},
   "source": [
    "**Get all items between 5 and 10 from given array**\n",
    "\n",
    "**Input:**\n",
    "\n",
    "$array([2, 6, 1, 9, 10, 3, 27])$\n",
    "\n",
    "**Desired Output:**\n",
    "\n",
    "$(array([6, 9, 10]),)$"
   ]
  },
  {
   "cell_type": "code",
   "execution_count": null,
   "id": "840c91ec",
   "metadata": {},
   "outputs": [],
   "source": []
  },
  {
   "cell_type": "markdown",
   "id": "96462c56",
   "metadata": {},
   "source": [
    "# 17. How to make a python function that handles scalars to work on numpy arrays?"
   ]
  },
  {
   "cell_type": "markdown",
   "id": "4c07868a",
   "metadata": {},
   "source": [
    "**Input:**<br>\n",
    "$Array1 : array([5, 7, 9, 8, 6, 4, 5])$<br>\n",
    "$Array2 :array([6, 3, 4, 8, 9, 7, 1])$\n",
    "\n",
    "**Desired Output: Comparing two arrays and returning maximum of each element**<br>\n",
    "$([ 6.,  7.,  9.,  8.,  9.,  7.,  5.])$"
   ]
  },
  {
   "cell_type": "code",
   "execution_count": null,
   "id": "0403f724",
   "metadata": {},
   "outputs": [],
   "source": []
  },
  {
   "cell_type": "markdown",
   "id": "7f429e5a",
   "metadata": {},
   "source": [
    "# 18. How to swap two columns in a 2d numpy array?"
   ]
  },
  {
   "cell_type": "code",
   "execution_count": null,
   "id": "fb47bd97",
   "metadata": {},
   "outputs": [],
   "source": []
  },
  {
   "cell_type": "markdown",
   "id": "2a744811",
   "metadata": {},
   "source": [
    "# 19. How to swap two rows in a 2d numpy array?\n"
   ]
  },
  {
   "cell_type": "code",
   "execution_count": null,
   "id": "3e5e9f1d",
   "metadata": {},
   "outputs": [],
   "source": []
  },
  {
   "cell_type": "markdown",
   "id": "815e0e78",
   "metadata": {},
   "source": [
    "# 20. How to reverse the rows of a 2D array?"
   ]
  },
  {
   "cell_type": "code",
   "execution_count": null,
   "id": "14e27820",
   "metadata": {},
   "outputs": [],
   "source": []
  },
  {
   "cell_type": "markdown",
   "id": "82e571bf",
   "metadata": {},
   "source": [
    "# 21. How to reverse the columns of a 2D array?"
   ]
  },
  {
   "cell_type": "code",
   "execution_count": null,
   "id": "de4f6fb1",
   "metadata": {},
   "outputs": [],
   "source": []
  },
  {
   "cell_type": "markdown",
   "id": "0ba4e242",
   "metadata": {},
   "source": [
    "# 22.  How to create a 2D array containing random floats between 5 and 10?"
   ]
  },
  {
   "cell_type": "code",
   "execution_count": null,
   "id": "94d4f703",
   "metadata": {},
   "outputs": [],
   "source": []
  },
  {
   "cell_type": "markdown",
   "id": "f6bf9784",
   "metadata": {},
   "source": [
    "# 23. How to print only 3 decimal places in python numpy array?"
   ]
  },
  {
   "cell_type": "code",
   "execution_count": null,
   "id": "cbb7a077",
   "metadata": {},
   "outputs": [],
   "source": []
  },
  {
   "cell_type": "markdown",
   "id": "b8be2972",
   "metadata": {},
   "source": [
    "# 24. How to pretty print a numpy array by suppressing the scientific notation (like 1e10)?"
   ]
  },
  {
   "cell_type": "code",
   "execution_count": null,
   "id": "16285820",
   "metadata": {},
   "outputs": [],
   "source": []
  },
  {
   "cell_type": "markdown",
   "id": "3976df3b",
   "metadata": {},
   "source": [
    "# 25. How to limit the number of items printed in output of numpy array?"
   ]
  },
  {
   "cell_type": "markdown",
   "id": "f2c7cd7f",
   "metadata": {},
   "source": [
    "**Input:**<br>\n",
    "\n",
    "$array([ 0,  1,  2,  3,  4,  5,  6,  7,  8,  9, 10, 11, 12, 13, 14])$\n",
    "\n",
    "**Desired Output:**<br>\n",
    "\n",
    "$array([ 0,  1,  2, ..., 12, 13, 14])$"
   ]
  },
  {
   "cell_type": "code",
   "execution_count": null,
   "id": "f7aa6882",
   "metadata": {
    "scrolled": true
   },
   "outputs": [],
   "source": []
  },
  {
   "cell_type": "markdown",
   "id": "3e93f141",
   "metadata": {},
   "source": [
    "# 26. How to print the full numpy array without truncating"
   ]
  },
  {
   "cell_type": "markdown",
   "id": "d36fabf3",
   "metadata": {},
   "source": [
    "**Input:**<br>\n",
    "\n",
    "$array([ 0,  1,  2, ..., 12, 13, 14])$\n",
    "\n",
    "**Desired Output:**<br>\n",
    "\n",
    "$array([ 0,  1,  2,  3,  4,  5,  6,  7,  8,  9, 10, 11, 12, 13, 14])$"
   ]
  },
  {
   "cell_type": "code",
   "execution_count": null,
   "id": "51f088eb",
   "metadata": {},
   "outputs": [],
   "source": []
  },
  {
   "cell_type": "markdown",
   "id": "f8380ae4",
   "metadata": {},
   "source": [
    "# 27. How to import a dataset with numbers and texts keeping the text intact in python numpy?"
   ]
  },
  {
   "cell_type": "code",
   "execution_count": null,
   "id": "2d28c646",
   "metadata": {},
   "outputs": [],
   "source": []
  },
  {
   "cell_type": "markdown",
   "id": "222de168",
   "metadata": {},
   "source": [
    "# 28.  How to convert a 1d array of tuples to a 2d numpy array?"
   ]
  },
  {
   "cell_type": "code",
   "execution_count": null,
   "id": "07998e60",
   "metadata": {},
   "outputs": [],
   "source": []
  },
  {
   "cell_type": "markdown",
   "id": "500dceb7",
   "metadata": {},
   "source": [
    "# 29. How to compute the mean, median, standard deviation of a numpy array?"
   ]
  },
  {
   "cell_type": "code",
   "execution_count": null,
   "id": "cfe49e85",
   "metadata": {},
   "outputs": [],
   "source": []
  },
  {
   "cell_type": "markdown",
   "id": "7f99af75",
   "metadata": {},
   "source": [
    "# 30. How to normalize an array so the values range exactly between 0 and 1?"
   ]
  },
  {
   "cell_type": "markdown",
   "id": "20c3fc66",
   "metadata": {},
   "source": [
    "$Normalize = \\frac{(X-X_{min})}{(X_{max}-X_{min})}$"
   ]
  },
  {
   "cell_type": "code",
   "execution_count": null,
   "id": "895731a2",
   "metadata": {},
   "outputs": [],
   "source": []
  },
  {
   "cell_type": "markdown",
   "id": "74d441e0",
   "metadata": {},
   "source": [
    "# 31.  How to compute the softmax score?"
   ]
  },
  {
   "cell_type": "markdown",
   "id": "c05bf6fb",
   "metadata": {},
   "source": [
    "softmax = $\\frac{e^{(x - max(x))}} {sum(e^{(x - max(x))}}$"
   ]
  },
  {
   "cell_type": "code",
   "execution_count": null,
   "id": "3a177a7c",
   "metadata": {},
   "outputs": [],
   "source": []
  },
  {
   "cell_type": "markdown",
   "id": "ed658aa8",
   "metadata": {},
   "source": [
    "# 32. How to find the percentile scores of a numpy array?"
   ]
  },
  {
   "cell_type": "code",
   "execution_count": null,
   "id": "8efb51c2",
   "metadata": {},
   "outputs": [],
   "source": []
  },
  {
   "cell_type": "markdown",
   "id": "83e7fcf4",
   "metadata": {},
   "source": [
    "# 33.How to insert values at random positions in an array?\n"
   ]
  },
  {
   "cell_type": "code",
   "execution_count": null,
   "id": "ef3960e1",
   "metadata": {},
   "outputs": [],
   "source": []
  },
  {
   "cell_type": "markdown",
   "id": "d799e513",
   "metadata": {},
   "source": [
    "# 34. How to find the position of missing values in numpy array?"
   ]
  },
  {
   "cell_type": "code",
   "execution_count": null,
   "id": "42f46f8f",
   "metadata": {},
   "outputs": [],
   "source": []
  },
  {
   "cell_type": "markdown",
   "id": "4ddcce12",
   "metadata": {},
   "source": [
    "# 35. How to filter a numpy array based on two or more conditions?"
   ]
  },
  {
   "cell_type": "code",
   "execution_count": null,
   "id": "90e90ca2",
   "metadata": {},
   "outputs": [],
   "source": []
  },
  {
   "cell_type": "markdown",
   "id": "8b09e9be",
   "metadata": {},
   "source": [
    "# 36. How to drop rows that contain a missing value from a numpy array?\n"
   ]
  },
  {
   "cell_type": "code",
   "execution_count": null,
   "id": "18c16cca",
   "metadata": {},
   "outputs": [],
   "source": []
  },
  {
   "cell_type": "markdown",
   "id": "83a5bc3a",
   "metadata": {},
   "source": [
    "# 37. How to find the correlation between two columns of a numpy array?\n"
   ]
  },
  {
   "attachments": {
    "image.png": {
     "image/png": "[encoded data removed]"
    }
   },
   "cell_type": "markdown",
   "id": "6857d505",
   "metadata": {},
   "source": [
    "![image.png](attachment:image.png)"
   ]
  },
  {
   "cell_type": "markdown",
   "id": "bf9a5278",
   "metadata": {},
   "source": [
    "- Correlation coef indicates the degree of linear relationship between two numeric variables.\n",
    "- It can range between -1 to +1."
   ]
  },
  {
   "cell_type": "code",
   "execution_count": null,
   "id": "78c673b7",
   "metadata": {},
   "outputs": [],
   "source": []
  },
  {
   "cell_type": "markdown",
   "id": "ed346155",
   "metadata": {},
   "source": [
    "# 38. How to find if a given array has any null values?"
   ]
  },
  {
   "cell_type": "code",
   "execution_count": null,
   "id": "25599190",
   "metadata": {},
   "outputs": [],
   "source": []
  },
  {
   "cell_type": "markdown",
   "id": "8a5854b6",
   "metadata": {},
   "source": [
    "# 39. How to replace all missing values with 0 in a numpy array?"
   ]
  },
  {
   "cell_type": "code",
   "execution_count": null,
   "id": "2c382f22",
   "metadata": {},
   "outputs": [],
   "source": []
  },
  {
   "cell_type": "markdown",
   "id": "91858011",
   "metadata": {},
   "source": [
    "# 40.How to find the count of unique values in a numpy array?"
   ]
  },
  {
   "cell_type": "code",
   "execution_count": null,
   "id": "0b80087b",
   "metadata": {},
   "outputs": [],
   "source": []
  },
  {
   "cell_type": "markdown",
   "id": "404d34c5",
   "metadata": {},
   "source": [
    "# 41. How to convert a numeric to a categorical (text) array?"
   ]
  },
  {
   "cell_type": "markdown",
   "id": "178078b2",
   "metadata": {},
   "source": [
    "Bin the petal length (3rd) column of iris_2d to form a text array, such that if petal length is:\n",
    "\n",
    "    Less than 3 --> 'small'\n",
    "    3-5 --> 'medium'\n",
    "    '>=5 --> 'large'"
   ]
  },
  {
   "cell_type": "code",
   "execution_count": null,
   "id": "834c1de1",
   "metadata": {},
   "outputs": [],
   "source": []
  },
  {
   "cell_type": "markdown",
   "id": "28fdc3e8",
   "metadata": {},
   "source": [
    "# 42. How to create a new column from existing columns of a numpy array?\n"
   ]
  },
  {
   "cell_type": "code",
   "execution_count": null,
   "id": "6836ed56",
   "metadata": {},
   "outputs": [],
   "source": []
  },
  {
   "cell_type": "markdown",
   "id": "a754d2b7",
   "metadata": {},
   "source": [
    "# 43. How to do probabilistic sampling in numpy?"
   ]
  },
  {
   "cell_type": "code",
   "execution_count": null,
   "id": "dbc6f681",
   "metadata": {},
   "outputs": [],
   "source": []
  },
  {
   "cell_type": "markdown",
   "id": "de111a08",
   "metadata": {},
   "source": [
    "# 44. How to get the second largest value of an array when grouped by another array?"
   ]
  },
  {
   "cell_type": "code",
   "execution_count": null,
   "id": "98e2de71",
   "metadata": {},
   "outputs": [],
   "source": []
  },
  {
   "cell_type": "markdown",
   "id": "b934a29a",
   "metadata": {},
   "source": [
    "# 45. How to sort a 2D array by a column"
   ]
  },
  {
   "cell_type": "code",
   "execution_count": null,
   "id": "ef6095d2",
   "metadata": {},
   "outputs": [],
   "source": []
  },
  {
   "cell_type": "markdown",
   "id": "355d2987",
   "metadata": {},
   "source": [
    "# 46. How to find the most frequent value in a numpy array?"
   ]
  },
  {
   "cell_type": "code",
   "execution_count": null,
   "id": "93ea8673",
   "metadata": {},
   "outputs": [],
   "source": []
  },
  {
   "cell_type": "markdown",
   "id": "d50b1de8",
   "metadata": {},
   "source": [
    "# 47. How to find the position of the first occurrence of a value greater than a given value?"
   ]
  },
  {
   "cell_type": "code",
   "execution_count": null,
   "id": "cb6c734c",
   "metadata": {},
   "outputs": [],
   "source": []
  },
  {
   "cell_type": "markdown",
   "id": "91573ee1",
   "metadata": {},
   "source": [
    "# 48. How to replace all values greater than a given value to a given cutoff?"
   ]
  },
  {
   "cell_type": "code",
   "execution_count": null,
   "id": "b458ba18",
   "metadata": {},
   "outputs": [],
   "source": []
  },
  {
   "cell_type": "markdown",
   "id": "2d674eb0",
   "metadata": {},
   "source": [
    "# 49.  How to get the positions of top n values from a numpy array?"
   ]
  },
  {
   "cell_type": "code",
   "execution_count": null,
   "id": "1ef4d38a",
   "metadata": {},
   "outputs": [],
   "source": []
  },
  {
   "cell_type": "markdown",
   "id": "aed4fcd7",
   "metadata": {},
   "source": [
    "# 50.  How to compute the row wise counts of all possible values in an array?\n"
   ]
  },
  {
   "cell_type": "markdown",
   "id": "f03b7bd7",
   "metadata": {},
   "source": [
    "**Input**:array\n",
    "<br>$([[ 9,  9,  4,  8,  8,  1,  5,  3,  6,  3],$<br>\n",
    "        $[ 3,  3,  2,  1,  9,  5,  1, 10,  7,  3],$<br>\n",
    "        $[ 5,  2,  6,  4,  5,  5,  4,  8,  2,  2],$<br>\n",
    "        $[ 8,  8,  1,  3, 10, 10,  4,  3,  6,  9],$,<br>\n",
    "        $[ 2,  1,  8,  7,  3,  1,  9,  3,  6,  2],$<br>\n",
    "        $[ 9,  2,  6,  5,  3,  9,  4,  6,  1, 10]])$\n",
    "\n",
    "**Desired Output:**<br>\n",
    "\n",
    "$ [[1, 0, 2, 1, 1, 1, 0, 2, 2, 0],$<br>\n",
    "$  [2, 1, 3, 0, 1, 0, 1, 0, 1, 1],$<br>\n",
    "$  [0, 3, 0, 2, 3, 1, 0, 1, 0, 0],$<br>\n",
    "$  [1, 0, 2, 1, 0, 1, 0, 2, 1, 2],$<br>\n",
    "$  [2, 2, 2, 0, 0, 1, 1, 1, 1, 0],$<br>\n",
    "$  [1, 1, 1, 1, 1, 2, 0, 0, 2, 1]]$"
   ]
  },
  {
   "cell_type": "code",
   "execution_count": null,
   "id": "f2ad1dd9",
   "metadata": {},
   "outputs": [],
   "source": []
  },
  {
   "cell_type": "markdown",
   "id": "eebe22b5",
   "metadata": {},
   "source": [
    "# 51. How to convert an array of arrays into a flat 1d array?"
   ]
  },
  {
   "cell_type": "markdown",
   "id": "dce52996",
   "metadata": {},
   "source": [
    "**array_of_arrays**<br>\n",
    "$array([array([0, 1, 2]), array([3, 4, 5, 6]), array([7, 8, 9])], dtype=object)$<br>\n",
    "\n",
    "**Desired Output:**<br>\n",
    "\n",
    "$array([0, 1, 2, 3, 4, 5, 6, 7, 8, 9])$"
   ]
  },
  {
   "cell_type": "code",
   "execution_count": null,
   "id": "673165e2",
   "metadata": {},
   "outputs": [],
   "source": []
  },
  {
   "cell_type": "markdown",
   "id": "d03b8810",
   "metadata": {},
   "source": [
    "# 51. How to generate one-hot encodings for an array in numpy?"
   ]
  },
  {
   "cell_type": "markdown",
   "id": "302ffe28",
   "metadata": {},
   "source": [
    "**Input:**<br>\n",
    "$array([2, 3, 2, 2, 2, 1])$\n",
    "\n",
    "**Output:**<br>\n",
    "\n",
    "$ array([$<br>$[ 0.,  1.,  0.],$ <br>\n",
    "$        [ 0.,  0.,  1.],$<br>\n",
    "$        [ 0.,  1.,  0.],$<br>\n",
    "$        [ 0.,  1.,  0.],$<br>\n",
    "$        [ 0.,  1.,  0.],$<br>\n",
    "$        [ 1.,  0.,  0.]])$<br>"
   ]
  },
  {
   "cell_type": "code",
   "execution_count": null,
   "id": "f4990737",
   "metadata": {},
   "outputs": [],
   "source": []
  },
  {
   "cell_type": "markdown",
   "id": "03203590",
   "metadata": {},
   "source": [
    "# 53. How to rank items in an array using numpy?"
   ]
  },
  {
   "cell_type": "code",
   "execution_count": null,
   "id": "471f4e5f",
   "metadata": {},
   "outputs": [],
   "source": []
  },
  {
   "cell_type": "markdown",
   "id": "e24846e0",
   "metadata": {},
   "source": [
    "# 54. How to find the maximum value in each row of a numpy array 2d?"
   ]
  },
  {
   "cell_type": "code",
   "execution_count": null,
   "id": "3e541823",
   "metadata": {},
   "outputs": [],
   "source": []
  },
  {
   "cell_type": "markdown",
   "id": "f36ff655",
   "metadata": {},
   "source": [
    "# 55. How to compute the min-by-max for each row for a numpy array 2d?"
   ]
  },
  {
   "cell_type": "code",
   "execution_count": null,
   "id": "460c7232",
   "metadata": {},
   "outputs": [],
   "source": []
  },
  {
   "cell_type": "markdown",
   "id": "f3e0b60e",
   "metadata": {},
   "source": [
    "# 56. How to find the duplicate records in a numpy array?"
   ]
  },
  {
   "cell_type": "code",
   "execution_count": null,
   "id": "71b83b97",
   "metadata": {},
   "outputs": [],
   "source": []
  }
 ],
 "metadata": {
  "kernelspec": {
   "display_name": "Python 3",
   "language": "python",
   "name": "python3"
  },
  "language_info": {
   "codemirror_mode": {
    "name": "ipython",
    "version": 3
   },
   "file_extension": ".py",
   "mimetype": "text/x-python",
   "name": "python",
   "nbconvert_exporter": "python",
   "pygments_lexer": "ipython3",
   "version": "3.8.8"
  }
 },
 "nbformat": 4,
 "nbformat_minor": 5
}
