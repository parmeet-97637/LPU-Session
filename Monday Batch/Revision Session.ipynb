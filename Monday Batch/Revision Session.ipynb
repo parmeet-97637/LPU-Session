{
 "cells": [
  {
   "cell_type": "code",
   "execution_count": 10,
   "id": "c4d84ee2",
   "metadata": {},
   "outputs": [],
   "source": [
    "# Deep copy and shallow copy\n",
    "\n",
    "list1 = [1,2,3,4,5,6,7,8,9,10]\n",
    "list2 = list1.copy()"
   ]
  },
  {
   "cell_type": "code",
   "execution_count": 11,
   "id": "7fd175d4",
   "metadata": {},
   "outputs": [
    {
     "data": {
      "text/plain": [
       "[1, 2, 3, 4, 5, 6, 7, 8, 9, 10]"
      ]
     },
     "execution_count": 11,
     "metadata": {},
     "output_type": "execute_result"
    }
   ],
   "source": [
    "list1"
   ]
  },
  {
   "cell_type": "code",
   "execution_count": 12,
   "id": "a704f297",
   "metadata": {},
   "outputs": [
    {
     "data": {
      "text/plain": [
       "[1, 2, 3, 4, 5, 6, 7, 8, 9, 10]"
      ]
     },
     "execution_count": 12,
     "metadata": {},
     "output_type": "execute_result"
    }
   ],
   "source": [
    "list2"
   ]
  },
  {
   "cell_type": "code",
   "execution_count": 13,
   "id": "3612cbec",
   "metadata": {},
   "outputs": [
    {
     "data": {
      "text/plain": [
       "1"
      ]
     },
     "execution_count": 13,
     "metadata": {},
     "output_type": "execute_result"
    }
   ],
   "source": [
    "list2.pop(0)"
   ]
  },
  {
   "cell_type": "code",
   "execution_count": 14,
   "id": "70afd614",
   "metadata": {},
   "outputs": [
    {
     "data": {
      "text/plain": [
       "[2, 3, 4, 5, 6, 7, 8, 9, 10]"
      ]
     },
     "execution_count": 14,
     "metadata": {},
     "output_type": "execute_result"
    }
   ],
   "source": [
    "list2"
   ]
  },
  {
   "cell_type": "code",
   "execution_count": 15,
   "id": "92a424af",
   "metadata": {},
   "outputs": [
    {
     "data": {
      "text/plain": [
       "[1, 2, 3, 4, 5, 6, 7, 8, 9, 10]"
      ]
     },
     "execution_count": 15,
     "metadata": {},
     "output_type": "execute_result"
    }
   ],
   "source": [
    "list1"
   ]
  },
  {
   "cell_type": "code",
   "execution_count": 16,
   "id": "068082d7",
   "metadata": {},
   "outputs": [
    {
     "data": {
      "text/plain": [
       "1478408604992"
      ]
     },
     "execution_count": 16,
     "metadata": {},
     "output_type": "execute_result"
    }
   ],
   "source": [
    "id(list1)"
   ]
  },
  {
   "cell_type": "code",
   "execution_count": 17,
   "id": "cc207035",
   "metadata": {},
   "outputs": [
    {
     "data": {
      "text/plain": [
       "1478408175936"
      ]
     },
     "execution_count": 17,
     "metadata": {},
     "output_type": "execute_result"
    }
   ],
   "source": [
    "id(list2)"
   ]
  },
  {
   "cell_type": "code",
   "execution_count": 18,
   "id": "1f165402",
   "metadata": {},
   "outputs": [],
   "source": [
    "list3 = ['parmeet', 'Ajay', 'shubham', 'Sai', 'mansi']"
   ]
  },
  {
   "cell_type": "code",
   "execution_count": 19,
   "id": "4bb1dec3",
   "metadata": {},
   "outputs": [],
   "source": [
    "# ['Sai','Ajay','mansi','shubham','parmeet']"
   ]
  },
  {
   "cell_type": "code",
   "execution_count": 21,
   "id": "f8715703",
   "metadata": {},
   "outputs": [],
   "source": [
    "list3.sort()"
   ]
  },
  {
   "cell_type": "code",
   "execution_count": 22,
   "id": "705c7360",
   "metadata": {},
   "outputs": [
    {
     "data": {
      "text/plain": [
       "['Ajay', 'Sai', 'mansi', 'parmeet', 'shubham']"
      ]
     },
     "execution_count": 22,
     "metadata": {},
     "output_type": "execute_result"
    }
   ],
   "source": [
    "list3"
   ]
  },
  {
   "cell_type": "code",
   "execution_count": 24,
   "id": "38365e9b",
   "metadata": {},
   "outputs": [],
   "source": [
    "list3.sort(key = len)"
   ]
  },
  {
   "cell_type": "code",
   "execution_count": 25,
   "id": "07bb7597",
   "metadata": {},
   "outputs": [
    {
     "data": {
      "text/plain": [
       "['Sai', 'Ajay', 'mansi', 'parmeet', 'shubham']"
      ]
     },
     "execution_count": 25,
     "metadata": {},
     "output_type": "execute_result"
    }
   ],
   "source": [
    "list3"
   ]
  },
  {
   "cell_type": "code",
   "execution_count": 30,
   "id": "246cbf1c",
   "metadata": {},
   "outputs": [],
   "source": [
    "list4 = [100,99,6,8,105,3]"
   ]
  },
  {
   "cell_type": "code",
   "execution_count": 27,
   "id": "1a238f93",
   "metadata": {},
   "outputs": [],
   "source": [
    "# [100,3,105,6,8,99]"
   ]
  },
  {
   "cell_type": "code",
   "execution_count": 31,
   "id": "d0650972",
   "metadata": {},
   "outputs": [],
   "source": [
    "def fun(n):\n",
    "    return n%10\n",
    "\n",
    "list4.sort(key=fun)\n"
   ]
  },
  {
   "cell_type": "code",
   "execution_count": 32,
   "id": "a42daf25",
   "metadata": {},
   "outputs": [
    {
     "data": {
      "text/plain": [
       "[100, 3, 105, 6, 8, 99]"
      ]
     },
     "execution_count": 32,
     "metadata": {},
     "output_type": "execute_result"
    }
   ],
   "source": [
    "list4"
   ]
  },
  {
   "cell_type": "code",
   "execution_count": 33,
   "id": "45a3c67e",
   "metadata": {},
   "outputs": [],
   "source": [
    "# concept of unpacking\n",
    "tup1 = (\"apple\",\"mangoes\",\"oranges\",\"banana\")"
   ]
  },
  {
   "cell_type": "code",
   "execution_count": 34,
   "id": "ac8633b7",
   "metadata": {},
   "outputs": [],
   "source": [
    "a1,m1,o1,b1 = tup1"
   ]
  },
  {
   "cell_type": "code",
   "execution_count": 37,
   "id": "6dbafbd8",
   "metadata": {},
   "outputs": [
    {
     "name": "stdout",
     "output_type": "stream",
     "text": [
      "apple mangoes oranges banana\n"
     ]
    }
   ],
   "source": [
    "print(a1,m1,o1,b1)"
   ]
  },
  {
   "cell_type": "code",
   "execution_count": 39,
   "id": "dc41b3d6",
   "metadata": {},
   "outputs": [],
   "source": [
    "a1,m1,*o1 = tup1"
   ]
  },
  {
   "cell_type": "code",
   "execution_count": 40,
   "id": "8947fa68",
   "metadata": {},
   "outputs": [
    {
     "name": "stdout",
     "output_type": "stream",
     "text": [
      "apple mangoes ['oranges', 'banana']\n"
     ]
    }
   ],
   "source": [
    "print( a1, m1, o1)"
   ]
  },
  {
   "cell_type": "code",
   "execution_count": 41,
   "id": "395ba8b2",
   "metadata": {},
   "outputs": [],
   "source": [
    "a1,*m1,o1 = tup1"
   ]
  },
  {
   "cell_type": "code",
   "execution_count": 42,
   "id": "e0dbf70b",
   "metadata": {},
   "outputs": [
    {
     "data": {
      "text/plain": [
       "['mangoes', 'oranges']"
      ]
     },
     "execution_count": 42,
     "metadata": {},
     "output_type": "execute_result"
    }
   ],
   "source": [
    "m1"
   ]
  },
  {
   "cell_type": "code",
   "execution_count": 43,
   "id": "85756e46",
   "metadata": {},
   "outputs": [
    {
     "data": {
      "text/plain": [
       "'apple'"
      ]
     },
     "execution_count": 43,
     "metadata": {},
     "output_type": "execute_result"
    }
   ],
   "source": [
    "a1"
   ]
  },
  {
   "cell_type": "code",
   "execution_count": 44,
   "id": "f5cdfe2f",
   "metadata": {},
   "outputs": [
    {
     "data": {
      "text/plain": [
       "'banana'"
      ]
     },
     "execution_count": 44,
     "metadata": {},
     "output_type": "execute_result"
    }
   ],
   "source": [
    "o1"
   ]
  },
  {
   "cell_type": "code",
   "execution_count": 45,
   "id": "198c96a3",
   "metadata": {},
   "outputs": [],
   "source": [
    "import numpy as np"
   ]
  },
  {
   "cell_type": "code",
   "execution_count": 47,
   "id": "f2c0fd80",
   "metadata": {},
   "outputs": [
    {
     "data": {
      "text/plain": [
       "[1, 2, 3, 1, 2, 3]"
      ]
     },
     "execution_count": 47,
     "metadata": {},
     "output_type": "execute_result"
    }
   ],
   "source": [
    "list1 = [1,2,3]\n",
    "list2 = [1,2,3]\n",
    "# [2,4,6]\n",
    "list1 + list2"
   ]
  },
  {
   "cell_type": "code",
   "execution_count": 58,
   "id": "27476645",
   "metadata": {},
   "outputs": [],
   "source": [
    "list1 = [1,1,1,2,2,3,4,4,5,65,65,7,7,65,5,4,3,2,2,1,1,5,6,7,2,1,3,4,5,6,8]"
   ]
  },
  {
   "cell_type": "code",
   "execution_count": 51,
   "id": "7609c46e",
   "metadata": {},
   "outputs": [
    {
     "data": {
      "text/plain": [
       "[1, 2, 3, 4, 5, 65, 7, 6, 8]"
      ]
     },
     "execution_count": 51,
     "metadata": {},
     "output_type": "execute_result"
    }
   ],
   "source": [
    "#remove duplicates\n",
    "list(set(list1))"
   ]
  },
  {
   "cell_type": "code",
   "execution_count": 72,
   "id": "5e977f79",
   "metadata": {},
   "outputs": [],
   "source": [
    "# find the occurence\n",
    "def custom_count(list_name,x):\n",
    "    return list_name.count(x)"
   ]
  },
  {
   "cell_type": "code",
   "execution_count": 74,
   "id": "550bbef0",
   "metadata": {},
   "outputs": [],
   "source": [
    "dict1 ={}\n",
    "for ele in set(list1):\n",
    "    dict1[ele] = custom_count(list1,ele)"
   ]
  },
  {
   "cell_type": "code",
   "execution_count": 75,
   "id": "23e14109",
   "metadata": {},
   "outputs": [
    {
     "data": {
      "text/plain": [
       "{1: 6, 2: 5, 3: 3, 4: 4, 5: 4, 65: 3, 7: 3, 6: 2, 8: 1}"
      ]
     },
     "execution_count": 75,
     "metadata": {},
     "output_type": "execute_result"
    }
   ],
   "source": [
    "dict1"
   ]
  },
  {
   "cell_type": "code",
   "execution_count": 76,
   "id": "8d47947e",
   "metadata": {},
   "outputs": [
    {
     "data": {
      "text/plain": [
       "Counter({1: 6, 2: 5, 3: 3, 4: 4, 5: 4, 65: 3, 7: 3, 6: 2, 8: 1})"
      ]
     },
     "execution_count": 76,
     "metadata": {},
     "output_type": "execute_result"
    }
   ],
   "source": [
    "from collections import Counter\n",
    "Counter(list1)"
   ]
  },
  {
   "cell_type": "code",
   "execution_count": 79,
   "id": "44f5c81e",
   "metadata": {},
   "outputs": [],
   "source": [
    "def customer_upper(text):\n",
    "    return text.upper()"
   ]
  },
  {
   "cell_type": "code",
   "execution_count": 80,
   "id": "d5016c99",
   "metadata": {},
   "outputs": [
    {
     "name": "stdout",
     "output_type": "stream",
     "text": [
      "HELLO\n"
     ]
    }
   ],
   "source": [
    "print(customer_upper(\"heLLo\"))"
   ]
  },
  {
   "cell_type": "code",
   "execution_count": 81,
   "id": "e840eeb7",
   "metadata": {},
   "outputs": [],
   "source": [
    "def customer_upper(text):\n",
    "    return text.upper()\n",
    "\n",
    "def customer_lower(text):\n",
    "    return text.lower()\n",
    "\n",
    "def greet(func):\n",
    "    greeting = func(\"hello, Passed function as an ARGUMENT\")\n",
    "    print(greeting)"
   ]
  },
  {
   "cell_type": "code",
   "execution_count": 82,
   "id": "9ee69a9f",
   "metadata": {},
   "outputs": [
    {
     "name": "stdout",
     "output_type": "stream",
     "text": [
      "hello, passed function as an argument\n"
     ]
    }
   ],
   "source": [
    "greet(customer_lower)"
   ]
  },
  {
   "cell_type": "code",
   "execution_count": 83,
   "id": "cc2ac045",
   "metadata": {},
   "outputs": [
    {
     "name": "stdout",
     "output_type": "stream",
     "text": [
      "HELLO, PASSED FUNCTION AS AN ARGUMENT\n"
     ]
    }
   ],
   "source": [
    "greet(customer_upper)"
   ]
  },
  {
   "cell_type": "code",
   "execution_count": 84,
   "id": "ef99bc49",
   "metadata": {},
   "outputs": [],
   "source": [
    "# function returning another function\n",
    "\n",
    "def custom_add(x): # Outer function\n",
    "    def adder(y): # Inner function\n",
    "        return x+y\n",
    "    \n",
    "    return adder"
   ]
  },
  {
   "cell_type": "code",
   "execution_count": 86,
   "id": "6f1e333e",
   "metadata": {},
   "outputs": [
    {
     "data": {
      "text/plain": [
       "30"
      ]
     },
     "execution_count": 86,
     "metadata": {},
     "output_type": "execute_result"
    }
   ],
   "source": [
    "add_15 = custom_add(15) #function which is ready to call inner function\n",
    "add_15(15)"
   ]
  },
  {
   "cell_type": "code",
   "execution_count": 87,
   "id": "7f6d3087",
   "metadata": {},
   "outputs": [
    {
     "data": {
      "text/plain": [
       "30"
      ]
     },
     "execution_count": 87,
     "metadata": {},
     "output_type": "execute_result"
    }
   ],
   "source": [
    "custom_add(15)(15)"
   ]
  },
  {
   "cell_type": "code",
   "execution_count": 157,
   "id": "71762994",
   "metadata": {},
   "outputs": [],
   "source": [
    "def hello_decorator(func):# func =function_to_be_used\n",
    "    \n",
    "    def inner():\n",
    "        print(\"Hello, this is before execution\")\n",
    "        \n",
    "        func()\n",
    "        \n",
    "        print(\"This is after execution\")\n",
    "        \n",
    "    return inner"
   ]
  },
  {
   "cell_type": "code",
   "execution_count": 158,
   "id": "ac60d2a6",
   "metadata": {},
   "outputs": [],
   "source": [
    "def function_to_be_used():\n",
    "    print(\"This is the inside function..!!!\")"
   ]
  },
  {
   "cell_type": "code",
   "execution_count": 159,
   "id": "ba97fbf9",
   "metadata": {},
   "outputs": [],
   "source": [
    "@hello_decorator\n",
    "def function_to_be_used():\n",
    "    print(\"This is the inside function..!!!\")"
   ]
  },
  {
   "cell_type": "code",
   "execution_count": 105,
   "id": "cf5df0cc",
   "metadata": {},
   "outputs": [
    {
     "name": "stdout",
     "output_type": "stream",
     "text": [
      "Hello, this is before execution\n",
      "This is the inside function..!!!\n",
      "This is after execution\n"
     ]
    }
   ],
   "source": [
    "hello_decorator(function_to_be_used)()"
   ]
  },
  {
   "cell_type": "code",
   "execution_count": 91,
   "id": "7782d25d",
   "metadata": {},
   "outputs": [
    {
     "name": "stdout",
     "output_type": "stream",
     "text": [
      "Hello, this is before execution\n",
      "This is the inside function..!!!\n",
      "This is after execution\n"
     ]
    }
   ],
   "source": [
    "function1 = hello_decorator(function_to_be_used)\n",
    "function1()"
   ]
  },
  {
   "cell_type": "code",
   "execution_count": 107,
   "id": "8d5bcbde",
   "metadata": {},
   "outputs": [],
   "source": [
    "# try to find out the execution time of decorator\n",
    "import time\n",
    "import math\n",
    "\n",
    "def cal_time(func):\n",
    "    \n",
    "    def inner(*args, **kargs):\n",
    "        \n",
    "        #store the execution time\n",
    "        begin = time.time()\n",
    "        \n",
    "        func(*args,**kargs)\n",
    "        \n",
    "        #store the end time\n",
    "        end = time.time()\n",
    "        print(\"Total time take in : \",func.__name__, end - begin)\n",
    "    return inner    "
   ]
  },
  {
   "cell_type": "code",
   "execution_count": 112,
   "id": "e10afc3d",
   "metadata": {},
   "outputs": [],
   "source": [
    "def fact(num):\n",
    "    \n",
    "    time.sleep(2) #wait time\n",
    "    print(math.factorial(num))"
   ]
  },
  {
   "cell_type": "code",
   "execution_count": 119,
   "id": "a87a40e5",
   "metadata": {},
   "outputs": [
    {
     "data": {
      "text/plain": [
       "'fact'"
      ]
     },
     "execution_count": 119,
     "metadata": {},
     "output_type": "execute_result"
    }
   ],
   "source": [
    "fact.__name__"
   ]
  },
  {
   "cell_type": "code",
   "execution_count": 122,
   "id": "b8dec740",
   "metadata": {
    "scrolled": true
   },
   "outputs": [
    {
     "name": "stdout",
     "output_type": "stream",
     "text": [
      "3628800\n",
      "Total time take in :  fact 2.0082592964172363\n"
     ]
    }
   ],
   "source": [
    "cal_time(fact)(10)"
   ]
  },
  {
   "cell_type": "code",
   "execution_count": 118,
   "id": "7b1b4532",
   "metadata": {},
   "outputs": [
    {
     "name": "stdout",
     "output_type": "stream",
     "text": [
      "3628800\n",
      "Total time take in :  fact 2.0101840496063232\n"
     ]
    }
   ],
   "source": [
    "cal_time(fact)(10)"
   ]
  },
  {
   "cell_type": "code",
   "execution_count": 133,
   "id": "1bbd93fe",
   "metadata": {},
   "outputs": [],
   "source": [
    "# what if function is returning something\n",
    "\n",
    "def func_decorators(func):\n",
    "    def inner(*args,**kargs):\n",
    "        print(\"Before execution\")\n",
    "        \n",
    "        returned_value = func(*args,*kargs)\n",
    "        \n",
    "        return returned_value\n",
    "    return inner"
   ]
  },
  {
   "cell_type": "code",
   "execution_count": 137,
   "id": "58e05185",
   "metadata": {},
   "outputs": [],
   "source": [
    "#adding decorator to the function\n",
    "\n",
    "def custom_add(a,b):\n",
    "    print(\"Inside function\")\n",
    "#     return a+b"
   ]
  },
  {
   "cell_type": "code",
   "execution_count": 138,
   "id": "4eb88661",
   "metadata": {},
   "outputs": [],
   "source": [
    "a,b = 1,2"
   ]
  },
  {
   "cell_type": "code",
   "execution_count": 139,
   "id": "2c817ed0",
   "metadata": {},
   "outputs": [
    {
     "name": "stdout",
     "output_type": "stream",
     "text": [
      "Before execution\n",
      "Inside function\n",
      "sum of two numbers is : None\n"
     ]
    }
   ],
   "source": [
    "output = func_decorators(custom_add)(a,b)\n",
    "print(f\"sum of two numbers is : {output}\")"
   ]
  },
  {
   "cell_type": "code",
   "execution_count": 140,
   "id": "59336730",
   "metadata": {},
   "outputs": [],
   "source": [
    "# chaining decorators\n",
    "\n",
    "def decorator1(func):\n",
    "    def inner1():\n",
    "        x= func()\n",
    "        return x*x\n",
    "    return inner1\n",
    "\n",
    "def decorator2(func):\n",
    "    def inner2():\n",
    "        x = func()\n",
    "        return 2*x\n",
    "    return inner2\n",
    "\n",
    "def num():\n",
    "    return 10\n"
   ]
  },
  {
   "cell_type": "code",
   "execution_count": 142,
   "id": "f058c64b",
   "metadata": {},
   "outputs": [
    {
     "name": "stdout",
     "output_type": "stream",
     "text": [
      "10\n"
     ]
    }
   ],
   "source": [
    "print(num())"
   ]
  },
  {
   "cell_type": "code",
   "execution_count": 148,
   "id": "a72a2f52",
   "metadata": {},
   "outputs": [
    {
     "data": {
      "text/plain": [
       "100"
      ]
     },
     "execution_count": 148,
     "metadata": {},
     "output_type": "execute_result"
    }
   ],
   "source": [
    "decorator1(num)()"
   ]
  },
  {
   "cell_type": "code",
   "execution_count": 150,
   "id": "8f1e67b2",
   "metadata": {},
   "outputs": [
    {
     "data": {
      "text/plain": [
       "20"
      ]
     },
     "execution_count": 150,
     "metadata": {},
     "output_type": "execute_result"
    }
   ],
   "source": [
    "decorator2(num)()"
   ]
  },
  {
   "cell_type": "code",
   "execution_count": 155,
   "id": "0c65c760",
   "metadata": {},
   "outputs": [
    {
     "data": {
      "text/plain": [
       "400"
      ]
     },
     "execution_count": 155,
     "metadata": {},
     "output_type": "execute_result"
    }
   ],
   "source": [
    "decorator1(decorator2(num))()"
   ]
  },
  {
   "cell_type": "code",
   "execution_count": 162,
   "id": "02954431",
   "metadata": {},
   "outputs": [],
   "source": [
    "def num():\n",
    "    return 10"
   ]
  },
  {
   "cell_type": "code",
   "execution_count": 163,
   "id": "6cc8a576",
   "metadata": {},
   "outputs": [
    {
     "data": {
      "text/plain": [
       "10"
      ]
     },
     "execution_count": 163,
     "metadata": {},
     "output_type": "execute_result"
    }
   ],
   "source": [
    "num()"
   ]
  },
  {
   "cell_type": "code",
   "execution_count": 164,
   "id": "8cdf4c77",
   "metadata": {},
   "outputs": [
    {
     "data": {
      "text/plain": [
       "100"
      ]
     },
     "execution_count": 164,
     "metadata": {},
     "output_type": "execute_result"
    }
   ],
   "source": [
    "decorator1(num)()"
   ]
  },
  {
   "cell_type": "code",
   "execution_count": 165,
   "id": "67c3722f",
   "metadata": {},
   "outputs": [],
   "source": [
    "@decorator1\n",
    "def num():\n",
    "    return 10"
   ]
  },
  {
   "cell_type": "code",
   "execution_count": 166,
   "id": "33e17f00",
   "metadata": {},
   "outputs": [
    {
     "data": {
      "text/plain": [
       "100"
      ]
     },
     "execution_count": 166,
     "metadata": {},
     "output_type": "execute_result"
    }
   ],
   "source": [
    "num()"
   ]
  },
  {
   "cell_type": "code",
   "execution_count": 167,
   "id": "f4646a9b",
   "metadata": {},
   "outputs": [],
   "source": [
    "@decorator2\n",
    "def num():\n",
    "    return 10"
   ]
  },
  {
   "cell_type": "code",
   "execution_count": 168,
   "id": "1bcf97ec",
   "metadata": {},
   "outputs": [
    {
     "data": {
      "text/plain": [
       "20"
      ]
     },
     "execution_count": 168,
     "metadata": {},
     "output_type": "execute_result"
    }
   ],
   "source": [
    "num()"
   ]
  },
  {
   "cell_type": "code",
   "execution_count": 175,
   "id": "a3012a51",
   "metadata": {},
   "outputs": [],
   "source": [
    "# function to demonstrate annotations\n",
    "###def fib(n, output =[]) 011235......\n",
    "def fib(n:'int', output:'list'=[]) ->'list': # annotations\n",
    "    if n ==0:\n",
    "        return output\n",
    "    else:\n",
    "        if len(output)<2:\n",
    "            output.append(1)\n",
    "            fib(n-1,output)\n",
    "        else:\n",
    "            last = output[-1]\n",
    "            second_last = output[-2]\n",
    "            output.append(last+second_last)\n",
    "            fib(n-1,output)\n",
    "        return output\n",
    "            "
   ]
  },
  {
   "cell_type": "code",
   "execution_count": 176,
   "id": "9cdbe895",
   "metadata": {},
   "outputs": [
    {
     "data": {
      "text/plain": [
       "[1, 1, 2, 3, 5, 8, 13, 21, 34, 55]"
      ]
     },
     "execution_count": 176,
     "metadata": {},
     "output_type": "execute_result"
    }
   ],
   "source": [
    "fib(10)"
   ]
  },
  {
   "cell_type": "code",
   "execution_count": 171,
   "id": "166fe056",
   "metadata": {},
   "outputs": [
    {
     "data": {
      "text/plain": [
       "{'n': 'int', 'output': 'list', 'return': 'list'}"
      ]
     },
     "execution_count": 171,
     "metadata": {},
     "output_type": "execute_result"
    }
   ],
   "source": [
    "fib.__annotations__"
   ]
  },
  {
   "cell_type": "code",
   "execution_count": 177,
   "id": "7319cdab",
   "metadata": {},
   "outputs": [],
   "source": [
    "import inspect"
   ]
  },
  {
   "cell_type": "code",
   "execution_count": 178,
   "id": "b14a78b4",
   "metadata": {},
   "outputs": [
    {
     "data": {
      "text/plain": [
       "FullArgSpec(args=['n', 'output'], varargs=None, varkw=None, defaults=([1, 1, 2, 3, 5, 8, 13, 21, 34, 55],), kwonlyargs=[], kwonlydefaults=None, annotations={'return': 'list', 'n': 'int', 'output': 'list'})"
      ]
     },
     "execution_count": 178,
     "metadata": {},
     "output_type": "execute_result"
    }
   ],
   "source": [
    "inspect.getfullargspec(fib)"
   ]
  },
  {
   "cell_type": "code",
   "execution_count": 179,
   "id": "e15c2933",
   "metadata": {},
   "outputs": [],
   "source": [
    "import pandas as pd\n",
    "import numpy as np"
   ]
  },
  {
   "cell_type": "code",
   "execution_count": 191,
   "id": "5fc51f33",
   "metadata": {},
   "outputs": [],
   "source": [
    "df = pd.read_csv(\"train.csv\")"
   ]
  },
  {
   "cell_type": "code",
   "execution_count": 192,
   "id": "4ddf75fa",
   "metadata": {},
   "outputs": [
    {
     "data": {
      "text/plain": [
       "True"
      ]
     },
     "execution_count": 192,
     "metadata": {},
     "output_type": "execute_result"
    }
   ],
   "source": [
    "isinstance(df,pd.DataFrame)"
   ]
  },
  {
   "cell_type": "code",
   "execution_count": 195,
   "id": "62ea520d",
   "metadata": {},
   "outputs": [],
   "source": [
    "class custom_preprocess:\n",
    "    \n",
    "    def __init__(self,data):\n",
    "        self.dataframe = data\n",
    "        self.validate()\n",
    "        self.custom_data_understanding()\n",
    "        \n",
    "    def validate(self):\n",
    "        if not isinstance(self.dataframe,pd.DataFrame):\n",
    "            raise \"Input should be dataframe object.\"\n",
    "\n",
    "    def custom_data_understanding(self):\n",
    "        print(\"Extracting the dataframe information\".center(100,\"*\"))\n",
    "        print(f\"\\n{'Total number of rows':30s} : {self.dataframe.shape[0]}\")\n",
    "        print(f\"{'Total number of rows':30s} : {self.dataframe.shape[1]}\")\n",
    "\n",
    "        print(\"\\nAnalysing columns......\")\n",
    "        categorical_cols = self.dataframe.select_dtypes(include =['object','category'])\n",
    "        numerical_cols = self.dataframe.select_dtypes(exclude = ['object','category'])\n",
    "        print(f\"{'Categorical columns':30s} : {categorical_cols.shape[1]}\")\n",
    "        print(f\"{'Numerical columns':30s} : {numerical_cols.shape[1]}\")\n",
    "        \n",
    "        "
   ]
  },
  {
   "cell_type": "code",
   "execution_count": 197,
   "id": "b20f0a4a",
   "metadata": {},
   "outputs": [],
   "source": [
    "list1 = [1,2,3,4,5]"
   ]
  },
  {
   "cell_type": "code",
   "execution_count": 198,
   "id": "74824d97",
   "metadata": {},
   "outputs": [
    {
     "ename": "TypeError",
     "evalue": "exceptions must derive from BaseException",
     "output_type": "error",
     "traceback": [
      "\u001b[1;31m---------------------------------------------------------------------------\u001b[0m",
      "\u001b[1;31mTypeError\u001b[0m                                 Traceback (most recent call last)",
      "\u001b[1;32m<ipython-input-198-e898d2f9de39>\u001b[0m in \u001b[0;36m<module>\u001b[1;34m\u001b[0m\n\u001b[1;32m----> 1\u001b[1;33m \u001b[0mcp\u001b[0m \u001b[1;33m=\u001b[0m \u001b[0mcustom_preprocess\u001b[0m\u001b[1;33m(\u001b[0m\u001b[0mlist1\u001b[0m\u001b[1;33m)\u001b[0m\u001b[1;33m\u001b[0m\u001b[1;33m\u001b[0m\u001b[0m\n\u001b[0m",
      "\u001b[1;32m<ipython-input-195-aa28cd351f86>\u001b[0m in \u001b[0;36m__init__\u001b[1;34m(self, data)\u001b[0m\n\u001b[0;32m      3\u001b[0m     \u001b[1;32mdef\u001b[0m \u001b[0m__init__\u001b[0m\u001b[1;33m(\u001b[0m\u001b[0mself\u001b[0m\u001b[1;33m,\u001b[0m\u001b[0mdata\u001b[0m\u001b[1;33m)\u001b[0m\u001b[1;33m:\u001b[0m\u001b[1;33m\u001b[0m\u001b[1;33m\u001b[0m\u001b[0m\n\u001b[0;32m      4\u001b[0m         \u001b[0mself\u001b[0m\u001b[1;33m.\u001b[0m\u001b[0mdataframe\u001b[0m \u001b[1;33m=\u001b[0m \u001b[0mdata\u001b[0m\u001b[1;33m\u001b[0m\u001b[1;33m\u001b[0m\u001b[0m\n\u001b[1;32m----> 5\u001b[1;33m         \u001b[0mself\u001b[0m\u001b[1;33m.\u001b[0m\u001b[0mvalidate\u001b[0m\u001b[1;33m(\u001b[0m\u001b[1;33m)\u001b[0m\u001b[1;33m\u001b[0m\u001b[1;33m\u001b[0m\u001b[0m\n\u001b[0m\u001b[0;32m      6\u001b[0m         \u001b[0mself\u001b[0m\u001b[1;33m.\u001b[0m\u001b[0mcustom_data_understanding\u001b[0m\u001b[1;33m(\u001b[0m\u001b[1;33m)\u001b[0m\u001b[1;33m\u001b[0m\u001b[1;33m\u001b[0m\u001b[0m\n\u001b[0;32m      7\u001b[0m \u001b[1;33m\u001b[0m\u001b[0m\n",
      "\u001b[1;32m<ipython-input-195-aa28cd351f86>\u001b[0m in \u001b[0;36mvalidate\u001b[1;34m(self)\u001b[0m\n\u001b[0;32m      8\u001b[0m     \u001b[1;32mdef\u001b[0m \u001b[0mvalidate\u001b[0m\u001b[1;33m(\u001b[0m\u001b[0mself\u001b[0m\u001b[1;33m)\u001b[0m\u001b[1;33m:\u001b[0m\u001b[1;33m\u001b[0m\u001b[1;33m\u001b[0m\u001b[0m\n\u001b[0;32m      9\u001b[0m         \u001b[1;32mif\u001b[0m \u001b[1;32mnot\u001b[0m \u001b[0misinstance\u001b[0m\u001b[1;33m(\u001b[0m\u001b[0mself\u001b[0m\u001b[1;33m.\u001b[0m\u001b[0mdataframe\u001b[0m\u001b[1;33m,\u001b[0m\u001b[0mpd\u001b[0m\u001b[1;33m.\u001b[0m\u001b[0mDataFrame\u001b[0m\u001b[1;33m)\u001b[0m\u001b[1;33m:\u001b[0m\u001b[1;33m\u001b[0m\u001b[1;33m\u001b[0m\u001b[0m\n\u001b[1;32m---> 10\u001b[1;33m             \u001b[1;32mraise\u001b[0m \u001b[1;34m\"Input should be dataframe object.\"\u001b[0m\u001b[1;33m\u001b[0m\u001b[1;33m\u001b[0m\u001b[0m\n\u001b[0m\u001b[0;32m     11\u001b[0m \u001b[1;33m\u001b[0m\u001b[0m\n\u001b[0;32m     12\u001b[0m     \u001b[1;32mdef\u001b[0m \u001b[0mcustom_data_understanding\u001b[0m\u001b[1;33m(\u001b[0m\u001b[0mself\u001b[0m\u001b[1;33m)\u001b[0m\u001b[1;33m:\u001b[0m\u001b[1;33m\u001b[0m\u001b[1;33m\u001b[0m\u001b[0m\n",
      "\u001b[1;31mTypeError\u001b[0m: exceptions must derive from BaseException"
     ]
    }
   ],
   "source": [
    "cp = custom_preprocess(list1)"
   ]
  },
  {
   "cell_type": "code",
   "execution_count": null,
   "id": "3b096150",
   "metadata": {},
   "outputs": [],
   "source": [
    "1   Nan  Nan\n",
    "2   1    Nan\n",
    "3   2    1 \n",
    "4   3    2 \n",
    "5   4    3 \n",
    "6   5    4\n",
    "7   6    5"
   ]
  },
  {
   "cell_type": "code",
   "execution_count": 202,
   "id": "62fdebd4",
   "metadata": {},
   "outputs": [
    {
     "data": {
      "text/plain": [
       "0         22.00\n",
       "1         60.00\n",
       "2         86.00\n",
       "3        121.00\n",
       "4        156.00\n",
       "         ...   \n",
       "885    21101.17\n",
       "886    21128.17\n",
       "887    21147.17\n",
       "889    21173.17\n",
       "890    21205.17\n",
       "Name: Age, Length: 714, dtype: float64"
      ]
     },
     "execution_count": 202,
     "metadata": {},
     "output_type": "execute_result"
    }
   ],
   "source": [
    "df['Age'].dropna().cumsum()"
   ]
  },
  {
   "cell_type": "code",
   "execution_count": 204,
   "id": "eaaca19c",
   "metadata": {},
   "outputs": [
    {
     "data": {
      "text/plain": [
       "0       NaN\n",
       "1      22.0\n",
       "2      38.0\n",
       "3      26.0\n",
       "4      35.0\n",
       "       ... \n",
       "886    39.0\n",
       "887    27.0\n",
       "888    19.0\n",
       "889     NaN\n",
       "890    26.0\n",
       "Name: Age, Length: 891, dtype: float64"
      ]
     },
     "execution_count": 204,
     "metadata": {},
     "output_type": "execute_result"
    }
   ],
   "source": [
    "df['Age'].shift(1)"
   ]
  },
  {
   "cell_type": "code",
   "execution_count": 208,
   "id": "8568e2c1",
   "metadata": {},
   "outputs": [
    {
     "data": {
      "text/plain": [
       "array(['A', 'B', 'A', 'A', 'A', 'B', 'A', 'A', 'A', 'B', 'A', 'A', 'A',\n",
       "       'A', 'A'], dtype='<U1')"
      ]
     },
     "execution_count": 208,
     "metadata": {},
     "output_type": "execute_result"
    }
   ],
   "source": [
    "np.random.RandomState(31).choice([\"A\", \"B\"],15)"
   ]
  },
  {
   "cell_type": "code",
   "execution_count": 205,
   "id": "8e80c3e1",
   "metadata": {},
   "outputs": [],
   "source": [
    "df = pd.DataFrame({\"vals\": np.random.RandomState(31).randint(-30, 30, size=15), \n",
    "                   \"grps\": np.random.RandomState(31).choice([\"A\", \"B\"], 15)})"
   ]
  },
  {
   "cell_type": "code",
   "execution_count": 206,
   "id": "c35380f2",
   "metadata": {},
   "outputs": [
    {
     "data": {
      "text/html": [
       "<div>\n",
       "<style scoped>\n",
       "    .dataframe tbody tr th:only-of-type {\n",
       "        vertical-align: middle;\n",
       "    }\n",
       "\n",
       "    .dataframe tbody tr th {\n",
       "        vertical-align: top;\n",
       "    }\n",
       "\n",
       "    .dataframe thead th {\n",
       "        text-align: right;\n",
       "    }\n",
       "</style>\n",
       "<table border=\"1\" class=\"dataframe\">\n",
       "  <thead>\n",
       "    <tr style=\"text-align: right;\">\n",
       "      <th></th>\n",
       "      <th>vals</th>\n",
       "      <th>grps</th>\n",
       "    </tr>\n",
       "  </thead>\n",
       "  <tbody>\n",
       "    <tr>\n",
       "      <th>0</th>\n",
       "      <td>-12</td>\n",
       "      <td>A</td>\n",
       "    </tr>\n",
       "    <tr>\n",
       "      <th>1</th>\n",
       "      <td>-7</td>\n",
       "      <td>B</td>\n",
       "    </tr>\n",
       "    <tr>\n",
       "      <th>2</th>\n",
       "      <td>-14</td>\n",
       "      <td>A</td>\n",
       "    </tr>\n",
       "    <tr>\n",
       "      <th>3</th>\n",
       "      <td>4</td>\n",
       "      <td>A</td>\n",
       "    </tr>\n",
       "    <tr>\n",
       "      <th>4</th>\n",
       "      <td>-7</td>\n",
       "      <td>A</td>\n",
       "    </tr>\n",
       "  </tbody>\n",
       "</table>\n",
       "</div>"
      ],
      "text/plain": [
       "   vals grps\n",
       "0   -12    A\n",
       "1    -7    B\n",
       "2   -14    A\n",
       "3     4    A\n",
       "4    -7    A"
      ]
     },
     "execution_count": 206,
     "metadata": {},
     "output_type": "execute_result"
    }
   ],
   "source": [
    "df.head()"
   ]
  },
  {
   "cell_type": "code",
   "execution_count": null,
   "id": "7c9103f8",
   "metadata": {},
   "outputs": [],
   "source": []
  },
  {
   "cell_type": "code",
   "execution_count": 209,
   "id": "52794a60",
   "metadata": {},
   "outputs": [],
   "source": [
    "def replace(group):\n",
    "    mask = group<0\n",
    "    group[mask] = group[~mask].mean()\n",
    "    return group"
   ]
  },
  {
   "cell_type": "code",
   "execution_count": null,
   "id": "9dd3c6a4",
   "metadata": {},
   "outputs": [],
   "source": []
  },
  {
   "cell_type": "code",
   "execution_count": 214,
   "id": "e90f807a",
   "metadata": {},
   "outputs": [
    {
     "data": {
      "text/html": [
       "<div>\n",
       "<style scoped>\n",
       "    .dataframe tbody tr th:only-of-type {\n",
       "        vertical-align: middle;\n",
       "    }\n",
       "\n",
       "    .dataframe tbody tr th {\n",
       "        vertical-align: top;\n",
       "    }\n",
       "\n",
       "    .dataframe thead th {\n",
       "        text-align: right;\n",
       "    }\n",
       "</style>\n",
       "<table border=\"1\" class=\"dataframe\">\n",
       "  <thead>\n",
       "    <tr style=\"text-align: right;\">\n",
       "      <th></th>\n",
       "      <th>vals</th>\n",
       "      <th>grps</th>\n",
       "      <th>tranformed_val</th>\n",
       "    </tr>\n",
       "  </thead>\n",
       "  <tbody>\n",
       "    <tr>\n",
       "      <th>0</th>\n",
       "      <td>-12</td>\n",
       "      <td>A</td>\n",
       "      <td>13.6</td>\n",
       "    </tr>\n",
       "    <tr>\n",
       "      <th>1</th>\n",
       "      <td>-7</td>\n",
       "      <td>B</td>\n",
       "      <td>28.0</td>\n",
       "    </tr>\n",
       "    <tr>\n",
       "      <th>2</th>\n",
       "      <td>-14</td>\n",
       "      <td>A</td>\n",
       "      <td>13.6</td>\n",
       "    </tr>\n",
       "    <tr>\n",
       "      <th>3</th>\n",
       "      <td>4</td>\n",
       "      <td>A</td>\n",
       "      <td>4.0</td>\n",
       "    </tr>\n",
       "    <tr>\n",
       "      <th>4</th>\n",
       "      <td>-7</td>\n",
       "      <td>A</td>\n",
       "      <td>13.6</td>\n",
       "    </tr>\n",
       "  </tbody>\n",
       "</table>\n",
       "</div>"
      ],
      "text/plain": [
       "   vals grps  tranformed_val\n",
       "0   -12    A            13.6\n",
       "1    -7    B            28.0\n",
       "2   -14    A            13.6\n",
       "3     4    A             4.0\n",
       "4    -7    A            13.6"
      ]
     },
     "execution_count": 214,
     "metadata": {},
     "output_type": "execute_result"
    }
   ],
   "source": [
    "df['tranformed_val'] = df.groupby(['grps'])['vals'].transform(replace)\n",
    "df.head()"
   ]
  },
  {
   "cell_type": "code",
   "execution_count": 227,
   "id": "dddd611e",
   "metadata": {},
   "outputs": [
    {
     "data": {
      "text/html": [
       "<div>\n",
       "<style scoped>\n",
       "    .dataframe tbody tr th:only-of-type {\n",
       "        vertical-align: middle;\n",
       "    }\n",
       "\n",
       "    .dataframe tbody tr th {\n",
       "        vertical-align: top;\n",
       "    }\n",
       "\n",
       "    .dataframe thead th {\n",
       "        text-align: right;\n",
       "    }\n",
       "</style>\n",
       "<table border=\"1\" class=\"dataframe\">\n",
       "  <thead>\n",
       "    <tr style=\"text-align: right;\">\n",
       "      <th></th>\n",
       "      <th>vals</th>\n",
       "      <th>grps</th>\n",
       "      <th>tranformed_val</th>\n",
       "    </tr>\n",
       "  </thead>\n",
       "  <tbody>\n",
       "    <tr>\n",
       "      <th>1</th>\n",
       "      <td>-7</td>\n",
       "      <td>B</td>\n",
       "      <td>28.0</td>\n",
       "    </tr>\n",
       "    <tr>\n",
       "      <th>5</th>\n",
       "      <td>28</td>\n",
       "      <td>B</td>\n",
       "      <td>28.0</td>\n",
       "    </tr>\n",
       "    <tr>\n",
       "      <th>9</th>\n",
       "      <td>-2</td>\n",
       "      <td>B</td>\n",
       "      <td>28.0</td>\n",
       "    </tr>\n",
       "  </tbody>\n",
       "</table>\n",
       "</div>"
      ],
      "text/plain": [
       "   vals grps  tranformed_val\n",
       "1    -7    B            28.0\n",
       "5    28    B            28.0\n",
       "9    -2    B            28.0"
      ]
     },
     "execution_count": 227,
     "metadata": {},
     "output_type": "execute_result"
    }
   ],
   "source": [
    "df[df['grps'] =='B'].head()"
   ]
  },
  {
   "cell_type": "code",
   "execution_count": 228,
   "id": "0e107560",
   "metadata": {},
   "outputs": [
    {
     "data": {
      "text/plain": [
       "3      4\n",
       "8      8\n",
       "10    28\n",
       "11    12\n",
       "12    16\n",
       "Name: vals, dtype: int32"
      ]
     },
     "execution_count": 228,
     "metadata": {},
     "output_type": "execute_result"
    }
   ],
   "source": [
    "df.loc[((df['grps'] =='A') & (df['vals']>0)),'vals']"
   ]
  },
  {
   "cell_type": "code",
   "execution_count": 230,
   "id": "01f70fb3",
   "metadata": {},
   "outputs": [
    {
     "data": {
      "text/html": [
       "<div>\n",
       "<style scoped>\n",
       "    .dataframe tbody tr th:only-of-type {\n",
       "        vertical-align: middle;\n",
       "    }\n",
       "\n",
       "    .dataframe tbody tr th {\n",
       "        vertical-align: top;\n",
       "    }\n",
       "\n",
       "    .dataframe thead th {\n",
       "        text-align: right;\n",
       "    }\n",
       "</style>\n",
       "<table border=\"1\" class=\"dataframe\">\n",
       "  <thead>\n",
       "    <tr style=\"text-align: right;\">\n",
       "      <th></th>\n",
       "      <th>group</th>\n",
       "      <th>value</th>\n",
       "    </tr>\n",
       "  </thead>\n",
       "  <tbody>\n",
       "    <tr>\n",
       "      <th>0</th>\n",
       "      <td>a</td>\n",
       "      <td>1.0</td>\n",
       "    </tr>\n",
       "    <tr>\n",
       "      <th>1</th>\n",
       "      <td>a</td>\n",
       "      <td>2.0</td>\n",
       "    </tr>\n",
       "    <tr>\n",
       "      <th>2</th>\n",
       "      <td>b</td>\n",
       "      <td>3.0</td>\n",
       "    </tr>\n",
       "    <tr>\n",
       "      <th>3</th>\n",
       "      <td>b</td>\n",
       "      <td>NaN</td>\n",
       "    </tr>\n",
       "    <tr>\n",
       "      <th>4</th>\n",
       "      <td>a</td>\n",
       "      <td>2.0</td>\n",
       "    </tr>\n",
       "    <tr>\n",
       "      <th>5</th>\n",
       "      <td>b</td>\n",
       "      <td>3.0</td>\n",
       "    </tr>\n",
       "    <tr>\n",
       "      <th>6</th>\n",
       "      <td>b</td>\n",
       "      <td>NaN</td>\n",
       "    </tr>\n",
       "    <tr>\n",
       "      <th>7</th>\n",
       "      <td>b</td>\n",
       "      <td>1.0</td>\n",
       "    </tr>\n",
       "    <tr>\n",
       "      <th>8</th>\n",
       "      <td>a</td>\n",
       "      <td>7.0</td>\n",
       "    </tr>\n",
       "    <tr>\n",
       "      <th>9</th>\n",
       "      <td>b</td>\n",
       "      <td>3.0</td>\n",
       "    </tr>\n",
       "    <tr>\n",
       "      <th>10</th>\n",
       "      <td>a</td>\n",
       "      <td>NaN</td>\n",
       "    </tr>\n",
       "    <tr>\n",
       "      <th>11</th>\n",
       "      <td>b</td>\n",
       "      <td>8.0</td>\n",
       "    </tr>\n",
       "  </tbody>\n",
       "</table>\n",
       "</div>"
      ],
      "text/plain": [
       "   group  value\n",
       "0      a    1.0\n",
       "1      a    2.0\n",
       "2      b    3.0\n",
       "3      b    NaN\n",
       "4      a    2.0\n",
       "5      b    3.0\n",
       "6      b    NaN\n",
       "7      b    1.0\n",
       "8      a    7.0\n",
       "9      b    3.0\n",
       "10     a    NaN\n",
       "11     b    8.0"
      ]
     },
     "execution_count": 230,
     "metadata": {},
     "output_type": "execute_result"
    }
   ],
   "source": [
    "df = pd.DataFrame({'group': list('aabbabbbabab'),\n",
    "                       'value': [1, 2, 3, np.nan, 2, 3, np.nan, 1, 7, 3, np.nan, 8]})\n",
    "df"
   ]
  },
  {
   "cell_type": "code",
   "execution_count": 234,
   "id": "34c8ff80",
   "metadata": {},
   "outputs": [],
   "source": [
    "g1 = df.groupby(['group'])['value']"
   ]
  },
  {
   "cell_type": "code",
   "execution_count": 235,
   "id": "49e3136f",
   "metadata": {},
   "outputs": [],
   "source": [
    "g2 = df.fillna(0).groupby(['group'])['value']"
   ]
  },
  {
   "cell_type": "code",
   "execution_count": 243,
   "id": "f33c0fd5",
   "metadata": {},
   "outputs": [
    {
     "data": {
      "text/plain": [
       "group    \n",
       "a      0      NaN\n",
       "       1      NaN\n",
       "       4      5.0\n",
       "       8     11.0\n",
       "       10     9.0\n",
       "b      2      NaN\n",
       "       3      NaN\n",
       "       5      6.0\n",
       "       6      3.0\n",
       "       7      4.0\n",
       "       9      4.0\n",
       "       11    12.0\n",
       "Name: value, dtype: float64"
      ]
     },
     "execution_count": 243,
     "metadata": {},
     "output_type": "execute_result"
    }
   ],
   "source": [
    "g2.rolling(3,min_preiods=2).sum()"
   ]
  },
  {
   "cell_type": "code",
   "execution_count": null,
   "id": "225a6e56",
   "metadata": {},
   "outputs": [],
   "source": []
  }
 ],
 "metadata": {
  "kernelspec": {
   "display_name": "Python 3",
   "language": "python",
   "name": "python3"
  },
  "language_info": {
   "codemirror_mode": {
    "name": "ipython",
    "version": 3
   },
   "file_extension": ".py",
   "mimetype": "text/x-python",
   "name": "python",
   "nbconvert_exporter": "python",
   "pygments_lexer": "ipython3",
   "version": "3.8.8"
  }
 },
 "nbformat": 4,
 "nbformat_minor": 5
}
