{
 "cells": [
  {
   "cell_type": "markdown",
   "id": "95a6060f",
   "metadata": {},
   "source": [
    "# 1. Import numpy library and see the version"
   ]
  },
  {
   "cell_type": "code",
   "execution_count": 1,
   "id": "b76add50",
   "metadata": {},
   "outputs": [
    {
     "data": {
      "text/plain": [
       "'1.20.1'"
      ]
     },
     "execution_count": 1,
     "metadata": {},
     "output_type": "execute_result"
    }
   ],
   "source": [
    "import numpy as np\n",
    "np.__version__"
   ]
  },
  {
   "cell_type": "markdown",
   "id": "06ffb694",
   "metadata": {},
   "source": [
    "# 2. How to create a 1D array ranging from 1 to 100?"
   ]
  },
  {
   "cell_type": "code",
   "execution_count": 2,
   "id": "30746acf",
   "metadata": {},
   "outputs": [
    {
     "data": {
      "text/plain": [
       "array([  1,   2,   3,   4,   5,   6,   7,   8,   9,  10,  11,  12,  13,\n",
       "        14,  15,  16,  17,  18,  19,  20,  21,  22,  23,  24,  25,  26,\n",
       "        27,  28,  29,  30,  31,  32,  33,  34,  35,  36,  37,  38,  39,\n",
       "        40,  41,  42,  43,  44,  45,  46,  47,  48,  49,  50,  51,  52,\n",
       "        53,  54,  55,  56,  57,  58,  59,  60,  61,  62,  63,  64,  65,\n",
       "        66,  67,  68,  69,  70,  71,  72,  73,  74,  75,  76,  77,  78,\n",
       "        79,  80,  81,  82,  83,  84,  85,  86,  87,  88,  89,  90,  91,\n",
       "        92,  93,  94,  95,  96,  97,  98,  99, 100])"
      ]
     },
     "execution_count": 2,
     "metadata": {},
     "output_type": "execute_result"
    }
   ],
   "source": [
    "np.arange(1,101) #arange(start,stop,skip)"
   ]
  },
  {
   "cell_type": "markdown",
   "id": "b806405d",
   "metadata": {},
   "source": [
    "# 3. How to create a 2-D array?"
   ]
  },
  {
   "cell_type": "code",
   "execution_count": 5,
   "id": "6fe6ee25",
   "metadata": {},
   "outputs": [
    {
     "name": "stdout",
     "output_type": "stream",
     "text": [
      "[[1 2 3 4 5 6 7 8 9]]\n",
      "2\n"
     ]
    }
   ],
   "source": [
    "a= np.arange(1,10)\n",
    "a = np.array(a,ndmin = 2)\n",
    "print(a)\n",
    "print((np.array(a,ndmin = 2)).ndim)"
   ]
  },
  {
   "cell_type": "markdown",
   "id": "0ada9fc8",
   "metadata": {},
   "source": [
    "# 4. How to create a 3-D array?"
   ]
  },
  {
   "cell_type": "code",
   "execution_count": 7,
   "id": "111816a7",
   "metadata": {},
   "outputs": [
    {
     "name": "stdout",
     "output_type": "stream",
     "text": [
      "[[[1 2 3 4 5 6 7 8 9]]]\n",
      "3\n"
     ]
    }
   ],
   "source": [
    "a= np.arange(1,10)\n",
    "a = np.array(a,ndmin = 3)\n",
    "print(a)\n",
    "print((np.array(a,ndmin = 3)).ndim)"
   ]
  },
  {
   "cell_type": "markdown",
   "id": "72cccef5",
   "metadata": {},
   "source": [
    "# 5. How to create a boolean array?"
   ]
  },
  {
   "cell_type": "code",
   "execution_count": 8,
   "id": "4e302bb2",
   "metadata": {},
   "outputs": [
    {
     "data": {
      "text/plain": [
       "array([[ True,  True,  True],\n",
       "       [ True,  True,  True],\n",
       "       [ True,  True,  True]])"
      ]
     },
     "execution_count": 8,
     "metadata": {},
     "output_type": "execute_result"
    }
   ],
   "source": [
    "np.full((3,3),fill_value=True,dtype =bool)"
   ]
  },
  {
   "cell_type": "code",
   "execution_count": 9,
   "id": "7379c8e6",
   "metadata": {},
   "outputs": [
    {
     "data": {
      "text/plain": [
       "array([[ True,  True,  True],\n",
       "       [ True,  True,  True],\n",
       "       [ True,  True,  True]])"
      ]
     },
     "execution_count": 9,
     "metadata": {},
     "output_type": "execute_result"
    }
   ],
   "source": [
    "#Alternate method \n",
    "np.ones((3,3), dtype=bool)"
   ]
  },
  {
   "cell_type": "markdown",
   "id": "f469afbd",
   "metadata": {},
   "source": [
    "# 6. How to create a 5 by 5 array of all ones?"
   ]
  },
  {
   "cell_type": "code",
   "execution_count": 10,
   "id": "a4d0f1ed",
   "metadata": {},
   "outputs": [
    {
     "data": {
      "text/plain": [
       "array([[1, 1, 1, 1, 1],\n",
       "       [1, 1, 1, 1, 1],\n",
       "       [1, 1, 1, 1, 1],\n",
       "       [1, 1, 1, 1, 1],\n",
       "       [1, 1, 1, 1, 1]])"
      ]
     },
     "execution_count": 10,
     "metadata": {},
     "output_type": "execute_result"
    }
   ],
   "source": [
    "np.full((5,5),fill_value=1, dtype =int)"
   ]
  },
  {
   "cell_type": "markdown",
   "id": "bab7c1d8",
   "metadata": {},
   "source": [
    "# 7. How to extract items that satisfy a given condition from 1D array?"
   ]
  },
  {
   "cell_type": "markdown",
   "id": "b7f75f4f",
   "metadata": {},
   "source": [
    "$arr = np.array([0, 1, 2, 3, 4, 5, 6, 7, 8, 9])$\n",
    "\n",
    "**Desired output:** $array([1, 3, 5, 7, 9])$"
   ]
  },
  {
   "cell_type": "code",
   "execution_count": 11,
   "id": "22c6194d",
   "metadata": {},
   "outputs": [
    {
     "name": "stdout",
     "output_type": "stream",
     "text": [
      "[False  True False  True False  True False  True False  True]\n"
     ]
    },
    {
     "data": {
      "text/plain": [
       "array([1, 3, 5, 7, 9])"
      ]
     },
     "execution_count": 11,
     "metadata": {},
     "output_type": "execute_result"
    }
   ],
   "source": [
    "𝑎𝑟𝑟=𝑛𝑝.𝑎𝑟𝑟𝑎𝑦([0,1,2,3,4,5,6,7,8,9])\n",
    "condition = arr%2 == 1 #Extracting all odd numbers\n",
    "print(condition)\n",
    "arr[condition]"
   ]
  },
  {
   "cell_type": "markdown",
   "id": "a32f62b0",
   "metadata": {},
   "source": [
    "# 8. How to replace items that satisfy a condition with another value in numpy array?"
   ]
  },
  {
   "cell_type": "markdown",
   "id": "01a86e33",
   "metadata": {},
   "source": [
    "**Replace all odd numbers in arr with -1**\n",
    "\n",
    "**Input:**\n",
    "\n",
    "$array([0, 1, 2, 3, 4, 5, 6, 7, 8, 9])$\n",
    "\n",
    "**Desired Output:**\n",
    "\n",
    "$array([ 0, -1,  2, -1,  4, -1,  6, -1,  8, -1])$"
   ]
  },
  {
   "cell_type": "code",
   "execution_count": 13,
   "id": "0cc24030",
   "metadata": {},
   "outputs": [
    {
     "name": "stdout",
     "output_type": "stream",
     "text": [
      "[1 3 5 7 9]\n"
     ]
    },
    {
     "data": {
      "text/plain": [
       "array([ 0, -1,  2, -1,  4, -1,  6, -1,  8, -1])"
      ]
     },
     "execution_count": 13,
     "metadata": {},
     "output_type": "execute_result"
    }
   ],
   "source": [
    "arr = np.arange(0,10)\n",
    "condition = arr%2 ==1 #finding all the odd numbers\n",
    "print(arr[condition])\n",
    "arr[condition] = -1 #replacing all the true with -1\n",
    "arr #printing the array after replacing the values"
   ]
  },
  {
   "cell_type": "markdown",
   "id": "48a388ea",
   "metadata": {},
   "source": [
    "# 9.How to reshape an array?"
   ]
  },
  {
   "cell_type": "markdown",
   "id": "b22c5078",
   "metadata": {},
   "source": [
    "**Convert a 1D array to a 2D array with 2 rows**\n",
    "\n",
    "**Input:**\n",
    "$array([ 0, 1, 2, 3, 4, 5, 6, 7, 8, 9])$\n",
    "\n",
    "**Desired Output:**\n",
    "\n",
    "$ array([[0, 1, 2, 3, 4],\n",
    "        [5, 6, 7, 8, 9]])$"
   ]
  },
  {
   "cell_type": "code",
   "execution_count": 14,
   "id": "3b05ad86",
   "metadata": {},
   "outputs": [
    {
     "data": {
      "text/plain": [
       "array([[0, 1, 2, 3, 4],\n",
       "       [5, 6, 7, 8, 9]])"
      ]
     },
     "execution_count": 14,
     "metadata": {},
     "output_type": "execute_result"
    }
   ],
   "source": [
    "arr = np.arange(10)\n",
    "arr.reshape(2,5)\n",
    "arr.reshape(2,-1) #-1 will automatically identify the number of columns"
   ]
  },
  {
   "cell_type": "code",
   "execution_count": 17,
   "id": "bfac1880",
   "metadata": {},
   "outputs": [
    {
     "data": {
      "text/plain": [
       "array([[0, 1, 2, 3, 4],\n",
       "       [5, 6, 7, 8, 9]])"
      ]
     },
     "execution_count": 17,
     "metadata": {},
     "output_type": "execute_result"
    }
   ],
   "source": [
    "arr.reshape(-1,5)"
   ]
  },
  {
   "cell_type": "markdown",
   "id": "a25b5c99",
   "metadata": {},
   "source": [
    "# 10. How to stack two arrays vertically?"
   ]
  },
  {
   "cell_type": "code",
   "execution_count": 21,
   "id": "99716120",
   "metadata": {},
   "outputs": [
    {
     "name": "stdout",
     "output_type": "stream",
     "text": [
      "[[0 1 2 3 4]\n",
      " [5 6 7 8 9]]\n",
      "\n",
      " [[1 1 1 1 1]\n",
      " [1 1 1 1 1]]\n"
     ]
    }
   ],
   "source": [
    "arr1 = np.arange(10).reshape(2,-1)\n",
    "arr2 = np.repeat(1,10).reshape(2,-1)\n",
    "print(arr1)\n",
    "print(\"\\n\",arr2)"
   ]
  },
  {
   "cell_type": "code",
   "execution_count": 22,
   "id": "d6da01aa",
   "metadata": {},
   "outputs": [
    {
     "data": {
      "text/plain": [
       "array([[0, 1, 2, 3, 4],\n",
       "       [5, 6, 7, 8, 9],\n",
       "       [1, 1, 1, 1, 1],\n",
       "       [1, 1, 1, 1, 1]])"
      ]
     },
     "execution_count": 22,
     "metadata": {},
     "output_type": "execute_result"
    }
   ],
   "source": [
    "#first method\n",
    "np.concatenate((arr1,arr2),axis = 0)"
   ]
  },
  {
   "cell_type": "code",
   "execution_count": 23,
   "id": "3e027bf6",
   "metadata": {},
   "outputs": [
    {
     "data": {
      "text/plain": [
       "array([[0, 1, 2, 3, 4],\n",
       "       [5, 6, 7, 8, 9],\n",
       "       [1, 1, 1, 1, 1],\n",
       "       [1, 1, 1, 1, 1]])"
      ]
     },
     "execution_count": 23,
     "metadata": {},
     "output_type": "execute_result"
    }
   ],
   "source": [
    "#second method\n",
    "np.vstack([arr1,arr2])"
   ]
  },
  {
   "cell_type": "code",
   "execution_count": 24,
   "id": "15a2fe5b",
   "metadata": {},
   "outputs": [
    {
     "data": {
      "text/plain": [
       "array([[0, 1, 2, 3, 4],\n",
       "       [5, 6, 7, 8, 9],\n",
       "       [1, 1, 1, 1, 1],\n",
       "       [1, 1, 1, 1, 1]])"
      ]
     },
     "execution_count": 24,
     "metadata": {},
     "output_type": "execute_result"
    }
   ],
   "source": [
    "#third method\n",
    "np.r_[arr1,arr2]"
   ]
  },
  {
   "cell_type": "markdown",
   "id": "e6d4dae1",
   "metadata": {},
   "source": [
    "# 11. How to stack two arrays horizontally?"
   ]
  },
  {
   "cell_type": "code",
   "execution_count": 31,
   "id": "5035ee46",
   "metadata": {},
   "outputs": [
    {
     "name": "stdout",
     "output_type": "stream",
     "text": [
      "[[0 1 2 3 4]\n",
      " [5 6 7 8 9]]\n",
      "\n",
      " [[1 1 1 1 1]\n",
      " [1 1 1 1 1]]\n"
     ]
    }
   ],
   "source": [
    "print(arr1)\n",
    "print(\"\\n\", arr2)"
   ]
  },
  {
   "cell_type": "code",
   "execution_count": 32,
   "id": "332a01f1",
   "metadata": {},
   "outputs": [
    {
     "data": {
      "text/plain": [
       "array([[0, 1, 2, 3, 4, 1, 1, 1, 1, 1],\n",
       "       [5, 6, 7, 8, 9, 1, 1, 1, 1, 1]])"
      ]
     },
     "execution_count": 32,
     "metadata": {},
     "output_type": "execute_result"
    }
   ],
   "source": [
    "#first method\n",
    "np.column_stack((arr1,arr2))"
   ]
  },
  {
   "cell_type": "code",
   "execution_count": 33,
   "id": "eb8aaaca",
   "metadata": {},
   "outputs": [
    {
     "data": {
      "text/plain": [
       "array([[0, 1, 2, 3, 4, 1, 1, 1, 1, 1],\n",
       "       [5, 6, 7, 8, 9, 1, 1, 1, 1, 1]])"
      ]
     },
     "execution_count": 33,
     "metadata": {},
     "output_type": "execute_result"
    }
   ],
   "source": [
    "#second method\n",
    "np.concatenate((arr1,arr2),axis =1)"
   ]
  },
  {
   "cell_type": "code",
   "execution_count": 34,
   "id": "a0c92c4e",
   "metadata": {},
   "outputs": [
    {
     "data": {
      "text/plain": [
       "array([[0, 1, 2, 3, 4, 1, 1, 1, 1, 1],\n",
       "       [5, 6, 7, 8, 9, 1, 1, 1, 1, 1]])"
      ]
     },
     "execution_count": 34,
     "metadata": {},
     "output_type": "execute_result"
    }
   ],
   "source": [
    "#third method\n",
    "np.c_[arr1,arr2]"
   ]
  },
  {
   "cell_type": "code",
   "execution_count": 35,
   "id": "c9507844",
   "metadata": {},
   "outputs": [
    {
     "data": {
      "text/plain": [
       "array([[0, 1, 2, 3, 4, 1, 1, 1, 1, 1],\n",
       "       [5, 6, 7, 8, 9, 1, 1, 1, 1, 1]])"
      ]
     },
     "execution_count": 35,
     "metadata": {},
     "output_type": "execute_result"
    }
   ],
   "source": [
    "#Method-4\n",
    "np.hstack((arr1,arr2))"
   ]
  },
  {
   "cell_type": "markdown",
   "id": "dbbf60f1",
   "metadata": {},
   "source": [
    "# 12. How to generate custom sequences in numpy without hardcoding?"
   ]
  },
  {
   "cell_type": "markdown",
   "id": "3b46db9e",
   "metadata": {},
   "source": [
    "**Input:**\n",
    "\n",
    "$array([1,2,3])$\n",
    "\n",
    "**Desired Output:**\n",
    "\n",
    "$array([1, 1, 1, 2, 2, 2, 3, 3, 3, 1, 2, 3, 1, 2, 3, 1, 2, 3])$"
   ]
  },
  {
   "cell_type": "code",
   "execution_count": 36,
   "id": "36fcbae9",
   "metadata": {},
   "outputs": [
    {
     "name": "stdout",
     "output_type": "stream",
     "text": [
      "[1 2 3]\n"
     ]
    }
   ],
   "source": [
    "arr1 = np.arange(1,4)\n",
    "print(arr1)"
   ]
  },
  {
   "cell_type": "code",
   "execution_count": 37,
   "id": "275ed3ec",
   "metadata": {},
   "outputs": [
    {
     "data": {
      "text/plain": [
       "array([1, 1, 1, 2, 2, 2, 3, 3, 3])"
      ]
     },
     "execution_count": 37,
     "metadata": {},
     "output_type": "execute_result"
    }
   ],
   "source": [
    "np.repeat(arr1,3) #repeat every number 3 times in a row"
   ]
  },
  {
   "cell_type": "code",
   "execution_count": 38,
   "id": "d75e6a60",
   "metadata": {},
   "outputs": [
    {
     "data": {
      "text/plain": [
       "array([1, 2, 3, 1, 2, 3, 1, 2, 3])"
      ]
     },
     "execution_count": 38,
     "metadata": {},
     "output_type": "execute_result"
    }
   ],
   "source": [
    "np.tile(arr1,3) #repeat sequence 3 times"
   ]
  },
  {
   "cell_type": "code",
   "execution_count": 39,
   "id": "6b903f53",
   "metadata": {},
   "outputs": [
    {
     "data": {
      "text/plain": [
       "array([1, 1, 1, 2, 2, 2, 3, 3, 3, 1, 2, 3, 1, 2, 3, 1, 2, 3])"
      ]
     },
     "execution_count": 39,
     "metadata": {},
     "output_type": "execute_result"
    }
   ],
   "source": [
    "np.r_[np.repeat(arr1,3),np.tile(arr1,3)]"
   ]
  },
  {
   "cell_type": "markdown",
   "id": "8075e835",
   "metadata": {},
   "source": [
    "# 13. How to get the common items between two python numpy arrays?"
   ]
  },
  {
   "cell_type": "markdown",
   "id": "f6cbb8cd",
   "metadata": {},
   "source": [
    "**Get the common items between a and b**\n",
    "\n",
    "**Input:**\n",
    "\n",
    "$array([1,2,3,2,3,4,3,4,5,6])$<br>\n",
    "$array([7,2,10,2,7,4,9,4,9,8])$\n",
    "\n",
    "**Desired Output:**\n",
    "\n",
    "$array([2, 4])$"
   ]
  },
  {
   "cell_type": "code",
   "execution_count": 40,
   "id": "39313bf5",
   "metadata": {},
   "outputs": [
    {
     "data": {
      "text/plain": [
       "array([2, 4])"
      ]
     },
     "execution_count": 40,
     "metadata": {},
     "output_type": "execute_result"
    }
   ],
   "source": [
    "arr1 = np.array([1,2,3,2,3,4,3,4,5,6])\n",
    "arr2 = np.array([7,2,10,2,7,4,9,4,9,8])\n",
    "np.intersect1d(arr1,arr2)"
   ]
  },
  {
   "cell_type": "markdown",
   "id": "d027f716",
   "metadata": {},
   "source": [
    "# 14. How to remove from one array those items that exist in another?"
   ]
  },
  {
   "cell_type": "markdown",
   "id": "393d2433",
   "metadata": {},
   "source": [
    "**From array a remove all items present in array b**\n",
    "\n",
    "**Input:**\n",
    "\n",
    "$array([1,2,3,4,5])$<br>\n",
    "$array([5,6,7,8,9])$\n",
    "\n",
    "**Desired Output:**\n",
    "\n",
    "$array([1,2,3,4])$"
   ]
  },
  {
   "cell_type": "code",
   "execution_count": 43,
   "id": "3cd74ba7",
   "metadata": {},
   "outputs": [
    {
     "name": "stdout",
     "output_type": "stream",
     "text": [
      "[1 2 3 4 5]\n",
      "[5 6 7 8 9]\n"
     ]
    },
    {
     "data": {
      "text/plain": [
       "array([1, 2, 3, 4])"
      ]
     },
     "execution_count": 43,
     "metadata": {},
     "output_type": "execute_result"
    }
   ],
   "source": [
    "a1 = np.array([1,2,3,4,5]) \n",
    "a2 = np.array([5,6,7,8,9])\n",
    "print(a1)\n",
    "print(a2)\n",
    "np.setdiff1d(a1,a2)"
   ]
  },
  {
   "cell_type": "markdown",
   "id": "ad825aba",
   "metadata": {},
   "source": [
    "# 15. How to get the positions where elements of two arrays match?"
   ]
  },
  {
   "cell_type": "markdown",
   "id": "47ac9cf8",
   "metadata": {},
   "source": [
    "**Input:**\n",
    "\n",
    "$array([1,2,3,2,3,4,3,4,5,6])$<br>\n",
    "$array([7,2,10,2,7,4,9,4,9,8])$\n",
    "\n",
    "**Desired Output:**\n",
    "\n",
    "$(array([1, 3, 5, 7]),)$"
   ]
  },
  {
   "cell_type": "code",
   "execution_count": 44,
   "id": "1ed88410",
   "metadata": {},
   "outputs": [],
   "source": [
    "arr1 =np.𝑎𝑟𝑟𝑎𝑦([1,2,3,2,3,4,3,4,5,6]) \n",
    "arr2 = np.𝑎𝑟𝑟𝑎𝑦([7,2,10,2,7,4,9,4,9,8])"
   ]
  },
  {
   "cell_type": "code",
   "execution_count": 45,
   "id": "cbcf271e",
   "metadata": {},
   "outputs": [
    {
     "data": {
      "text/plain": [
       "(array([1, 3, 5, 7], dtype=int64),)"
      ]
     },
     "execution_count": 45,
     "metadata": {},
     "output_type": "execute_result"
    }
   ],
   "source": [
    "np.where(arr1==arr2)"
   ]
  },
  {
   "cell_type": "code",
   "execution_count": 46,
   "id": "0dc93d1e",
   "metadata": {},
   "outputs": [
    {
     "data": {
      "text/plain": [
       "array([2, 2, 4, 4])"
      ]
     },
     "execution_count": 46,
     "metadata": {},
     "output_type": "execute_result"
    }
   ],
   "source": [
    "#Extract those elements\n",
    "condition = np.where(arr1==arr2)\n",
    "arr1[condition]"
   ]
  },
  {
   "cell_type": "markdown",
   "id": "04b28f69",
   "metadata": {},
   "source": [
    "# 16. How to extract all numbers between a given range from a numpy array?"
   ]
  },
  {
   "cell_type": "markdown",
   "id": "8df87945",
   "metadata": {},
   "source": [
    "**Get all items between 5 and 10 from given array**\n",
    "\n",
    "**Input:**\n",
    "\n",
    "$array([2, 6, 1, 9, 10, 3, 27])$\n",
    "\n",
    "**Desired Output:**\n",
    "\n",
    "$(array([6, 9, 10]),)$"
   ]
  },
  {
   "cell_type": "code",
   "execution_count": 47,
   "id": "6f312f07",
   "metadata": {},
   "outputs": [
    {
     "data": {
      "text/plain": [
       "array([ 6,  9, 10])"
      ]
     },
     "execution_count": 47,
     "metadata": {},
     "output_type": "execute_result"
    }
   ],
   "source": [
    "#creating the array\n",
    "arr1 = np.array([2,6,1,9,10,3,27])\n",
    "#fetching the index\n",
    "index = np.where((arr1>=5) & (arr1<=10))\n",
    "#filtering the array \n",
    "arr1[index]"
   ]
  },
  {
   "cell_type": "code",
   "execution_count": 48,
   "id": "8764652e",
   "metadata": {},
   "outputs": [
    {
     "data": {
      "text/plain": [
       "array([ 6,  9, 10])"
      ]
     },
     "execution_count": 48,
     "metadata": {},
     "output_type": "execute_result"
    }
   ],
   "source": [
    "# Method 2:\n",
    "index = np.where(np.logical_and(arr1>=5,arr1<=10))\n",
    "arr1[index]"
   ]
  },
  {
   "cell_type": "code",
   "execution_count": 49,
   "id": "840c91ec",
   "metadata": {},
   "outputs": [
    {
     "data": {
      "text/plain": [
       "array([ 6,  9, 10])"
      ]
     },
     "execution_count": 49,
     "metadata": {},
     "output_type": "execute_result"
    }
   ],
   "source": [
    "#Method 3:\n",
    "arr1[(arr1>=5) & (arr1<=10)]"
   ]
  },
  {
   "cell_type": "markdown",
   "id": "96462c56",
   "metadata": {},
   "source": [
    "# 17. How to make a python function that handles scalars to work on numpy arrays?"
   ]
  },
  {
   "cell_type": "markdown",
   "id": "4c07868a",
   "metadata": {},
   "source": [
    "**Input:**<br>\n",
    "$Array1 : array([5, 7, 9, 8, 6, 4, 5])$<br>\n",
    "$Array2 :array([6, 3, 4, 8, 9, 7, 1])$\n",
    "\n",
    "**Desired Output: Comparing two arrays and returning maximum of each element**<br>\n",
    "$([ 6.,  7.,  9.,  8.,  9.,  7.,  5.])$"
   ]
  },
  {
   "cell_type": "code",
   "execution_count": 50,
   "id": "920175a9",
   "metadata": {},
   "outputs": [],
   "source": [
    "#function to find maximum between two elements\n",
    "def pair_max(x,y):\n",
    "    '''Get maximum of two items'''\n",
    "    if x>y:\n",
    "        return x\n",
    "    else:\n",
    "        return y"
   ]
  },
  {
   "cell_type": "code",
   "execution_count": 57,
   "id": "0403f724",
   "metadata": {},
   "outputs": [
    {
     "name": "stdout",
     "output_type": "stream",
     "text": [
      "[5 7 9 8 6 4 5]\n",
      "[6 3 4 8 9 7 1]\n"
     ]
    },
    {
     "data": {
      "text/plain": [
       "array([6., 7., 9., 8., 9., 7., 5.])"
      ]
     },
     "execution_count": 57,
     "metadata": {},
     "output_type": "execute_result"
    }
   ],
   "source": [
    "arr1 = np.array([5,7,9,8,6,4,5])\n",
    "arr2 = np.array([6,3,4,8,9,7,1])\n",
    "print(arr1)\n",
    "print(arr2)\n",
    "p_max = np.vectorize(pair_max,otypes = [float])  #map/lambdas\n",
    "p_max(arr1,arr2)"
   ]
  },
  {
   "cell_type": "markdown",
   "id": "7f429e5a",
   "metadata": {},
   "source": [
    "# 18. How to swap two columns in a 2d numpy array?"
   ]
  },
  {
   "cell_type": "code",
   "execution_count": 58,
   "id": "fb47bd97",
   "metadata": {},
   "outputs": [
    {
     "data": {
      "text/plain": [
       "array([[ 0,  1,  2,  3,  4],\n",
       "       [ 5,  6,  7,  8,  9],\n",
       "       [10, 11, 12, 13, 14]])"
      ]
     },
     "execution_count": 58,
     "metadata": {},
     "output_type": "execute_result"
    }
   ],
   "source": [
    "arr1 = np.arange(15).reshape(3,5)\n",
    "arr1"
   ]
  },
  {
   "cell_type": "code",
   "execution_count": 62,
   "id": "cf680b0e",
   "metadata": {},
   "outputs": [
    {
     "data": {
      "text/plain": [
       "array([[ 2,  4,  0,  3,  1],\n",
       "       [ 7,  9,  5,  8,  6],\n",
       "       [12, 14, 10, 13, 11]])"
      ]
     },
     "execution_count": 62,
     "metadata": {},
     "output_type": "execute_result"
    }
   ],
   "source": [
    "#swapping columns -> first and third, second and fifth\n",
    "arr1[:,[2,4,0,3,1]]"
   ]
  },
  {
   "cell_type": "markdown",
   "id": "2a744811",
   "metadata": {},
   "source": [
    "# 19. How to swap two rows in a 2d numpy array?\n"
   ]
  },
  {
   "cell_type": "code",
   "execution_count": 63,
   "id": "3e5e9f1d",
   "metadata": {},
   "outputs": [
    {
     "data": {
      "text/plain": [
       "array([[10, 11, 12, 13, 14],\n",
       "       [ 5,  6,  7,  8,  9],\n",
       "       [ 0,  1,  2,  3,  4]])"
      ]
     },
     "execution_count": 63,
     "metadata": {},
     "output_type": "execute_result"
    }
   ],
   "source": [
    "#swapping first and third row\n",
    "arr1[[2,1,0],:]"
   ]
  },
  {
   "cell_type": "markdown",
   "id": "815e0e78",
   "metadata": {},
   "source": [
    "# 20. How to reverse the rows of a 2D array?"
   ]
  },
  {
   "cell_type": "code",
   "execution_count": 76,
   "id": "d5a9ab9b",
   "metadata": {},
   "outputs": [
    {
     "name": "stdout",
     "output_type": "stream",
     "text": [
      "[[0 1 2]\n",
      " [3 4 5]\n",
      " [6 7 8]]\n"
     ]
    }
   ],
   "source": [
    "arr1 = np.arange(9).reshape(3,3)\n",
    "print(arr1)"
   ]
  },
  {
   "cell_type": "code",
   "execution_count": 68,
   "id": "db786792",
   "metadata": {},
   "outputs": [
    {
     "data": {
      "text/plain": [
       "array([[6, 7, 8],\n",
       "       [3, 4, 5],\n",
       "       [0, 1, 2]])"
      ]
     },
     "execution_count": 68,
     "metadata": {},
     "output_type": "execute_result"
    }
   ],
   "source": [
    "#Method -1\n",
    "arr1[::-1,:] # arr1[::-1]"
   ]
  },
  {
   "cell_type": "code",
   "execution_count": 66,
   "id": "14e27820",
   "metadata": {},
   "outputs": [
    {
     "data": {
      "text/plain": [
       "array([[6, 7, 8],\n",
       "       [3, 4, 5],\n",
       "       [0, 1, 2]])"
      ]
     },
     "execution_count": 66,
     "metadata": {},
     "output_type": "execute_result"
    }
   ],
   "source": [
    "#Method -2\n",
    "np.flip(arr1,axis = 0)"
   ]
  },
  {
   "cell_type": "markdown",
   "id": "82e571bf",
   "metadata": {},
   "source": [
    "# 21. How to reverse the columns of a 2D array?"
   ]
  },
  {
   "cell_type": "code",
   "execution_count": 71,
   "id": "de4f6fb1",
   "metadata": {},
   "outputs": [
    {
     "name": "stdout",
     "output_type": "stream",
     "text": [
      "[[0 1 2]\n",
      " [3 4 5]\n",
      " [6 7 8]]\n"
     ]
    }
   ],
   "source": [
    "print(arr1)"
   ]
  },
  {
   "cell_type": "code",
   "execution_count": 74,
   "id": "a5289aa6",
   "metadata": {},
   "outputs": [],
   "source": [
    "#Method-1\n",
    "arr1[:,::-1]  #arr1[rows,cols]"
   ]
  },
  {
   "cell_type": "code",
   "execution_count": 70,
   "id": "f9b93fd4",
   "metadata": {},
   "outputs": [
    {
     "data": {
      "text/plain": [
       "array([[2, 1, 0],\n",
       "       [5, 4, 3],\n",
       "       [8, 7, 6]])"
      ]
     },
     "execution_count": 70,
     "metadata": {},
     "output_type": "execute_result"
    }
   ],
   "source": [
    "#Method-2\n",
    "np.flip(arr1,axis=1)  #axis =1 column wise operation"
   ]
  },
  {
   "cell_type": "markdown",
   "id": "0ba4e242",
   "metadata": {},
   "source": [
    "# 22.  How to create a 2D array containing random floats between 5 and 10?"
   ]
  },
  {
   "cell_type": "code",
   "execution_count": 87,
   "id": "94d4f703",
   "metadata": {},
   "outputs": [
    {
     "data": {
      "text/plain": [
       "array([[9, 5, 5],\n",
       "       [8, 7, 6],\n",
       "       [7, 8, 6],\n",
       "       [7, 8, 9],\n",
       "       [9, 9, 5]])"
      ]
     },
     "execution_count": 87,
     "metadata": {},
     "output_type": "execute_result"
    }
   ],
   "source": [
    "#Creating numbers between 5 and 10\n",
    "np.random.randint(low = 5,high =10,size=(5,3))"
   ]
  },
  {
   "cell_type": "code",
   "execution_count": 84,
   "id": "6c411eeb",
   "metadata": {},
   "outputs": [
    {
     "data": {
      "text/plain": [
       "array([[0.59756203, 0.1802213 , 0.88430324],\n",
       "       [0.38788774, 0.93411011, 0.75692044],\n",
       "       [0.63202704, 0.00458369, 0.64080543],\n",
       "       [0.98664469, 0.06180185, 0.24163237],\n",
       "       [0.68898006, 0.05031545, 0.80237379]])"
      ]
     },
     "execution_count": 84,
     "metadata": {},
     "output_type": "execute_result"
    }
   ],
   "source": [
    "#Generating random numbers between 0 and 1 of size(5,3)\n",
    "np.random.rand(5,3)"
   ]
  },
  {
   "cell_type": "code",
   "execution_count": 85,
   "id": "d04aa431",
   "metadata": {},
   "outputs": [
    {
     "data": {
      "text/plain": [
       "array([[6.43453555, 7.7429703 , 5.83990941],\n",
       "       [8.67504689, 8.03714846, 6.52989385],\n",
       "       [7.78891536, 7.28772815, 9.34646298],\n",
       "       [7.01622028, 6.62839732, 9.45016781],\n",
       "       [6.27885469, 8.40636841, 8.43871425]])"
      ]
     },
     "execution_count": 85,
     "metadata": {},
     "output_type": "execute_result"
    }
   ],
   "source": [
    "#Method-1\n",
    "np.random.randint(low = 5,high =10,size=(5,3))+np.random.rand(5,3)"
   ]
  },
  {
   "cell_type": "code",
   "execution_count": 88,
   "id": "893febe8",
   "metadata": {},
   "outputs": [
    {
     "data": {
      "text/plain": [
       "array([[5.46526113, 6.32627221, 5.76770981],\n",
       "       [8.69054777, 8.67105367, 8.15856458],\n",
       "       [8.174473  , 9.10403294, 9.75509752],\n",
       "       [6.82506629, 8.79030387, 7.06450647],\n",
       "       [9.04691828, 8.30245195, 8.89804431]])"
      ]
     },
     "execution_count": 88,
     "metadata": {},
     "output_type": "execute_result"
    }
   ],
   "source": [
    "#Method-2\n",
    "np.random.uniform(low=5, high=10,size =(5,3))"
   ]
  },
  {
   "cell_type": "markdown",
   "id": "f6bf9784",
   "metadata": {},
   "source": [
    "# 23. How to print only 3 decimal places in python numpy array?"
   ]
  },
  {
   "cell_type": "code",
   "execution_count": 89,
   "id": "cbb7a077",
   "metadata": {},
   "outputs": [
    {
     "data": {
      "text/plain": [
       "array([[-0.044,  0.449,  0.709],\n",
       "       [-0.964,  1.168, -1.782],\n",
       "       [-0.957, -1.474, -0.199],\n",
       "       [ 0.176, -0.106,  1.198],\n",
       "       [-0.19 , -0.091, -0.284]])"
      ]
     },
     "execution_count": 89,
     "metadata": {},
     "output_type": "execute_result"
    }
   ],
   "source": [
    "np.set_printoptions(precision=3)\n",
    "np.random.randn(5,3)"
   ]
  },
  {
   "cell_type": "markdown",
   "id": "b8be2972",
   "metadata": {},
   "source": [
    "# 24. How to pretty print a numpy array by suppressing the scientific notation (like 1e10)?"
   ]
  },
  {
   "cell_type": "code",
   "execution_count": 91,
   "id": "16285820",
   "metadata": {},
   "outputs": [],
   "source": [
    "np.set_printoptions(precision = None)"
   ]
  },
  {
   "cell_type": "code",
   "execution_count": 93,
   "id": "1d8e7f8e",
   "metadata": {},
   "outputs": [
    {
     "data": {
      "text/plain": [
       "array([[7.971e-05, 5.895e-04, 6.298e-04],\n",
       "       [5.634e-04, 4.863e-04, 8.882e-04],\n",
       "       [8.166e-04, 5.328e-04, 9.311e-04]])"
      ]
     },
     "execution_count": 93,
     "metadata": {},
     "output_type": "execute_result"
    }
   ],
   "source": [
    "rand_arr = np.random.random([3,3])/1e3\n",
    "rand_arr"
   ]
  },
  {
   "cell_type": "code",
   "execution_count": 94,
   "id": "e968e8da",
   "metadata": {},
   "outputs": [],
   "source": [
    "np.set_printoptions(suppress= True)"
   ]
  },
  {
   "cell_type": "code",
   "execution_count": 95,
   "id": "8acf975e",
   "metadata": {},
   "outputs": [
    {
     "data": {
      "text/plain": [
       "array([[0.001, 0.001, 0.001],\n",
       "       [0.001, 0.   , 0.   ],\n",
       "       [0.001, 0.001, 0.   ]])"
      ]
     },
     "execution_count": 95,
     "metadata": {},
     "output_type": "execute_result"
    }
   ],
   "source": [
    "rand_arr = np.random.random([3,3])/1e3\n",
    "rand_arr"
   ]
  },
  {
   "cell_type": "code",
   "execution_count": 96,
   "id": "24490eba",
   "metadata": {},
   "outputs": [],
   "source": [
    "np.set_printoptions(suppress= True, precision = 6)"
   ]
  },
  {
   "cell_type": "code",
   "execution_count": 97,
   "id": "094cd283",
   "metadata": {},
   "outputs": [
    {
     "data": {
      "text/plain": [
       "array([[0.000724, 0.000741, 0.000052],\n",
       "       [0.000652, 0.000618, 0.000048],\n",
       "       [0.000003, 0.000581, 0.000555]])"
      ]
     },
     "execution_count": 97,
     "metadata": {},
     "output_type": "execute_result"
    }
   ],
   "source": [
    "rand_arr = np.random.random([3,3])/1e3\n",
    "rand_arr"
   ]
  },
  {
   "cell_type": "markdown",
   "id": "3976df3b",
   "metadata": {},
   "source": [
    "# 25. How to limit the number of items printed in output of numpy array?"
   ]
  },
  {
   "cell_type": "markdown",
   "id": "f2c7cd7f",
   "metadata": {},
   "source": [
    "**Input:**<br>\n",
    "\n",
    "$array([ 0,  1,  2,  3,  4,  5,  6,  7,  8,  9, 10, 11, 12, 13, 14])$\n",
    "\n",
    "**Desired Output:**<br>\n",
    "\n",
    "$array([ 0,  1,  2, ..., 12, 13, 14])$"
   ]
  },
  {
   "cell_type": "code",
   "execution_count": 106,
   "id": "f7aa6882",
   "metadata": {
    "scrolled": true
   },
   "outputs": [
    {
     "data": {
      "text/plain": [
       "array([ 0,  1,  2, ..., 17, 18, 19])"
      ]
     },
     "execution_count": 106,
     "metadata": {},
     "output_type": "execute_result"
    }
   ],
   "source": [
    "np.set_printoptions(threshold=9)\n",
    "np.arange(20)"
   ]
  },
  {
   "cell_type": "markdown",
   "id": "3e93f141",
   "metadata": {},
   "source": [
    "# 26. How to print the full numpy array without truncating"
   ]
  },
  {
   "cell_type": "markdown",
   "id": "d36fabf3",
   "metadata": {},
   "source": [
    "**Input:**<br>\n",
    "\n",
    "$array([ 0,  1,  2, ..., 12, 13, 14])$\n",
    "\n",
    "**Desired Output:**<br>\n",
    "\n",
    "$array([ 0,  1,  2,  3,  4,  5,  6,  7,  8,  9, 10, 11, 12, 13, 14])$"
   ]
  },
  {
   "cell_type": "code",
   "execution_count": 107,
   "id": "51f088eb",
   "metadata": {},
   "outputs": [
    {
     "data": {
      "text/plain": [
       "array([ 0,  1,  2,  3,  4,  5,  6,  7,  8,  9, 10, 11, 12, 13, 14])"
      ]
     },
     "execution_count": 107,
     "metadata": {},
     "output_type": "execute_result"
    }
   ],
   "source": [
    "import sys\n",
    "np.set_printoptions(threshold=sys.maxsize)\n",
    "np.arange(15)"
   ]
  },
  {
   "cell_type": "markdown",
   "id": "f8380ae4",
   "metadata": {},
   "source": [
    "# 27. How to import a dataset with numbers and texts keeping the text intact in python numpy?"
   ]
  },
  {
   "cell_type": "code",
   "execution_count": 109,
   "id": "2d28c646",
   "metadata": {},
   "outputs": [
    {
     "data": {
      "text/html": [
       "<div>\n",
       "<style scoped>\n",
       "    .dataframe tbody tr th:only-of-type {\n",
       "        vertical-align: middle;\n",
       "    }\n",
       "\n",
       "    .dataframe tbody tr th {\n",
       "        vertical-align: top;\n",
       "    }\n",
       "\n",
       "    .dataframe thead th {\n",
       "        text-align: right;\n",
       "    }\n",
       "</style>\n",
       "<table border=\"1\" class=\"dataframe\">\n",
       "  <thead>\n",
       "    <tr style=\"text-align: right;\">\n",
       "      <th></th>\n",
       "      <th>5.1</th>\n",
       "      <th>3.5</th>\n",
       "      <th>1.4</th>\n",
       "      <th>0.2</th>\n",
       "      <th>Iris-setosa</th>\n",
       "    </tr>\n",
       "  </thead>\n",
       "  <tbody>\n",
       "    <tr>\n",
       "      <th>0</th>\n",
       "      <td>4.9</td>\n",
       "      <td>3.0</td>\n",
       "      <td>1.4</td>\n",
       "      <td>0.2</td>\n",
       "      <td>Iris-setosa</td>\n",
       "    </tr>\n",
       "    <tr>\n",
       "      <th>1</th>\n",
       "      <td>4.7</td>\n",
       "      <td>3.2</td>\n",
       "      <td>1.3</td>\n",
       "      <td>0.2</td>\n",
       "      <td>Iris-setosa</td>\n",
       "    </tr>\n",
       "    <tr>\n",
       "      <th>2</th>\n",
       "      <td>4.6</td>\n",
       "      <td>3.1</td>\n",
       "      <td>1.5</td>\n",
       "      <td>0.2</td>\n",
       "      <td>Iris-setosa</td>\n",
       "    </tr>\n",
       "    <tr>\n",
       "      <th>3</th>\n",
       "      <td>5.0</td>\n",
       "      <td>3.6</td>\n",
       "      <td>1.4</td>\n",
       "      <td>0.2</td>\n",
       "      <td>Iris-setosa</td>\n",
       "    </tr>\n",
       "    <tr>\n",
       "      <th>4</th>\n",
       "      <td>5.4</td>\n",
       "      <td>3.9</td>\n",
       "      <td>1.7</td>\n",
       "      <td>0.4</td>\n",
       "      <td>Iris-setosa</td>\n",
       "    </tr>\n",
       "  </tbody>\n",
       "</table>\n",
       "</div>"
      ],
      "text/plain": [
       "   5.1  3.5  1.4  0.2  Iris-setosa\n",
       "0  4.9  3.0  1.4  0.2  Iris-setosa\n",
       "1  4.7  3.2  1.3  0.2  Iris-setosa\n",
       "2  4.6  3.1  1.5  0.2  Iris-setosa\n",
       "3  5.0  3.6  1.4  0.2  Iris-setosa\n",
       "4  5.4  3.9  1.7  0.4  Iris-setosa"
      ]
     },
     "execution_count": 109,
     "metadata": {},
     "output_type": "execute_result"
    }
   ],
   "source": [
    "import pandas as pd\n",
    "df = pd.read_csv(\"https://archive.ics.uci.edu/ml/machine-learning-databases/iris/iris.data\")\n",
    "df.head()"
   ]
  },
  {
   "cell_type": "code",
   "execution_count": 112,
   "id": "cc49f515",
   "metadata": {},
   "outputs": [
    {
     "data": {
      "text/plain": [
       "array([(b'4.9', b'3.0', b'1.4', b'0.2', b'Iris-setosa'),\n",
       "       (b'4.7', b'3.2', b'1.3', b'0.2', b'Iris-setosa'),\n",
       "       (b'4.6', b'3.1', b'1.5', b'0.2', b'Iris-setosa'),\n",
       "       (b'5.0', b'3.6', b'1.4', b'0.2', b'Iris-setosa'),\n",
       "       (b'5.4', b'3.9', b'1.7', b'0.4', b'Iris-setosa')],\n",
       "      dtype=[('51', 'O'), ('35', 'O'), ('14', 'O'), ('02', 'O'), ('Irissetosa', 'O')])"
      ]
     },
     "execution_count": 112,
     "metadata": {},
     "output_type": "execute_result"
    }
   ],
   "source": [
    "#Loading the dataset\n",
    "url = 'https://archive.ics.uci.edu/ml/machine-learning-databases/iris/iris.data'\n",
    "iris = np.genfromtxt(url,delimiter=',',dtype=object,names = True)\n",
    "iris[:5] #first five rows"
   ]
  },
  {
   "cell_type": "code",
   "execution_count": 113,
   "id": "6ba466a8",
   "metadata": {},
   "outputs": [
    {
     "data": {
      "text/plain": [
       "('51', '35', '14', '02', 'Irissetosa')"
      ]
     },
     "execution_count": 113,
     "metadata": {},
     "output_type": "execute_result"
    }
   ],
   "source": [
    "#fetching column names\n",
    "iris.dtype.names"
   ]
  },
  {
   "cell_type": "code",
   "execution_count": 114,
   "id": "70a468c5",
   "metadata": {},
   "outputs": [],
   "source": [
    "df = np.genfromtxt(\"data.csv\",delimiter=',',dtype =[int,object], names= True)"
   ]
  },
  {
   "cell_type": "code",
   "execution_count": 115,
   "id": "28739719",
   "metadata": {},
   "outputs": [
    {
     "data": {
      "text/plain": [
       "array([(1, b'HTML/CSS;Java;JavaScript;Python'),\n",
       "       (2, b'C++;HTML/CSS;Python'), (3, b'HTML/CSS'), (4, b'C;C++;C'),\n",
       "       (5, b'C++;HTML/CSS;Java;JavaScript;Python;SQL;VBA')],\n",
       "      dtype=[('Responder_id', '<i4'), ('LanguagesWorkedWith', 'O')])"
      ]
     },
     "execution_count": 115,
     "metadata": {},
     "output_type": "execute_result"
    }
   ],
   "source": [
    "df[:5]"
   ]
  },
  {
   "cell_type": "code",
   "execution_count": 116,
   "id": "e1f5ace2",
   "metadata": {},
   "outputs": [
    {
     "data": {
      "text/plain": [
       "('Responder_id', 'LanguagesWorkedWith')"
      ]
     },
     "execution_count": 116,
     "metadata": {},
     "output_type": "execute_result"
    }
   ],
   "source": [
    "df.dtype.names"
   ]
  },
  {
   "cell_type": "markdown",
   "id": "222de168",
   "metadata": {},
   "source": [
    "# 28.  How to convert a 1d array of tuples to a 2d numpy array?"
   ]
  },
  {
   "cell_type": "code",
   "execution_count": 118,
   "id": "07998e60",
   "metadata": {},
   "outputs": [
    {
     "data": {
      "text/plain": [
       "array([(b'4.9', b'3.0', b'1.4', b'0.2', b'Iris-setosa'),\n",
       "       (b'4.7', b'3.2', b'1.3', b'0.2', b'Iris-setosa'),\n",
       "       (b'4.6', b'3.1', b'1.5', b'0.2', b'Iris-setosa'),\n",
       "       (b'5.0', b'3.6', b'1.4', b'0.2', b'Iris-setosa'),\n",
       "       (b'5.4', b'3.9', b'1.7', b'0.4', b'Iris-setosa')],\n",
       "      dtype=[('51', 'O'), ('35', 'O'), ('14', 'O'), ('02', 'O'), ('Irissetosa', 'O')])"
      ]
     },
     "execution_count": 118,
     "metadata": {},
     "output_type": "execute_result"
    }
   ],
   "source": [
    "iris[:5]"
   ]
  },
  {
   "cell_type": "code",
   "execution_count": 122,
   "id": "983f5972",
   "metadata": {},
   "outputs": [
    {
     "name": "stdout",
     "output_type": "stream",
     "text": [
      "[b'4.9' b'3.0' b'1.4' b'0.2']\n"
     ]
    }
   ],
   "source": [
    "for rows in iris:\n",
    "    print(np.array(rows.tolist()[:4]))\n",
    "    break"
   ]
  },
  {
   "cell_type": "code",
   "execution_count": 123,
   "id": "176b92c1",
   "metadata": {},
   "outputs": [
    {
     "data": {
      "text/plain": [
       "array([[b'4.9', b'3.0', b'1.4', b'0.2'],\n",
       "       [b'4.7', b'3.2', b'1.3', b'0.2'],\n",
       "       [b'4.6', b'3.1', b'1.5', b'0.2'],\n",
       "       [b'5.0', b'3.6', b'1.4', b'0.2']], dtype='|S3')"
      ]
     },
     "execution_count": 123,
     "metadata": {},
     "output_type": "execute_result"
    }
   ],
   "source": [
    "# Method 1: Convert each row to a list and get the first 4 items\n",
    "iris_2d = np.array([row.tolist()[:4] for row in iris])\n",
    "iris_2d[:4]"
   ]
  },
  {
   "cell_type": "code",
   "execution_count": 124,
   "id": "39472f1d",
   "metadata": {},
   "outputs": [
    {
     "data": {
      "text/plain": [
       "array([[5.1, 3.5, 1.4, 0.2],\n",
       "       [4.9, 3. , 1.4, 0.2],\n",
       "       [4.7, 3.2, 1.3, 0.2],\n",
       "       [4.6, 3.1, 1.5, 0.2]])"
      ]
     },
     "execution_count": 124,
     "metadata": {},
     "output_type": "execute_result"
    }
   ],
   "source": [
    "# Alt Method 2: Import only the first 4 columns from source url\n",
    "iris_2d = np.genfromtxt(url, delimiter=',', dtype='float', usecols=[0,1,2,3])\n",
    "iris_2d[:4]"
   ]
  },
  {
   "cell_type": "markdown",
   "id": "500dceb7",
   "metadata": {},
   "source": [
    "# 29. How to compute the mean, median, standard deviation of a numpy array?"
   ]
  },
  {
   "cell_type": "code",
   "execution_count": 125,
   "id": "cfe49e85",
   "metadata": {},
   "outputs": [
    {
     "data": {
      "text/plain": [
       "array([5.1, 4.9, 4.7, 4.6, 5. , 5.4, 4.6, 5. , 4.4, 4.9, 5.4, 4.8, 4.8,\n",
       "       4.3, 5.8, 5.7, 5.4, 5.1, 5.7, 5.1, 5.4, 5.1, 4.6, 5.1, 4.8, 5. ,\n",
       "       5. , 5.2, 5.2, 4.7, 4.8, 5.4, 5.2, 5.5, 4.9, 5. , 5.5, 4.9, 4.4,\n",
       "       5.1, 5. , 4.5, 4.4, 5. , 5.1, 4.8, 5.1, 4.6, 5.3, 5. , 7. , 6.4,\n",
       "       6.9, 5.5, 6.5, 5.7, 6.3, 4.9, 6.6, 5.2, 5. , 5.9, 6. , 6.1, 5.6,\n",
       "       6.7, 5.6, 5.8, 6.2, 5.6, 5.9, 6.1, 6.3, 6.1, 6.4, 6.6, 6.8, 6.7,\n",
       "       6. , 5.7, 5.5, 5.5, 5.8, 6. , 5.4, 6. , 6.7, 6.3, 5.6, 5.5, 5.5,\n",
       "       6.1, 5.8, 5. , 5.6, 5.7, 5.7, 6.2, 5.1, 5.7, 6.3, 5.8, 7.1, 6.3,\n",
       "       6.5, 7.6, 4.9, 7.3, 6.7, 7.2, 6.5, 6.4, 6.8, 5.7, 5.8, 6.4, 6.5,\n",
       "       7.7, 7.7, 6. , 6.9, 5.6, 7.7, 6.3, 6.7, 7.2, 6.2, 6.1, 6.4, 7.2,\n",
       "       7.4, 7.9, 6.4, 6.3, 6.1, 7.7, 6.3, 6.4, 6. , 6.9, 6.7, 6.9, 5.8,\n",
       "       6.8, 6.7, 6.7, 6.3, 6.5, 6.2, 5.9])"
      ]
     },
     "execution_count": 125,
     "metadata": {},
     "output_type": "execute_result"
    }
   ],
   "source": [
    "sepallength = np.genfromtxt(url, delimiter=',', dtype='float', usecols=[0])\n",
    "sepallength"
   ]
  },
  {
   "cell_type": "code",
   "execution_count": 126,
   "id": "30f6639d",
   "metadata": {},
   "outputs": [
    {
     "name": "stdout",
     "output_type": "stream",
     "text": [
      "5.843333333333334 5.8 0.8253012917851409\n"
     ]
    }
   ],
   "source": [
    "#extracting sepal length from iris dataset\n",
    "sepallength = np.genfromtxt(url, delimiter=',', dtype='float', usecols=[0])\n",
    "\n",
    "mu, med, sd = np.mean(sepallength), np.median(sepallength), np.std(sepallength)\n",
    "print(mu,med,sd)"
   ]
  },
  {
   "cell_type": "markdown",
   "id": "7f99af75",
   "metadata": {},
   "source": [
    "# 30. How to normalize an array so the values range exactly between 0 and 1?"
   ]
  },
  {
   "cell_type": "markdown",
   "id": "20c3fc66",
   "metadata": {},
   "source": [
    "$Normalize = \\frac{(X-X_{min})}{(X_{max}-X_{min})}$"
   ]
  },
  {
   "cell_type": "code",
   "execution_count": 127,
   "id": "895731a2",
   "metadata": {},
   "outputs": [
    {
     "data": {
      "text/plain": [
       "array([5.1, 4.9, 4.7, 4.6, 5. ])"
      ]
     },
     "execution_count": 127,
     "metadata": {},
     "output_type": "execute_result"
    }
   ],
   "source": [
    "#Let us Normalize Sepal Length\n",
    "sepallength[:5]"
   ]
  },
  {
   "cell_type": "code",
   "execution_count": 131,
   "id": "b209f7ee",
   "metadata": {},
   "outputs": [
    {
     "data": {
      "text/plain": [
       "array([0.222222, 0.166667, 0.111111, 0.083333, 0.194444])"
      ]
     },
     "execution_count": 131,
     "metadata": {},
     "output_type": "execute_result"
    }
   ],
   "source": [
    "sepallength_norm = (sepallength - sepallength.min()) / (sepallength.max() - sepallength.min())\n",
    "sepallength_norm[:5]"
   ]
  },
  {
   "cell_type": "markdown",
   "id": "74d441e0",
   "metadata": {},
   "source": [
    "# 31.  How to compute the softmax score?"
   ]
  },
  {
   "cell_type": "markdown",
   "id": "c05bf6fb",
   "metadata": {},
   "source": [
    "softmax = $\\frac{e^{(x - max(x))}} {sum(e^{(x - max(x))}}$"
   ]
  },
  {
   "cell_type": "code",
   "execution_count": 132,
   "id": "3a177a7c",
   "metadata": {},
   "outputs": [],
   "source": [
    "def softmax(x):\n",
    "    e_x = np.exp(x - np.max(x))\n",
    "    return e_x/e_x.sum(axis=0)"
   ]
  },
  {
   "cell_type": "code",
   "execution_count": 133,
   "id": "151783ae",
   "metadata": {},
   "outputs": [
    {
     "data": {
      "text/plain": [
       "array([0.00222 , 0.001817, 0.001488, 0.001346, 0.002008])"
      ]
     },
     "execution_count": 133,
     "metadata": {},
     "output_type": "execute_result"
    }
   ],
   "source": [
    "softmax_sepallength = softmax(sepallength)\n",
    "softmax_sepallength[:5]"
   ]
  },
  {
   "cell_type": "code",
   "execution_count": 134,
   "id": "2598e380",
   "metadata": {},
   "outputs": [
    {
     "data": {
      "text/plain": [
       "1.0000000000000002"
      ]
     },
     "execution_count": 134,
     "metadata": {},
     "output_type": "execute_result"
    }
   ],
   "source": [
    "softmax_sepallength.sum() #sum of softmax function is 1 as it gives the probabilities"
   ]
  },
  {
   "cell_type": "markdown",
   "id": "ed658aa8",
   "metadata": {},
   "source": [
    "# 32. How to find the percentile scores of a numpy array?"
   ]
  },
  {
   "cell_type": "code",
   "execution_count": 135,
   "id": "8efb51c2",
   "metadata": {},
   "outputs": [
    {
     "data": {
      "text/plain": [
       "array([4.6  , 7.255])"
      ]
     },
     "execution_count": 135,
     "metadata": {},
     "output_type": "execute_result"
    }
   ],
   "source": [
    "#Find the 5th and 95th percentile of iris's sepallength\n",
    "np.percentile(sepallength,q = [5,95])"
   ]
  },
  {
   "cell_type": "markdown",
   "id": "83e7fcf4",
   "metadata": {},
   "source": [
    "# 33.How to insert values at random positions in an array?\n"
   ]
  },
  {
   "cell_type": "code",
   "execution_count": 136,
   "id": "ef3960e1",
   "metadata": {},
   "outputs": [],
   "source": [
    "#Loading the dataset\n",
    "url = 'https://archive.ics.uci.edu/ml/machine-learning-databases/iris/iris.data'\n",
    "iris = np.genfromtxt(url,delimiter=',',dtype=object)"
   ]
  },
  {
   "cell_type": "code",
   "execution_count": 152,
   "id": "908edf43",
   "metadata": {},
   "outputs": [
    {
     "name": "stdout",
     "output_type": "stream",
     "text": [
      "[0 0 0 0 0]\n",
      "[0 1 2 3 4]\n"
     ]
    }
   ],
   "source": [
    "#Method-1\n",
    "i, j = np.where(iris)\n",
    "print(i[:5])\n",
    "print(j[:5])\n",
    "# i, j contain the row numbers and column numbers of 600 elements of iris_x\n",
    "iris[np.random.choice(i,20),np.random.choice(j,20)] = np.nan"
   ]
  },
  {
   "cell_type": "code",
   "execution_count": 154,
   "id": "9bcc5bcc",
   "metadata": {},
   "outputs": [],
   "source": [
    "# Method 2\n",
    "np.random.seed(100)\n",
    "iris[np.random.randint(150, size=20), np.random.randint(4, size=20)] = np.nan"
   ]
  },
  {
   "cell_type": "markdown",
   "id": "d799e513",
   "metadata": {},
   "source": [
    "# 34. How to find the position of missing values in numpy array?"
   ]
  },
  {
   "cell_type": "code",
   "execution_count": 157,
   "id": "42f46f8f",
   "metadata": {},
   "outputs": [],
   "source": [
    "#Loading the dataset\n",
    "url = 'https://archive.ics.uci.edu/ml/machine-learning-databases/iris/iris.data'\n",
    "iris = np.genfromtxt(url, delimiter=',', dtype='float', usecols=[0,1,2,3]) #mentioned type as flot\n",
    "#randomly setting nan values for few elements\n",
    "iris[np.random.randint(150, size=20), np.random.randint(4, size=20)] = np.nan"
   ]
  },
  {
   "cell_type": "code",
   "execution_count": 190,
   "id": "9e63275c",
   "metadata": {},
   "outputs": [
    {
     "name": "stdout",
     "output_type": "stream",
     "text": [
      "Number of missing values:  4\n",
      "Position of missing values:  (array([ 68,  94, 105, 106], dtype=int64),)\n"
     ]
    }
   ],
   "source": [
    "print(\"Number of missing values: \", np.isnan(iris[:, 0]).sum())\n",
    "print(\"Position of missing values: \", np.where(np.isnan(iris[:, 0])))"
   ]
  },
  {
   "cell_type": "markdown",
   "id": "4ddcce12",
   "metadata": {},
   "source": [
    "# 35. How to filter a numpy array based on two or more conditions?"
   ]
  },
  {
   "cell_type": "code",
   "execution_count": 191,
   "id": "90e90ca2",
   "metadata": {},
   "outputs": [
    {
     "data": {
      "text/plain": [
       "array([[4.8, 3.4, 1.6, 0.2],\n",
       "       [4.8, 3.4, 1.9, 0.2],\n",
       "       [4.7, 3.2, 1.6, 0.2],\n",
       "       [4.8, 3.1, 1.6, 0.2],\n",
       "       [4.9, 2.4, 3.3, 1. ],\n",
       "       [4.9, 2.5, 4.5, 1.7]])"
      ]
     },
     "execution_count": 191,
     "metadata": {},
     "output_type": "execute_result"
    }
   ],
   "source": [
    "#Filter the rows of iris_2d that has petallength (3rd column) > 1.5 and sepallength (1st column) < 5.0\n",
    "\n",
    "#Lading the data\n",
    "url = 'https://archive.ics.uci.edu/ml/machine-learning-databases/iris/iris.data'\n",
    "iris_2d = np.genfromtxt(url, delimiter=',', dtype='float', usecols=[0,1,2,3])\n",
    "\n",
    "#condition\n",
    "condition = (iris_2d[:, 2] > 1.5) & (iris_2d[:, 0] < 5.0)\n",
    "\n",
    "#filtering the data\n",
    "iris_2d[condition]"
   ]
  },
  {
   "cell_type": "markdown",
   "id": "8b09e9be",
   "metadata": {},
   "source": [
    "# 36. How to drop rows that contain a missing value from a numpy array?\n"
   ]
  },
  {
   "cell_type": "code",
   "execution_count": 192,
   "id": "18c16cca",
   "metadata": {},
   "outputs": [],
   "source": [
    "#Loading the data and replacing random values with nan\n",
    "\n",
    "url = 'https://archive.ics.uci.edu/ml/machine-learning-databases/iris/iris.data'\n",
    "iris_2d = np.genfromtxt(url, delimiter=',', dtype='float', usecols=[0,1,2,3])\n",
    "iris_2d[np.random.randint(150, size=20), np.random.randint(4, size=20)] = np.nan"
   ]
  },
  {
   "cell_type": "code",
   "execution_count": 193,
   "id": "d802064f",
   "metadata": {},
   "outputs": [
    {
     "data": {
      "text/plain": [
       "array([[5.1, 3.5, 1.4, 0.2],\n",
       "       [4.9, 3. , 1.4, 0.2],\n",
       "       [4.7, 3.2, 1.3, 0.2],\n",
       "       [4.6, 3.1, 1.5, 0.2],\n",
       "       [5. , 3.6, 1.4, 0.2],\n",
       "       [5.4, 3.9, 1.7, 0.4],\n",
       "       [4.6, 3.4, 1.4, nan],\n",
       "       [5. , 3.4, 1.5, 0.2],\n",
       "       [4.4, 2.9, 1.4, 0.2],\n",
       "       [4.9, nan, 1.5, 0.1]])"
      ]
     },
     "execution_count": 193,
     "metadata": {},
     "output_type": "execute_result"
    }
   ],
   "source": [
    "iris_2d[:10]"
   ]
  },
  {
   "cell_type": "code",
   "execution_count": 201,
   "id": "6430e6c1",
   "metadata": {},
   "outputs": [
    {
     "data": {
      "text/plain": [
       "array([5.1, 3.5, 1.4, 0.2, 4.9, 3. , 1.4, 0.2, 4.7, 3.2, 1.3, 0.2, 4.6,\n",
       "       3.1, 1.5, 0.2, 5. , 3.6, 1.4, 0.2, 5.4, 3.9, 1.7, 0.4, 4.6, 3.4,\n",
       "       1.4, 5. , 3.4, 1.5, 0.2, 4.4, 2.9, 1.4, 0.2, 4.9, 1.5, 0.1, 5.4,\n",
       "       3.7, 1.5, 0.2, 4.8, 3.4, 1.6, 0.2, 3. , 1.4, 0.1, 4.3, 3. , 1.1,\n",
       "       0.1, 5.8, 4. , 1.2, 0.2, 5.7, 4.4, 1.5, 0.4, 3.9, 1.3, 0.4, 5.1,\n",
       "       1.4, 0.3, 5.7, 3.8, 1.7, 0.3, 5.1, 3.8, 1.5, 0.3, 5.4, 3.4, 1.7,\n",
       "       0.2, 3.7, 1.5, 0.4, 4.6, 3.6, 1. , 0.2, 5.1, 3.3, 1.7, 0.5, 4.8,\n",
       "       3.4, 1.9, 0.2, 5. , 3. , 1.6, 0.2, 5. , 3.4, 1.6, 0.4, 5.2, 3.5,\n",
       "       1.5, 0.2, 5.2, 3.4, 1.4, 0.2, 4.7, 3.2, 1.6, 0.2, 3.1, 1.6, 0.2,\n",
       "       5.4, 3.4, 1.5, 0.4, 5.2, 4.1, 1.5, 0.1, 5.5, 4.2, 1.4, 0.2, 4.9,\n",
       "       3.1, 1.5, 0.1, 5. , 3.2, 1.2, 5.5, 3.5, 1.3, 0.2, 4.9, 3.1, 1.5,\n",
       "       0.1, 4.4, 3. , 1.3, 0.2, 5.1, 3.4, 0.2, 5. , 3.5, 1.3, 0.3, 4.5,\n",
       "       2.3, 1.3, 0.3, 4.4, 3.2, 1.3, 0.2, 5. , 3.5, 1.6, 0.6, 5.1, 3.8,\n",
       "       1.9, 0.4, 4.8, 3. , 0.3, 5.1, 3.8, 1.6, 0.2, 4.6, 3.2, 1.4, 0.2,\n",
       "       5.3, 3.7, 1.5, 0.2, 5. , 3.3, 1.4, 0.2, 7. , 3.2, 1.4, 6.4, 4.5,\n",
       "       1.5, 6.9, 3.1, 4.9, 1.5, 5.5, 2.3, 4. , 1.3, 6.5, 2.8, 4.6, 1.5,\n",
       "       5.7, 2.8, 4.5, 1.3, 6.3, 3.3, 4.7, 1.6, 4.9, 2.4, 3.3, 1. , 6.6,\n",
       "       2.9, 4.6, 1.3, 5.2, 2.7, 3.9, 1.4, 5. , 2. , 3.5, 1. , 5.9, 3. ,\n",
       "       4.2, 1.5, 6. , 2.2, 4. , 1. , 6.1, 2.9, 4.7, 1.4, 5.6, 2.9, 3.6,\n",
       "       1.3, 6.7, 3.1, 4.4, 1.4, 3. , 4.5, 1.5, 5.8, 2.7, 4.1, 1. , 6.2,\n",
       "       2.2, 4.5, 1.5, 5.6, 2.5, 3.9, 1.1, 5.9, 3.2, 4.8, 1.8, 6.1, 2.8,\n",
       "       4. , 1.3, 6.3, 2.5, 4.9, 1.5, 6.1, 2.8, 4.7, 1.2, 6.4, 2.9, 4.3,\n",
       "       1.3, 6.6, 3. , 4.4, 1.4, 6.8, 2.8, 4.8, 1.4, 6.7, 3. , 5. , 1.7,\n",
       "       6. , 2.9, 4.5, 1.5, 5.7, 2.6, 3.5, 1. , 5.5, 2.4, 3.8, 1.1, 5.5,\n",
       "       2.4, 3.7, 1. , 5.8, 2.7, 3.9, 1.2, 6. , 2.7, 5.1, 1.6, 5.4, 3. ,\n",
       "       4.5, 1.5, 6. , 3.4, 4.5, 1.6, 6.7, 4.7, 1.5, 6.3, 2.3, 4.4, 1.3,\n",
       "       5.6, 3. , 4.1, 1.3, 5.5, 4. , 1.3, 5.5, 2.6, 4.4, 1.2, 6.1, 3. ,\n",
       "       4.6, 1.4, 5.8, 2.6, 4. , 1.2, 5. , 2.3, 3.3, 1. , 5.6, 2.7, 4.2,\n",
       "       1.3, 5.7, 3. , 4.2, 1.2, 5.7, 2.9, 4.2, 1.3, 6.2, 2.9, 4.3, 1.3,\n",
       "       5.1, 2.5, 3. , 1.1, 5.7, 2.8, 4.1, 1.3, 6.3, 3.3, 6. , 2.5, 5.8,\n",
       "       2.7, 5.1, 1.9, 3. , 5.9, 2.1, 6.3, 2.9, 5.6, 1.8, 6.5, 3. , 5.8,\n",
       "       2.2, 7.6, 3. , 6.6, 2.1, 4.9, 2.5, 4.5, 1.7, 2.9, 6.3, 1.8, 6.7,\n",
       "       2.5, 5.8, 1.8, 7.2, 3.6, 6.1, 2.5, 6.5, 3.2, 5.1, 2. , 6.4, 2.7,\n",
       "       5.3, 1.9, 6.8, 3. , 5.5, 2.1, 5.7, 2.5, 5. , 2. , 5.8, 2.8, 5.1,\n",
       "       2.4, 6.4, 3.2, 5.3, 2.3, 3. , 5.5, 1.8, 7.7, 3.8, 6.7, 2.2, 7.7,\n",
       "       2.6, 6.9, 2.3, 6. , 2.2, 5. , 1.5, 6.9, 3.2, 5.7, 2.3, 5.6, 2.8,\n",
       "       2. , 7.7, 2.8, 6.7, 6.3, 2.7, 4.9, 1.8, 6.7, 3.3, 5.7, 2.1, 7.2,\n",
       "       3.2, 6. , 1.8, 6.2, 2.8, 4.8, 1.8, 6.1, 3. , 4.9, 1.8, 6.4, 2.8,\n",
       "       5.6, 2.1, 7.2, 3. , 5.8, 1.6, 7.4, 2.8, 6.1, 1.9, 7.9, 3.8, 6.4,\n",
       "       2. , 6.4, 2.8, 5.6, 2.2, 6.3, 2.8, 5.1, 1.5, 6.1, 2.6, 5.6, 1.4,\n",
       "       7.7, 3. , 6.1, 2.3, 6.3, 3.4, 5.6, 2.4, 6.4, 3.1, 5.5, 1.8, 6. ,\n",
       "       3. , 4.8, 1.8, 6.9, 3.1, 5.4, 2.1, 6.7, 3.1, 5.6, 2.4, 6.9, 3.1,\n",
       "       5.1, 2.3, 5.8, 2.7, 5.1, 1.9, 6.8, 3.2, 5.9, 2.3, 6.7, 3.3, 5.7,\n",
       "       2.5, 6.7, 3. , 5.2, 2.3, 6.3, 2.5, 5. , 1.9, 6.5, 3. , 5.2, 2. ,\n",
       "       6.2, 3.4, 5.4, 2.3, 5.9, 3. , 5.1, 1.8])"
      ]
     },
     "execution_count": 201,
     "metadata": {},
     "output_type": "execute_result"
    }
   ],
   "source": [
    "#first find out rows with missing values\n",
    "condition  =~np.isnan(iris_2d) \n",
    "iris_2d[condition]    #shape is lost"
   ]
  },
  {
   "cell_type": "code",
   "execution_count": 202,
   "id": "bd0a7cd9",
   "metadata": {},
   "outputs": [
    {
     "data": {
      "text/plain": [
       "array([[5.1, 3.5, 1.4, 0.2],\n",
       "       [4.9, 3. , 1.4, 0.2],\n",
       "       [4.7, 3.2, 1.3, 0.2],\n",
       "       [4.6, 3.1, 1.5, 0.2],\n",
       "       [5. , 3.6, 1.4, 0.2]])"
      ]
     },
     "execution_count": 202,
     "metadata": {},
     "output_type": "execute_result"
    }
   ],
   "source": [
    "# Method 1:\n",
    "any_nan_in_row = np.array([~np.any(np.isnan(row)) for row in iris_2d])\n",
    "iris_2d[any_nan_in_row][:5] #shape is intact"
   ]
  },
  {
   "cell_type": "code",
   "execution_count": 206,
   "id": "924bfdf1",
   "metadata": {
    "scrolled": false
   },
   "outputs": [
    {
     "data": {
      "text/plain": [
       "array([[5.1, 3.5, 1.4, 0.2],\n",
       "       [4.9, 3. , 1.4, 0.2],\n",
       "       [4.7, 3.2, 1.3, 0.2],\n",
       "       [4.6, 3.1, 1.5, 0.2],\n",
       "       [5. , 3.6, 1.4, 0.2],\n",
       "       [5.4, 3.9, 1.7, 0.4],\n",
       "       [5. , 3.4, 1.5, 0.2],\n",
       "       [4.4, 2.9, 1.4, 0.2],\n",
       "       [5.4, 3.7, 1.5, 0.2],\n",
       "       [4.8, 3.4, 1.6, 0.2],\n",
       "       [4.3, 3. , 1.1, 0.1],\n",
       "       [5.8, 4. , 1.2, 0.2],\n",
       "       [5.7, 4.4, 1.5, 0.4],\n",
       "       [5.7, 3.8, 1.7, 0.3],\n",
       "       [5.1, 3.8, 1.5, 0.3],\n",
       "       [5.4, 3.4, 1.7, 0.2],\n",
       "       [4.6, 3.6, 1. , 0.2],\n",
       "       [5.1, 3.3, 1.7, 0.5],\n",
       "       [4.8, 3.4, 1.9, 0.2],\n",
       "       [5. , 3. , 1.6, 0.2],\n",
       "       [5. , 3.4, 1.6, 0.4],\n",
       "       [5.2, 3.5, 1.5, 0.2],\n",
       "       [5.2, 3.4, 1.4, 0.2],\n",
       "       [4.7, 3.2, 1.6, 0.2],\n",
       "       [5.4, 3.4, 1.5, 0.4],\n",
       "       [5.2, 4.1, 1.5, 0.1],\n",
       "       [5.5, 4.2, 1.4, 0.2],\n",
       "       [4.9, 3.1, 1.5, 0.1],\n",
       "       [5.5, 3.5, 1.3, 0.2],\n",
       "       [4.9, 3.1, 1.5, 0.1],\n",
       "       [4.4, 3. , 1.3, 0.2],\n",
       "       [5. , 3.5, 1.3, 0.3],\n",
       "       [4.5, 2.3, 1.3, 0.3],\n",
       "       [4.4, 3.2, 1.3, 0.2],\n",
       "       [5. , 3.5, 1.6, 0.6],\n",
       "       [5.1, 3.8, 1.9, 0.4],\n",
       "       [5.1, 3.8, 1.6, 0.2],\n",
       "       [4.6, 3.2, 1.4, 0.2],\n",
       "       [5.3, 3.7, 1.5, 0.2],\n",
       "       [5. , 3.3, 1.4, 0.2],\n",
       "       [6.9, 3.1, 4.9, 1.5],\n",
       "       [5.5, 2.3, 4. , 1.3],\n",
       "       [6.5, 2.8, 4.6, 1.5],\n",
       "       [5.7, 2.8, 4.5, 1.3],\n",
       "       [6.3, 3.3, 4.7, 1.6],\n",
       "       [4.9, 2.4, 3.3, 1. ],\n",
       "       [6.6, 2.9, 4.6, 1.3],\n",
       "       [5.2, 2.7, 3.9, 1.4],\n",
       "       [5. , 2. , 3.5, 1. ],\n",
       "       [5.9, 3. , 4.2, 1.5],\n",
       "       [6. , 2.2, 4. , 1. ],\n",
       "       [6.1, 2.9, 4.7, 1.4],\n",
       "       [5.6, 2.9, 3.6, 1.3],\n",
       "       [6.7, 3.1, 4.4, 1.4],\n",
       "       [5.8, 2.7, 4.1, 1. ],\n",
       "       [6.2, 2.2, 4.5, 1.5],\n",
       "       [5.6, 2.5, 3.9, 1.1],\n",
       "       [5.9, 3.2, 4.8, 1.8],\n",
       "       [6.1, 2.8, 4. , 1.3],\n",
       "       [6.3, 2.5, 4.9, 1.5],\n",
       "       [6.1, 2.8, 4.7, 1.2],\n",
       "       [6.4, 2.9, 4.3, 1.3],\n",
       "       [6.6, 3. , 4.4, 1.4],\n",
       "       [6.8, 2.8, 4.8, 1.4],\n",
       "       [6.7, 3. , 5. , 1.7],\n",
       "       [6. , 2.9, 4.5, 1.5],\n",
       "       [5.7, 2.6, 3.5, 1. ],\n",
       "       [5.5, 2.4, 3.8, 1.1],\n",
       "       [5.5, 2.4, 3.7, 1. ],\n",
       "       [5.8, 2.7, 3.9, 1.2],\n",
       "       [6. , 2.7, 5.1, 1.6],\n",
       "       [5.4, 3. , 4.5, 1.5],\n",
       "       [6. , 3.4, 4.5, 1.6],\n",
       "       [6.3, 2.3, 4.4, 1.3],\n",
       "       [5.6, 3. , 4.1, 1.3],\n",
       "       [5.5, 2.6, 4.4, 1.2],\n",
       "       [6.1, 3. , 4.6, 1.4],\n",
       "       [5.8, 2.6, 4. , 1.2],\n",
       "       [5. , 2.3, 3.3, 1. ],\n",
       "       [5.6, 2.7, 4.2, 1.3],\n",
       "       [5.7, 3. , 4.2, 1.2],\n",
       "       [5.7, 2.9, 4.2, 1.3],\n",
       "       [6.2, 2.9, 4.3, 1.3],\n",
       "       [5.1, 2.5, 3. , 1.1],\n",
       "       [5.7, 2.8, 4.1, 1.3],\n",
       "       [6.3, 3.3, 6. , 2.5],\n",
       "       [5.8, 2.7, 5.1, 1.9],\n",
       "       [6.3, 2.9, 5.6, 1.8],\n",
       "       [6.5, 3. , 5.8, 2.2],\n",
       "       [7.6, 3. , 6.6, 2.1],\n",
       "       [4.9, 2.5, 4.5, 1.7],\n",
       "       [6.7, 2.5, 5.8, 1.8],\n",
       "       [7.2, 3.6, 6.1, 2.5],\n",
       "       [6.5, 3.2, 5.1, 2. ],\n",
       "       [6.4, 2.7, 5.3, 1.9],\n",
       "       [6.8, 3. , 5.5, 2.1],\n",
       "       [5.7, 2.5, 5. , 2. ],\n",
       "       [5.8, 2.8, 5.1, 2.4],\n",
       "       [6.4, 3.2, 5.3, 2.3],\n",
       "       [7.7, 3.8, 6.7, 2.2],\n",
       "       [7.7, 2.6, 6.9, 2.3],\n",
       "       [6. , 2.2, 5. , 1.5],\n",
       "       [6.9, 3.2, 5.7, 2.3],\n",
       "       [6.3, 2.7, 4.9, 1.8],\n",
       "       [6.7, 3.3, 5.7, 2.1],\n",
       "       [7.2, 3.2, 6. , 1.8],\n",
       "       [6.2, 2.8, 4.8, 1.8],\n",
       "       [6.1, 3. , 4.9, 1.8],\n",
       "       [6.4, 2.8, 5.6, 2.1],\n",
       "       [7.2, 3. , 5.8, 1.6],\n",
       "       [7.4, 2.8, 6.1, 1.9],\n",
       "       [7.9, 3.8, 6.4, 2. ],\n",
       "       [6.4, 2.8, 5.6, 2.2],\n",
       "       [6.3, 2.8, 5.1, 1.5],\n",
       "       [6.1, 2.6, 5.6, 1.4],\n",
       "       [7.7, 3. , 6.1, 2.3],\n",
       "       [6.3, 3.4, 5.6, 2.4],\n",
       "       [6.4, 3.1, 5.5, 1.8],\n",
       "       [6. , 3. , 4.8, 1.8],\n",
       "       [6.9, 3.1, 5.4, 2.1],\n",
       "       [6.7, 3.1, 5.6, 2.4],\n",
       "       [6.9, 3.1, 5.1, 2.3],\n",
       "       [5.8, 2.7, 5.1, 1.9],\n",
       "       [6.8, 3.2, 5.9, 2.3],\n",
       "       [6.7, 3.3, 5.7, 2.5],\n",
       "       [6.7, 3. , 5.2, 2.3],\n",
       "       [6.3, 2.5, 5. , 1.9],\n",
       "       [6.5, 3. , 5.2, 2. ],\n",
       "       [6.2, 3.4, 5.4, 2.3],\n",
       "       [5.9, 3. , 5.1, 1.8]])"
      ]
     },
     "execution_count": 206,
     "metadata": {},
     "output_type": "execute_result"
    }
   ],
   "source": [
    "#Method-2\n",
    "condition = np.sum(np.isnan(iris_2d), axis = 1) == 0\n",
    "iris_2d[condition]"
   ]
  },
  {
   "cell_type": "markdown",
   "id": "83a5bc3a",
   "metadata": {},
   "source": [
    "# 37. How to find the correlation between two columns of a numpy array?\n"
   ]
  },
  {
   "attachments": {
    "image.png": {
     "image/png": "[encoded data removed]"
    }
   },
   "cell_type": "markdown",
   "id": "6857d505",
   "metadata": {},
   "source": [
    "![image.png](attachment:image.png)"
   ]
  },
  {
   "cell_type": "markdown",
   "id": "bf9a5278",
   "metadata": {},
   "source": [
    "- Correlation coef indicates the degree of linear relationship between two numeric variables.\n",
    "- It can range between -1 to +1."
   ]
  },
  {
   "cell_type": "code",
   "execution_count": 211,
   "id": "78c673b7",
   "metadata": {},
   "outputs": [
    {
     "data": {
      "text/plain": [
       "array([5.1, 4.9, 4.7, 4.6, 5. , 5.4, 4.6, 5. , 4.4, 4.9, 5.4, 4.8, 4.8,\n",
       "       4.3, 5.8, 5.7, 5.4, 5.1, 5.7, 5.1, 5.4, 5.1, 4.6, 5.1, 4.8, 5. ,\n",
       "       5. , 5.2, 5.2, 4.7, 4.8, 5.4, 5.2, 5.5, 4.9, 5. , 5.5, 4.9, 4.4,\n",
       "       5.1, 5. , 4.5, 4.4, 5. , 5.1, 4.8, 5.1, 4.6, 5.3, 5. , 7. , 6.4,\n",
       "       6.9, 5.5, 6.5, 5.7, 6.3, 4.9, 6.6, 5.2, 5. , 5.9, 6. , 6.1, 5.6,\n",
       "       6.7, 5.6, 5.8, 6.2, 5.6, 5.9, 6.1, 6.3, 6.1, 6.4, 6.6, 6.8, 6.7,\n",
       "       6. , 5.7, 5.5, 5.5, 5.8, 6. , 5.4, 6. , 6.7, 6.3, 5.6, 5.5, 5.5,\n",
       "       6.1, 5.8, 5. , 5.6, 5.7, 5.7, 6.2, 5.1, 5.7, 6.3, 5.8, 7.1, 6.3,\n",
       "       6.5, 7.6, 4.9, 7.3, 6.7, 7.2, 6.5, 6.4, 6.8, 5.7, 5.8, 6.4, 6.5,\n",
       "       7.7, 7.7, 6. , 6.9, 5.6, 7.7, 6.3, 6.7, 7.2, 6.2, 6.1, 6.4, 7.2,\n",
       "       7.4, 7.9, 6.4, 6.3, 6.1, 7.7, 6.3, 6.4, 6. , 6.9, 6.7, 6.9, 5.8,\n",
       "       6.8, 6.7, 6.7, 6.3, 6.5, 6.2, 5.9])"
      ]
     },
     "execution_count": 211,
     "metadata": {},
     "output_type": "execute_result"
    }
   ],
   "source": [
    "sepallength"
   ]
  },
  {
   "cell_type": "code",
   "execution_count": 212,
   "id": "4f5e46fa",
   "metadata": {},
   "outputs": [
    {
     "data": {
      "text/plain": [
       "5.843333333333334"
      ]
     },
     "execution_count": 212,
     "metadata": {},
     "output_type": "execute_result"
    }
   ],
   "source": [
    "np.mean(sepallength)"
   ]
  },
  {
   "cell_type": "code",
   "execution_count": 214,
   "id": "b541ec4f",
   "metadata": {},
   "outputs": [
    {
     "data": {
      "text/plain": [
       "array([0.2, 0.2, 0.2, 0.2, 0.2, 0.4, nan, 0.2, 0.2, 0.1, 0.2, 0.2, 0.1,\n",
       "       0.1, 0.2, 0.4, 0.4, 0.3, 0.3, 0.3, 0.2, 0.4, 0.2, 0.5, 0.2, 0.2,\n",
       "       0.4, 0.2, 0.2, 0.2, 0.2, 0.4, 0.1, 0.2, 0.1, nan, 0.2, 0.1, 0.2,\n",
       "       0.2, 0.3, 0.3, 0.2, 0.6, 0.4, 0.3, 0.2, 0.2, 0.2, 0.2, 1.4, 1.5,\n",
       "       1.5, 1.3, 1.5, 1.3, 1.6, 1. , 1.3, 1.4, 1. , 1.5, 1. , 1.4, 1.3,\n",
       "       1.4, 1.5, 1. , 1.5, 1.1, 1.8, 1.3, 1.5, 1.2, 1.3, 1.4, 1.4, 1.7,\n",
       "       1.5, 1. , 1.1, 1. , 1.2, 1.6, 1.5, 1.6, 1.5, 1.3, 1.3, 1.3, 1.2,\n",
       "       1.4, 1.2, 1. , 1.3, 1.2, 1.3, 1.3, 1.1, 1.3, 2.5, 1.9, 2.1, 1.8,\n",
       "       2.2, 2.1, 1.7, 1.8, 1.8, 2.5, 2. , 1.9, 2.1, 2. , 2.4, 2.3, 1.8,\n",
       "       2.2, 2.3, 1.5, 2.3, 2. , nan, 1.8, 2.1, 1.8, 1.8, 1.8, 2.1, 1.6,\n",
       "       1.9, 2. , 2.2, 1.5, 1.4, 2.3, 2.4, 1.8, 1.8, 2.1, 2.4, 2.3, 1.9,\n",
       "       2.3, 2.5, 2.3, 1.9, 2. , 2.3, 1.8])"
      ]
     },
     "execution_count": 214,
     "metadata": {},
     "output_type": "execute_result"
    }
   ],
   "source": [
    "petallength = iris_2d[:,3]\n",
    "petallength"
   ]
  },
  {
   "cell_type": "code",
   "execution_count": null,
   "id": "009f690b",
   "metadata": {},
   "outputs": [],
   "source": []
  },
  {
   "cell_type": "code",
   "execution_count": 215,
   "id": "ac021f27",
   "metadata": {},
   "outputs": [
    {
     "data": {
      "text/plain": [
       "array([[ 1.      , -0.109369],\n",
       "       [-0.109369,  1.      ]])"
      ]
     },
     "execution_count": 215,
     "metadata": {},
     "output_type": "execute_result"
    }
   ],
   "source": [
    "#Find the correlation between SepalLength(1st column) and PetalLength(3rd column) in iris_2d\n",
    "\n",
    "#Load the data\n",
    "url = 'https://archive.ics.uci.edu/ml/machine-learning-databases/iris/iris.data'\n",
    "iris_2d = np.genfromtxt(url, delimiter=',', dtype='float', usecols=[0,1,2,3])\n",
    "\n",
    "#Method-1\n",
    "#corrcoef function\n",
    "np.corrcoef(iris_2d[:,0],iris_2d[:,1])\n",
    "#np.corrcoef(iris_2d[:,0],iris_2d[:,1])[0,1]"
   ]
  },
  {
   "attachments": {
    "image.png": {
     "image/png": "[encoded data removed]"
    }
   },
   "cell_type": "markdown",
   "id": "75954c8b",
   "metadata": {},
   "source": [
    "![image.png](attachment:image.png)"
   ]
  },
  {
   "cell_type": "code",
   "execution_count": 216,
   "id": "8bc0117f",
   "metadata": {
    "scrolled": true
   },
   "outputs": [
    {
     "name": "stdout",
     "output_type": "stream",
     "text": [
      "0.8717541573048713 1.0384540627941062e-47\n"
     ]
    }
   ],
   "source": [
    "# Solution 2 -> pearson correlation coefficent\n",
    "from scipy.stats.stats import pearsonr  \n",
    "corr, p_value = pearsonr(iris_2d[:, 0], iris_2d[:, 2])\n",
    "print(corr,p_value)"
   ]
  },
  {
   "cell_type": "markdown",
   "id": "ed346155",
   "metadata": {},
   "source": [
    "# 38. How to find if a given array has any null values?"
   ]
  },
  {
   "cell_type": "code",
   "execution_count": 217,
   "id": "25599190",
   "metadata": {},
   "outputs": [
    {
     "data": {
      "text/plain": [
       "False"
      ]
     },
     "execution_count": 217,
     "metadata": {},
     "output_type": "execute_result"
    }
   ],
   "source": [
    "np.isnan(iris_2d).any() #doesnot have null values"
   ]
  },
  {
   "cell_type": "code",
   "execution_count": 218,
   "id": "923aa6bb",
   "metadata": {},
   "outputs": [
    {
     "data": {
      "text/plain": [
       "True"
      ]
     },
     "execution_count": 218,
     "metadata": {},
     "output_type": "execute_result"
    }
   ],
   "source": [
    "np.isnan(iris).any() #has null values"
   ]
  },
  {
   "cell_type": "markdown",
   "id": "8a5854b6",
   "metadata": {},
   "source": [
    "# 39. How to replace all missing values with 0 in a numpy array?"
   ]
  },
  {
   "cell_type": "code",
   "execution_count": 220,
   "id": "2c382f22",
   "metadata": {},
   "outputs": [
    {
     "data": {
      "text/plain": [
       "array([[5.1, 0. , 1.4, 0.2],\n",
       "       [4.9, 3. , 1.4, 0.2],\n",
       "       [4.7, 3.2, 1.3, 0.2],\n",
       "       [4.6, 3.1, 1.5, 0.2],\n",
       "       [5. , 3.6, 1.4, 0.2]])"
      ]
     },
     "execution_count": 220,
     "metadata": {},
     "output_type": "execute_result"
    }
   ],
   "source": [
    "iris[:5]"
   ]
  },
  {
   "cell_type": "code",
   "execution_count": 219,
   "id": "9043f34a",
   "metadata": {},
   "outputs": [
    {
     "data": {
      "text/plain": [
       "array([[5.1, 0. , 1.4, 0.2],\n",
       "       [4.9, 3. , 1.4, 0.2],\n",
       "       [4.7, 3.2, 1.3, 0.2],\n",
       "       [4.6, 3.1, 1.5, 0.2],\n",
       "       [5. , 3.6, 1.4, 0.2]])"
      ]
     },
     "execution_count": 219,
     "metadata": {},
     "output_type": "execute_result"
    }
   ],
   "source": [
    "iris[np.isnan(iris)] = 0\n",
    "iris[:5]"
   ]
  },
  {
   "cell_type": "markdown",
   "id": "91858011",
   "metadata": {},
   "source": [
    "# 40.How to find the count of unique values in a numpy array?"
   ]
  },
  {
   "cell_type": "code",
   "execution_count": 221,
   "id": "0b80087b",
   "metadata": {},
   "outputs": [
    {
     "data": {
      "text/plain": [
       "(array([0. , 0.1, 0.2, 0.3, 0.4, 0.5, 0.6, 1. , 1.1, 1.2, 1.3, 1.4, 1.5,\n",
       "        1.6, 1.7, 1.8, 1.9, 2. , 2.1, 2.2, 2.3, 2.4, 2.5, 2.6, 2.7, 2.8,\n",
       "        2.9, 3. , 3.1, 3.2, 3.3, 3.4, 3.5, 3.6, 3.7, 3.8, 3.9, 4. , 4.1,\n",
       "        4.2, 4.3, 4.4, 4.5, 4.6, 4.7, 4.8, 4.9, 5. , 5.1, 5.2, 5.3, 5.4,\n",
       "        5.5, 5.6, 5.7, 5.8, 5.9, 6. , 6.1, 6.2, 6.3, 6.4, 6.5, 6.6, 6.7,\n",
       "        6.8, 6.9, 7. , 7.1, 7.2, 7.3, 7.4, 7.7, 7.9]),\n",
       " array([19,  5, 27,  7,  7,  1,  1,  8,  4,  7, 19, 18, 26, 10,  5, 12,  7,\n",
       "         7,  6,  6, 12,  6, 11,  5,  9, 14, 10, 26, 12, 13,  8, 12,  7,  4,\n",
       "         4,  6,  5,  5,  4,  5,  3,  8,  8,  7,  7,  7, 10, 14, 17,  6,  3,\n",
       "         8, 10, 11, 11, 10,  5,  8,  9,  3, 10,  7,  5,  3, 10,  3,  5,  1,\n",
       "         1,  3,  1,  1,  4,  1], dtype=int64))"
      ]
     },
     "execution_count": 221,
     "metadata": {},
     "output_type": "execute_result"
    }
   ],
   "source": [
    "np.unique(iris,return_counts=True)"
   ]
  },
  {
   "cell_type": "markdown",
   "id": "404d34c5",
   "metadata": {},
   "source": [
    "# 41. How to convert a numeric to a categorical (text) array?"
   ]
  },
  {
   "cell_type": "markdown",
   "id": "178078b2",
   "metadata": {},
   "source": [
    "Bin the petal length (3rd) column of iris_2d to form a text array, such that if petal length is:\n",
    "\n",
    "    Less than 3 --> 'small'\n",
    "    3-5 --> 'medium'\n",
    "    '>=5 --> 'large'"
   ]
  },
  {
   "cell_type": "code",
   "execution_count": 222,
   "id": "834c1de1",
   "metadata": {},
   "outputs": [
    {
     "data": {
      "text/plain": [
       "array([5.1, 4.9, 4.7, 4.6, 5. , 5.4, 4.6, 5. , 4.4, 4.9, 5.4, 4.8, 4.8,\n",
       "       4.3, 5.8, 5.7, 5.4, 5.1, 5.7, 5.1, 5.4, 5.1, 4.6, 5.1, 4.8, 5. ,\n",
       "       5. , 5.2, 5.2, 4.7, 4.8, 5.4, 5.2, 5.5, 4.9, 5. , 5.5, 4.9, 4.4,\n",
       "       5.1, 5. , 4.5, 4.4, 5. , 5.1, 4.8, 5.1, 4.6, 5.3, 5. , 7. , 6.4,\n",
       "       6.9, 5.5, 6.5, 5.7, 6.3, 4.9, 6.6, 5.2, 5. , 5.9, 6. , 6.1, 5.6,\n",
       "       6.7, 5.6, 5.8, 6.2, 5.6, 5.9, 6.1, 6.3, 6.1, 6.4, 6.6, 6.8, 6.7,\n",
       "       6. , 5.7, 5.5, 5.5, 5.8, 6. , 5.4, 6. , 6.7, 6.3, 5.6, 5.5, 5.5,\n",
       "       6.1, 5.8, 5. , 5.6, 5.7, 5.7, 6.2, 5.1, 5.7, 6.3, 5.8, 7.1, 6.3,\n",
       "       6.5, 7.6, 4.9, 7.3, 6.7, 7.2, 6.5, 6.4, 6.8, 5.7, 5.8, 6.4, 6.5,\n",
       "       7.7, 7.7, 6. , 6.9, 5.6, 7.7, 6.3, 6.7, 7.2, 6.2, 6.1, 6.4, 7.2,\n",
       "       7.4, 7.9, 6.4, 6.3, 6.1, 7.7, 6.3, 6.4, 6. , 6.9, 6.7, 6.9, 5.8,\n",
       "       6.8, 6.7, 6.7, 6.3, 6.5, 6.2, 5.9])"
      ]
     },
     "execution_count": 222,
     "metadata": {},
     "output_type": "execute_result"
    }
   ],
   "source": [
    "sepallength"
   ]
  },
  {
   "cell_type": "code",
   "execution_count": 226,
   "id": "d68a64a7",
   "metadata": {},
   "outputs": [
    {
     "data": {
      "text/plain": [
       "array([1, 1, 1, 1, 1, 1, 1, 1, 1, 1, 1, 1, 1, 1, 1, 1, 1, 1, 1, 1, 1, 1,\n",
       "       1, 1, 1, 1, 1, 1, 1, 1, 1, 1, 1, 1, 1, 1, 1, 1, 1, 1, 1, 1, 1, 1,\n",
       "       1, 1, 1, 1, 1, 1, 2, 2, 2, 1, 2, 2, 2, 2, 2, 2, 2, 2, 2, 2, 2, 2,\n",
       "       2, 2, 2, 2, 1, 2, 2, 2, 2, 2, 2, 3, 1, 2, 2, 2, 2, 3, 2, 2, 2, 2,\n",
       "       2, 2, 2, 2, 2, 2, 2, 2, 2, 2, 2, 2, 3, 3, 3, 3, 3, 3, 2, 3, 3, 3,\n",
       "       3, 3, 3, 3, 3, 3, 3, 3, 3, 3, 3, 2, 3, 2, 3, 3, 2, 2, 3, 3, 3, 1,\n",
       "       3, 3, 3, 3, 3, 3, 1, 3, 3, 3, 3, 3, 3, 3, 3, 3, 3, 3], dtype=int64)"
      ]
     },
     "execution_count": 226,
     "metadata": {},
     "output_type": "execute_result"
    }
   ],
   "source": [
    "np.digitize(iris[:,2].astype('float'), bins = [0,3,5,10])  #[0-3)- small(1), [3-5)- medium(2), [5-10) - large(3)"
   ]
  },
  {
   "cell_type": "code",
   "execution_count": 227,
   "id": "cac44692",
   "metadata": {},
   "outputs": [
    {
     "data": {
      "text/plain": [
       "array([1, 1, 1, 1, 1, 1, 1, 1, 1, 1, 1, 1, 1, 1, 1, 1, 1, 1, 1, 1, 1, 1,\n",
       "       1, 1, 1, 1, 1, 1, 1, 1, 1, 1, 1, 1, 1, 1, 1, 1, 1, 1, 1, 1, 1, 1,\n",
       "       1, 1, 1, 1, 1, 1, 2, 2, 2, 1, 2, 2, 2, 2, 2, 2, 2, 2, 2, 2, 2, 2,\n",
       "       2, 2, 2, 2, 1, 2, 2, 2, 2, 2, 2, 3, 1, 2, 2, 2, 2, 3, 2, 2, 2, 2,\n",
       "       2, 2, 2, 2, 2, 2, 2, 2, 2, 2, 2, 2, 3, 3, 3, 3, 3, 3, 2, 3, 3, 3,\n",
       "       3, 3, 3, 3, 3, 3, 3, 3, 3, 3, 3, 2, 3, 2, 3, 3, 2, 2, 3, 3, 3, 1,\n",
       "       3, 3, 3, 3, 3, 3, 1, 3, 3, 3, 3, 3, 3, 3, 3, 3, 3, 3], dtype=int64)"
      ]
     },
     "execution_count": 227,
     "metadata": {},
     "output_type": "execute_result"
    }
   ],
   "source": [
    "# Bin petallength \n",
    "petal_length_bin = np.digitize(iris[:, 2].astype('float'), bins = [0, 3, 5, 10])\n",
    "petal_length_bin"
   ]
  },
  {
   "cell_type": "code",
   "execution_count": 229,
   "id": "ef2e38ab",
   "metadata": {},
   "outputs": [],
   "source": [
    "# Map it to respective category\n",
    "label_map = {1: 'small', 2: 'medium', 3: 'large', 4: np.nan}"
   ]
  },
  {
   "cell_type": "code",
   "execution_count": 230,
   "id": "837e9cee",
   "metadata": {},
   "outputs": [
    {
     "data": {
      "text/plain": [
       "['small',\n",
       " 'small',\n",
       " 'small',\n",
       " 'small',\n",
       " 'small',\n",
       " 'small',\n",
       " 'small',\n",
       " 'small',\n",
       " 'small',\n",
       " 'small',\n",
       " 'small',\n",
       " 'small',\n",
       " 'small',\n",
       " 'small',\n",
       " 'small',\n",
       " 'small',\n",
       " 'small',\n",
       " 'small',\n",
       " 'small',\n",
       " 'small',\n",
       " 'small',\n",
       " 'small',\n",
       " 'small',\n",
       " 'small',\n",
       " 'small',\n",
       " 'small',\n",
       " 'small',\n",
       " 'small',\n",
       " 'small',\n",
       " 'small',\n",
       " 'small',\n",
       " 'small',\n",
       " 'small',\n",
       " 'small',\n",
       " 'small',\n",
       " 'small',\n",
       " 'small',\n",
       " 'small',\n",
       " 'small',\n",
       " 'small',\n",
       " 'small',\n",
       " 'small',\n",
       " 'small',\n",
       " 'small',\n",
       " 'small',\n",
       " 'small',\n",
       " 'small',\n",
       " 'small',\n",
       " 'small',\n",
       " 'small',\n",
       " 'medium',\n",
       " 'medium',\n",
       " 'medium',\n",
       " 'small',\n",
       " 'medium',\n",
       " 'medium',\n",
       " 'medium',\n",
       " 'medium',\n",
       " 'medium',\n",
       " 'medium',\n",
       " 'medium',\n",
       " 'medium',\n",
       " 'medium',\n",
       " 'medium',\n",
       " 'medium',\n",
       " 'medium',\n",
       " 'medium',\n",
       " 'medium',\n",
       " 'medium',\n",
       " 'medium',\n",
       " 'small',\n",
       " 'medium',\n",
       " 'medium',\n",
       " 'medium',\n",
       " 'medium',\n",
       " 'medium',\n",
       " 'medium',\n",
       " 'large',\n",
       " 'small',\n",
       " 'medium',\n",
       " 'medium',\n",
       " 'medium',\n",
       " 'medium',\n",
       " 'large',\n",
       " 'medium',\n",
       " 'medium',\n",
       " 'medium',\n",
       " 'medium',\n",
       " 'medium',\n",
       " 'medium',\n",
       " 'medium',\n",
       " 'medium',\n",
       " 'medium',\n",
       " 'medium',\n",
       " 'medium',\n",
       " 'medium',\n",
       " 'medium',\n",
       " 'medium',\n",
       " 'medium',\n",
       " 'medium',\n",
       " 'large',\n",
       " 'large',\n",
       " 'large',\n",
       " 'large',\n",
       " 'large',\n",
       " 'large',\n",
       " 'medium',\n",
       " 'large',\n",
       " 'large',\n",
       " 'large',\n",
       " 'large',\n",
       " 'large',\n",
       " 'large',\n",
       " 'large',\n",
       " 'large',\n",
       " 'large',\n",
       " 'large',\n",
       " 'large',\n",
       " 'large',\n",
       " 'large',\n",
       " 'large',\n",
       " 'medium',\n",
       " 'large',\n",
       " 'medium',\n",
       " 'large',\n",
       " 'large',\n",
       " 'medium',\n",
       " 'medium',\n",
       " 'large',\n",
       " 'large',\n",
       " 'large',\n",
       " 'small',\n",
       " 'large',\n",
       " 'large',\n",
       " 'large',\n",
       " 'large',\n",
       " 'large',\n",
       " 'large',\n",
       " 'small',\n",
       " 'large',\n",
       " 'large',\n",
       " 'large',\n",
       " 'large',\n",
       " 'large',\n",
       " 'large',\n",
       " 'large',\n",
       " 'large',\n",
       " 'large',\n",
       " 'large',\n",
       " 'large']"
      ]
     },
     "execution_count": 230,
     "metadata": {},
     "output_type": "execute_result"
    }
   ],
   "source": [
    "petal_length_cat = [label_map[ele] for ele in petal_length_bin]  \n",
    "petal_length_cat"
   ]
  },
  {
   "cell_type": "markdown",
   "id": "28fdc3e8",
   "metadata": {},
   "source": [
    "# 42. How to create a new column from existing columns of a numpy array?\n"
   ]
  },
  {
   "cell_type": "code",
   "execution_count": 233,
   "id": "6836ed56",
   "metadata": {},
   "outputs": [],
   "source": [
    "sepallength = iris_2d[:, 0].astype('float')\n",
    "petallength = iris_2d[:, 2].astype('float')\n",
    "volume = (np.pi * petallength * (sepallength**2))/3"
   ]
  },
  {
   "cell_type": "code",
   "execution_count": 234,
   "id": "961a98e4",
   "metadata": {},
   "outputs": [
    {
     "data": {
      "text/plain": [
       "array([38.132652, 35.200498, 30.072372, 33.23805 , 36.651914])"
      ]
     },
     "execution_count": 234,
     "metadata": {},
     "output_type": "execute_result"
    }
   ],
   "source": [
    "volume[:5] #one-Dimesnion"
   ]
  },
  {
   "cell_type": "code",
   "execution_count": 235,
   "id": "c2d54d6f",
   "metadata": {},
   "outputs": [
    {
     "data": {
      "text/plain": [
       "array([[5.1, 3.5, 1.4, 0.2],\n",
       "       [4.9, 3. , 1.4, 0.2],\n",
       "       [4.7, 3.2, 1.3, 0.2],\n",
       "       [4.6, 3.1, 1.5, 0.2],\n",
       "       [5. , 3.6, 1.4, 0.2]])"
      ]
     },
     "execution_count": 235,
     "metadata": {},
     "output_type": "execute_result"
    }
   ],
   "source": [
    "iris_2d[:5] #two-dimension"
   ]
  },
  {
   "cell_type": "code",
   "execution_count": 240,
   "id": "2eda3a50",
   "metadata": {},
   "outputs": [
    {
     "data": {
      "text/plain": [
       "array([[38.132652],\n",
       "       [35.200498],\n",
       "       [30.072372],\n",
       "       [33.23805 ],\n",
       "       [36.651914]])"
      ]
     },
     "execution_count": 240,
     "metadata": {},
     "output_type": "execute_result"
    }
   ],
   "source": [
    "volume = volume[:,np.newaxis] #introducing new axis in volume to match with iris_2d dataset\n",
    "volume[:5]"
   ]
  },
  {
   "cell_type": "code",
   "execution_count": 241,
   "id": "bb1cae36",
   "metadata": {},
   "outputs": [
    {
     "data": {
      "text/plain": [
       "array([[ 5.1     ,  3.5     ,  1.4     ,  0.2     , 38.132652],\n",
       "       [ 4.9     ,  3.      ,  1.4     ,  0.2     , 35.200498],\n",
       "       [ 4.7     ,  3.2     ,  1.3     ,  0.2     , 30.072372],\n",
       "       [ 4.6     ,  3.1     ,  1.5     ,  0.2     , 33.23805 ],\n",
       "       [ 5.      ,  3.6     ,  1.4     ,  0.2     , 36.651914]])"
      ]
     },
     "execution_count": 241,
     "metadata": {},
     "output_type": "execute_result"
    }
   ],
   "source": [
    "np.c_[iris_2d,volume][:5] #Method-1"
   ]
  },
  {
   "cell_type": "code",
   "execution_count": 242,
   "id": "3826a37d",
   "metadata": {},
   "outputs": [
    {
     "data": {
      "text/plain": [
       "array([[ 5.1     ,  3.5     ,  1.4     ,  0.2     , 38.132652],\n",
       "       [ 4.9     ,  3.      ,  1.4     ,  0.2     , 35.200498],\n",
       "       [ 4.7     ,  3.2     ,  1.3     ,  0.2     , 30.072372],\n",
       "       [ 4.6     ,  3.1     ,  1.5     ,  0.2     , 33.23805 ],\n",
       "       [ 5.      ,  3.6     ,  1.4     ,  0.2     , 36.651914]])"
      ]
     },
     "execution_count": 242,
     "metadata": {},
     "output_type": "execute_result"
    }
   ],
   "source": [
    "np.hstack([iris_2d,volume])[:5] #Method-2"
   ]
  },
  {
   "cell_type": "code",
   "execution_count": 243,
   "id": "52cf0d82",
   "metadata": {},
   "outputs": [
    {
     "data": {
      "text/plain": [
       "array([[ 5.1     ,  3.5     ,  1.4     ,  0.2     , 38.132652],\n",
       "       [ 4.9     ,  3.      ,  1.4     ,  0.2     , 35.200498],\n",
       "       [ 4.7     ,  3.2     ,  1.3     ,  0.2     , 30.072372],\n",
       "       [ 4.6     ,  3.1     ,  1.5     ,  0.2     , 33.23805 ],\n",
       "       [ 5.      ,  3.6     ,  1.4     ,  0.2     , 36.651914]])"
      ]
     },
     "execution_count": 243,
     "metadata": {},
     "output_type": "execute_result"
    }
   ],
   "source": [
    "np.column_stack([iris_2d,volume])[:5] #Method-3"
   ]
  },
  {
   "cell_type": "code",
   "execution_count": 244,
   "id": "82f76faf",
   "metadata": {},
   "outputs": [
    {
     "data": {
      "text/plain": [
       "array([[ 5.1     ,  3.5     ,  1.4     ,  0.2     , 38.132652],\n",
       "       [ 4.9     ,  3.      ,  1.4     ,  0.2     , 35.200498],\n",
       "       [ 4.7     ,  3.2     ,  1.3     ,  0.2     , 30.072372],\n",
       "       [ 4.6     ,  3.1     ,  1.5     ,  0.2     , 33.23805 ],\n",
       "       [ 5.      ,  3.6     ,  1.4     ,  0.2     , 36.651914]])"
      ]
     },
     "execution_count": 244,
     "metadata": {},
     "output_type": "execute_result"
    }
   ],
   "source": [
    "np.concatenate((iris_2d,volume),axis =1)[:5] #Method-4"
   ]
  },
  {
   "cell_type": "markdown",
   "id": "a754d2b7",
   "metadata": {},
   "source": [
    "# 43. How to do probabilistic sampling in numpy?"
   ]
  },
  {
   "cell_type": "code",
   "execution_count": 246,
   "id": "dbc6f681",
   "metadata": {},
   "outputs": [
    {
     "name": "stdout",
     "output_type": "stream",
     "text": [
      "['Iris-versicolor' 'Iris-setosa' 'Iris-setosa' 'Iris-virginica'\n",
      " 'Iris-setosa']\n"
     ]
    },
    {
     "data": {
      "text/plain": [
       "(array(['Iris-setosa', 'Iris-versicolor', 'Iris-virginica'], dtype='<U15'),\n",
       " array([77, 37, 36], dtype=int64))"
      ]
     },
     "execution_count": 246,
     "metadata": {},
     "output_type": "execute_result"
    }
   ],
   "source": [
    "#Randomly sample iris's species such that setosa is twice the number of versicolor and virginica\n",
    "#Approach-1\n",
    "np.random.seed(100)\n",
    "a = np.array(['Iris-setosa', 'Iris-versicolor', 'Iris-virginica'])\n",
    "species_out = np.random.choice(a, 150, p=[0.5, 0.25, 0.25])\n",
    "print(species_out[:5])\n",
    "np.unique(species_out,return_counts= True)"
   ]
  },
  {
   "cell_type": "code",
   "execution_count": null,
   "id": "d91e8afb",
   "metadata": {},
   "outputs": [],
   "source": [
    "# Approach 2: Probablistic Sampling (preferred)\n",
    "np.random.seed(100)\n",
    "probs = np.r_[np.linspace(0, 0.500, num=50), np.linspace(0.501, .750, num=50), np.linspace(.751, 1.0, num=50)]\n",
    "\n",
    "# Get the species column\n",
    "species = iris[:, 3]\n",
    "\n",
    "index = np.searchsorted(probs, np.random.random(150))\n",
    "species_out = species[index]\n",
    "print(np.unique(species_out, return_counts=True))"
   ]
  },
  {
   "cell_type": "markdown",
   "id": "de111a08",
   "metadata": {},
   "source": [
    "# 44. How to get the second largest value of an array when grouped by another array?"
   ]
  },
  {
   "cell_type": "code",
   "execution_count": null,
   "id": "98e2de71",
   "metadata": {},
   "outputs": [],
   "source": [
    "np.unique(np.sort(iris))[-2]"
   ]
  },
  {
   "cell_type": "markdown",
   "id": "b934a29a",
   "metadata": {},
   "source": [
    "# 45. How to sort a 2D array by a column"
   ]
  },
  {
   "cell_type": "code",
   "execution_count": 251,
   "id": "ef6095d2",
   "metadata": {},
   "outputs": [
    {
     "data": {
      "text/plain": [
       "array([[5.1, 0. , 1.4, 0.2],\n",
       "       [4.9, 3. , 1.4, 0.2],\n",
       "       [4.7, 3.2, 1.3, 0.2],\n",
       "       [4.6, 3.1, 1.5, 0.2],\n",
       "       [5. , 3.6, 1.4, 0.2]])"
      ]
     },
     "execution_count": 251,
     "metadata": {},
     "output_type": "execute_result"
    }
   ],
   "source": [
    "iris[:5]"
   ]
  },
  {
   "cell_type": "code",
   "execution_count": 252,
   "id": "234ec140",
   "metadata": {},
   "outputs": [
    {
     "name": "stdout",
     "output_type": "stream",
     "text": [
      "[[0.  2.5 4.5 1.7]\n",
      " [0.  3.  6.6 2.1]\n",
      " [0.  2.2 4.5 1.5]\n",
      " [0.  2.7 4.2 1.3]\n",
      " [4.3 3.  1.1 0. ]]\n"
     ]
    }
   ],
   "source": [
    "#Sort the iris dataset based on sepallength column.\n",
    "print(iris[iris[:,0].argsort()][:5])"
   ]
  },
  {
   "cell_type": "code",
   "execution_count": 253,
   "id": "f217010c",
   "metadata": {},
   "outputs": [
    {
     "name": "stdout",
     "output_type": "stream",
     "text": [
      "original array  [2 0 1 5 4 1 9]\n",
      "Sorted Index  [1 2 5 0 4 3 6]\n",
      "sorted array  [0 1 1 2 4 5 9]\n"
     ]
    }
   ],
   "source": [
    "a = np.array([ 2, 0,  1, 5, 4, 1, 9])\n",
    "out_a = a.argsort()\n",
    "print(\"original array \", a)\n",
    "print(\"Sorted Index \", out_a)\n",
    "print(\"sorted array \", a[out_a])"
   ]
  },
  {
   "cell_type": "markdown",
   "id": "355d2987",
   "metadata": {},
   "source": [
    "# 46. How to find the most frequent value in a numpy array?"
   ]
  },
  {
   "cell_type": "code",
   "execution_count": 254,
   "id": "93ea8673",
   "metadata": {},
   "outputs": [
    {
     "data": {
      "text/plain": [
       "array([19,  5, 27,  7,  7,  1,  1,  8,  4,  7, 19, 18, 26, 10,  5, 12,  7,\n",
       "        7,  6,  6, 12,  6, 11,  5,  9, 14, 10, 26, 12, 13,  8, 12,  7,  4,\n",
       "        4,  6,  5,  5,  4,  5,  3,  8,  8,  7,  7,  7, 10, 14, 17,  6,  3,\n",
       "        8, 10, 11, 11, 10,  5,  8,  9,  3, 10,  7,  5,  3, 10,  3,  5,  1,\n",
       "        1,  3,  1,  1,  4,  1], dtype=int64)"
      ]
     },
     "execution_count": 254,
     "metadata": {},
     "output_type": "execute_result"
    }
   ],
   "source": [
    "# Find the most frequent value of petal length (3rd column) in iris dataset.\n",
    "vals, counts = np.unique(iris,return_counts = True)\n",
    "counts"
   ]
  },
  {
   "cell_type": "code",
   "execution_count": 255,
   "id": "f6084d44",
   "metadata": {},
   "outputs": [
    {
     "data": {
      "text/plain": [
       "2"
      ]
     },
     "execution_count": 255,
     "metadata": {},
     "output_type": "execute_result"
    }
   ],
   "source": [
    "np.argmax(counts) #gives the index of most frequent value"
   ]
  },
  {
   "cell_type": "code",
   "execution_count": 257,
   "id": "a4d2e456",
   "metadata": {},
   "outputs": [
    {
     "data": {
      "text/plain": [
       "0.2"
      ]
     },
     "execution_count": 257,
     "metadata": {},
     "output_type": "execute_result"
    }
   ],
   "source": [
    "vals[np.argmax(counts)] #fetching most frequent value"
   ]
  },
  {
   "cell_type": "code",
   "execution_count": 258,
   "id": "a692fbfc",
   "metadata": {
    "scrolled": false
   },
   "outputs": [
    {
     "data": {
      "text/plain": [
       "array([0. , 0.1, 0.2, 0.3, 0.4, 0.5, 0.6, 1. , 1.1, 1.2, 1.3, 1.4, 1.5,\n",
       "       1.6, 1.7, 1.8, 1.9, 2. , 2.1, 2.2, 2.3, 2.4, 2.5, 2.6, 2.7, 2.8,\n",
       "       2.9, 3. , 3.1, 3.2, 3.3, 3.4, 3.5, 3.6, 3.7, 3.8, 3.9, 4. , 4.1,\n",
       "       4.2, 4.3, 4.4, 4.5, 4.6, 4.7, 4.8, 4.9, 5. , 5.1, 5.2, 5.3, 5.4,\n",
       "       5.5, 5.6, 5.7, 5.8, 5.9, 6. , 6.1, 6.2, 6.3, 6.4, 6.5, 6.6, 6.7,\n",
       "       6.8, 6.9, 7. , 7.1, 7.2, 7.3, 7.4, 7.7, 7.9])"
      ]
     },
     "execution_count": 258,
     "metadata": {},
     "output_type": "execute_result"
    }
   ],
   "source": [
    "vals"
   ]
  },
  {
   "cell_type": "code",
   "execution_count": null,
   "id": "796a4983",
   "metadata": {},
   "outputs": [],
   "source": [
    "iris[:5]"
   ]
  },
  {
   "cell_type": "markdown",
   "id": "d50b1de8",
   "metadata": {},
   "source": [
    "# 47. How to find the position of the first occurrence of a value greater than a given value?"
   ]
  },
  {
   "cell_type": "code",
   "execution_count": 262,
   "id": "cb6c734c",
   "metadata": {},
   "outputs": [
    {
     "data": {
      "text/plain": [
       "array([50], dtype=int64)"
      ]
     },
     "execution_count": 262,
     "metadata": {},
     "output_type": "execute_result"
    }
   ],
   "source": [
    "np.argwhere(iris[:,3]>1)[0]#returns the index where value is greater than 1"
   ]
  },
  {
   "cell_type": "code",
   "execution_count": 260,
   "id": "ad4c7a6f",
   "metadata": {},
   "outputs": [
    {
     "data": {
      "text/plain": [
       "1.4"
      ]
     },
     "execution_count": 260,
     "metadata": {},
     "output_type": "execute_result"
    }
   ],
   "source": [
    "iris[:,3][50]"
   ]
  },
  {
   "cell_type": "markdown",
   "id": "91573ee1",
   "metadata": {},
   "source": [
    "# 48. How to replace all values greater than a given value to a given cutoff?"
   ]
  },
  {
   "cell_type": "code",
   "execution_count": 263,
   "id": "b458ba18",
   "metadata": {},
   "outputs": [
    {
     "name": "stdout",
     "output_type": "stream",
     "text": [
      "[27.626842 14.6401   21.801362 42.39403   1.231224  6.956887 33.866705\n",
      " 41.466785  7.698623 29.179573 44.674776 11.250904 10.081083  6.310468\n",
      " 11.765177 48.952565 40.772474  9.42511  40.995013 14.429614]\n"
     ]
    }
   ],
   "source": [
    "# From the array a, replace all values greater than 30 to 30 and less than 10 to 10.\n",
    "\n",
    "#created an array\n",
    "np.random.seed(100)\n",
    "a = np.random.uniform(1,50, 20)\n",
    "print(a)"
   ]
  },
  {
   "cell_type": "code",
   "execution_count": 264,
   "id": "1f0fa09d",
   "metadata": {},
   "outputs": [],
   "source": [
    "#setting precision to 2\n",
    "np.set_printoptions(precision=2)"
   ]
  },
  {
   "cell_type": "code",
   "execution_count": 265,
   "id": "c2b5f2ee",
   "metadata": {},
   "outputs": [
    {
     "data": {
      "text/plain": [
       "array([27.63, 14.64, 21.8 , 30.  , 10.  , 10.  , 30.  , 30.  , 10.  ,\n",
       "       29.18, 30.  , 11.25, 10.08, 10.  , 11.77, 30.  , 30.  , 10.  ,\n",
       "       30.  , 14.43])"
      ]
     },
     "execution_count": 265,
     "metadata": {},
     "output_type": "execute_result"
    }
   ],
   "source": [
    "np.clip(a, a_min=10, a_max=30) #Method-1"
   ]
  },
  {
   "cell_type": "code",
   "execution_count": 266,
   "id": "bba138a6",
   "metadata": {},
   "outputs": [
    {
     "name": "stdout",
     "output_type": "stream",
     "text": [
      "[27.63 14.64 21.8  30.   10.   10.   30.   30.   10.   29.18 30.   11.25\n",
      " 10.08 10.   11.77 30.   30.   10.   30.   14.43]\n"
     ]
    }
   ],
   "source": [
    "print(np.where(a < 10, 10, np.where(a > 30, 30, a))) #Method-2"
   ]
  },
  {
   "cell_type": "markdown",
   "id": "2d674eb0",
   "metadata": {},
   "source": [
    "# 49.  How to get the positions of top n values from a numpy array?"
   ]
  },
  {
   "cell_type": "code",
   "execution_count": 267,
   "id": "1ef4d38a",
   "metadata": {},
   "outputs": [
    {
     "data": {
      "text/plain": [
       "array([27.63, 14.64, 21.8 , 42.39,  1.23,  6.96, 33.87, 41.47,  7.7 ,\n",
       "       29.18, 44.67, 11.25, 10.08,  6.31, 11.77, 48.95, 40.77,  9.43,\n",
       "       41.  , 14.43])"
      ]
     },
     "execution_count": 267,
     "metadata": {},
     "output_type": "execute_result"
    }
   ],
   "source": [
    "#Creating an array of randome values\n",
    "np.random.seed(100)\n",
    "a = np.random.uniform(1,50, 20)\n",
    "a"
   ]
  },
  {
   "cell_type": "code",
   "execution_count": 268,
   "id": "e5f6c614",
   "metadata": {},
   "outputs": [
    {
     "data": {
      "text/plain": [
       "array([18,  7,  3, 10, 15], dtype=int64)"
      ]
     },
     "execution_count": 268,
     "metadata": {},
     "output_type": "execute_result"
    }
   ],
   "source": [
    "#Method-1\n",
    "a.argsort()[-5:] #index of top 5 values"
   ]
  },
  {
   "cell_type": "code",
   "execution_count": 269,
   "id": "6f40046c",
   "metadata": {},
   "outputs": [
    {
     "data": {
      "text/plain": [
       "array([41.  , 41.47, 42.39, 44.67, 48.95])"
      ]
     },
     "execution_count": 269,
     "metadata": {},
     "output_type": "execute_result"
    }
   ],
   "source": [
    "a[a.argsort()[-5:]] #fetching the values from array"
   ]
  },
  {
   "cell_type": "code",
   "execution_count": 270,
   "id": "4b8bd18c",
   "metadata": {},
   "outputs": [
    {
     "data": {
      "text/plain": [
       "array([41.  , 41.47, 42.39, 44.67, 48.95])"
      ]
     },
     "execution_count": 270,
     "metadata": {},
     "output_type": "execute_result"
    }
   ],
   "source": [
    "#Method-2\n",
    "np.sort(a)[-5:]"
   ]
  },
  {
   "cell_type": "code",
   "execution_count": 271,
   "id": "04135e80",
   "metadata": {},
   "outputs": [
    {
     "data": {
      "text/plain": [
       "array([41.  , 41.47, 42.39, 44.67, 48.95])"
      ]
     },
     "execution_count": 271,
     "metadata": {},
     "output_type": "execute_result"
    }
   ],
   "source": [
    "# Method 3:\n",
    "np.partition(a, kth=-5)[-5:]"
   ]
  },
  {
   "cell_type": "markdown",
   "id": "bce9de22",
   "metadata": {},
   "source": [
    "Creates a copy of the array with its elements rearranged in such a way that the value of the element in k-th position is in the position it would be in a sorted array. All elements smaller than the k-th element are moved before this element and all equal or greater are moved behind it. The ordering of the elements in the two partitions is undefined."
   ]
  },
  {
   "cell_type": "code",
   "execution_count": null,
   "id": "4f8cc788",
   "metadata": {},
   "outputs": [],
   "source": [
    "# Method 4:\n",
    "a[np.argpartition(-a, 5)][:5]"
   ]
  },
  {
   "cell_type": "markdown",
   "id": "aed4fcd7",
   "metadata": {},
   "source": [
    "# 50.  How to compute the row wise counts of all possible values in an array?\n"
   ]
  },
  {
   "cell_type": "markdown",
   "id": "f03b7bd7",
   "metadata": {},
   "source": [
    "**Input**:array\n",
    "<br>$([[ 9,  9,  4,  8,  8,  1,  5,  3,  6,  3],$<br>\n",
    "        $[ 3,  3,  2,  1,  9,  5,  1, 10,  7,  3],$<br>\n",
    "        $[ 5,  2,  6,  4,  5,  5,  4,  8,  2,  2],$<br>\n",
    "        $[ 8,  8,  1,  3, 10, 10,  4,  3,  6,  9],$,<br>\n",
    "        $[ 2,  1,  8,  7,  3,  1,  9,  3,  6,  2],$<br>\n",
    "        $[ 9,  2,  6,  5,  3,  9,  4,  6,  1, 10]])$\n",
    "\n",
    "**Desired Output:**<br>\n",
    "\n",
    "$ [[1, 0, 2, 1, 1, 1, 0, 2, 2, 0],$<br>\n",
    "$  [2, 1, 3, 0, 1, 0, 1, 0, 1, 1],$<br>\n",
    "$  [0, 3, 0, 2, 3, 1, 0, 1, 0, 0],$<br>\n",
    "$  [1, 0, 2, 1, 0, 1, 0, 2, 1, 2],$<br>\n",
    "$  [2, 2, 2, 0, 0, 1, 1, 1, 1, 0],$<br>\n",
    "$  [1, 1, 1, 1, 1, 2, 0, 0, 2, 1]]$"
   ]
  },
  {
   "cell_type": "code",
   "execution_count": null,
   "id": "f2ad1dd9",
   "metadata": {},
   "outputs": [],
   "source": [
    "#Creating an array\n",
    "np.random.seed(100)\n",
    "arr = np.random.randint(1,11,size=(6, 10))\n",
    "arr"
   ]
  },
  {
   "cell_type": "code",
   "execution_count": null,
   "id": "590560ec",
   "metadata": {
    "scrolled": false
   },
   "outputs": [],
   "source": [
    "np.unique(arr[0,:],return_counts=True) #taking counts of only first row"
   ]
  },
  {
   "cell_type": "code",
   "execution_count": null,
   "id": "dc97d212",
   "metadata": {
    "scrolled": true
   },
   "outputs": [],
   "source": [
    "def count_values_rowise(arr):\n",
    "    unique_elements = np.unique(arr) #fetching unique elements in an array\n",
    "    list1 = [] #creating the empty list\n",
    "    for i in range(arr.shape[0]): #iterating over rows\n",
    "        vals,counts = np.unique(arr[i,:],return_counts = True) #fetching values and counts\n",
    "        dict1 = dict(zip(vals,counts)) #converting it to dictionary\n",
    "        dict2 = {unique_elements[i] :dict1.get(unique_elements[i],0) for i in range(arr.shape[1])} #checking whether the element is present or not, if not append by 0\n",
    "        list1.append(list(dict2.values())) #onverting list to dictionary and appending it to a new list\n",
    "    return list1"
   ]
  },
  {
   "cell_type": "code",
   "execution_count": null,
   "id": "d55f01e8",
   "metadata": {},
   "outputs": [],
   "source": [
    "count_values_rowise(arr)"
   ]
  },
  {
   "cell_type": "code",
   "execution_count": null,
   "id": "2e818296",
   "metadata": {},
   "outputs": [],
   "source": [
    "#Example-2\n",
    "arr = np.array([np.array(list('bill clinton')), np.array(list('narendramodi')), np.array(list('jjayalalitha'))])\n",
    "print(np.unique(arr))\n",
    "count_values_rowise(arr)"
   ]
  },
  {
   "cell_type": "markdown",
   "id": "eebe22b5",
   "metadata": {},
   "source": [
    "# 51. How to convert an array of arrays into a flat 1d array?"
   ]
  },
  {
   "cell_type": "markdown",
   "id": "dce52996",
   "metadata": {},
   "source": [
    "**array_of_arrays**<br>\n",
    "$array([array([0, 1, 2]), array([3, 4, 5, 6]), array([7, 8, 9])], dtype=object)$<br>\n",
    "\n",
    "**Desired Output:**<br>\n",
    "\n",
    "$array([0, 1, 2, 3, 4, 5, 6, 7, 8, 9])$"
   ]
  },
  {
   "cell_type": "code",
   "execution_count": null,
   "id": "673165e2",
   "metadata": {},
   "outputs": [],
   "source": [
    "#Creating array of arrays\n",
    "arr1 = np.arange(3)\n",
    "arr2 = np.arange(3,7)\n",
    "arr3 = np.arange(7,10)\n",
    "\n",
    "array_of_arrays = np.array([arr1, arr2, arr3],dtype ='object') #without dtype it will give warning\n",
    "print('array_of_arrays: ', array_of_arrays)"
   ]
  },
  {
   "cell_type": "code",
   "execution_count": null,
   "id": "36c323f0",
   "metadata": {},
   "outputs": [],
   "source": [
    "#Method-1\n",
    "condition = [ele for arr in array_of_arrays for ele in arr] #used list comprehension\n",
    "np.array(condition)"
   ]
  },
  {
   "cell_type": "code",
   "execution_count": null,
   "id": "57eb0472",
   "metadata": {},
   "outputs": [],
   "source": [
    "#Method-2\n",
    "np.concatenate(array_of_arrays)"
   ]
  },
  {
   "cell_type": "markdown",
   "id": "d03b8810",
   "metadata": {},
   "source": [
    "# 51. How to generate one-hot encodings for an array in numpy?"
   ]
  },
  {
   "cell_type": "markdown",
   "id": "302ffe28",
   "metadata": {},
   "source": [
    "**Input:**<br>\n",
    "$array([2, 3, 2, 2, 2, 1])$\n",
    "\n",
    "**Output:**<br>\n",
    "\n",
    "$ array([$<br>$[ 0.,  1.,  0.],$ <br>\n",
    "$        [ 0.,  0.,  1.],$<br>\n",
    "$        [ 0.,  1.,  0.],$<br>\n",
    "$        [ 0.,  1.,  0.],$<br>\n",
    "$        [ 0.,  1.,  0.],$<br>\n",
    "$        [ 1.,  0.,  0.]])$<br>"
   ]
  },
  {
   "cell_type": "code",
   "execution_count": null,
   "id": "f4990737",
   "metadata": {},
   "outputs": [],
   "source": [
    "#creating an array\n",
    "np.random.seed(101) \n",
    "arr = np.random.randint(1,4, size=6)\n",
    "arr"
   ]
  },
  {
   "cell_type": "code",
   "execution_count": null,
   "id": "d46ed855",
   "metadata": {},
   "outputs": [],
   "source": [
    "def one_hot_encoding(arr):\n",
    "    unique_ele = np.unique(arr) #fetching unique number of elments\n",
    "    #creating an array of 6(no. of elements) by 3(no. of unique elements)\n",
    "    out_array = np.zeros((arr.shape[0],unique_ele.shape[0])) \n",
    "    for i,j in enumerate(arr):\n",
    "        out_array[i,j-1] = 1 #replacing the element position with 1\n",
    "    return out_array"
   ]
  },
  {
   "cell_type": "code",
   "execution_count": null,
   "id": "ac5754dd",
   "metadata": {},
   "outputs": [],
   "source": [
    "print(np.arange(1,4))\n",
    "print(one_hot_encoding(arr))"
   ]
  },
  {
   "cell_type": "code",
   "execution_count": null,
   "id": "78c3cdca",
   "metadata": {},
   "outputs": [],
   "source": [
    "#Method-2\n",
    "print(arr[:,np.newaxis]) #changing the axis #arr[:,None]\n",
    "print(np.unique(arr)) #fetching unique elements\n",
    "\n",
    "#comparing above two condtions\n",
    "print(arr[:,np.newaxis] ==np.unique(arr))  #results in Boolean output True/False\n",
    "\n",
    "#converting Boolean to int \n",
    "'''Overall Solution'''\n",
    "(arr[:,np.newaxis] ==np.unique(arr)).view(np.int8)"
   ]
  },
  {
   "cell_type": "markdown",
   "id": "03203590",
   "metadata": {},
   "source": [
    "# 53. How to rank items in an array using numpy?"
   ]
  },
  {
   "cell_type": "code",
   "execution_count": null,
   "id": "471f4e5f",
   "metadata": {},
   "outputs": [],
   "source": [
    "#create an array\n",
    "np.random.seed(10)\n",
    "a = np.random.randint(20, size=10)\n",
    "print(a)"
   ]
  },
  {
   "cell_type": "code",
   "execution_count": null,
   "id": "e08e0113",
   "metadata": {},
   "outputs": [],
   "source": [
    "print(a.argsort().argsort())"
   ]
  },
  {
   "cell_type": "code",
   "execution_count": null,
   "id": "c034ad48",
   "metadata": {},
   "outputs": [],
   "source": [
    "#Rank of 2-D array\n",
    "np.random.seed(10)\n",
    "a = np.random.randint(20, size=[2,5])\n",
    "print(a)"
   ]
  },
  {
   "cell_type": "code",
   "execution_count": null,
   "id": "c86a91f0",
   "metadata": {},
   "outputs": [],
   "source": [
    "print(a.ravel().argsort().argsort().reshape(a.shape))"
   ]
  },
  {
   "cell_type": "markdown",
   "id": "e24846e0",
   "metadata": {},
   "source": [
    "# 54. How to find the maximum value in each row of a numpy array 2d?"
   ]
  },
  {
   "cell_type": "code",
   "execution_count": null,
   "id": "3e541823",
   "metadata": {},
   "outputs": [],
   "source": [
    "np.random.seed(100)\n",
    "a = np.random.randint(1,10, [5,3])\n",
    "a"
   ]
  },
  {
   "cell_type": "code",
   "execution_count": null,
   "id": "9e89a95a",
   "metadata": {},
   "outputs": [],
   "source": [
    "#Method-1\n",
    "np.amax(a, axis=1)"
   ]
  },
  {
   "cell_type": "code",
   "execution_count": null,
   "id": "7895dbf0",
   "metadata": {},
   "outputs": [],
   "source": [
    "#Method-2\n",
    "np.apply_along_axis(np.max, arr=a, axis=1)"
   ]
  },
  {
   "cell_type": "markdown",
   "id": "f36ff655",
   "metadata": {},
   "source": [
    "# 55. How to compute the min-by-max for each row for a numpy array 2d?"
   ]
  },
  {
   "cell_type": "code",
   "execution_count": null,
   "id": "460c7232",
   "metadata": {},
   "outputs": [],
   "source": [
    "np.random.seed(100)\n",
    "a = np.random.randint(1,10, [5,3])\n",
    "a"
   ]
  },
  {
   "cell_type": "code",
   "execution_count": null,
   "id": "19f21b37",
   "metadata": {},
   "outputs": [],
   "source": [
    "np.apply_along_axis(lambda x: np.min(x)/np.max(x), arr=a, axis=1)"
   ]
  },
  {
   "cell_type": "markdown",
   "id": "f3e0b60e",
   "metadata": {},
   "source": [
    "# 56. How to find the duplicate records in a numpy array?"
   ]
  },
  {
   "cell_type": "code",
   "execution_count": null,
   "id": "71b83b97",
   "metadata": {},
   "outputs": [],
   "source": [
    "np.random.seed(100)\n",
    "a = np.random.randint(0, 5, 10)\n",
    "print('Array: ', a)"
   ]
  },
  {
   "cell_type": "code",
   "execution_count": null,
   "id": "e32f306d",
   "metadata": {},
   "outputs": [],
   "source": [
    "# Create an all True array\n",
    "out = np.full(a.shape[0], True)\n",
    "out"
   ]
  },
  {
   "cell_type": "code",
   "execution_count": null,
   "id": "b2a361dc",
   "metadata": {},
   "outputs": [],
   "source": [
    "# Find the index positions of unique elements\n",
    "unique_positions = np.unique(a, return_index=True)[1]\n",
    "unique_positions"
   ]
  },
  {
   "cell_type": "code",
   "execution_count": null,
   "id": "0dc9bf74",
   "metadata": {},
   "outputs": [],
   "source": [
    "# Mark those positions as False\n",
    "out[unique_positions] = False\n",
    "out"
   ]
  },
  {
   "cell_type": "code",
   "execution_count": 1,
   "id": "ea688bf6",
   "metadata": {},
   "outputs": [],
   "source": [
    "d = {'A':5,'B':1,'C':6,'D':2}"
   ]
  },
  {
   "cell_type": "code",
   "execution_count": 6,
   "id": "2133af00",
   "metadata": {},
   "outputs": [
    {
     "ename": "TypeError",
     "evalue": "'dict_values' object is not callable",
     "output_type": "error",
     "traceback": [
      "\u001b[1;31m---------------------------------------------------------------------------\u001b[0m",
      "\u001b[1;31mTypeError\u001b[0m                                 Traceback (most recent call last)",
      "\u001b[1;32m<ipython-input-6-f8a84fd9d5e1>\u001b[0m in \u001b[0;36m<module>\u001b[1;34m\u001b[0m\n\u001b[1;32m----> 1\u001b[1;33m \u001b[0msorted\u001b[0m\u001b[1;33m(\u001b[0m\u001b[0mdict\u001b[0m\u001b[1;33m(\u001b[0m\u001b[0mzip\u001b[0m\u001b[1;33m(\u001b[0m\u001b[0md\u001b[0m\u001b[1;33m.\u001b[0m\u001b[0mkeys\u001b[0m\u001b[1;33m(\u001b[0m\u001b[1;33m)\u001b[0m\u001b[1;33m,\u001b[0m\u001b[0md\u001b[0m\u001b[1;33m.\u001b[0m\u001b[0mvalues\u001b[0m\u001b[1;33m(\u001b[0m\u001b[1;33m)\u001b[0m\u001b[1;33m)\u001b[0m\u001b[1;33m)\u001b[0m\u001b[1;33m,\u001b[0m\u001b[0mkey\u001b[0m \u001b[1;33m=\u001b[0m \u001b[0md\u001b[0m\u001b[1;33m.\u001b[0m\u001b[0mvalues\u001b[0m\u001b[1;33m(\u001b[0m\u001b[1;33m)\u001b[0m\u001b[1;33m)\u001b[0m\u001b[1;33m\u001b[0m\u001b[1;33m\u001b[0m\u001b[0m\n\u001b[0m",
      "\u001b[1;31mTypeError\u001b[0m: 'dict_values' object is not callable"
     ]
    }
   ],
   "source": [
    "sorted*"
   ]
  },
  {
   "cell_type": "code",
   "execution_count": null,
   "id": "de6d68f0",
   "metadata": {},
   "outputs": [],
   "source": []
  }
 ],
 "metadata": {
  "kernelspec": {
   "display_name": "Python 3",
   "language": "python",
   "name": "python3"
  },
  "language_info": {
   "codemirror_mode": {
    "name": "ipython",
    "version": 3
   },
   "file_extension": ".py",
   "mimetype": "text/x-python",
   "name": "python",
   "nbconvert_exporter": "python",
   "pygments_lexer": "ipython3",
   "version": "3.8.8"
  }
 },
 "nbformat": 4,
 "nbformat_minor": 5
}
