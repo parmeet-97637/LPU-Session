{
 "cells": [
  {
   "cell_type": "markdown",
   "id": "1149bae7",
   "metadata": {},
   "source": [
    "# Python Lambda\n",
    "- A lambda function is a small anonymous function.\n",
    "\n",
    "- A lambda function can take any number of arguments, but can only have one expression.\n",
    "\n",
    "# Syntax\n",
    "<b>lambda arguments : expression\n",
    "- The expression is executed and the result is returned\n"
   ]
  },
  {
   "cell_type": "code",
   "execution_count": null,
   "id": "e00ee098",
   "metadata": {},
   "outputs": [],
   "source": [
    "# single line functions, anonymous functions"
   ]
  },
  {
   "cell_type": "code",
   "execution_count": null,
   "id": "ba583a93",
   "metadata": {},
   "outputs": [],
   "source": [
    "lambda argments : expression"
   ]
  },
  {
   "cell_type": "code",
   "execution_count": 1,
   "id": "9a187bd7",
   "metadata": {},
   "outputs": [],
   "source": [
    "def square(x):\n",
    "    return x*x"
   ]
  },
  {
   "cell_type": "code",
   "execution_count": 2,
   "id": "85f933bb",
   "metadata": {},
   "outputs": [
    {
     "data": {
      "text/plain": [
       "<function __main__.<lambda>(x)>"
      ]
     },
     "execution_count": 2,
     "metadata": {},
     "output_type": "execute_result"
    }
   ],
   "source": [
    "lambda x : x*x"
   ]
  },
  {
   "cell_type": "code",
   "execution_count": null,
   "id": "b31ccb80",
   "metadata": {},
   "outputs": [],
   "source": []
  },
  {
   "cell_type": "code",
   "execution_count": null,
   "id": "c7317ac1",
   "metadata": {},
   "outputs": [],
   "source": []
  },
  {
   "cell_type": "code",
   "execution_count": null,
   "id": "4c059756",
   "metadata": {},
   "outputs": [],
   "source": []
  },
  {
   "cell_type": "code",
   "execution_count": null,
   "id": "815deae8",
   "metadata": {},
   "outputs": [],
   "source": []
  },
  {
   "cell_type": "code",
   "execution_count": 1,
   "id": "0e6223bc",
   "metadata": {},
   "outputs": [
    {
     "name": "stdout",
     "output_type": "stream",
     "text": [
      "50\n"
     ]
    }
   ],
   "source": [
    "#Example-1\n",
    "#Multiply 10 to argument a, and return the result:\n",
    "\n",
    "x = lambda a : a * 10\n",
    "print(x(5))"
   ]
  },
  {
   "cell_type": "markdown",
   "id": "58f93df3",
   "metadata": {},
   "source": [
    "<b>Lambda functions can take any number of arguments"
   ]
  },
  {
   "cell_type": "code",
   "execution_count": 2,
   "id": "1edce130",
   "metadata": {},
   "outputs": [
    {
     "name": "stdout",
     "output_type": "stream",
     "text": [
      "12\n"
     ]
    }
   ],
   "source": [
    "#Example-2\n",
    "#Multiply argument a with argument b and return the result:\n",
    "\n",
    "x = lambda a, b : a * b\n",
    "print(x(4, 3))"
   ]
  },
  {
   "cell_type": "code",
   "execution_count": 3,
   "id": "99ac3147",
   "metadata": {},
   "outputs": [
    {
     "name": "stdout",
     "output_type": "stream",
     "text": [
      "18\n"
     ]
    }
   ],
   "source": [
    "#Example:3\n",
    "#Summarize argument a, b, and c and return the result:\n",
    "\n",
    "x= lambda a,b,c:a+b+c\n",
    "print(x(5,6,7))"
   ]
  },
  {
   "cell_type": "markdown",
   "id": "f7b17260",
   "metadata": {},
   "source": [
    "## Why Use Lambda Functions?\n",
    "- The power of lambda is better shown when you use them as an anonymous function inside another function.\n",
    "\n",
    "- Say you have a function definition that takes one argument, and that argument will be multiplied with an unknown number"
   ]
  },
  {
   "cell_type": "code",
   "execution_count": 4,
   "id": "703e424a",
   "metadata": {},
   "outputs": [],
   "source": [
    "#Example:4\n",
    "# This function always double the element what we send\n",
    "def myfunc(n):\n",
    "    return lambda a : a * n"
   ]
  },
  {
   "cell_type": "code",
   "execution_count": 5,
   "id": "97962127",
   "metadata": {},
   "outputs": [
    {
     "name": "stdout",
     "output_type": "stream",
     "text": [
      "<function myfunc.<locals>.<lambda> at 0x0000018BEF1A1040>\n",
      "22\n"
     ]
    }
   ],
   "source": [
    "mydoubler = myfunc(2) #always multiple any number by 2\n",
    "print(mydoubler) #returns the object which is ready to apply the lambda function over a value and return it\n",
    "print(mydoubler(11))"
   ]
  },
  {
   "cell_type": "code",
   "execution_count": 6,
   "id": "f4d4ec38",
   "metadata": {
    "scrolled": true
   },
   "outputs": [
    {
     "name": "stdout",
     "output_type": "stream",
     "text": [
      "<function myfunc.<locals>.<lambda> at 0x0000018BEF1A1EE0>\n",
      "33\n"
     ]
    }
   ],
   "source": [
    "mytripler = myfunc(3) #always multiple any number by 3\n",
    "print(mytripler) #returns the object which is ready to apply the lambda function over a value and return it\n",
    "print(mytripler(11))"
   ]
  },
  {
   "cell_type": "code",
   "execution_count": 7,
   "id": "d8fcc4de",
   "metadata": {},
   "outputs": [
    {
     "name": "stdout",
     "output_type": "stream",
     "text": [
      "<function <lambda> at 0x0000018BEF1CC3A0>\n"
     ]
    }
   ],
   "source": [
    "#Example-5\n",
    "'''In below example, the lambda is not being called by the print function but simply returning the function object \n",
    "and the memory location where it is stored.\n",
    "\n",
    "So, to make the print to print the string first we need to call the lambda so that the string will get pass the print'''\n",
    "\n",
    "string ='PythonProgramming'\n",
    " \n",
    "# lambda returns a function object\n",
    "print(lambda string : string)"
   ]
  },
  {
   "cell_type": "code",
   "execution_count": 8,
   "id": "986c7c8a",
   "metadata": {},
   "outputs": [
    {
     "name": "stdout",
     "output_type": "stream",
     "text": [
      "PythonProgramming\n"
     ]
    }
   ],
   "source": [
    "# lambda gets pass to print\n",
    "(lambda x : print(string))(string)"
   ]
  },
  {
   "cell_type": "markdown",
   "id": "2a424568",
   "metadata": {},
   "source": [
    "##  Python Lambda Function with if-else"
   ]
  },
  {
   "cell_type": "code",
   "execution_count": 9,
   "id": "ef7061b9",
   "metadata": {},
   "outputs": [
    {
     "name": "stdout",
     "output_type": "stream",
     "text": [
      "72\n"
     ]
    }
   ],
   "source": [
    "# Example of lambda function using if-else\n",
    "Max = lambda a, b : a if(a > b) else b\n",
    "\n",
    "print(Max(15, 72))\n"
   ]
  },
  {
   "cell_type": "markdown",
   "id": "bbf42f51",
   "metadata": {},
   "source": [
    "## Python Lambda with Multiple statements"
   ]
  },
  {
   "cell_type": "code",
   "execution_count": 10,
   "id": "5d94fbae",
   "metadata": {},
   "outputs": [
    {
     "name": "stdout",
     "output_type": "stream",
     "text": [
      "[3, 16, 9]\n"
     ]
    }
   ],
   "source": [
    "List = [[2,3,4],[1, 4, 16, 64],[3, 6, 9, 12]]\n",
    "\n",
    "# Sort each sublist\n",
    "sortList = lambda x: (sorted(i) for i in x)\n",
    "\n",
    "# Get the second largest element\n",
    "secondLargest = lambda x, f : [y[len(y)-2] for y in f(x)]\n",
    "res = secondLargest(List, sortList)\n",
    "\n",
    "print(res)"
   ]
  },
  {
   "cell_type": "code",
   "execution_count": 11,
   "id": "9d7e3614",
   "metadata": {},
   "outputs": [
    {
     "data": {
      "text/plain": [
       "[3, 9, 16]"
      ]
     },
     "execution_count": 11,
     "metadata": {},
     "output_type": "execute_result"
    }
   ],
   "source": [
    "#Alternate way\n",
    "List = [[2,3,4],[1, 4, 16, 64],[3, 6, 9, 12]]\n",
    "sorted(list(map(lambda x: x[-2], sorted(List))))"
   ]
  }
 ],
 "metadata": {
  "kernelspec": {
   "display_name": "Python 3",
   "language": "python",
   "name": "python3"
  },
  "language_info": {
   "codemirror_mode": {
    "name": "ipython",
    "version": 3
   },
   "file_extension": ".py",
   "mimetype": "text/x-python",
   "name": "python",
   "nbconvert_exporter": "python",
   "pygments_lexer": "ipython3",
   "version": "3.8.8"
  }
 },
 "nbformat": 4,
 "nbformat_minor": 5
}
