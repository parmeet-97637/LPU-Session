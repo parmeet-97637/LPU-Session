{
 "cells": [
  {
   "cell_type": "markdown",
   "id": "d8d4c3f9",
   "metadata": {},
   "source": [
    "### ttest_ind"
   ]
  },
  {
   "cell_type": "code",
   "execution_count": null,
   "id": "1c431e27",
   "metadata": {},
   "outputs": [],
   "source": [
    "ttest_ind(data_group1, data_group2, equal_var=True/False)\n",
    "\n",
    "False : Welch's test -> It will not take eau proporation of variances"
   ]
  },
  {
   "cell_type": "code",
   "execution_count": 2,
   "id": "adf17aba",
   "metadata": {},
   "outputs": [],
   "source": [
    "import scipy.stats as stats\n",
    "import numpy as np"
   ]
  },
  {
   "cell_type": "code",
   "execution_count": 3,
   "id": "9224a698",
   "metadata": {},
   "outputs": [
    {
     "name": "stdout",
     "output_type": "stream",
     "text": [
      "8.739999999999998 12.947368421052632\n"
     ]
    }
   ],
   "source": [
    "data_group1 = np.array([14,15,15,16,13,8,14,17,16,14,19,20,21,15,15,16,16,13,14,21])\n",
    "\n",
    "data_group2 = np.array([15,17,14,17,18,8,12,19,19,14,17,22,24,16,13,13,18,15,13])\n",
    "\n",
    "print(np.var(data_group1), np.var(data_group2))"
   ]
  },
  {
   "cell_type": "code",
   "execution_count": 4,
   "id": "f26189e5",
   "metadata": {},
   "outputs": [
    {
     "data": {
      "text/plain": [
       "1.4822451317296677"
      ]
     },
     "execution_count": 4,
     "metadata": {},
     "output_type": "execute_result"
    }
   ],
   "source": [
    "12.94/8.73"
   ]
  },
  {
   "cell_type": "code",
   "execution_count": 5,
   "id": "44fb1d83",
   "metadata": {},
   "outputs": [
    {
     "data": {
      "text/plain": [
       "Ttest_indResult(statistic=-0.3702392713715166, pvalue=0.7133152713478961)"
      ]
     },
     "execution_count": 5,
     "metadata": {},
     "output_type": "execute_result"
    }
   ],
   "source": [
    "stats.ttest_ind(a=data_group1, b=data_group2,equal_var=True)"
   ]
  },
  {
   "cell_type": "code",
   "execution_count": null,
   "id": "348283d6",
   "metadata": {},
   "outputs": [],
   "source": [
    "Two sample t-test have following hypothesis \n",
    "1. Null : mu1 = mu2 (population mean of dataset1 is equal to dataset2)\n",
    "2. Alternate : mu1 <> mu2 ( population mean of dataset1 is not eqaul to population mean of dataset2)\n"
   ]
  },
  {
   "cell_type": "code",
   "execution_count": 6,
   "id": "01e938e4",
   "metadata": {},
   "outputs": [
    {
     "data": {
      "text/plain": [
       "True"
      ]
     },
     "execution_count": 6,
     "metadata": {},
     "output_type": "execute_result"
    }
   ],
   "source": [
    "0.7133>0.05"
   ]
  },
  {
   "cell_type": "markdown",
   "id": "e10918e0",
   "metadata": {},
   "source": [
    "We fail to reject the null hypothesus and the above two samples are coming from the same population"
   ]
  },
  {
   "cell_type": "markdown",
   "id": "ec716a25",
   "metadata": {},
   "source": [
    "# Two sample proportion test"
   ]
  },
  {
   "cell_type": "code",
   "execution_count": 7,
   "id": "45880ba6",
   "metadata": {},
   "outputs": [],
   "source": [
    "from statsmodels.stats.proportion import proportions_ztest"
   ]
  },
  {
   "cell_type": "code",
   "execution_count": 9,
   "id": "55ae07b2",
   "metadata": {},
   "outputs": [],
   "source": [
    "count = np.array([5,12])\n",
    "nobs = np.array([83,99])"
   ]
  },
  {
   "cell_type": "code",
   "execution_count": 10,
   "id": "5d391d81",
   "metadata": {},
   "outputs": [
    {
     "data": {
      "text/plain": [
       "(-1.4078304151258787, 0.15918129181156992)"
      ]
     },
     "execution_count": 10,
     "metadata": {},
     "output_type": "execute_result"
    }
   ],
   "source": [
    "proportions_ztest(count,nobs)"
   ]
  },
  {
   "cell_type": "code",
   "execution_count": 11,
   "id": "2c8e1641",
   "metadata": {},
   "outputs": [
    {
     "data": {
      "text/plain": [
       "True"
      ]
     },
     "execution_count": 11,
     "metadata": {},
     "output_type": "execute_result"
    }
   ],
   "source": [
    "0.159>0.05"
   ]
  },
  {
   "cell_type": "code",
   "execution_count": null,
   "id": "25d93a0a",
   "metadata": {},
   "outputs": [],
   "source": [
    "Null hypothesis : Two categories are in proportion in the population dataset\n",
    "Alternate Hypothesis : Two categories are not in proportion in the population dataset"
   ]
  },
  {
   "cell_type": "code",
   "execution_count": null,
   "id": "bbda1421",
   "metadata": {},
   "outputs": [],
   "source": []
  },
  {
   "cell_type": "code",
   "execution_count": null,
   "id": "e25bf8dd",
   "metadata": {},
   "outputs": [],
   "source": []
  }
 ],
 "metadata": {
  "kernelspec": {
   "display_name": "Python 3",
   "language": "python",
   "name": "python3"
  },
  "language_info": {
   "codemirror_mode": {
    "name": "ipython",
    "version": 3
   },
   "file_extension": ".py",
   "mimetype": "text/x-python",
   "name": "python",
   "nbconvert_exporter": "python",
   "pygments_lexer": "ipython3",
   "version": "3.8.8"
  }
 },
 "nbformat": 4,
 "nbformat_minor": 5
}
