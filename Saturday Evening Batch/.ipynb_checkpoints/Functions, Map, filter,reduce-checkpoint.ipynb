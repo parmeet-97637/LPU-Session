{
 "cells": [
  {
   "cell_type": "markdown",
   "id": "450f88e6",
   "metadata": {},
   "source": [
    "# Syntax"
   ]
  },
  {
   "cell_type": "code",
   "execution_count": null,
   "id": "62d56c62",
   "metadata": {},
   "outputs": [],
   "source": [
    "def function_name():\n",
    "    logic"
   ]
  },
  {
   "cell_type": "code",
   "execution_count": null,
   "id": "962afb67",
   "metadata": {},
   "outputs": [],
   "source": [
    "def my_function(): #creating a function\n",
    "    print(\"Hello, Welcome to the python program\")"
   ]
  },
  {
   "cell_type": "code",
   "execution_count": null,
   "id": "005124e9",
   "metadata": {},
   "outputs": [],
   "source": [
    "type(my_function)"
   ]
  },
  {
   "cell_type": "code",
   "execution_count": null,
   "id": "c7d1d6b0",
   "metadata": {},
   "outputs": [],
   "source": [
    "my_function() # function call"
   ]
  },
  {
   "cell_type": "code",
   "execution_count": null,
   "id": "8052041e",
   "metadata": {},
   "outputs": [],
   "source": [
    "my_function()"
   ]
  },
  {
   "cell_type": "code",
   "execution_count": null,
   "id": "e130b53d",
   "metadata": {},
   "outputs": [],
   "source": [
    "my_function()"
   ]
  },
  {
   "cell_type": "code",
   "execution_count": null,
   "id": "46088552",
   "metadata": {},
   "outputs": [],
   "source": [
    "print(\"Hi, Welcome to the Python Program...!!!!\")\n",
    "print(\"This is my first Python Function Program\")\n"
   ]
  },
  {
   "cell_type": "code",
   "execution_count": null,
   "id": "feba1646",
   "metadata": {},
   "outputs": [],
   "source": [
    "print(\"Hello\")\n",
    "print(\"This is my first Python Function Program\")"
   ]
  },
  {
   "cell_type": "code",
   "execution_count": null,
   "id": "485ddc09",
   "metadata": {},
   "outputs": [],
   "source": [
    "# call the function/invoke the function\n",
    "print(\"Hi, Welcome to the Python Program...!!!!\")\n",
    "my_function()"
   ]
  },
  {
   "cell_type": "code",
   "execution_count": null,
   "id": "23fc68c9",
   "metadata": {},
   "outputs": [],
   "source": [
    "print(\"Hello\")\n",
    "my_function()"
   ]
  },
  {
   "cell_type": "code",
   "execution_count": null,
   "id": "a116c70a",
   "metadata": {},
   "outputs": [],
   "source": [
    "a = 10 #hard coded\n",
    "b = 20 #hard coded\n",
    "print(f'The sum of {a} and {b} is {a+b}')"
   ]
  },
  {
   "cell_type": "code",
   "execution_count": null,
   "id": "dbd78c6c",
   "metadata": {},
   "outputs": [],
   "source": [
    "# Get input from user and print the sum -> user driven program\n",
    "a = float(input(\"Enter first number :\")) #dynamic programming\n",
    "b = float(input(\"Enter Second number :\")) # dynamic programming\n",
    "print(f'The sum of {a} and {b} is {a+b}')"
   ]
  },
  {
   "cell_type": "code",
   "execution_count": 5,
   "id": "2e4715c7",
   "metadata": {},
   "outputs": [],
   "source": [
    "def custom_add(x,y): #parameters(variables)\n",
    "    '''This function will add two numbers'''\n",
    "    print(f'The sum of {x} and {y} is {x+y}')"
   ]
  },
  {
   "cell_type": "code",
   "execution_count": 7,
   "id": "cdc9be83",
   "metadata": {},
   "outputs": [
    {
     "name": "stdout",
     "output_type": "stream",
     "text": [
      "The sum of 10 and 20 is 30\n"
     ]
    }
   ],
   "source": [
    "a = 10 #hard coded\n",
    "b = 20 #hard coded\n",
    "custom_add(a,b)"
   ]
  },
  {
   "cell_type": "code",
   "execution_count": 8,
   "id": "9d9a1011",
   "metadata": {},
   "outputs": [
    {
     "name": "stdout",
     "output_type": "stream",
     "text": [
      "Enter the number:10\n",
      "100\n"
     ]
    }
   ],
   "source": [
    "a = int(input(\"Enter the number:\"))"
   ]
  },
  {
   "cell_type": "code",
   "execution_count": 9,
   "id": "aa4c8187",
   "metadata": {},
   "outputs": [],
   "source": [
    "def custom_square(sq):\n",
    "    print(f\"The square of {sq} is {sq*sq}\")"
   ]
  },
  {
   "cell_type": "code",
   "execution_count": 16,
   "id": "0b514463",
   "metadata": {},
   "outputs": [
    {
     "name": "stdout",
     "output_type": "stream",
     "text": [
      "The square of 90 is 8100\n"
     ]
    }
   ],
   "source": [
    "custom_square(90)"
   ]
  },
  {
   "cell_type": "code",
   "execution_count": 17,
   "id": "9de072d8",
   "metadata": {},
   "outputs": [],
   "source": [
    "# when I will create a function : The variables inside that function I will call it as parameters\n",
    "# When I will call a function : The variables which I will pass inside that function I will call it as arguments"
   ]
  },
  {
   "cell_type": "code",
   "execution_count": 28,
   "id": "cdb6c641",
   "metadata": {},
   "outputs": [],
   "source": [
    "# creating the function\n",
    "def my_function(): # No arguments/ parameters\n",
    "    print(\"This is my first Python Function Program\")"
   ]
  },
  {
   "cell_type": "code",
   "execution_count": 29,
   "id": "c22684fa",
   "metadata": {},
   "outputs": [
    {
     "name": "stdout",
     "output_type": "stream",
     "text": [
      "This is my first Python Function Program\n"
     ]
    }
   ],
   "source": [
    "my_function() #function call"
   ]
  },
  {
   "cell_type": "code",
   "execution_count": 30,
   "id": "f4f7ddc0",
   "metadata": {},
   "outputs": [],
   "source": [
    "def my_function(name): #function with one parameter\n",
    "    print(f\"Hello {name}, Welcome to the Python Programming\")"
   ]
  },
  {
   "cell_type": "code",
   "execution_count": 32,
   "id": "793372f7",
   "metadata": {},
   "outputs": [
    {
     "name": "stdout",
     "output_type": "stream",
     "text": [
      "Hello Parmeet, Welcome to the Python Programming\n",
      "Hello Trishaan, Welcome to the Python Programming\n",
      "Hello Anit, Welcome to the Python Programming\n"
     ]
    }
   ],
   "source": [
    "my_function(\"Parmeet\")\n",
    "my_function(\"Trishaan\")\n",
    "my_function(\"Anit\")"
   ]
  },
  {
   "cell_type": "code",
   "execution_count": 33,
   "id": "f5745691",
   "metadata": {
    "scrolled": true
   },
   "outputs": [],
   "source": [
    "def my_function(fname,lname):\n",
    "    print(f\"Hello {fname} {lname}, Welcome to the Python Programming\")"
   ]
  },
  {
   "cell_type": "code",
   "execution_count": 34,
   "id": "923c03ec",
   "metadata": {},
   "outputs": [
    {
     "name": "stdout",
     "output_type": "stream",
     "text": [
      "Hello Parmeet Singh, Welcome to the Python Programming\n",
      "Hello Prateek Sharma, Welcome to the Python Programming\n",
      "Hello Aniket Kumar, Welcome to the Python Programming\n"
     ]
    }
   ],
   "source": [
    "my_function(\"Parmeet\",'Singh')\n",
    "my_function(\"Prateek\",'Sharma')\n",
    "my_function(\"Aniket\",'Kumar')"
   ]
  },
  {
   "cell_type": "markdown",
   "id": "d8019997",
   "metadata": {},
   "source": [
    "my_function() -> Function with no arguments/parameters<br>\n",
    "my_function(name) -> function with one argument/one parameter<br>\n",
    "my_function(firstname, lastname) -> function with 2 arguments/2 parameters<br>"
   ]
  },
  {
   "cell_type": "code",
   "execution_count": 35,
   "id": "82be6467",
   "metadata": {},
   "outputs": [],
   "source": [
    "def custom_multiply(a,b):\n",
    "    c = a*b\n",
    "    return c"
   ]
  },
  {
   "cell_type": "code",
   "execution_count": 37,
   "id": "2ee53ca3",
   "metadata": {},
   "outputs": [],
   "source": [
    "mult = custom_multiply(10,20)"
   ]
  },
  {
   "cell_type": "code",
   "execution_count": 38,
   "id": "86f64ccc",
   "metadata": {},
   "outputs": [
    {
     "data": {
      "text/plain": [
       "200"
      ]
     },
     "execution_count": 38,
     "metadata": {},
     "output_type": "execute_result"
    }
   ],
   "source": [
    "mult"
   ]
  },
  {
   "cell_type": "code",
   "execution_count": 39,
   "id": "c41b4491",
   "metadata": {},
   "outputs": [],
   "source": [
    "def custom_multiply(a,b):\n",
    "    c = a*b\n",
    "    print(c) # This function is retuning None value"
   ]
  },
  {
   "cell_type": "code",
   "execution_count": 40,
   "id": "856fda95",
   "metadata": {},
   "outputs": [
    {
     "name": "stdout",
     "output_type": "stream",
     "text": [
      "200\n"
     ]
    }
   ],
   "source": [
    "mult = custom_multiply(10,20)"
   ]
  },
  {
   "cell_type": "code",
   "execution_count": 42,
   "id": "9232c9e3",
   "metadata": {},
   "outputs": [],
   "source": [
    "mult"
   ]
  },
  {
   "cell_type": "code",
   "execution_count": 57,
   "id": "e5457432",
   "metadata": {},
   "outputs": [],
   "source": [
    "def custom_multiply(a,b):\n",
    "    c = a*b\n",
    "    return c"
   ]
  },
  {
   "cell_type": "code",
   "execution_count": 60,
   "id": "7f310bc4",
   "metadata": {},
   "outputs": [
    {
     "name": "stdout",
     "output_type": "stream",
     "text": [
      "20 is even\n"
     ]
    }
   ],
   "source": [
    "# multiply the two numbers and I want to check whether the output is even or odd\n",
    "x = 5\n",
    "y = 4\n",
    "out = custom_multiply(x,y)\n",
    "if out%2 ==0:\n",
    "    print(f\"{out} is even\")\n",
    "else:\n",
    "    print(f\"{out} is odd\")"
   ]
  },
  {
   "cell_type": "code",
   "execution_count": 50,
   "id": "b7494d24",
   "metadata": {},
   "outputs": [
    {
     "name": "stdout",
     "output_type": "stream",
     "text": [
      "20\n"
     ]
    }
   ],
   "source": [
    "custom_multiply(x,y)"
   ]
  },
  {
   "cell_type": "code",
   "execution_count": 76,
   "id": "86b308f4",
   "metadata": {},
   "outputs": [],
   "source": [
    "def my_function(fname,lname):\n",
    "    c = (f\"Hello {fname} {lname}, Welcome to the Python Programming\")\n",
    "    return c"
   ]
  },
  {
   "cell_type": "code",
   "execution_count": 78,
   "id": "2b13d065",
   "metadata": {},
   "outputs": [],
   "source": [
    "output = my_function(\"Parmeet\",'Singh')"
   ]
  },
  {
   "cell_type": "code",
   "execution_count": 79,
   "id": "da40e376",
   "metadata": {},
   "outputs": [
    {
     "data": {
      "text/plain": [
       "'Hello Parmeet Singh, Welcome to the Python Programming'"
      ]
     },
     "execution_count": 79,
     "metadata": {},
     "output_type": "execute_result"
    }
   ],
   "source": [
    "output"
   ]
  },
  {
   "cell_type": "code",
   "execution_count": 92,
   "id": "171a951f",
   "metadata": {},
   "outputs": [],
   "source": [
    "#If the number of arguments is unknown, add * before the parameter name:\n",
    "\n",
    "def my_function(*users):\n",
    "    print(type(users))\n",
    "    print(f\"Welcome all the Python Users : {users}\")"
   ]
  },
  {
   "cell_type": "code",
   "execution_count": 93,
   "id": "139ca6d7",
   "metadata": {
    "scrolled": true
   },
   "outputs": [
    {
     "name": "stdout",
     "output_type": "stream",
     "text": [
      "<class 'tuple'>\n",
      "Welcome all the Python Users : ('Parmeet', 'Trishaan')\n"
     ]
    }
   ],
   "source": [
    "my_function(\"Parmeet\",\"Trishaan\")"
   ]
  },
  {
   "cell_type": "code",
   "execution_count": 95,
   "id": "9fe7894a",
   "metadata": {},
   "outputs": [],
   "source": [
    "tupl1 = ('Apple','Mango','Banana','Cherry')\n",
    "a,b,*c = tupl1"
   ]
  },
  {
   "cell_type": "code",
   "execution_count": 96,
   "id": "f7f8b45a",
   "metadata": {},
   "outputs": [
    {
     "data": {
      "text/plain": [
       "['Banana', 'Cherry']"
      ]
     },
     "execution_count": 96,
     "metadata": {},
     "output_type": "execute_result"
    }
   ],
   "source": [
    "c"
   ]
  },
  {
   "cell_type": "code",
   "execution_count": 91,
   "id": "7c674a53",
   "metadata": {},
   "outputs": [
    {
     "name": "stdout",
     "output_type": "stream",
     "text": [
      "Welcome all the Python Users : ('Parmeet', 'Trishaan')\n",
      "Welcome all the Python Users : ('Parmeet', 'Trishaan', 'Prateek')\n",
      "Welcome all the Python Users : ('Parmeet', 'Trishaan', 'Prateek', 'Vishal')\n"
     ]
    }
   ],
   "source": [
    "my_function(\"Parmeet\",\"Trishaan\")\n",
    "my_function(\"Parmeet\",\"Trishaan\",\"Prateek\")\n",
    "my_function(\"Parmeet\",\"Trishaan\",\"Prateek\",'Vishal')"
   ]
  },
  {
   "cell_type": "code",
   "execution_count": 101,
   "id": "1132af62",
   "metadata": {},
   "outputs": [],
   "source": [
    "def cust_add(*a): # *args\n",
    "    print(type(a))\n",
    "    print(sum(list(a)))"
   ]
  },
  {
   "cell_type": "code",
   "execution_count": 105,
   "id": "5c743e6a",
   "metadata": {},
   "outputs": [
    {
     "data": {
      "text/plain": [
       "3"
      ]
     },
     "execution_count": 105,
     "metadata": {},
     "output_type": "execute_result"
    }
   ],
   "source": [
    "t1 = (1,2)\n",
    "type(t1)\n",
    "psum(list(t1))"
   ]
  },
  {
   "cell_type": "code",
   "execution_count": null,
   "id": "02cc2351",
   "metadata": {},
   "outputs": [],
   "source": []
  },
  {
   "cell_type": "code",
   "execution_count": 102,
   "id": "36e46b68",
   "metadata": {},
   "outputs": [
    {
     "name": "stdout",
     "output_type": "stream",
     "text": [
      "<class 'tuple'>\n",
      "6\n"
     ]
    }
   ],
   "source": [
    "cust_add(1,2,3)"
   ]
  },
  {
   "cell_type": "code",
   "execution_count": 100,
   "id": "465ac028",
   "metadata": {},
   "outputs": [
    {
     "name": "stdout",
     "output_type": "stream",
     "text": [
      "10\n",
      "15\n"
     ]
    }
   ],
   "source": [
    "cust_add(1,2,3,4)\n",
    "cust_add(1,2,3,4,5)"
   ]
  },
  {
   "cell_type": "code",
   "execution_count": 108,
   "id": "d70c07f2",
   "metadata": {},
   "outputs": [],
   "source": [
    "def my_function(**users): #keyword arguments #def my_function(Name,Location)\n",
    "    print(users)\n",
    "    print(type(users))"
   ]
  },
  {
   "cell_type": "code",
   "execution_count": 109,
   "id": "458f43c0",
   "metadata": {},
   "outputs": [
    {
     "name": "stdout",
     "output_type": "stream",
     "text": [
      "{'Name': 'Parmeet', 'Location': 'Indore'}\n",
      "<class 'dict'>\n"
     ]
    }
   ],
   "source": [
    "my_function(Name=\"Parmeet\",Location=\"Indore\")"
   ]
  },
  {
   "cell_type": "code",
   "execution_count": 110,
   "id": "3d4501a2",
   "metadata": {},
   "outputs": [],
   "source": [
    "def my_function(Name, Age, Location):\n",
    "    print(f\"Hi, my name is {Name} age is {Age} and location is {Location}\")"
   ]
  },
  {
   "cell_type": "code",
   "execution_count": 111,
   "id": "34cd7a2f",
   "metadata": {},
   "outputs": [
    {
     "name": "stdout",
     "output_type": "stream",
     "text": [
      "Hi, my name is Parmeet age is 27 and location is Indore\n"
     ]
    }
   ],
   "source": [
    "my_function(Name='Parmeet',Age=27,Location='Indore')"
   ]
  },
  {
   "cell_type": "code",
   "execution_count": 114,
   "id": "12196692",
   "metadata": {},
   "outputs": [],
   "source": [
    "def my_function(**details):\n",
    "    print(f\"Hi, name is {details['Name']} and age is {details['Age']} and location is {details['Location']}\")"
   ]
  },
  {
   "cell_type": "code",
   "execution_count": 115,
   "id": "667a7678",
   "metadata": {},
   "outputs": [
    {
     "name": "stdout",
     "output_type": "stream",
     "text": [
      "Hi, name is Parmeet and age is 27 and location is Indore\n"
     ]
    }
   ],
   "source": [
    "my_function(Name='Parmeet',Age=27,Location='Indore')"
   ]
  },
  {
   "cell_type": "code",
   "execution_count": 116,
   "id": "a08aacad",
   "metadata": {},
   "outputs": [],
   "source": [
    "def my_function(country):\n",
    "    print(\"I am from \" + country)"
   ]
  },
  {
   "cell_type": "code",
   "execution_count": 117,
   "id": "ad6e9088",
   "metadata": {},
   "outputs": [
    {
     "ename": "TypeError",
     "evalue": "my_function() missing 1 required positional argument: 'country'",
     "output_type": "error",
     "traceback": [
      "\u001b[1;31m---------------------------------------------------------------------------\u001b[0m",
      "\u001b[1;31mTypeError\u001b[0m                                 Traceback (most recent call last)",
      "\u001b[1;32m<ipython-input-117-7bebf01be998>\u001b[0m in \u001b[0;36m<module>\u001b[1;34m\u001b[0m\n\u001b[1;32m----> 1\u001b[1;33m \u001b[0mmy_function\u001b[0m\u001b[1;33m(\u001b[0m\u001b[1;33m)\u001b[0m\u001b[1;33m\u001b[0m\u001b[1;33m\u001b[0m\u001b[0m\n\u001b[0m",
      "\u001b[1;31mTypeError\u001b[0m: my_function() missing 1 required positional argument: 'country'"
     ]
    }
   ],
   "source": [
    "my_function()"
   ]
  },
  {
   "cell_type": "code",
   "execution_count": 118,
   "id": "c02ee655",
   "metadata": {},
   "outputs": [],
   "source": [
    "def my_function(country='India'):\n",
    "    print(\"I am from \" + country)"
   ]
  },
  {
   "cell_type": "code",
   "execution_count": 121,
   "id": "2a6201d6",
   "metadata": {},
   "outputs": [
    {
     "name": "stdout",
     "output_type": "stream",
     "text": [
      "I am from sweden\n",
      "I am from India\n",
      "I am from Paris\n"
     ]
    }
   ],
   "source": [
    "my_function(\"sweden\")\n",
    "my_function() #call with default values\n",
    "my_function(\"Paris\")"
   ]
  },
  {
   "cell_type": "code",
   "execution_count": 128,
   "id": "e9c87912",
   "metadata": {},
   "outputs": [],
   "source": [
    "def odd_even(*vars):\n",
    "    for ele in vars:\n",
    "        if ele%2 ==0:\n",
    "            print(f'{ele} is even')\n",
    "        else:\n",
    "            print(f'{ele} is odd')"
   ]
  },
  {
   "cell_type": "code",
   "execution_count": 129,
   "id": "867a5ff0",
   "metadata": {},
   "outputs": [
    {
     "name": "stdout",
     "output_type": "stream",
     "text": [
      "1 is odd\n",
      "5 is odd\n",
      "43 is odd\n",
      "78 is even\n",
      "56 is even\n",
      "4343 is odd\n",
      "65767 is odd\n",
      "232 is even\n",
      "12323 is odd\n",
      "565 is odd\n",
      "7 is odd\n",
      "43 is odd\n",
      "232 is even\n",
      "6574 is even\n"
     ]
    }
   ],
   "source": [
    "odd_even(1,5,43,78,56,4343,65767,232,12323,565,7,43,232,6574)"
   ]
  },
  {
   "cell_type": "code",
   "execution_count": null,
   "id": "389350ce",
   "metadata": {},
   "outputs": [],
   "source": []
  },
  {
   "cell_type": "code",
   "execution_count": 140,
   "id": "b3994768",
   "metadata": {},
   "outputs": [],
   "source": [
    "def odd_even(*var):\n",
    "    for ele in var:\n",
    "        if ele%2 ==0 and ele %4 ==0:\n",
    "            print(f'{ele} is even and divisble by 4')\n",
    "        elif ele%2 !=0:\n",
    "            print(f'{ele} is odd')\n",
    "        else:\n",
    "            print(f'{ele} is even but not divisble by 4')"
   ]
  },
  {
   "cell_type": "code",
   "execution_count": 141,
   "id": "a2bc414a",
   "metadata": {},
   "outputs": [
    {
     "name": "stdout",
     "output_type": "stream",
     "text": [
      "1 is odd\n",
      "5 is odd\n",
      "43 is odd\n",
      "78 is even but not divisble by 4\n",
      "56 is even and divisble by 4\n",
      "4343 is odd\n",
      "65767 is odd\n",
      "232 is even and divisble by 4\n",
      "12323 is odd\n",
      "565 is odd\n",
      "7 is odd\n",
      "43 is odd\n",
      "232 is even and divisble by 4\n",
      "6574 is even but not divisble by 4\n"
     ]
    }
   ],
   "source": [
    "odd_even(1,5,43,78,56,4343,65767,232,12323,565,7,43,232,6574)"
   ]
  },
  {
   "cell_type": "code",
   "execution_count": 149,
   "id": "db6d7580",
   "metadata": {},
   "outputs": [],
   "source": [
    "def odd_even(*vars):\n",
    "    for ele in vars:\n",
    "        if ele%2 ==0 and ele %4 ==0:\n",
    "            print(f'{ele} is even and divisble by 4')\n",
    "        elif ele%2 !=0:\n",
    "            print(f'{ele} is odd')\n",
    "        else:\n",
    "            continue #skipping"
   ]
  },
  {
   "cell_type": "code",
   "execution_count": 150,
   "id": "ede21af3",
   "metadata": {
    "scrolled": true
   },
   "outputs": [
    {
     "name": "stdout",
     "output_type": "stream",
     "text": [
      "1 is odd\n",
      "5 is odd\n",
      "43 is odd\n",
      "56 is even and divisble by 4\n",
      "4343 is odd\n",
      "65767 is odd\n",
      "232 is even and divisble by 4\n",
      "12323 is odd\n",
      "565 is odd\n",
      "7 is odd\n",
      "43 is odd\n",
      "232 is even and divisble by 4\n"
     ]
    }
   ],
   "source": [
    "odd_even(1,5,43,78,56,4343,65767,232,12323,565,7,43,232,6574)"
   ]
  },
  {
   "cell_type": "code",
   "execution_count": 147,
   "id": "7ddb58e8",
   "metadata": {},
   "outputs": [],
   "source": [
    "def custom_subtract():\n",
    "    pass"
   ]
  },
  {
   "cell_type": "code",
   "execution_count": 151,
   "id": "be64e3f1",
   "metadata": {},
   "outputs": [
    {
     "name": "stdout",
     "output_type": "stream",
     "text": [
      "2\n",
      "6\n",
      "10\n"
     ]
    }
   ],
   "source": [
    "list1 = [1,2,3,4,5,6,7,8,9,10]\n",
    "\n",
    "for i in list1:\n",
    "    if i%4==0:\n",
    "        pass #not break the loop\n",
    "    elif i%2==0:\n",
    "        print(i)"
   ]
  },
  {
   "cell_type": "code",
   "execution_count": 153,
   "id": "caf8f453",
   "metadata": {},
   "outputs": [
    {
     "data": {
      "text/plain": [
       "120"
      ]
     },
     "execution_count": 153,
     "metadata": {},
     "output_type": "execute_result"
    }
   ],
   "source": [
    "# 5! =\n",
    "5*4*3*2*1"
   ]
  },
  {
   "cell_type": "code",
   "execution_count": 154,
   "id": "eeda286e",
   "metadata": {},
   "outputs": [],
   "source": [
    "# factorial function -> recursion -> ou should alwas know the breaking condition\n",
    "def fact(n):\n",
    "    # breaking condition\n",
    "    if n ==1:\n",
    "        return n\n",
    "    else:\n",
    "        return n * fact(n-1)"
   ]
  },
  {
   "cell_type": "code",
   "execution_count": null,
   "id": "1a6ccf49",
   "metadata": {},
   "outputs": [],
   "source": [
    "fact(5) : \n",
    "    n = 5\n",
    "    return n * fact(n-1) : 5 * fact(5-1) : 5 * fact(4)\n",
    "    \n",
    "fact(4) :\n",
    "    n = 4\n",
    "    return n * fact(n-1) : 4 * fact(4-1) : 4 * fact(3)\n",
    "    \n",
    "fact(3) :\n",
    "    n = 3\n",
    "    return n * fact(n-1) : 3 * fact(3-1) : 3 * fact(2)\n",
    "    \n",
    "fact(2) : \n",
    "    n = 2\n",
    "    return n * fact(n-1) : 2* fact(n-1) : 2*fact(1)\n",
    "        \n",
    "fact(1) : \n",
    "    n =1  : output 1\n",
    "    "
   ]
  },
  {
   "cell_type": "code",
   "execution_count": null,
   "id": "cfd19950",
   "metadata": {},
   "outputs": [],
   "source": [
    "fact(5) :  5 * 4 * 3 *2*1"
   ]
  },
  {
   "cell_type": "code",
   "execution_count": null,
   "id": "908a7d97",
   "metadata": {},
   "outputs": [],
   "source": []
  },
  {
   "cell_type": "code",
   "execution_count": null,
   "id": "31d33438",
   "metadata": {},
   "outputs": [],
   "source": []
  },
  {
   "cell_type": "code",
   "execution_count": null,
   "id": "fae8402b",
   "metadata": {},
   "outputs": [],
   "source": [
    "fact(5) ->\n",
    "   n = 5 : else : 5 * fact(5-1)\n",
    "            \n",
    "    5 * fact(5-1) = 5 * fact(4)  = 5 *  4 * fact(4-1) = 5 * 4* fact(3) = 5 * 4 * 3 *fact(3-1) = 5 * 4 * 3 *fact(2)\n",
    "                                                        5 * 4 * 3 * 2 * FACT(2-1) = 5 * 4 * 3 * 2 * FACT(1) \n",
    "                        5 * 4 * 3 * 2 * 1\n",
    "    \n",
    "fact(4) -> 4 * fact(4-1)   \n",
    "\n",
    "fact(4-1) = fact(3) = 3 * fact(3-1)\n",
    " fact(3-1) = fact(2) = 2 * fact(2-1)\n",
    "fact(2-1) = FAct(1) = 1"
   ]
  },
  {
   "cell_type": "markdown",
   "id": "e4b7903a",
   "metadata": {},
   "source": [
    "# lambda Function"
   ]
  },
  {
   "cell_type": "code",
   "execution_count": null,
   "id": "7820bb4b",
   "metadata": {},
   "outputs": [],
   "source": [
    "lambda functions are anonymous functions / functions with no name\n"
   ]
  },
  {
   "cell_type": "code",
   "execution_count": 156,
   "id": "7e3f4a57",
   "metadata": {},
   "outputs": [],
   "source": [
    "def square(x):\n",
    "    return x*x"
   ]
  },
  {
   "cell_type": "code",
   "execution_count": 157,
   "id": "23cf0d96",
   "metadata": {},
   "outputs": [
    {
     "data": {
      "text/plain": [
       "<function __main__.<lambda>(x)>"
      ]
     },
     "execution_count": 157,
     "metadata": {},
     "output_type": "execute_result"
    }
   ],
   "source": [
    "lambda x : x*x"
   ]
  },
  {
   "cell_type": "code",
   "execution_count": 158,
   "id": "a59f37fe",
   "metadata": {},
   "outputs": [],
   "source": [
    "def cube(x):\n",
    "    return x*x*x"
   ]
  },
  {
   "cell_type": "code",
   "execution_count": 159,
   "id": "b965ee68",
   "metadata": {},
   "outputs": [
    {
     "data": {
      "text/plain": [
       "<function __main__.<lambda>(x)>"
      ]
     },
     "execution_count": 159,
     "metadata": {},
     "output_type": "execute_result"
    }
   ],
   "source": [
    "lambda x : x*x*x"
   ]
  },
  {
   "cell_type": "code",
   "execution_count": 160,
   "id": "ca7b5a07",
   "metadata": {},
   "outputs": [],
   "source": [
    "def custom_add(x,y):\n",
    "    return x+y"
   ]
  },
  {
   "cell_type": "code",
   "execution_count": 161,
   "id": "2d4396db",
   "metadata": {},
   "outputs": [
    {
     "data": {
      "text/plain": [
       "<function __main__.<lambda>(x, y)>"
      ]
     },
     "execution_count": 161,
     "metadata": {},
     "output_type": "execute_result"
    }
   ],
   "source": [
    "lambda x,y : x+y"
   ]
  },
  {
   "cell_type": "code",
   "execution_count": 162,
   "id": "d6638bd0",
   "metadata": {},
   "outputs": [],
   "source": [
    "def custom_add(x,y,z):\n",
    "    return x+y+z"
   ]
  },
  {
   "cell_type": "code",
   "execution_count": 164,
   "id": "de234926",
   "metadata": {},
   "outputs": [
    {
     "data": {
      "text/plain": [
       "<function __main__.<lambda>(x, y, z)>"
      ]
     },
     "execution_count": 164,
     "metadata": {},
     "output_type": "execute_result"
    }
   ],
   "source": [
    "lambda x,y,z : x+y+z"
   ]
  },
  {
   "cell_type": "code",
   "execution_count": 168,
   "id": "c05ace9d",
   "metadata": {},
   "outputs": [],
   "source": [
    "# write a lambda function to multiply an number by 10\n",
    "f = lambda a : a*10"
   ]
  },
  {
   "cell_type": "code",
   "execution_count": 169,
   "id": "c44f617a",
   "metadata": {},
   "outputs": [
    {
     "data": {
      "text/plain": [
       "100"
      ]
     },
     "execution_count": 169,
     "metadata": {},
     "output_type": "execute_result"
    }
   ],
   "source": [
    "f(10)"
   ]
  },
  {
   "cell_type": "code",
   "execution_count": 170,
   "id": "db2000a3",
   "metadata": {},
   "outputs": [
    {
     "data": {
      "text/plain": [
       "20"
      ]
     },
     "execution_count": 170,
     "metadata": {},
     "output_type": "execute_result"
    }
   ],
   "source": [
    "f(2)"
   ]
  },
  {
   "cell_type": "code",
   "execution_count": 171,
   "id": "ee51e1e0",
   "metadata": {},
   "outputs": [],
   "source": [
    "def mul(a):\n",
    "    return a*10"
   ]
  },
  {
   "cell_type": "code",
   "execution_count": 173,
   "id": "1396d18d",
   "metadata": {},
   "outputs": [
    {
     "data": {
      "text/plain": [
       "20"
      ]
     },
     "execution_count": 173,
     "metadata": {},
     "output_type": "execute_result"
    }
   ],
   "source": [
    "mul(10)\n",
    "mul(2)"
   ]
  },
  {
   "cell_type": "code",
   "execution_count": 174,
   "id": "a880b918",
   "metadata": {},
   "outputs": [],
   "source": [
    "f = lambda x,y : x*y"
   ]
  },
  {
   "cell_type": "code",
   "execution_count": 175,
   "id": "2683163e",
   "metadata": {},
   "outputs": [
    {
     "data": {
      "text/plain": [
       "6"
      ]
     },
     "execution_count": 175,
     "metadata": {},
     "output_type": "execute_result"
    }
   ],
   "source": [
    "f(2,3)"
   ]
  },
  {
   "cell_type": "code",
   "execution_count": 176,
   "id": "ef376a7f",
   "metadata": {},
   "outputs": [],
   "source": [
    "def mul(x,y):\n",
    "    return x*y"
   ]
  },
  {
   "cell_type": "code",
   "execution_count": 177,
   "id": "866d6bdc",
   "metadata": {},
   "outputs": [
    {
     "data": {
      "text/plain": [
       "6"
      ]
     },
     "execution_count": 177,
     "metadata": {},
     "output_type": "execute_result"
    }
   ],
   "source": [
    "mul(3,2)"
   ]
  },
  {
   "cell_type": "code",
   "execution_count": 178,
   "id": "27be3089",
   "metadata": {},
   "outputs": [],
   "source": [
    "def greater(x,y):\n",
    "    if x>y:\n",
    "        return x\n",
    "    else:\n",
    "        return y"
   ]
  },
  {
   "cell_type": "code",
   "execution_count": 179,
   "id": "db5d7c1c",
   "metadata": {},
   "outputs": [
    {
     "data": {
      "text/plain": [
       "5"
      ]
     },
     "execution_count": 179,
     "metadata": {},
     "output_type": "execute_result"
    }
   ],
   "source": [
    "greater(5,4)"
   ]
  },
  {
   "cell_type": "code",
   "execution_count": 180,
   "id": "c3a164bf",
   "metadata": {},
   "outputs": [
    {
     "data": {
      "text/plain": [
       "80"
      ]
     },
     "execution_count": 180,
     "metadata": {},
     "output_type": "execute_result"
    }
   ],
   "source": [
    "greater(5,80)"
   ]
  },
  {
   "cell_type": "code",
   "execution_count": 181,
   "id": "ec3e5507",
   "metadata": {},
   "outputs": [
    {
     "data": {
      "text/plain": [
       "<function __main__.<lambda>(x, y)>"
      ]
     },
     "execution_count": 181,
     "metadata": {},
     "output_type": "execute_result"
    }
   ],
   "source": [
    "# lambda function using if else, which number is greater\n",
    "\n",
    "lambda x,y : x if x>y else y"
   ]
  },
  {
   "cell_type": "code",
   "execution_count": 182,
   "id": "08ee3848",
   "metadata": {},
   "outputs": [],
   "source": [
    "g = lambda x,y : x if x>y else y"
   ]
  },
  {
   "cell_type": "code",
   "execution_count": 183,
   "id": "ef71eb16",
   "metadata": {},
   "outputs": [
    {
     "data": {
      "text/plain": [
       "5"
      ]
     },
     "execution_count": 183,
     "metadata": {},
     "output_type": "execute_result"
    }
   ],
   "source": [
    "g(5,4)"
   ]
  },
  {
   "cell_type": "code",
   "execution_count": 184,
   "id": "7e9331cf",
   "metadata": {},
   "outputs": [
    {
     "data": {
      "text/plain": [
       "81"
      ]
     },
     "execution_count": 184,
     "metadata": {},
     "output_type": "execute_result"
    }
   ],
   "source": [
    "g(5,81)"
   ]
  },
  {
   "cell_type": "markdown",
   "id": "5f115790",
   "metadata": {},
   "source": [
    "# Map, Filter, Reduce"
   ]
  },
  {
   "cell_type": "markdown",
   "id": "6648efcd",
   "metadata": {},
   "source": [
    "map(function,iterables)"
   ]
  },
  {
   "cell_type": "code",
   "execution_count": 185,
   "id": "392c606b",
   "metadata": {},
   "outputs": [],
   "source": [
    "list1 = [2,4,6,8,10]"
   ]
  },
  {
   "cell_type": "code",
   "execution_count": 186,
   "id": "6d02e42c",
   "metadata": {},
   "outputs": [
    {
     "name": "stdout",
     "output_type": "stream",
     "text": [
      "[4, 16, 36, 64, 100]\n"
     ]
    }
   ],
   "source": [
    "# I want square of each element in a list\n",
    "new_list = []\n",
    "for ele in list1:\n",
    "    new_list.append(ele*ele)\n",
    "print(new_list)"
   ]
  },
  {
   "cell_type": "code",
   "execution_count": 187,
   "id": "abe11f3b",
   "metadata": {},
   "outputs": [
    {
     "data": {
      "text/plain": [
       "[4, 16, 36, 64, 100]"
      ]
     },
     "execution_count": 187,
     "metadata": {},
     "output_type": "execute_result"
    }
   ],
   "source": [
    "# list comprehension\n",
    "[ ele*ele for ele in list1]"
   ]
  },
  {
   "cell_type": "code",
   "execution_count": 189,
   "id": "531c6b5c",
   "metadata": {},
   "outputs": [],
   "source": [
    "def square(x):\n",
    "    return x *x"
   ]
  },
  {
   "cell_type": "code",
   "execution_count": 191,
   "id": "78618da0",
   "metadata": {},
   "outputs": [
    {
     "name": "stdout",
     "output_type": "stream",
     "text": [
      "[4, 16, 36, 64, 100]\n"
     ]
    }
   ],
   "source": [
    "new_list = []\n",
    "for ele in list1:\n",
    "    new_list.append(square(ele))\n",
    "print(new_list)"
   ]
  },
  {
   "cell_type": "code",
   "execution_count": 192,
   "id": "8a70bd93",
   "metadata": {},
   "outputs": [
    {
     "data": {
      "text/plain": [
       "[4, 16, 36, 64, 100]"
      ]
     },
     "execution_count": 192,
     "metadata": {},
     "output_type": "execute_result"
    }
   ],
   "source": [
    "[square(x) for x in list1]"
   ]
  },
  {
   "cell_type": "markdown",
   "id": "9f248f25",
   "metadata": {},
   "source": [
    "map(function,iterables)"
   ]
  },
  {
   "cell_type": "code",
   "execution_count": 193,
   "id": "585b3f59",
   "metadata": {},
   "outputs": [
    {
     "data": {
      "text/plain": [
       "<map at 0x1ddb35b2cd0>"
      ]
     },
     "execution_count": 193,
     "metadata": {},
     "output_type": "execute_result"
    }
   ],
   "source": [
    "map(square,list1) #return object"
   ]
  },
  {
   "cell_type": "code",
   "execution_count": 194,
   "id": "66002344",
   "metadata": {},
   "outputs": [
    {
     "data": {
      "text/plain": [
       "[4, 16, 36, 64, 100]"
      ]
     },
     "execution_count": 194,
     "metadata": {},
     "output_type": "execute_result"
    }
   ],
   "source": [
    "list(map(square,list1)) # experts"
   ]
  },
  {
   "cell_type": "code",
   "execution_count": 198,
   "id": "cacebfef",
   "metadata": {},
   "outputs": [
    {
     "data": {
      "text/plain": [
       "[4, 16, 36, 64, 100]"
      ]
     },
     "execution_count": 198,
     "metadata": {},
     "output_type": "execute_result"
    }
   ],
   "source": [
    "list(map(lambda x:x*x,list1))"
   ]
  },
  {
   "cell_type": "markdown",
   "id": "386fe477",
   "metadata": {},
   "source": [
    "map (function, iterables)"
   ]
  },
  {
   "cell_type": "code",
   "execution_count": 199,
   "id": "d980d4c6",
   "metadata": {},
   "outputs": [
    {
     "data": {
      "text/plain": [
       "[2, 4, 6, 8, 10]"
      ]
     },
     "execution_count": 199,
     "metadata": {},
     "output_type": "execute_result"
    }
   ],
   "source": [
    "list1 #iterables"
   ]
  },
  {
   "cell_type": "code",
   "execution_count": 200,
   "id": "c2d4edf2",
   "metadata": {},
   "outputs": [],
   "source": [
    "def sqaure(x):\n",
    "    return x*x"
   ]
  },
  {
   "cell_type": "code",
   "execution_count": 202,
   "id": "90697abe",
   "metadata": {
    "scrolled": false
   },
   "outputs": [
    {
     "data": {
      "text/plain": [
       "[4, 16, 36, 64, 100]"
      ]
     },
     "execution_count": 202,
     "metadata": {},
     "output_type": "execute_result"
    }
   ],
   "source": [
    "list(map(sqaure,list1))"
   ]
  },
  {
   "cell_type": "code",
   "execution_count": 203,
   "id": "f1737e0d",
   "metadata": {},
   "outputs": [
    {
     "data": {
      "text/plain": [
       "[4, 16, 36, 64, 100]"
      ]
     },
     "execution_count": 203,
     "metadata": {},
     "output_type": "execute_result"
    }
   ],
   "source": [
    "list(map(lambda x:x*x, list1))"
   ]
  },
  {
   "cell_type": "code",
   "execution_count": 204,
   "id": "996cf4f7",
   "metadata": {},
   "outputs": [
    {
     "data": {
      "text/plain": [
       "[2, 4, 6, 8, 10]"
      ]
     },
     "execution_count": 204,
     "metadata": {},
     "output_type": "execute_result"
    }
   ],
   "source": [
    "list1"
   ]
  },
  {
   "cell_type": "code",
   "execution_count": 205,
   "id": "4b5cb9d1",
   "metadata": {},
   "outputs": [
    {
     "data": {
      "text/plain": [
       "[8, 64, 216, 512, 1000]"
      ]
     },
     "execution_count": 205,
     "metadata": {},
     "output_type": "execute_result"
    }
   ],
   "source": [
    "list(map(lambda x: x*x*x,list1))"
   ]
  },
  {
   "cell_type": "code",
   "execution_count": null,
   "id": "abe2a3c6",
   "metadata": {},
   "outputs": [],
   "source": [
    "I/p : [1,2,3,4]\n",
    "o/p : [1,8,9,64]"
   ]
  },
  {
   "cell_type": "code",
   "execution_count": 1,
   "id": "caf7b45a",
   "metadata": {},
   "outputs": [],
   "source": [
    "list1 = [1,2,3,4,5,6,7,8,9]"
   ]
  },
  {
   "cell_type": "code",
   "execution_count": 2,
   "id": "360aa4e2",
   "metadata": {},
   "outputs": [
    {
     "data": {
      "text/plain": [
       "[False, True, False, True, False, True, False, True, False]"
      ]
     },
     "execution_count": 2,
     "metadata": {},
     "output_type": "execute_result"
    }
   ],
   "source": [
    "# I want to find the even numbers : [2,4,6,8]\n",
    "\n",
    "list(map(lambda x:x%2==0,list1))"
   ]
  },
  {
   "cell_type": "code",
   "execution_count": null,
   "id": "06152edf",
   "metadata": {},
   "outputs": [],
   "source": [
    "list1 = [False,True,False,True,False,True,False,True,False]"
   ]
  },
  {
   "cell_type": "markdown",
   "id": "bd7e7989",
   "metadata": {},
   "source": [
    "map(function,iterables)"
   ]
  },
  {
   "cell_type": "markdown",
   "id": "63d75a7f",
   "metadata": {},
   "source": [
    "filter(function,iterables)"
   ]
  },
  {
   "cell_type": "code",
   "execution_count": 3,
   "id": "763f49e7",
   "metadata": {},
   "outputs": [
    {
     "data": {
      "text/plain": [
       "[2, 4, 6, 8]"
      ]
     },
     "execution_count": 3,
     "metadata": {},
     "output_type": "execute_result"
    }
   ],
   "source": [
    "list(filter(lambda x:x%2==0,list1))"
   ]
  },
  {
   "cell_type": "code",
   "execution_count": 5,
   "id": "2f32a808",
   "metadata": {},
   "outputs": [
    {
     "data": {
      "text/plain": [
       "[1, 3, 5, 7, 9]"
      ]
     },
     "execution_count": 5,
     "metadata": {},
     "output_type": "execute_result"
    }
   ],
   "source": [
    "list1 = [1,2,3,4,5,6,7,8,9] \n",
    "list(filter(lambda x : x%2 !=0,list1))"
   ]
  },
  {
   "cell_type": "code",
   "execution_count": 9,
   "id": "d588611a",
   "metadata": {},
   "outputs": [
    {
     "data": {
      "text/plain": [
       "(15, 17, 32, 107, 64, 72, 87, 33, 83, 71)"
      ]
     },
     "execution_count": 9,
     "metadata": {},
     "output_type": "execute_result"
    }
   ],
   "source": [
    "tuple1= (5, 7, 22, 97, 54, 62, 77, 23, 73, 61)\n",
    "\n",
    "# I want to add 10 to each element\n",
    "# (15,17,32,107,64,87,33,83,71)\n",
    "\n",
    "tuple(map(lambda x: x+10,tuple1))"
   ]
  },
  {
   "cell_type": "code",
   "execution_count": 11,
   "id": "b5f8d108",
   "metadata": {},
   "outputs": [
    {
     "data": {
      "text/plain": [
       "(22, 97, 54, 62, 77, 23, 73, 61)"
      ]
     },
     "execution_count": 11,
     "metadata": {},
     "output_type": "execute_result"
    }
   ],
   "source": [
    "tuple1= (5, 7, 22, 97, 54, 62, 77, 23, 73, 61)\n",
    "# find the elements which are greater than 20\n",
    "\n",
    "tuple(filter(lambda x: x>20, tuple1))"
   ]
  },
  {
   "cell_type": "code",
   "execution_count": 14,
   "id": "ca20e02b",
   "metadata": {},
   "outputs": [
    {
     "data": {
      "text/plain": [
       "['Parmeet', 'Trishaan']"
      ]
     },
     "execution_count": 14,
     "metadata": {},
     "output_type": "execute_result"
    }
   ],
   "source": [
    "list1 = [\"Parmeet\",\"Trishaan\",\"Anit\"]\n",
    "#return the elements whose size is greater than 5\n",
    "list(filter(lambda x: len(x)>5,list1))"
   ]
  },
  {
   "cell_type": "markdown",
   "id": "dba9b096",
   "metadata": {},
   "source": [
    "# Reduce : It will reduce the iterables and return single value"
   ]
  },
  {
   "cell_type": "code",
   "execution_count": 15,
   "id": "8da60765",
   "metadata": {},
   "outputs": [],
   "source": [
    "from functools import reduce"
   ]
  },
  {
   "attachments": {
    "image.png": {
     "image/png": "[encoded data removed]"
    }
   },
   "cell_type": "markdown",
   "id": "e446c080",
   "metadata": {},
   "source": [
    "![image.png](attachment:image.png)"
   ]
  },
  {
   "cell_type": "markdown",
   "id": "e31e2de0",
   "metadata": {},
   "source": [
    "list1 = \n",
    "step1 : [23,21,45,98]\n",
    "step2 : [44,45,98]\n",
    "step3 : [89,98]\n",
    "step4 : 187"
   ]
  },
  {
   "cell_type": "code",
   "execution_count": null,
   "id": "6e1648a9",
   "metadata": {},
   "outputs": [],
   "source": [
    "reduce(function_name, iterables)\n",
    "1. It will take 2 parameters\n",
    "2. It will not return object"
   ]
  },
  {
   "cell_type": "code",
   "execution_count": 20,
   "id": "86af4105",
   "metadata": {},
   "outputs": [
    {
     "data": {
      "text/plain": [
       "187"
      ]
     },
     "execution_count": 20,
     "metadata": {},
     "output_type": "execute_result"
    }
   ],
   "source": [
    "# find the sum of list\n",
    "list1 = [23,21,45,98]\n",
    "\n",
    "reduce(lambda x,y : x+y, list1) #it is not returning object it will directly return the value"
   ]
  },
  {
   "cell_type": "code",
   "execution_count": null,
   "id": "cbbda190",
   "metadata": {},
   "outputs": [],
   "source": [
    "step1 : [23,21,45,98]\n",
    "x : 23  y : 21  x+y = 44  ==>X\n",
    "step2 : x =44, y =45\n",
    "    x+y = 89 --->x\n",
    "step3 : x = 89, y = 98\n",
    "    x+y = 89 + 98 = 187 ==>x"
   ]
  },
  {
   "cell_type": "code",
   "execution_count": 21,
   "id": "8589ca76",
   "metadata": {},
   "outputs": [
    {
     "data": {
      "text/plain": [
       "240000"
      ]
     },
     "execution_count": 21,
     "metadata": {},
     "output_type": "execute_result"
    }
   ],
   "source": [
    "list1 = [10,20,30,40]\n",
    "\n",
    "# I want to multiply all the numbers\n",
    "reduce(lambda x,y : x*y, list1)"
   ]
  },
  {
   "cell_type": "code",
   "execution_count": 22,
   "id": "f14de9a8",
   "metadata": {
    "scrolled": true
   },
   "outputs": [
    {
     "data": {
      "text/plain": [
       "1100"
      ]
     },
     "execution_count": 22,
     "metadata": {},
     "output_type": "execute_result"
    }
   ],
   "source": [
    "list1 = [15, 180, 1100,10, 200, 50] \n",
    "# I want to find largest element\n",
    "reduce(lambda x,y: x if x>y else y, list1)"
   ]
  },
  {
   "cell_type": "code",
   "execution_count": null,
   "id": "c8ef8ab4",
   "metadata": {},
   "outputs": [],
   "source": [
    "[15, 180, 1100,10, 200, 50]\n",
    "\n",
    "step :1 x = 15, y =180 is x>y no then it will go to else : 180\n",
    "        x =180 , y = 1100  is x>y no then it will go to else :1100\n",
    "        x = 1100, y =  10 is x>y yes:  1100\n",
    "        x = 1100, y = 200 is x>y yes : 1100\n",
    "        x =1100, y = 50 is x>y yes : 1100\n",
    "     "
   ]
  },
  {
   "cell_type": "code",
   "execution_count": 23,
   "id": "e4e0e0a5",
   "metadata": {},
   "outputs": [
    {
     "data": {
      "text/plain": [
       "1100"
      ]
     },
     "execution_count": 23,
     "metadata": {},
     "output_type": "execute_result"
    }
   ],
   "source": [
    "set1 = {15, 180, 1100,10, 200, 50}\n",
    "# I want to find largest element\n",
    "reduce(lambda x,y: x if x>y else y, set1)"
   ]
  },
  {
   "cell_type": "code",
   "execution_count": null,
   "id": "b89ea3eb",
   "metadata": {},
   "outputs": [],
   "source": [
    "Map : when we need same number of elements in the output (one parmeter)\n",
    "Filter : when we need a reduced/conditional outputs (one parameter)\n",
    "reduce : when you need a single value (two parameters)"
   ]
  }
 ],
 "metadata": {
  "kernelspec": {
   "display_name": "Python 3",
   "language": "python",
   "name": "python3"
  },
  "language_info": {
   "codemirror_mode": {
    "name": "ipython",
    "version": 3
   },
   "file_extension": ".py",
   "mimetype": "text/x-python",
   "name": "python",
   "nbconvert_exporter": "python",
   "pygments_lexer": "ipython3",
   "version": "3.8.8"
  }
 },
 "nbformat": 4,
 "nbformat_minor": 5
}
