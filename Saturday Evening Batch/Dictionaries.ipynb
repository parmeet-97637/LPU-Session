{
 "cells": [
  {
   "cell_type": "code",
   "execution_count": 1,
   "id": "d3b3a1fb",
   "metadata": {},
   "outputs": [],
   "source": [
    "# Lists, sets, tuples"
   ]
  },
  {
   "cell_type": "markdown",
   "id": "5f34a93b",
   "metadata": {},
   "source": [
    "[], (), set()->{}"
   ]
  },
  {
   "cell_type": "code",
   "execution_count": 2,
   "id": "2ced19f8",
   "metadata": {},
   "outputs": [
    {
     "data": {
      "text/plain": [
       "dict"
      ]
     },
     "execution_count": 2,
     "metadata": {},
     "output_type": "execute_result"
    }
   ],
   "source": [
    "dict1 = {}\n",
    "type(dict1)"
   ]
  },
  {
   "cell_type": "markdown",
   "id": "71c2fecf",
   "metadata": {},
   "source": [
    "1. Dictionaries are Key value pairs\n",
    "2. Dictionaries are ordered\n",
    "3. Mutable -> change elements in the dictionaries\n",
    "4. It dosnot allow any duplicates"
   ]
  },
  {
   "cell_type": "markdown",
   "id": "abb67772",
   "metadata": {},
   "source": [
    "{key1:value1, key2:value2, key3:value3..........}"
   ]
  },
  {
   "cell_type": "code",
   "execution_count": 8,
   "id": "22b918fb",
   "metadata": {},
   "outputs": [
    {
     "data": {
      "text/plain": [
       "{'Name': 'Parmeet', 'Age': 27, 'Location': 'Indore', 'State': 'MP'}"
      ]
     },
     "execution_count": 8,
     "metadata": {},
     "output_type": "execute_result"
    }
   ],
   "source": [
    "dict2 = {'Name':'Parmeet','Age':27,'Location':'Indore','State':'MP'}\n",
    "dict2"
   ]
  },
  {
   "cell_type": "code",
   "execution_count": 4,
   "id": "ffa2770f",
   "metadata": {},
   "outputs": [
    {
     "data": {
      "text/plain": [
       "dict"
      ]
     },
     "execution_count": 4,
     "metadata": {},
     "output_type": "execute_result"
    }
   ],
   "source": [
    "type(dict1)"
   ]
  },
  {
   "cell_type": "code",
   "execution_count": 6,
   "id": "082facef",
   "metadata": {},
   "outputs": [
    {
     "data": {
      "text/plain": [
       "{'brand': 'Ford', 'Model': 'Mustang', 'year': 2020}"
      ]
     },
     "execution_count": 6,
     "metadata": {},
     "output_type": "execute_result"
    }
   ],
   "source": [
    "dict1 = {'brand':'Ford','Model':'Mustang','year':1994,'year':2020}\n",
    "dict1"
   ]
  },
  {
   "cell_type": "code",
   "execution_count": 7,
   "id": "363d93d3",
   "metadata": {},
   "outputs": [
    {
     "data": {
      "text/plain": [
       "3"
      ]
     },
     "execution_count": 7,
     "metadata": {},
     "output_type": "execute_result"
    }
   ],
   "source": [
    "len(dict1)"
   ]
  },
  {
   "cell_type": "code",
   "execution_count": 10,
   "id": "171efac6",
   "metadata": {},
   "outputs": [
    {
     "data": {
      "text/plain": [
       "4"
      ]
     },
     "execution_count": 10,
     "metadata": {},
     "output_type": "execute_result"
    }
   ],
   "source": [
    "len(dict2)"
   ]
  },
  {
   "cell_type": "code",
   "execution_count": 11,
   "id": "8683e1b9",
   "metadata": {},
   "outputs": [
    {
     "data": {
      "text/plain": [
       "{'brand': 'Ford', 'Model': 'Mustang', 'year': 2020}"
      ]
     },
     "execution_count": 11,
     "metadata": {},
     "output_type": "execute_result"
    }
   ],
   "source": [
    "dict1"
   ]
  },
  {
   "cell_type": "code",
   "execution_count": 12,
   "id": "050024ec",
   "metadata": {},
   "outputs": [
    {
     "data": {
      "text/plain": [
       "'Ford'"
      ]
     },
     "execution_count": 12,
     "metadata": {},
     "output_type": "execute_result"
    }
   ],
   "source": [
    "dict1['brand']"
   ]
  },
  {
   "cell_type": "code",
   "execution_count": 13,
   "id": "2796f5d9",
   "metadata": {},
   "outputs": [
    {
     "data": {
      "text/plain": [
       "'Parmeet'"
      ]
     },
     "execution_count": 13,
     "metadata": {},
     "output_type": "execute_result"
    }
   ],
   "source": [
    "dict2['Name']"
   ]
  },
  {
   "cell_type": "code",
   "execution_count": 14,
   "id": "0e12a458",
   "metadata": {},
   "outputs": [
    {
     "data": {
      "text/plain": [
       "2020"
      ]
     },
     "execution_count": 14,
     "metadata": {},
     "output_type": "execute_result"
    }
   ],
   "source": [
    "dict1['year']"
   ]
  },
  {
   "cell_type": "code",
   "execution_count": 15,
   "id": "2b077eff",
   "metadata": {},
   "outputs": [
    {
     "data": {
      "text/plain": [
       "(10, 20, 30)"
      ]
     },
     "execution_count": 15,
     "metadata": {},
     "output_type": "execute_result"
    }
   ],
   "source": [
    "tuples = (10,20,30)\n",
    "tuples"
   ]
  },
  {
   "cell_type": "code",
   "execution_count": 16,
   "id": "cde79bbb",
   "metadata": {},
   "outputs": [
    {
     "data": {
      "text/plain": [
       "10"
      ]
     },
     "execution_count": 16,
     "metadata": {},
     "output_type": "execute_result"
    }
   ],
   "source": [
    "tuples[0]"
   ]
  },
  {
   "cell_type": "code",
   "execution_count": 17,
   "id": "55ca6b85",
   "metadata": {},
   "outputs": [
    {
     "data": {
      "text/plain": [
       "'Indore'"
      ]
     },
     "execution_count": 17,
     "metadata": {},
     "output_type": "execute_result"
    }
   ],
   "source": [
    "dict2['Location']"
   ]
  },
  {
   "cell_type": "markdown",
   "id": "b0656b06",
   "metadata": {},
   "source": [
    "dictionary -> keys and values"
   ]
  },
  {
   "cell_type": "code",
   "execution_count": 19,
   "id": "7e034d2c",
   "metadata": {},
   "outputs": [
    {
     "data": {
      "text/plain": [
       "dict_keys(['Name', 'Age', 'Location', 'State'])"
      ]
     },
     "execution_count": 19,
     "metadata": {},
     "output_type": "execute_result"
    }
   ],
   "source": [
    "dict2.keys()"
   ]
  },
  {
   "cell_type": "code",
   "execution_count": 20,
   "id": "0c719e34",
   "metadata": {
    "scrolled": true
   },
   "outputs": [
    {
     "data": {
      "text/plain": [
       "dict_values(['Parmeet', 27, 'Indore', 'MP'])"
      ]
     },
     "execution_count": 20,
     "metadata": {},
     "output_type": "execute_result"
    }
   ],
   "source": [
    "dict2.values()"
   ]
  },
  {
   "cell_type": "code",
   "execution_count": 21,
   "id": "a568c5d0",
   "metadata": {},
   "outputs": [
    {
     "data": {
      "text/plain": [
       "dict_items([('Name', 'Parmeet'), ('Age', 27), ('Location', 'Indore'), ('State', 'MP')])"
      ]
     },
     "execution_count": 21,
     "metadata": {},
     "output_type": "execute_result"
    }
   ],
   "source": [
    "dict2.items()"
   ]
  },
  {
   "cell_type": "code",
   "execution_count": 23,
   "id": "def9a1e4",
   "metadata": {},
   "outputs": [],
   "source": [
    "dict2['Name'] = 'Trishaan' #Dictionaries are mutable"
   ]
  },
  {
   "cell_type": "code",
   "execution_count": 24,
   "id": "876cedb0",
   "metadata": {},
   "outputs": [
    {
     "data": {
      "text/plain": [
       "{'Name': 'Trishaan', 'Age': 27, 'Location': 'Indore', 'State': 'MP'}"
      ]
     },
     "execution_count": 24,
     "metadata": {},
     "output_type": "execute_result"
    }
   ],
   "source": [
    "dict2"
   ]
  },
  {
   "cell_type": "code",
   "execution_count": 25,
   "id": "8827e74e",
   "metadata": {},
   "outputs": [],
   "source": [
    "dict2['Gender'] ='Male'"
   ]
  },
  {
   "cell_type": "code",
   "execution_count": 26,
   "id": "e8d081be",
   "metadata": {},
   "outputs": [
    {
     "data": {
      "text/plain": [
       "{'Name': 'Trishaan',\n",
       " 'Age': 27,\n",
       " 'Location': 'Indore',\n",
       " 'State': 'MP',\n",
       " 'Gender': 'Male'}"
      ]
     },
     "execution_count": 26,
     "metadata": {},
     "output_type": "execute_result"
    }
   ],
   "source": [
    "dict2"
   ]
  },
  {
   "cell_type": "code",
   "execution_count": 27,
   "id": "21e51cd7",
   "metadata": {},
   "outputs": [
    {
     "data": {
      "text/plain": [
       "True"
      ]
     },
     "execution_count": 27,
     "metadata": {},
     "output_type": "execute_result"
    }
   ],
   "source": [
    "# check the existence of the element\n",
    "'Name' in dict2.keys()"
   ]
  },
  {
   "cell_type": "code",
   "execution_count": 28,
   "id": "7331f35a",
   "metadata": {},
   "outputs": [
    {
     "data": {
      "text/plain": [
       "False"
      ]
     },
     "execution_count": 28,
     "metadata": {},
     "output_type": "execute_result"
    }
   ],
   "source": [
    "'Marital Status' in dict2.keys()"
   ]
  },
  {
   "cell_type": "code",
   "execution_count": 30,
   "id": "c5c9375c",
   "metadata": {},
   "outputs": [],
   "source": [
    "dict2['Name'] = 'Parmeet' #dict2.update({'Name':'Anit'})"
   ]
  },
  {
   "cell_type": "code",
   "execution_count": 31,
   "id": "236764a4",
   "metadata": {},
   "outputs": [
    {
     "data": {
      "text/plain": [
       "{'Name': 'Parmeet',\n",
       " 'Age': 27,\n",
       " 'Location': 'Indore',\n",
       " 'State': 'MP',\n",
       " 'Gender': 'Male'}"
      ]
     },
     "execution_count": 31,
     "metadata": {},
     "output_type": "execute_result"
    }
   ],
   "source": [
    "dict2"
   ]
  },
  {
   "cell_type": "code",
   "execution_count": 32,
   "id": "2bc944ff",
   "metadata": {},
   "outputs": [],
   "source": [
    "dict2.update({'Name':'Anit'})"
   ]
  },
  {
   "cell_type": "code",
   "execution_count": 34,
   "id": "ceb04a63",
   "metadata": {},
   "outputs": [
    {
     "name": "stdout",
     "output_type": "stream",
     "text": [
      "{'Name': 'Anit', 'Age': 27, 'Location': 'Indore', 'State': 'MP', 'Gender': 'Male'}\n"
     ]
    }
   ],
   "source": [
    "print(dict2)"
   ]
  },
  {
   "cell_type": "markdown",
   "id": "f842b4ce",
   "metadata": {},
   "source": [
    "dictionary_name[key] = value"
   ]
  },
  {
   "cell_type": "code",
   "execution_count": 36,
   "id": "8f53d71d",
   "metadata": {},
   "outputs": [],
   "source": [
    "# Remove the elementsin the dictionary"
   ]
  },
  {
   "cell_type": "code",
   "execution_count": 37,
   "id": "a2e632f4",
   "metadata": {},
   "outputs": [
    {
     "data": {
      "text/plain": [
       "{'Name': 'Anit',\n",
       " 'Age': 27,\n",
       " 'Location': 'Indore',\n",
       " 'State': 'MP',\n",
       " 'Gender': 'Male'}"
      ]
     },
     "execution_count": 37,
     "metadata": {},
     "output_type": "execute_result"
    }
   ],
   "source": [
    "dict2"
   ]
  },
  {
   "cell_type": "code",
   "execution_count": 39,
   "id": "ec506597",
   "metadata": {},
   "outputs": [
    {
     "data": {
      "text/plain": [
       "'MP'"
      ]
     },
     "execution_count": 39,
     "metadata": {},
     "output_type": "execute_result"
    }
   ],
   "source": [
    "dict2.pop('State')"
   ]
  },
  {
   "cell_type": "code",
   "execution_count": 40,
   "id": "04f760d8",
   "metadata": {},
   "outputs": [
    {
     "data": {
      "text/plain": [
       "{'Name': 'Anit', 'Age': 27, 'Location': 'Indore', 'Gender': 'Male'}"
      ]
     },
     "execution_count": 40,
     "metadata": {},
     "output_type": "execute_result"
    }
   ],
   "source": [
    "dict2"
   ]
  },
  {
   "cell_type": "code",
   "execution_count": 41,
   "id": "8a938261",
   "metadata": {},
   "outputs": [
    {
     "data": {
      "text/plain": [
       "'Male'"
      ]
     },
     "execution_count": 41,
     "metadata": {},
     "output_type": "execute_result"
    }
   ],
   "source": [
    "dict2.pop('Gender')"
   ]
  },
  {
   "cell_type": "code",
   "execution_count": 42,
   "id": "99ef3689",
   "metadata": {},
   "outputs": [
    {
     "data": {
      "text/plain": [
       "{'Name': 'Anit', 'Age': 27, 'Location': 'Indore'}"
      ]
     },
     "execution_count": 42,
     "metadata": {},
     "output_type": "execute_result"
    }
   ],
   "source": [
    "dict2"
   ]
  },
  {
   "cell_type": "code",
   "execution_count": 43,
   "id": "4ce300b4",
   "metadata": {},
   "outputs": [
    {
     "data": {
      "text/plain": [
       "{'brand': 'Ford', 'Model': 'Mustang', 'year': 2020}"
      ]
     },
     "execution_count": 43,
     "metadata": {},
     "output_type": "execute_result"
    }
   ],
   "source": [
    "dict1"
   ]
  },
  {
   "cell_type": "code",
   "execution_count": 44,
   "id": "c2ec7906",
   "metadata": {},
   "outputs": [
    {
     "data": {
      "text/plain": [
       "('year', 2020)"
      ]
     },
     "execution_count": 44,
     "metadata": {},
     "output_type": "execute_result"
    }
   ],
   "source": [
    "dict1.popitem()"
   ]
  },
  {
   "cell_type": "code",
   "execution_count": 46,
   "id": "79ecb54c",
   "metadata": {},
   "outputs": [
    {
     "ename": "TypeError",
     "evalue": "popitem() takes no arguments (1 given)",
     "output_type": "error",
     "traceback": [
      "\u001b[1;31m---------------------------------------------------------------------------\u001b[0m",
      "\u001b[1;31mTypeError\u001b[0m                                 Traceback (most recent call last)",
      "\u001b[1;32m<ipython-input-46-6591f0edeb32>\u001b[0m in \u001b[0;36m<module>\u001b[1;34m\u001b[0m\n\u001b[1;32m----> 1\u001b[1;33m \u001b[0mdict1\u001b[0m\u001b[1;33m.\u001b[0m\u001b[0mpopitem\u001b[0m\u001b[1;33m(\u001b[0m\u001b[1;36m0\u001b[0m\u001b[1;33m)\u001b[0m\u001b[1;33m\u001b[0m\u001b[1;33m\u001b[0m\u001b[0m\n\u001b[0m",
      "\u001b[1;31mTypeError\u001b[0m: popitem() takes no arguments (1 given)"
     ]
    }
   ],
   "source": [
    "dict1.popitem()"
   ]
  },
  {
   "cell_type": "code",
   "execution_count": 47,
   "id": "8a56acd1",
   "metadata": {},
   "outputs": [
    {
     "data": {
      "text/plain": [
       "{'brand': 'Ford', 'Model': 'Mustang'}"
      ]
     },
     "execution_count": 47,
     "metadata": {},
     "output_type": "execute_result"
    }
   ],
   "source": [
    "dict1"
   ]
  },
  {
   "cell_type": "code",
   "execution_count": 48,
   "id": "952999c8",
   "metadata": {},
   "outputs": [],
   "source": [
    "dict1.clear()"
   ]
  },
  {
   "cell_type": "code",
   "execution_count": 49,
   "id": "b015398b",
   "metadata": {},
   "outputs": [
    {
     "data": {
      "text/plain": [
       "{}"
      ]
     },
     "execution_count": 49,
     "metadata": {},
     "output_type": "execute_result"
    }
   ],
   "source": [
    "dict1"
   ]
  },
  {
   "cell_type": "code",
   "execution_count": 50,
   "id": "1734cfb1",
   "metadata": {},
   "outputs": [
    {
     "data": {
      "text/plain": [
       "{'Name': 'Anit', 'Age': 27, 'Location': 'Indore'}"
      ]
     },
     "execution_count": 50,
     "metadata": {},
     "output_type": "execute_result"
    }
   ],
   "source": [
    "dict2"
   ]
  },
  {
   "cell_type": "code",
   "execution_count": 51,
   "id": "e1dfe8ad",
   "metadata": {},
   "outputs": [],
   "source": [
    "del dict2"
   ]
  },
  {
   "cell_type": "code",
   "execution_count": 52,
   "id": "db284a76",
   "metadata": {},
   "outputs": [
    {
     "ename": "NameError",
     "evalue": "name 'dict2' is not defined",
     "output_type": "error",
     "traceback": [
      "\u001b[1;31m---------------------------------------------------------------------------\u001b[0m",
      "\u001b[1;31mNameError\u001b[0m                                 Traceback (most recent call last)",
      "\u001b[1;32m<ipython-input-52-522e1a9638e7>\u001b[0m in \u001b[0;36m<module>\u001b[1;34m\u001b[0m\n\u001b[1;32m----> 1\u001b[1;33m \u001b[0mdict2\u001b[0m\u001b[1;33m\u001b[0m\u001b[1;33m\u001b[0m\u001b[0m\n\u001b[0m",
      "\u001b[1;31mNameError\u001b[0m: name 'dict2' is not defined"
     ]
    }
   ],
   "source": [
    "dict2"
   ]
  },
  {
   "cell_type": "code",
   "execution_count": 53,
   "id": "370c91ce",
   "metadata": {},
   "outputs": [],
   "source": [
    "myfamily = {   \"child1\" : { \"name\" : \"Anit\", \"year\" : 2004},\n",
    "            \n",
    "               \"child2\" : { \"name\" : \"Trishaan\", \"year\" : 2007},\n",
    "               \n",
    "               \"child3\" : { \"name\" : \"Tina\", \"year\" : 2011}\n",
    "            }"
   ]
  },
  {
   "cell_type": "code",
   "execution_count": 54,
   "id": "97c34584",
   "metadata": {},
   "outputs": [
    {
     "data": {
      "text/plain": [
       "{'child1': {'name': 'Anit', 'year': 2004},\n",
       " 'child2': {'name': 'Trishaan', 'year': 2007},\n",
       " 'child3': {'name': 'Tina', 'year': 2011}}"
      ]
     },
     "execution_count": 54,
     "metadata": {},
     "output_type": "execute_result"
    }
   ],
   "source": [
    "myfamily"
   ]
  },
  {
   "cell_type": "code",
   "execution_count": 58,
   "id": "33d3d04c",
   "metadata": {},
   "outputs": [
    {
     "data": {
      "text/plain": [
       "2007"
      ]
     },
     "execution_count": 58,
     "metadata": {},
     "output_type": "execute_result"
    }
   ],
   "source": [
    "# I want to extract birth year for child 2\n",
    "myfamily['child2']['year']"
   ]
  },
  {
   "cell_type": "code",
   "execution_count": 66,
   "id": "494e5e64",
   "metadata": {},
   "outputs": [
    {
     "data": {
      "text/plain": [
       "2007"
      ]
     },
     "execution_count": 66,
     "metadata": {},
     "output_type": "execute_result"
    }
   ],
   "source": [
    "myfamily['child2']['year']"
   ]
  },
  {
   "cell_type": "code",
   "execution_count": 67,
   "id": "c8142647",
   "metadata": {},
   "outputs": [],
   "source": [
    "x = ('key1','key2','key3')\n",
    "y = 0\n",
    "\n",
    "dict_2 = dict.fromkeys(x,y)"
   ]
  },
  {
   "cell_type": "code",
   "execution_count": 68,
   "id": "5ea0be50",
   "metadata": {},
   "outputs": [
    {
     "data": {
      "text/plain": [
       "{'key1': 0, 'key2': 0, 'key3': 0}"
      ]
     },
     "execution_count": 68,
     "metadata": {},
     "output_type": "execute_result"
    }
   ],
   "source": [
    "dict_2"
   ]
  },
  {
   "cell_type": "code",
   "execution_count": 70,
   "id": "d414b031",
   "metadata": {},
   "outputs": [
    {
     "data": {
      "text/plain": [
       "{'Name': 'Parmeet', 'Age': 27, 'Location': 'Indore', 'State': 'MP'}"
      ]
     },
     "execution_count": 70,
     "metadata": {},
     "output_type": "execute_result"
    }
   ],
   "source": [
    "dict2 = {'Name':'Parmeet','Age':27,'Location':'Indore','State':'MP'}\n",
    "dict2"
   ]
  },
  {
   "cell_type": "code",
   "execution_count": 71,
   "id": "e0851318",
   "metadata": {},
   "outputs": [
    {
     "ename": "KeyError",
     "evalue": "'Marital Status'",
     "output_type": "error",
     "traceback": [
      "\u001b[1;31m---------------------------------------------------------------------------\u001b[0m",
      "\u001b[1;31mKeyError\u001b[0m                                  Traceback (most recent call last)",
      "\u001b[1;32m<ipython-input-71-69a37a545894>\u001b[0m in \u001b[0;36m<module>\u001b[1;34m\u001b[0m\n\u001b[1;32m----> 1\u001b[1;33m \u001b[0mdict2\u001b[0m\u001b[1;33m[\u001b[0m\u001b[1;34m'Marital Status'\u001b[0m\u001b[1;33m]\u001b[0m\u001b[1;33m\u001b[0m\u001b[1;33m\u001b[0m\u001b[0m\n\u001b[0m",
      "\u001b[1;31mKeyError\u001b[0m: 'Marital Status'"
     ]
    }
   ],
   "source": [
    "dict2['Marital Status']"
   ]
  },
  {
   "cell_type": "code",
   "execution_count": 72,
   "id": "92b3ddf9",
   "metadata": {},
   "outputs": [
    {
     "data": {
      "text/plain": [
       "'Single'"
      ]
     },
     "execution_count": 72,
     "metadata": {},
     "output_type": "execute_result"
    }
   ],
   "source": [
    "dict2.setdefault('Marital Status','Single')"
   ]
  },
  {
   "cell_type": "code",
   "execution_count": 74,
   "id": "d657cd18",
   "metadata": {},
   "outputs": [
    {
     "data": {
      "text/plain": [
       "'Parmeet'"
      ]
     },
     "execution_count": 74,
     "metadata": {},
     "output_type": "execute_result"
    }
   ],
   "source": [
    "dict2.setdefault('Name','Anit')"
   ]
  },
  {
   "cell_type": "code",
   "execution_count": 75,
   "id": "b9540b12",
   "metadata": {},
   "outputs": [
    {
     "data": {
      "text/plain": [
       "{'Name': 'Parmeet',\n",
       " 'Age': 27,\n",
       " 'Location': 'Indore',\n",
       " 'State': 'MP',\n",
       " 'Marital Status': 'Single'}"
      ]
     },
     "execution_count": 75,
     "metadata": {},
     "output_type": "execute_result"
    }
   ],
   "source": [
    "dict2"
   ]
  },
  {
   "cell_type": "code",
   "execution_count": null,
   "id": "a82ca35c",
   "metadata": {},
   "outputs": [],
   "source": [
    "setdefault :  It will return the default value if the key is not present in the dictionary.\n",
    "Also it will update the dictionry with that key value pair"
   ]
  },
  {
   "cell_type": "code",
   "execution_count": 76,
   "id": "a4372a0b",
   "metadata": {},
   "outputs": [
    {
     "ename": "KeyError",
     "evalue": "'Country'",
     "output_type": "error",
     "traceback": [
      "\u001b[1;31m---------------------------------------------------------------------------\u001b[0m",
      "\u001b[1;31mKeyError\u001b[0m                                  Traceback (most recent call last)",
      "\u001b[1;32m<ipython-input-76-d4e04f3ba4e7>\u001b[0m in \u001b[0;36m<module>\u001b[1;34m\u001b[0m\n\u001b[1;32m----> 1\u001b[1;33m \u001b[0mdict2\u001b[0m\u001b[1;33m[\u001b[0m\u001b[1;34m'Country'\u001b[0m\u001b[1;33m]\u001b[0m\u001b[1;33m\u001b[0m\u001b[1;33m\u001b[0m\u001b[0m\n\u001b[0m",
      "\u001b[1;31mKeyError\u001b[0m: 'Country'"
     ]
    }
   ],
   "source": [
    "dict2['Country']"
   ]
  },
  {
   "cell_type": "code",
   "execution_count": 77,
   "id": "ecc076b0",
   "metadata": {
    "scrolled": true
   },
   "outputs": [
    {
     "data": {
      "text/plain": [
       "'India'"
      ]
     },
     "execution_count": 77,
     "metadata": {},
     "output_type": "execute_result"
    }
   ],
   "source": [
    "dict2.get('Country','India')"
   ]
  },
  {
   "cell_type": "code",
   "execution_count": 78,
   "id": "a50a8088",
   "metadata": {},
   "outputs": [
    {
     "data": {
      "text/plain": [
       "{'Name': 'Parmeet',\n",
       " 'Age': 27,\n",
       " 'Location': 'Indore',\n",
       " 'State': 'MP',\n",
       " 'Marital Status': 'Single'}"
      ]
     },
     "execution_count": 78,
     "metadata": {},
     "output_type": "execute_result"
    }
   ],
   "source": [
    "dict2"
   ]
  },
  {
   "cell_type": "code",
   "execution_count": 79,
   "id": "3d695f4c",
   "metadata": {},
   "outputs": [
    {
     "data": {
      "text/plain": [
       "'Parmeet'"
      ]
     },
     "execution_count": 79,
     "metadata": {},
     "output_type": "execute_result"
    }
   ],
   "source": [
    "dict2.get('Name','Anit')"
   ]
  },
  {
   "cell_type": "code",
   "execution_count": 81,
   "id": "96d20342",
   "metadata": {},
   "outputs": [
    {
     "data": {
      "text/plain": [
       "('Marital Status', 'Single')"
      ]
     },
     "execution_count": 81,
     "metadata": {},
     "output_type": "execute_result"
    }
   ],
   "source": [
    "dict2.popitem()"
   ]
  },
  {
   "cell_type": "code",
   "execution_count": 82,
   "id": "02b2c487",
   "metadata": {},
   "outputs": [
    {
     "data": {
      "text/plain": [
       "{'Name': 'Parmeet', 'Age': 27, 'Location': 'Indore', 'State': 'MP'}"
      ]
     },
     "execution_count": 82,
     "metadata": {},
     "output_type": "execute_result"
    }
   ],
   "source": [
    "dict2"
   ]
  },
  {
   "cell_type": "code",
   "execution_count": 83,
   "id": "c58444a2",
   "metadata": {},
   "outputs": [
    {
     "ename": "KeyError",
     "evalue": "'Marital Status'",
     "output_type": "error",
     "traceback": [
      "\u001b[1;31m---------------------------------------------------------------------------\u001b[0m",
      "\u001b[1;31mKeyError\u001b[0m                                  Traceback (most recent call last)",
      "\u001b[1;32m<ipython-input-83-69a37a545894>\u001b[0m in \u001b[0;36m<module>\u001b[1;34m\u001b[0m\n\u001b[1;32m----> 1\u001b[1;33m \u001b[0mdict2\u001b[0m\u001b[1;33m[\u001b[0m\u001b[1;34m'Marital Status'\u001b[0m\u001b[1;33m]\u001b[0m\u001b[1;33m\u001b[0m\u001b[1;33m\u001b[0m\u001b[0m\n\u001b[0m",
      "\u001b[1;31mKeyError\u001b[0m: 'Marital Status'"
     ]
    }
   ],
   "source": [
    "dict2['Marital Status']"
   ]
  },
  {
   "cell_type": "code",
   "execution_count": 84,
   "id": "f422389a",
   "metadata": {},
   "outputs": [
    {
     "data": {
      "text/plain": [
       "'Single'"
      ]
     },
     "execution_count": 84,
     "metadata": {},
     "output_type": "execute_result"
    }
   ],
   "source": [
    "# set default\n",
    "dict2.setdefault('Marital Status','Single')"
   ]
  },
  {
   "cell_type": "code",
   "execution_count": 85,
   "id": "fc5fc7a7",
   "metadata": {},
   "outputs": [
    {
     "data": {
      "text/plain": [
       "{'Name': 'Parmeet',\n",
       " 'Age': 27,\n",
       " 'Location': 'Indore',\n",
       " 'State': 'MP',\n",
       " 'Marital Status': 'Single'}"
      ]
     },
     "execution_count": 85,
     "metadata": {},
     "output_type": "execute_result"
    }
   ],
   "source": [
    "dict2"
   ]
  },
  {
   "cell_type": "code",
   "execution_count": 87,
   "id": "177e9110",
   "metadata": {},
   "outputs": [
    {
     "data": {
      "text/plain": [
       "'Single'"
      ]
     },
     "execution_count": 87,
     "metadata": {},
     "output_type": "execute_result"
    }
   ],
   "source": [
    "dict2['Marital Status']"
   ]
  },
  {
   "cell_type": "code",
   "execution_count": 88,
   "id": "6bfde413",
   "metadata": {},
   "outputs": [
    {
     "ename": "KeyError",
     "evalue": "'Country'",
     "output_type": "error",
     "traceback": [
      "\u001b[1;31m---------------------------------------------------------------------------\u001b[0m",
      "\u001b[1;31mKeyError\u001b[0m                                  Traceback (most recent call last)",
      "\u001b[1;32m<ipython-input-88-d4e04f3ba4e7>\u001b[0m in \u001b[0;36m<module>\u001b[1;34m\u001b[0m\n\u001b[1;32m----> 1\u001b[1;33m \u001b[0mdict2\u001b[0m\u001b[1;33m[\u001b[0m\u001b[1;34m'Country'\u001b[0m\u001b[1;33m]\u001b[0m\u001b[1;33m\u001b[0m\u001b[1;33m\u001b[0m\u001b[0m\n\u001b[0m",
      "\u001b[1;31mKeyError\u001b[0m: 'Country'"
     ]
    }
   ],
   "source": [
    "dict2['Country']"
   ]
  },
  {
   "cell_type": "code",
   "execution_count": 89,
   "id": "f61b685c",
   "metadata": {},
   "outputs": [
    {
     "data": {
      "text/plain": [
       "'India'"
      ]
     },
     "execution_count": 89,
     "metadata": {},
     "output_type": "execute_result"
    }
   ],
   "source": [
    "dict2.get('Country','India')"
   ]
  },
  {
   "cell_type": "code",
   "execution_count": 90,
   "id": "a6b56bc9",
   "metadata": {},
   "outputs": [
    {
     "data": {
      "text/plain": [
       "{'Name': 'Parmeet',\n",
       " 'Age': 27,\n",
       " 'Location': 'Indore',\n",
       " 'State': 'MP',\n",
       " 'Marital Status': 'Single'}"
      ]
     },
     "execution_count": 90,
     "metadata": {},
     "output_type": "execute_result"
    }
   ],
   "source": [
    "dict2"
   ]
  },
  {
   "cell_type": "code",
   "execution_count": null,
   "id": "dfafc080",
   "metadata": {},
   "outputs": [],
   "source": [
    "# Sort the dictionary\n"
   ]
  }
 ],
 "metadata": {
  "kernelspec": {
   "display_name": "Python 3",
   "language": "python",
   "name": "python3"
  },
  "language_info": {
   "codemirror_mode": {
    "name": "ipython",
    "version": 3
   },
   "file_extension": ".py",
   "mimetype": "text/x-python",
   "name": "python",
   "nbconvert_exporter": "python",
   "pygments_lexer": "ipython3",
   "version": "3.8.8"
  }
 },
 "nbformat": 4,
 "nbformat_minor": 5
}
