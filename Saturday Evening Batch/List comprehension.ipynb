{
 "cells": [
  {
   "cell_type": "code",
   "execution_count": 1,
   "id": "699400f6",
   "metadata": {},
   "outputs": [
    {
     "name": "stdout",
     "output_type": "stream",
     "text": [
      "True\n"
     ]
    }
   ],
   "source": [
    "if 3>2:\n",
    "    print(True)\n",
    "else:\n",
    "    print(False)"
   ]
  },
  {
   "cell_type": "code",
   "execution_count": 2,
   "id": "5a5b73dd",
   "metadata": {},
   "outputs": [
    {
     "name": "stdout",
     "output_type": "stream",
     "text": [
      "False\n"
     ]
    }
   ],
   "source": [
    "if 4<2:\n",
    "    print(True)\n",
    "else:\n",
    "    print(False)"
   ]
  },
  {
   "cell_type": "code",
   "execution_count": 3,
   "id": "03f12602",
   "metadata": {},
   "outputs": [
    {
     "name": "stdout",
     "output_type": "stream",
     "text": [
      "0\n",
      "1\n",
      "2\n",
      "3\n",
      "4\n"
     ]
    }
   ],
   "source": [
    "for ele in range(5):\n",
    "    print(ele)"
   ]
  },
  {
   "cell_type": "code",
   "execution_count": 4,
   "id": "c822accb",
   "metadata": {},
   "outputs": [
    {
     "name": "stdout",
     "output_type": "stream",
     "text": [
      "1 2 3 4 "
     ]
    }
   ],
   "source": [
    "for ele in range(1,5):\n",
    "    print(ele,end=\" \")"
   ]
  },
  {
   "cell_type": "code",
   "execution_count": 5,
   "id": "fa596e2f",
   "metadata": {},
   "outputs": [],
   "source": [
    "list1 = ['Mango','Banana','Cherry','Pineapple']"
   ]
  },
  {
   "cell_type": "code",
   "execution_count": 6,
   "id": "3eb91141",
   "metadata": {},
   "outputs": [
    {
     "name": "stdout",
     "output_type": "stream",
     "text": [
      "Mango\n",
      "Banana\n",
      "Cherry\n",
      "Pineapple\n"
     ]
    }
   ],
   "source": [
    "for ele in list1:\n",
    "    print(ele)"
   ]
  },
  {
   "cell_type": "code",
   "execution_count": 7,
   "id": "41774b6c",
   "metadata": {},
   "outputs": [
    {
     "name": "stdout",
     "output_type": "stream",
     "text": [
      "0 Mango\n",
      "1 Banana\n",
      "2 Cherry\n",
      "3 Pineapple\n"
     ]
    }
   ],
   "source": [
    "for idx,ele in enumerate(list1):\n",
    "    print(idx, ele)"
   ]
  },
  {
   "cell_type": "code",
   "execution_count": 8,
   "id": "12dbbaad",
   "metadata": {},
   "outputs": [
    {
     "name": "stdout",
     "output_type": "stream",
     "text": [
      "10\n",
      "9\n",
      "8\n",
      "7\n",
      "6\n",
      "5\n",
      "4\n",
      "3\n",
      "2\n"
     ]
    }
   ],
   "source": [
    "for ele in range(10,1,-1):\n",
    "    print(ele)"
   ]
  },
  {
   "cell_type": "code",
   "execution_count": 9,
   "id": "bd9d30d5",
   "metadata": {},
   "outputs": [],
   "source": [
    "list1 = ['apple','banana','cherry','kiwi','mango']\n",
    "# filter apple : ['banana','cherry','kiwi','mango']"
   ]
  },
  {
   "cell_type": "code",
   "execution_count": 18,
   "id": "9096f7bc",
   "metadata": {},
   "outputs": [
    {
     "data": {
      "text/plain": [
       "['banana', 'cherry', 'apple', 'kiwi', 'mango']"
      ]
     },
     "execution_count": 18,
     "metadata": {},
     "output_type": "execute_result"
    }
   ],
   "source": [
    "list1 = ['banana','cherry','apple','kiwi','mango']\n",
    "list1"
   ]
  },
  {
   "cell_type": "code",
   "execution_count": 19,
   "id": "c21283bb",
   "metadata": {},
   "outputs": [
    {
     "name": "stdout",
     "output_type": "stream",
     "text": [
      "banana\n",
      "cherry\n",
      "apple found breaking the loop\n"
     ]
    }
   ],
   "source": [
    "for i in list1:\n",
    "    if i =='apple':\n",
    "        print(f'{i} found breaking the loop')\n",
    "        break\n",
    "    else:\n",
    "        print(i)"
   ]
  },
  {
   "cell_type": "code",
   "execution_count": 24,
   "id": "fe508ed4",
   "metadata": {},
   "outputs": [
    {
     "data": {
      "text/plain": [
       "['banana', 'cherry', 'apple', 'kiwi', 'mango']"
      ]
     },
     "execution_count": 24,
     "metadata": {},
     "output_type": "execute_result"
    }
   ],
   "source": [
    "list1 = ['banana','cherry','apple','kiwi','mango']\n",
    "list1"
   ]
  },
  {
   "cell_type": "code",
   "execution_count": 27,
   "id": "d209efca",
   "metadata": {},
   "outputs": [
    {
     "name": "stdout",
     "output_type": "stream",
     "text": [
      "banana\n",
      "cherry\n",
      "kiwi\n",
      "mango\n"
     ]
    }
   ],
   "source": [
    "for i in list1:\n",
    "    if i =='apple':\n",
    "        continue\n",
    "    else:\n",
    "        print(i)"
   ]
  },
  {
   "cell_type": "code",
   "execution_count": 28,
   "id": "5fa4e874",
   "metadata": {},
   "outputs": [],
   "source": [
    "list1 = ['apple','banana','cherry','kiwi','mango']\n",
    "#output : ['banana','cherry','kiwi','mango']"
   ]
  },
  {
   "cell_type": "code",
   "execution_count": 55,
   "id": "f4bf85a9",
   "metadata": {},
   "outputs": [],
   "source": [
    "output=[]\n",
    "for ele in list1:\n",
    "    if(ele=='apple'):\n",
    "        continue #skip\n",
    "    else :\n",
    "        output.append(ele)"
   ]
  },
  {
   "cell_type": "code",
   "execution_count": 56,
   "id": "88111b75",
   "metadata": {},
   "outputs": [
    {
     "data": {
      "text/plain": [
       "['banana', 'cherry', 'kiwi', 'mango']"
      ]
     },
     "execution_count": 56,
     "metadata": {},
     "output_type": "execute_result"
    }
   ],
   "source": [
    "outputput"
   ]
  },
  {
   "cell_type": "code",
   "execution_count": 57,
   "id": "031a3460",
   "metadata": {},
   "outputs": [
    {
     "data": {
      "text/plain": [
       "['banana', 'cherry', 'kiwi', 'mango']"
      ]
     },
     "execution_count": 57,
     "metadata": {},
     "output_type": "execute_result"
    }
   ],
   "source": [
    "[ele for ele in list1 if(ele!='apple')]"
   ]
  },
  {
   "cell_type": "code",
   "execution_count": null,
   "id": "7b1e7eb5",
   "metadata": {},
   "outputs": [],
   "source": []
  },
  {
   "cell_type": "code",
   "execution_count": null,
   "id": "843d93ba",
   "metadata": {},
   "outputs": [],
   "source": []
  },
  {
   "cell_type": "code",
   "execution_count": 30,
   "id": "e6111dc3",
   "metadata": {},
   "outputs": [
    {
     "data": {
      "text/plain": [
       "['banana', 'cherry', 'kiwi', 'mango']"
      ]
     },
     "execution_count": 30,
     "metadata": {},
     "output_type": "execute_result"
    }
   ],
   "source": [
    "output"
   ]
  },
  {
   "cell_type": "code",
   "execution_count": 31,
   "id": "497f9b4f",
   "metadata": {},
   "outputs": [],
   "source": [
    "list1 = ['apple','banana','cherry','kiwi','mango']\n",
    "#output : ['apple','cherry','mango']"
   ]
  },
  {
   "cell_type": "code",
   "execution_count": 36,
   "id": "3162d55c",
   "metadata": {},
   "outputs": [],
   "source": [
    "new_list = []\n",
    "for idx, ele in enumerate(list1):\n",
    "    if idx%2 == 0:\n",
    "        new_list.append(ele)"
   ]
  },
  {
   "cell_type": "code",
   "execution_count": 38,
   "id": "e1a53283",
   "metadata": {},
   "outputs": [
    {
     "data": {
      "text/plain": [
       "['apple', 'cherry', 'mango']"
      ]
     },
     "execution_count": 38,
     "metadata": {},
     "output_type": "execute_result"
    }
   ],
   "source": [
    "new_list"
   ]
  },
  {
   "cell_type": "code",
   "execution_count": 39,
   "id": "274e5395",
   "metadata": {},
   "outputs": [],
   "source": [
    "#output : ['banana','kiwi']"
   ]
  },
  {
   "cell_type": "code",
   "execution_count": 40,
   "id": "70fc5aa2",
   "metadata": {},
   "outputs": [],
   "source": [
    "new_list = []\n",
    "for idx, ele in enumerate(list1):\n",
    "    if idx%2 != 0:\n",
    "        new_list.append(ele)"
   ]
  },
  {
   "cell_type": "code",
   "execution_count": 53,
   "id": "30b25415",
   "metadata": {},
   "outputs": [
    {
     "data": {
      "text/plain": [
       "['banana', 'kiwi']"
      ]
     },
     "execution_count": 53,
     "metadata": {},
     "output_type": "execute_result"
    }
   ],
   "source": [
    "[ele for idx, ele in enumerate(list1) if idx%2 != 0]"
   ]
  },
  {
   "cell_type": "code",
   "execution_count": null,
   "id": "3b2aa2f0",
   "metadata": {},
   "outputs": [],
   "source": []
  },
  {
   "cell_type": "code",
   "execution_count": null,
   "id": "a625197f",
   "metadata": {},
   "outputs": [],
   "source": []
  },
  {
   "cell_type": "code",
   "execution_count": 41,
   "id": "524b7a06",
   "metadata": {},
   "outputs": [
    {
     "data": {
      "text/plain": [
       "['banana', 'kiwi']"
      ]
     },
     "execution_count": 41,
     "metadata": {},
     "output_type": "execute_result"
    }
   ],
   "source": [
    "new_list"
   ]
  },
  {
   "cell_type": "code",
   "execution_count": 42,
   "id": "e1a6512b",
   "metadata": {},
   "outputs": [
    {
     "data": {
      "text/plain": [
       "['apple', 'banana', 'cherry', 'kiwi', 'mango']"
      ]
     },
     "execution_count": 42,
     "metadata": {},
     "output_type": "execute_result"
    }
   ],
   "source": [
    "list1\n",
    "#['cherry',kiwi] -> for any element a should not be present"
   ]
  },
  {
   "cell_type": "code",
   "execution_count": 45,
   "id": "560edff8",
   "metadata": {},
   "outputs": [],
   "source": [
    "new_list = []\n",
    "for ele in list1:\n",
    "    if 'a' not in ele:\n",
    "        new_list.append(ele)"
   ]
  },
  {
   "cell_type": "code",
   "execution_count": 46,
   "id": "571e44c0",
   "metadata": {},
   "outputs": [
    {
     "data": {
      "text/plain": [
       "['cherry', 'kiwi']"
      ]
     },
     "execution_count": 46,
     "metadata": {},
     "output_type": "execute_result"
    }
   ],
   "source": [
    "new_list"
   ]
  },
  {
   "cell_type": "markdown",
   "id": "e71432bf",
   "metadata": {},
   "source": [
    "# List Comprehensions"
   ]
  },
  {
   "cell_type": "code",
   "execution_count": 51,
   "id": "06a1ecb5",
   "metadata": {},
   "outputs": [],
   "source": [
    "# one line\n",
    "new_list = []\n",
    "for ele in list1:\n",
    "    if 'a' not in ele:\n",
    "        new_list.append(ele)"
   ]
  },
  {
   "cell_type": "markdown",
   "id": "a73e4bb0",
   "metadata": {},
   "source": [
    "<font size=\"4\"> [ele for loops if conditions]"
   ]
  },
  {
   "cell_type": "code",
   "execution_count": 52,
   "id": "ba1de049",
   "metadata": {},
   "outputs": [
    {
     "data": {
      "text/plain": [
       "['cherry', 'kiwi']"
      ]
     },
     "execution_count": 52,
     "metadata": {},
     "output_type": "execute_result"
    }
   ],
   "source": [
    "[ele for ele in list1 if 'a' not in ele]"
   ]
  },
  {
   "cell_type": "code",
   "execution_count": 58,
   "id": "bbb30d98",
   "metadata": {},
   "outputs": [],
   "source": [
    "# [0,1,2,3,4,5,6,7,8,9,10]"
   ]
  },
  {
   "cell_type": "code",
   "execution_count": 59,
   "id": "beaefdd1",
   "metadata": {},
   "outputs": [
    {
     "data": {
      "text/plain": [
       "[0, 1, 2, 3, 4, 5, 6, 7, 8, 9, 10]"
      ]
     },
     "execution_count": 59,
     "metadata": {},
     "output_type": "execute_result"
    }
   ],
   "source": [
    "[i for i in range(0,11)]"
   ]
  },
  {
   "cell_type": "code",
   "execution_count": 60,
   "id": "ba9f02ca",
   "metadata": {},
   "outputs": [],
   "source": [
    "list1 = ['apple', 'banana', 'cherry', 'kiwi', 'mango']\n",
    "# ['APPLE', 'BANANA', 'CHERRY', 'KIWI', 'MANGO']"
   ]
  },
  {
   "cell_type": "code",
   "execution_count": 63,
   "id": "ed22037d",
   "metadata": {},
   "outputs": [
    {
     "data": {
      "text/plain": [
       "['Apple', 'Banana', 'Cherry', 'Kiwi', 'Mango']"
      ]
     },
     "execution_count": 63,
     "metadata": {},
     "output_type": "execute_result"
    }
   ],
   "source": [
    "[i.title() for i in list1]"
   ]
  },
  {
   "cell_type": "markdown",
   "id": "5914d67b",
   "metadata": {},
   "source": [
    "find the numbers between 0 to 100 which are divisible by 3"
   ]
  },
  {
   "cell_type": "code",
   "execution_count": 66,
   "id": "7adc59a0",
   "metadata": {},
   "outputs": [
    {
     "data": {
      "text/plain": [
       "[3,\n",
       " 6,\n",
       " 9,\n",
       " 12,\n",
       " 15,\n",
       " 18,\n",
       " 21,\n",
       " 24,\n",
       " 27,\n",
       " 30,\n",
       " 33,\n",
       " 36,\n",
       " 39,\n",
       " 42,\n",
       " 45,\n",
       " 48,\n",
       " 51,\n",
       " 54,\n",
       " 57,\n",
       " 60,\n",
       " 63,\n",
       " 66,\n",
       " 69,\n",
       " 72,\n",
       " 75,\n",
       " 78,\n",
       " 81,\n",
       " 84,\n",
       " 87,\n",
       " 90,\n",
       " 93,\n",
       " 96,\n",
       " 99]"
      ]
     },
     "execution_count": 66,
     "metadata": {},
     "output_type": "execute_result"
    }
   ],
   "source": [
    "[i for i in range(1,101) if i%3==0]"
   ]
  },
  {
   "cell_type": "code",
   "execution_count": 67,
   "id": "406c6f30",
   "metadata": {},
   "outputs": [],
   "source": [
    "string = \"Python is a roadmap for Data Science\""
   ]
  },
  {
   "cell_type": "code",
   "execution_count": 75,
   "id": "c32d23a0",
   "metadata": {
    "scrolled": true
   },
   "outputs": [
    {
     "name": "stdout",
     "output_type": "stream",
     "text": [
      "a\n",
      "a\n",
      "a\n",
      "a\n",
      "a\n"
     ]
    }
   ],
   "source": [
    "for i in string:\n",
    "    if i == 'a':\n",
    "        print(i)"
   ]
  },
  {
   "cell_type": "code",
   "execution_count": 78,
   "id": "4c20e708",
   "metadata": {},
   "outputs": [
    {
     "data": {
      "text/plain": [
       "[' ', ' ', ' ', ' ', ' ', ' ']"
      ]
     },
     "execution_count": 78,
     "metadata": {},
     "output_type": "execute_result"
    }
   ],
   "source": [
    "[i for i in string if i ==' ']"
   ]
  },
  {
   "cell_type": "code",
   "execution_count": 79,
   "id": "5a4158fe",
   "metadata": {},
   "outputs": [
    {
     "data": {
      "text/plain": [
       "6"
      ]
     },
     "execution_count": 79,
     "metadata": {},
     "output_type": "execute_result"
    }
   ],
   "source": [
    "len([i for i in string if i ==' '])"
   ]
  },
  {
   "cell_type": "code",
   "execution_count": null,
   "id": "3e5c2173",
   "metadata": {},
   "outputs": [],
   "source": []
  },
  {
   "cell_type": "code",
   "execution_count": 71,
   "id": "0bd96034",
   "metadata": {},
   "outputs": [
    {
     "data": {
      "text/plain": [
       "[' ', ' ', ' ', ' ', ' ', ' ']"
      ]
     },
     "execution_count": 71,
     "metadata": {},
     "output_type": "execute_result"
    }
   ],
   "source": [
    "[i for i in string if i == ' ']"
   ]
  },
  {
   "cell_type": "code",
   "execution_count": 72,
   "id": "905940d4",
   "metadata": {},
   "outputs": [
    {
     "data": {
      "text/plain": [
       "6"
      ]
     },
     "execution_count": 72,
     "metadata": {},
     "output_type": "execute_result"
    }
   ],
   "source": [
    "len([i for i in string if i == ' '])"
   ]
  },
  {
   "cell_type": "code",
   "execution_count": null,
   "id": "c26f41b6",
   "metadata": {},
   "outputs": [],
   "source": [
    "string = \"Python is a roadmap for Data Science\"\n",
    "\n",
    "# \"Pythn s  rdmp fr Dt Scnc\""
   ]
  },
  {
   "cell_type": "code",
   "execution_count": 87,
   "id": "3eced0aa",
   "metadata": {
    "scrolled": true
   },
   "outputs": [
    {
     "data": {
      "text/plain": [
       "'Pythn s  rdmp fr Dt Scnc'"
      ]
     },
     "execution_count": 87,
     "metadata": {},
     "output_type": "execute_result"
    }
   ],
   "source": [
    "\"\".join([i for i in string if i not in 'aeiou'])"
   ]
  },
  {
   "cell_type": "code",
   "execution_count": 90,
   "id": "350bbcd5",
   "metadata": {},
   "outputs": [
    {
     "data": {
      "text/plain": [
       "'Pythn s  rdmp fr Dt Scnc'"
      ]
     },
     "execution_count": 90,
     "metadata": {},
     "output_type": "execute_result"
    }
   ],
   "source": [
    "\"\".join([i for i in string if i not in ('a','e','i','o','u')])"
   ]
  },
  {
   "cell_type": "code",
   "execution_count": 91,
   "id": "ed5c50ce",
   "metadata": {},
   "outputs": [
    {
     "data": {
      "text/plain": [
       "{'Python': 6, 'is': 2, 'a': 1, 'roadmap': 7, 'for': 3, 'Data': 4, 'Science': 7}"
      ]
     },
     "execution_count": 91,
     "metadata": {},
     "output_type": "execute_result"
    }
   ],
   "source": [
    "{'Python': 6, 'is': 2, 'a': 1, 'roadmap': 7, 'for': 3, 'Data': 4, 'Science': 7}"
   ]
  },
  {
   "cell_type": "code",
   "execution_count": 92,
   "id": "70ff9dd7",
   "metadata": {},
   "outputs": [
    {
     "data": {
      "text/plain": [
       "['Python', 'is', 'a', 'roadmap', 'for', 'Data', 'Science']"
      ]
     },
     "execution_count": 92,
     "metadata": {},
     "output_type": "execute_result"
    }
   ],
   "source": [
    "string = \"Python is a roadmap for Data Science\"\n",
    "string.split()"
   ]
  },
  {
   "cell_type": "code",
   "execution_count": 98,
   "id": "5ab170c2",
   "metadata": {},
   "outputs": [],
   "source": [
    "dict1 = {}\n",
    "for i in string.split():\n",
    "    dict1[i] = len(i)"
   ]
  },
  {
   "cell_type": "code",
   "execution_count": 99,
   "id": "45be18c4",
   "metadata": {},
   "outputs": [
    {
     "data": {
      "text/plain": [
       "{'Python': 6, 'is': 2, 'a': 1, 'roadmap': 7, 'for': 3, 'Data': 4, 'Science': 7}"
      ]
     },
     "execution_count": 99,
     "metadata": {},
     "output_type": "execute_result"
    }
   ],
   "source": [
    "dict1"
   ]
  },
  {
   "cell_type": "code",
   "execution_count": 106,
   "id": "c6d07e48",
   "metadata": {},
   "outputs": [
    {
     "data": {
      "text/plain": [
       "7"
      ]
     },
     "execution_count": 106,
     "metadata": {},
     "output_type": "execute_result"
    }
   ],
   "source": [
    "len(\"parmeet\")"
   ]
  },
  {
   "cell_type": "code",
   "execution_count": 104,
   "id": "c90db765",
   "metadata": {},
   "outputs": [
    {
     "data": {
      "text/plain": [
       "['Python', 'is', 'a', 'roadmap', 'for', 'Data', 'Science']"
      ]
     },
     "execution_count": 104,
     "metadata": {},
     "output_type": "execute_result"
    }
   ],
   "source": [
    "string.split()"
   ]
  },
  {
   "cell_type": "code",
   "execution_count": 108,
   "id": "4c80ae75",
   "metadata": {},
   "outputs": [],
   "source": [
    "dict1 ={}\n",
    "for i in string.split():\n",
    "    dict1[i] = len(i)"
   ]
  },
  {
   "cell_type": "code",
   "execution_count": 110,
   "id": "9602b6b2",
   "metadata": {},
   "outputs": [
    {
     "data": {
      "text/plain": [
       "{'Python': 6, 'is': 2, 'a': 1, 'roadmap': 7, 'for': 3, 'Data': 4, 'Science': 7}"
      ]
     },
     "execution_count": 110,
     "metadata": {},
     "output_type": "execute_result"
    }
   ],
   "source": [
    "{i:len(i) for i in string.split()}"
   ]
  },
  {
   "cell_type": "code",
   "execution_count": null,
   "id": "e25027ef",
   "metadata": {},
   "outputs": [],
   "source": []
  }
 ],
 "metadata": {
  "kernelspec": {
   "display_name": "Python 3",
   "language": "python",
   "name": "python3"
  },
  "language_info": {
   "codemirror_mode": {
    "name": "ipython",
    "version": 3
   },
   "file_extension": ".py",
   "mimetype": "text/x-python",
   "name": "python",
   "nbconvert_exporter": "python",
   "pygments_lexer": "ipython3",
   "version": "3.8.8"
  }
 },
 "nbformat": 4,
 "nbformat_minor": 5
}
