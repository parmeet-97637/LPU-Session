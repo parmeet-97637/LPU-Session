{
 "cells": [
  {
   "cell_type": "code",
   "execution_count": 1,
   "id": "7cd5d4bb",
   "metadata": {},
   "outputs": [],
   "source": [
    "a = \"Parmeet\"\n",
    "b = 1\n",
    "c =2.7"
   ]
  },
  {
   "cell_type": "code",
   "execution_count": null,
   "id": "15701ccc",
   "metadata": {},
   "outputs": [],
   "source": [
    "a = \"Parmeet\", \"Trishaan\", \"Anit\""
   ]
  },
  {
   "cell_type": "code",
   "execution_count": 3,
   "id": "9125c893",
   "metadata": {},
   "outputs": [],
   "source": [
    "a = [] #list empty list"
   ]
  },
  {
   "cell_type": "code",
   "execution_count": 4,
   "id": "33ddb1bd",
   "metadata": {},
   "outputs": [
    {
     "data": {
      "text/plain": [
       "[]"
      ]
     },
     "execution_count": 4,
     "metadata": {},
     "output_type": "execute_result"
    }
   ],
   "source": [
    "a"
   ]
  },
  {
   "cell_type": "code",
   "execution_count": 5,
   "id": "ad330abf",
   "metadata": {},
   "outputs": [
    {
     "data": {
      "text/plain": [
       "list"
      ]
     },
     "execution_count": 5,
     "metadata": {},
     "output_type": "execute_result"
    }
   ],
   "source": [
    "type(a)"
   ]
  },
  {
   "cell_type": "code",
   "execution_count": 6,
   "id": "be30047f",
   "metadata": {},
   "outputs": [],
   "source": [
    "a = [\"Parmeet\", \"Trishaan\", \"Anit\"]"
   ]
  },
  {
   "cell_type": "code",
   "execution_count": 7,
   "id": "c13307a2",
   "metadata": {},
   "outputs": [
    {
     "data": {
      "text/plain": [
       "list"
      ]
     },
     "execution_count": 7,
     "metadata": {},
     "output_type": "execute_result"
    }
   ],
   "source": [
    "type(a)"
   ]
  },
  {
   "cell_type": "code",
   "execution_count": 8,
   "id": "00600931",
   "metadata": {},
   "outputs": [
    {
     "data": {
      "text/plain": [
       "['Parmeet', 'Trishaan', 'Anit']"
      ]
     },
     "execution_count": 8,
     "metadata": {},
     "output_type": "execute_result"
    }
   ],
   "source": [
    "a"
   ]
  },
  {
   "cell_type": "code",
   "execution_count": 9,
   "id": "3614b485",
   "metadata": {},
   "outputs": [],
   "source": [
    "list1 = [\"Parmeet\",\"Trishaan\",\"Anit\",\"Parmeet\"]"
   ]
  },
  {
   "cell_type": "code",
   "execution_count": 10,
   "id": "c1076290",
   "metadata": {},
   "outputs": [
    {
     "data": {
      "text/plain": [
       "['Parmeet', 'Trishaan', 'Anit', 'Parmeet']"
      ]
     },
     "execution_count": 10,
     "metadata": {},
     "output_type": "execute_result"
    }
   ],
   "source": [
    "list1"
   ]
  },
  {
   "cell_type": "markdown",
   "id": "f1238a71",
   "metadata": {},
   "source": [
    "1. lists are defined using [] brackets\n",
    "2. lists are ordered\n",
    "3. lists are mutable(change the elements)\n",
    "4. lists can allow duplicates"
   ]
  },
  {
   "cell_type": "code",
   "execution_count": 11,
   "id": "c01c14ec",
   "metadata": {},
   "outputs": [],
   "source": [
    "a = list()"
   ]
  },
  {
   "cell_type": "code",
   "execution_count": 13,
   "id": "f85f8854",
   "metadata": {},
   "outputs": [
    {
     "data": {
      "text/plain": [
       "list"
      ]
     },
     "execution_count": 13,
     "metadata": {},
     "output_type": "execute_result"
    }
   ],
   "source": [
    "type(a)"
   ]
  },
  {
   "cell_type": "code",
   "execution_count": 14,
   "id": "67b8d584",
   "metadata": {},
   "outputs": [
    {
     "data": {
      "text/plain": [
       "[]"
      ]
     },
     "execution_count": 14,
     "metadata": {},
     "output_type": "execute_result"
    }
   ],
   "source": [
    "a"
   ]
  },
  {
   "cell_type": "code",
   "execution_count": 15,
   "id": "a72944b0",
   "metadata": {},
   "outputs": [
    {
     "name": "stdout",
     "output_type": "stream",
     "text": [
      "[10, 20, 40, 50, 80]\n",
      "<class 'list'>\n"
     ]
    }
   ],
   "source": [
    "# list of all integer values\n",
    "list1 = [10,20,40,50,80]\n",
    "print(list1)\n",
    "print(type(list1))"
   ]
  },
  {
   "cell_type": "code",
   "execution_count": 16,
   "id": "88d13b62",
   "metadata": {},
   "outputs": [
    {
     "name": "stdout",
     "output_type": "stream",
     "text": [
      "[3.5, 6.8, 2.0, 6.9, 4.5]\n",
      "<class 'list'>\n"
     ]
    }
   ],
   "source": [
    "# list of all the float values\n",
    "list2 = [3.5,6.8,2.0,6.9,4.5]\n",
    "print(list2)\n",
    "print(type(list2))"
   ]
  },
  {
   "cell_type": "code",
   "execution_count": 17,
   "id": "be18bd67",
   "metadata": {},
   "outputs": [
    {
     "name": "stdout",
     "output_type": "stream",
     "text": [
      "['Parmeet', 'Trishaan', 'Anit', 'Parmeet']\n",
      "<class 'list'>\n"
     ]
    }
   ],
   "source": [
    "# list of all strings\n",
    "list3 = [\"Parmeet\",\"Trishaan\",\"Anit\",\"Parmeet\"]\n",
    "print(list3)\n",
    "print(type(list3))"
   ]
  },
  {
   "cell_type": "code",
   "execution_count": 18,
   "id": "3a4f75a9",
   "metadata": {},
   "outputs": [
    {
     "name": "stdout",
     "output_type": "stream",
     "text": [
      "[True, False, True, False, False, True]\n",
      "<class 'list'>\n"
     ]
    }
   ],
   "source": [
    "# list of all booleans\n",
    "list4 = [True, False, True,False,False,True]\n",
    "print(list4)\n",
    "print(type(list4))"
   ]
  },
  {
   "cell_type": "code",
   "execution_count": 19,
   "id": "cb425cac",
   "metadata": {},
   "outputs": [
    {
     "name": "stdout",
     "output_type": "stream",
     "text": [
      "['Parmeet', 27, 72.5, True]\n",
      "<class 'list'>\n"
     ]
    }
   ],
   "source": [
    "# list of all the mixed data types\n",
    "list5 = [\"Parmeet\",27,72.5,True]\n",
    "print(list5)\n",
    "print(type(list5))"
   ]
  },
  {
   "cell_type": "code",
   "execution_count": 21,
   "id": "385196f0",
   "metadata": {},
   "outputs": [
    {
     "data": {
      "text/plain": [
       "'Parmeet'"
      ]
     },
     "execution_count": 21,
     "metadata": {},
     "output_type": "execute_result"
    }
   ],
   "source": [
    "# Indexing ->[start_index:stop_index:step]\n",
    "list5[0] #extracting parmeet"
   ]
  },
  {
   "cell_type": "code",
   "execution_count": 22,
   "id": "bc198d34",
   "metadata": {},
   "outputs": [
    {
     "data": {
      "text/plain": [
       "72.5"
      ]
     },
     "execution_count": 22,
     "metadata": {},
     "output_type": "execute_result"
    }
   ],
   "source": [
    "list5[2]"
   ]
  },
  {
   "cell_type": "code",
   "execution_count": 23,
   "id": "147fb15e",
   "metadata": {},
   "outputs": [
    {
     "data": {
      "text/plain": [
       "['Parmeet', 27, 72.5, True]"
      ]
     },
     "execution_count": 23,
     "metadata": {},
     "output_type": "execute_result"
    }
   ],
   "source": [
    "list5"
   ]
  },
  {
   "cell_type": "code",
   "execution_count": 25,
   "id": "60e8e3b1",
   "metadata": {},
   "outputs": [
    {
     "data": {
      "text/plain": [
       "['Parmeet', 27, 72.5]"
      ]
     },
     "execution_count": 25,
     "metadata": {},
     "output_type": "execute_result"
    }
   ],
   "source": [
    "# lets us extract first 3 elements\n",
    "list5[0:3]"
   ]
  },
  {
   "cell_type": "code",
   "execution_count": 26,
   "id": "2af3aeab",
   "metadata": {},
   "outputs": [
    {
     "data": {
      "text/plain": [
       "['Parmeet', 27, 72.5, True]"
      ]
     },
     "execution_count": 26,
     "metadata": {},
     "output_type": "execute_result"
    }
   ],
   "source": [
    "list5"
   ]
  },
  {
   "cell_type": "code",
   "execution_count": 27,
   "id": "ca54580a",
   "metadata": {},
   "outputs": [
    {
     "data": {
      "text/plain": [
       "[True, 72.5, 27, 'Parmeet']"
      ]
     },
     "execution_count": 27,
     "metadata": {},
     "output_type": "execute_result"
    }
   ],
   "source": [
    "list5[::-1] #reversed the list"
   ]
  },
  {
   "cell_type": "code",
   "execution_count": 34,
   "id": "f3ee8c84",
   "metadata": {},
   "outputs": [
    {
     "data": {
      "text/plain": [
       "['Parmeet', 27, 72.5, True]"
      ]
     },
     "execution_count": 34,
     "metadata": {},
     "output_type": "execute_result"
    }
   ],
   "source": [
    "list5"
   ]
  },
  {
   "cell_type": "code",
   "execution_count": 35,
   "id": "5a453bde",
   "metadata": {},
   "outputs": [
    {
     "data": {
      "text/plain": [
       "[True, 72.5]"
      ]
     },
     "execution_count": 35,
     "metadata": {},
     "output_type": "execute_result"
    }
   ],
   "source": [
    "list5[-1:-3:-1]"
   ]
  },
  {
   "cell_type": "code",
   "execution_count": 36,
   "id": "65ca7872",
   "metadata": {},
   "outputs": [
    {
     "data": {
      "text/plain": [
       "['Parmeet', 27, 72.5, True]"
      ]
     },
     "execution_count": 36,
     "metadata": {},
     "output_type": "execute_result"
    }
   ],
   "source": [
    "# Lists are mutable\n",
    "list5"
   ]
  },
  {
   "cell_type": "code",
   "execution_count": 39,
   "id": "64a050d2",
   "metadata": {},
   "outputs": [],
   "source": [
    "list5[1] = 'Trishaan'"
   ]
  },
  {
   "cell_type": "code",
   "execution_count": 40,
   "id": "e76d1030",
   "metadata": {},
   "outputs": [
    {
     "data": {
      "text/plain": [
       "['Parmeet', 'Trishaan', 72.5, True]"
      ]
     },
     "execution_count": 40,
     "metadata": {},
     "output_type": "execute_result"
    }
   ],
   "source": [
    "list5"
   ]
  },
  {
   "cell_type": "markdown",
   "id": "883785cd",
   "metadata": {},
   "source": [
    "# Functions"
   ]
  },
  {
   "cell_type": "code",
   "execution_count": 41,
   "id": "ff458691",
   "metadata": {},
   "outputs": [
    {
     "data": {
      "text/plain": [
       "['Parmeet', 'Trishaan', 72.5, True]"
      ]
     },
     "execution_count": 41,
     "metadata": {},
     "output_type": "execute_result"
    }
   ],
   "source": [
    "# let us count the number of elements in the list\n",
    "list5"
   ]
  },
  {
   "cell_type": "code",
   "execution_count": 42,
   "id": "6b8dc2bf",
   "metadata": {},
   "outputs": [
    {
     "data": {
      "text/plain": [
       "4"
      ]
     },
     "execution_count": 42,
     "metadata": {},
     "output_type": "execute_result"
    }
   ],
   "source": [
    "len(list5)"
   ]
  },
  {
   "cell_type": "code",
   "execution_count": null,
   "id": "8cc7af4f",
   "metadata": {},
   "outputs": [],
   "source": [
    "len() -> function \n",
    "in ->keyword"
   ]
  },
  {
   "cell_type": "code",
   "execution_count": 44,
   "id": "f3363454",
   "metadata": {},
   "outputs": [
    {
     "data": {
      "text/plain": [
       "True"
      ]
     },
     "execution_count": 44,
     "metadata": {},
     "output_type": "execute_result"
    }
   ],
   "source": [
    "# check whether an element exists in a list of not\n",
    "'Parmeet' in list5"
   ]
  },
  {
   "cell_type": "code",
   "execution_count": 45,
   "id": "5aa948e1",
   "metadata": {},
   "outputs": [
    {
     "data": {
      "text/plain": [
       "False"
      ]
     },
     "execution_count": 45,
     "metadata": {},
     "output_type": "execute_result"
    }
   ],
   "source": [
    "'Muskaan' in list5"
   ]
  },
  {
   "cell_type": "code",
   "execution_count": 46,
   "id": "410aeb06",
   "metadata": {},
   "outputs": [
    {
     "name": "stdout",
     "output_type": "stream",
     "text": [
      "list1 : [10, 20, 40, 50, 80]\n",
      "list2 : [3.5, 6.8, 2.0, 6.9, 4.5]\n"
     ]
    }
   ],
   "source": [
    "print(f'list1 : {list1}') \n",
    "print(f'list2 : {list2}')"
   ]
  },
  {
   "cell_type": "code",
   "execution_count": 47,
   "id": "c3b4d1f5",
   "metadata": {},
   "outputs": [],
   "source": [
    "# [10, 20, 40, 50, 80,[3.5, 6.8, 2.0, 6.9, 4.5]] #list inside list"
   ]
  },
  {
   "cell_type": "code",
   "execution_count": 48,
   "id": "9c5d0406",
   "metadata": {},
   "outputs": [],
   "source": [
    "# append\n",
    "list1.append(list2)"
   ]
  },
  {
   "cell_type": "code",
   "execution_count": 49,
   "id": "6839a2c8",
   "metadata": {},
   "outputs": [
    {
     "data": {
      "text/plain": [
       "[10, 20, 40, 50, 80, [3.5, 6.8, 2.0, 6.9, 4.5]]"
      ]
     },
     "execution_count": 49,
     "metadata": {},
     "output_type": "execute_result"
    }
   ],
   "source": [
    "list1"
   ]
  },
  {
   "cell_type": "code",
   "execution_count": 50,
   "id": "e973820b",
   "metadata": {},
   "outputs": [],
   "source": [
    "list1 = [10, 20, 40, 50, 80]"
   ]
  },
  {
   "cell_type": "code",
   "execution_count": 51,
   "id": "91135e1e",
   "metadata": {},
   "outputs": [
    {
     "name": "stdout",
     "output_type": "stream",
     "text": [
      "list1 : [10, 20, 40, 50, 80]\n",
      "list2 : [3.5, 6.8, 2.0, 6.9, 4.5]\n"
     ]
    }
   ],
   "source": [
    "print(f'list1 : {list1}') \n",
    "print(f'list2 : {list2}')"
   ]
  },
  {
   "cell_type": "code",
   "execution_count": 55,
   "id": "7a29e475",
   "metadata": {},
   "outputs": [],
   "source": [
    "# extend -> add the two list but it will flatten\n",
    "list1.extend(list2) #list1 + list2"
   ]
  },
  {
   "cell_type": "code",
   "execution_count": 56,
   "id": "64426379",
   "metadata": {},
   "outputs": [
    {
     "data": {
      "text/plain": [
       "[10, 20, 40, 50, 80, 3.5, 6.8, 2.0, 6.9, 4.5]"
      ]
     },
     "execution_count": 56,
     "metadata": {},
     "output_type": "execute_result"
    }
   ],
   "source": [
    "list1"
   ]
  },
  {
   "cell_type": "code",
   "execution_count": 57,
   "id": "e662c4a7",
   "metadata": {},
   "outputs": [],
   "source": [
    "list2.append(list1)"
   ]
  },
  {
   "cell_type": "code",
   "execution_count": 58,
   "id": "19bfcabf",
   "metadata": {},
   "outputs": [
    {
     "data": {
      "text/plain": [
       "[3.5, 6.8, 2.0, 6.9, 4.5, [10, 20, 40, 50, 80, 3.5, 6.8, 2.0, 6.9, 4.5]]"
      ]
     },
     "execution_count": 58,
     "metadata": {},
     "output_type": "execute_result"
    }
   ],
   "source": [
    "list2"
   ]
  },
  {
   "cell_type": "code",
   "execution_count": 60,
   "id": "1488b57e",
   "metadata": {},
   "outputs": [
    {
     "data": {
      "text/plain": [
       "4.5"
      ]
     },
     "execution_count": 60,
     "metadata": {},
     "output_type": "execute_result"
    }
   ],
   "source": [
    "list2[4]"
   ]
  },
  {
   "cell_type": "code",
   "execution_count": 62,
   "id": "a651b99f",
   "metadata": {},
   "outputs": [
    {
     "data": {
      "text/plain": [
       "3.5"
      ]
     },
     "execution_count": 62,
     "metadata": {},
     "output_type": "execute_result"
    }
   ],
   "source": [
    "# 3.5\n",
    "list2[5][5]"
   ]
  },
  {
   "cell_type": "code",
   "execution_count": 64,
   "id": "61afc0e9",
   "metadata": {},
   "outputs": [
    {
     "data": {
      "text/plain": [
       "2.0"
      ]
     },
     "execution_count": 64,
     "metadata": {},
     "output_type": "execute_result"
    }
   ],
   "source": [
    "list2[5][7]"
   ]
  },
  {
   "cell_type": "code",
   "execution_count": 65,
   "id": "d6446447",
   "metadata": {},
   "outputs": [
    {
     "data": {
      "text/plain": [
       "[1, 2, 3, 1, 2, 3]"
      ]
     },
     "execution_count": 65,
     "metadata": {},
     "output_type": "execute_result"
    }
   ],
   "source": [
    "list_1 = [1,2,3]\n",
    "list_2 = [1,2,3]\n",
    "# lis1 + list2 ->[1,2,3,1,2,3]\n",
    "list_1 + list_2"
   ]
  },
  {
   "cell_type": "code",
   "execution_count": 67,
   "id": "4fa1da96",
   "metadata": {},
   "outputs": [
    {
     "data": {
      "text/plain": [
       "[1, 2, 3, 1, 2, 3, 1, 2, 3]"
      ]
     },
     "execution_count": 67,
     "metadata": {},
     "output_type": "execute_result"
    }
   ],
   "source": [
    "list_1 * 3"
   ]
  },
  {
   "cell_type": "code",
   "execution_count": 81,
   "id": "83c160a5",
   "metadata": {},
   "outputs": [
    {
     "name": "stdout",
     "output_type": "stream",
     "text": [
      "['Parmeet', 'Trishaan', 'Anit', 'Parmeet'] \t 2\n"
     ]
    }
   ],
   "source": [
    "# count how many times element is appearing\n",
    "print(list3, \"\\t\", list3.count('Parmeet'))"
   ]
  },
  {
   "cell_type": "code",
   "execution_count": 86,
   "id": "2f12d9ac",
   "metadata": {},
   "outputs": [
    {
     "data": {
      "text/plain": [
       "1"
      ]
     },
     "execution_count": 86,
     "metadata": {},
     "output_type": "execute_result"
    }
   ],
   "source": [
    "# see the index of an element\n",
    "list5.index('Trishaan')"
   ]
  },
  {
   "cell_type": "code",
   "execution_count": 87,
   "id": "d5451c12",
   "metadata": {},
   "outputs": [
    {
     "ename": "ValueError",
     "evalue": "'Muskaan' is not in list",
     "output_type": "error",
     "traceback": [
      "\u001b[1;31m---------------------------------------------------------------------------\u001b[0m",
      "\u001b[1;31mValueError\u001b[0m                                Traceback (most recent call last)",
      "\u001b[1;32m<ipython-input-87-a251022d1b72>\u001b[0m in \u001b[0;36m<module>\u001b[1;34m\u001b[0m\n\u001b[1;32m----> 1\u001b[1;33m \u001b[0mlist5\u001b[0m\u001b[1;33m.\u001b[0m\u001b[0mindex\u001b[0m\u001b[1;33m(\u001b[0m\u001b[1;34m'Muskaan'\u001b[0m\u001b[1;33m)\u001b[0m\u001b[1;33m\u001b[0m\u001b[1;33m\u001b[0m\u001b[0m\n\u001b[0m",
      "\u001b[1;31mValueError\u001b[0m: 'Muskaan' is not in list"
     ]
    }
   ],
   "source": [
    "list5.index('Muskaan')"
   ]
  },
  {
   "cell_type": "code",
   "execution_count": 88,
   "id": "d68992e9",
   "metadata": {},
   "outputs": [
    {
     "data": {
      "text/plain": [
       "0"
      ]
     },
     "execution_count": 88,
     "metadata": {},
     "output_type": "execute_result"
    }
   ],
   "source": [
    "list1.count('Muskaan')"
   ]
  },
  {
   "cell_type": "code",
   "execution_count": 94,
   "id": "882b956c",
   "metadata": {},
   "outputs": [
    {
     "data": {
      "text/plain": [
       "[3.5, 6.8, 2.0, 6.9, 4.5, [10, 20, 40, 50, 80, 3.5, 6.8, 2.0, 6.9, 4.5]]"
      ]
     },
     "execution_count": 94,
     "metadata": {},
     "output_type": "execute_result"
    }
   ],
   "source": [
    "list2"
   ]
  },
  {
   "cell_type": "code",
   "execution_count": 95,
   "id": "1d6f50fc",
   "metadata": {},
   "outputs": [],
   "source": [
    "# clear -> it will clear all the elments and list will be empty\n",
    "list2.clear()"
   ]
  },
  {
   "cell_type": "code",
   "execution_count": 96,
   "id": "5a666e00",
   "metadata": {},
   "outputs": [
    {
     "data": {
      "text/plain": [
       "[]"
      ]
     },
     "execution_count": 96,
     "metadata": {},
     "output_type": "execute_result"
    }
   ],
   "source": [
    "list2"
   ]
  },
  {
   "cell_type": "code",
   "execution_count": 99,
   "id": "f0b52ce8",
   "metadata": {},
   "outputs": [],
   "source": [
    "# delete the list\n",
    "del list1 "
   ]
  },
  {
   "cell_type": "code",
   "execution_count": 100,
   "id": "bbcc74f1",
   "metadata": {},
   "outputs": [
    {
     "ename": "NameError",
     "evalue": "name 'list1' is not defined",
     "output_type": "error",
     "traceback": [
      "\u001b[1;31m---------------------------------------------------------------------------\u001b[0m",
      "\u001b[1;31mNameError\u001b[0m                                 Traceback (most recent call last)",
      "\u001b[1;32m<ipython-input-100-32e3a55f6bef>\u001b[0m in \u001b[0;36m<module>\u001b[1;34m\u001b[0m\n\u001b[1;32m----> 1\u001b[1;33m \u001b[0mlist1\u001b[0m\u001b[1;33m\u001b[0m\u001b[1;33m\u001b[0m\u001b[0m\n\u001b[0m",
      "\u001b[1;31mNameError\u001b[0m: name 'list1' is not defined"
     ]
    }
   ],
   "source": [
    "list1"
   ]
  },
  {
   "cell_type": "code",
   "execution_count": 107,
   "id": "d433960c",
   "metadata": {},
   "outputs": [
    {
     "data": {
      "text/plain": [
       "['Parmeet', 'Trishaan', 72.5, True]"
      ]
     },
     "execution_count": 107,
     "metadata": {},
     "output_type": "execute_result"
    }
   ],
   "source": [
    "list5 = ['Parmeet', 'Trishaan', 72.5, True]\n",
    "list5"
   ]
  },
  {
   "cell_type": "code",
   "execution_count": 108,
   "id": "57310b3d",
   "metadata": {},
   "outputs": [
    {
     "data": {
      "text/plain": [
       "[True, 72.5, 'Trishaan', 'Parmeet']"
      ]
     },
     "execution_count": 108,
     "metadata": {},
     "output_type": "execute_result"
    }
   ],
   "source": [
    "list5[::-1] # it will not update the list"
   ]
  },
  {
   "cell_type": "code",
   "execution_count": 109,
   "id": "ce3d8195",
   "metadata": {},
   "outputs": [
    {
     "data": {
      "text/plain": [
       "['Parmeet', 'Trishaan', 72.5, True]"
      ]
     },
     "execution_count": 109,
     "metadata": {},
     "output_type": "execute_result"
    }
   ],
   "source": [
    "list5"
   ]
  },
  {
   "cell_type": "code",
   "execution_count": 110,
   "id": "622fb3a5",
   "metadata": {},
   "outputs": [],
   "source": [
    "list5.reverse() # it will update the existing list"
   ]
  },
  {
   "cell_type": "code",
   "execution_count": 111,
   "id": "cc351d67",
   "metadata": {},
   "outputs": [
    {
     "data": {
      "text/plain": [
       "[True, 72.5, 'Trishaan', 'Parmeet']"
      ]
     },
     "execution_count": 111,
     "metadata": {},
     "output_type": "execute_result"
    }
   ],
   "source": [
    "list5"
   ]
  },
  {
   "cell_type": "code",
   "execution_count": 112,
   "id": "95a60455",
   "metadata": {},
   "outputs": [
    {
     "data": {
      "text/plain": [
       "[True, 72.5, 'Trishaan', 'Parmeet']"
      ]
     },
     "execution_count": 112,
     "metadata": {},
     "output_type": "execute_result"
    }
   ],
   "source": [
    "# adding a element\n",
    "list5"
   ]
  },
  {
   "cell_type": "code",
   "execution_count": 113,
   "id": "84cd4585",
   "metadata": {},
   "outputs": [],
   "source": [
    "list5.append('Anit')"
   ]
  },
  {
   "cell_type": "code",
   "execution_count": 114,
   "id": "6e2d9bd5",
   "metadata": {},
   "outputs": [
    {
     "data": {
      "text/plain": [
       "[True, 72.5, 'Trishaan', 'Parmeet', 'Anit']"
      ]
     },
     "execution_count": 114,
     "metadata": {},
     "output_type": "execute_result"
    }
   ],
   "source": [
    "list5"
   ]
  },
  {
   "cell_type": "code",
   "execution_count": 115,
   "id": "b5762550",
   "metadata": {},
   "outputs": [],
   "source": [
    "list5.insert(2,'Mango') # inserting an element at the specified position/index"
   ]
  },
  {
   "cell_type": "code",
   "execution_count": 116,
   "id": "e7ee0025",
   "metadata": {},
   "outputs": [
    {
     "data": {
      "text/plain": [
       "[True, 72.5, 'Mango', 'Trishaan', 'Parmeet', 'Anit']"
      ]
     },
     "execution_count": 116,
     "metadata": {},
     "output_type": "execute_result"
    }
   ],
   "source": [
    "list5"
   ]
  },
  {
   "cell_type": "code",
   "execution_count": 117,
   "id": "11fe2919",
   "metadata": {},
   "outputs": [],
   "source": [
    "list5.insert(4,'Cherry')"
   ]
  },
  {
   "cell_type": "code",
   "execution_count": 118,
   "id": "1fc7b8a2",
   "metadata": {},
   "outputs": [
    {
     "data": {
      "text/plain": [
       "[True, 72.5, 'Mango', 'Trishaan', 'Cherry', 'Parmeet', 'Anit']"
      ]
     },
     "execution_count": 118,
     "metadata": {},
     "output_type": "execute_result"
    }
   ],
   "source": [
    "list5"
   ]
  },
  {
   "cell_type": "markdown",
   "id": "af8ccb6e",
   "metadata": {},
   "source": [
    "delete an element \n",
    "1. pop()\n",
    "2. remove()"
   ]
  },
  {
   "cell_type": "code",
   "execution_count": 119,
   "id": "5211fa68",
   "metadata": {},
   "outputs": [
    {
     "data": {
      "text/plain": [
       "'Anit'"
      ]
     },
     "execution_count": 119,
     "metadata": {},
     "output_type": "execute_result"
    }
   ],
   "source": [
    "list5.pop() # by default I will remove the last element from the list and return the element at that position"
   ]
  },
  {
   "cell_type": "code",
   "execution_count": 120,
   "id": "66ad5117",
   "metadata": {},
   "outputs": [
    {
     "data": {
      "text/plain": [
       "[True, 72.5, 'Mango', 'Trishaan', 'Cherry', 'Parmeet']"
      ]
     },
     "execution_count": 120,
     "metadata": {},
     "output_type": "execute_result"
    }
   ],
   "source": [
    "list5"
   ]
  },
  {
   "cell_type": "code",
   "execution_count": 121,
   "id": "a2ec818b",
   "metadata": {},
   "outputs": [
    {
     "data": {
      "text/plain": [
       "'Parmeet'"
      ]
     },
     "execution_count": 121,
     "metadata": {},
     "output_type": "execute_result"
    }
   ],
   "source": [
    "list5.pop()"
   ]
  },
  {
   "cell_type": "code",
   "execution_count": 122,
   "id": "9de1583f",
   "metadata": {},
   "outputs": [
    {
     "data": {
      "text/plain": [
       "[True, 72.5, 'Mango', 'Trishaan', 'Cherry']"
      ]
     },
     "execution_count": 122,
     "metadata": {},
     "output_type": "execute_result"
    }
   ],
   "source": [
    "list5"
   ]
  },
  {
   "cell_type": "code",
   "execution_count": 123,
   "id": "59c83b62",
   "metadata": {},
   "outputs": [
    {
     "data": {
      "text/plain": [
       "'Cherry'"
      ]
     },
     "execution_count": 123,
     "metadata": {},
     "output_type": "execute_result"
    }
   ],
   "source": [
    "list5.pop(-1)"
   ]
  },
  {
   "cell_type": "code",
   "execution_count": 124,
   "id": "e6f04ccd",
   "metadata": {},
   "outputs": [
    {
     "data": {
      "text/plain": [
       "[True, 72.5, 'Mango', 'Trishaan']"
      ]
     },
     "execution_count": 124,
     "metadata": {},
     "output_type": "execute_result"
    }
   ],
   "source": [
    "list5"
   ]
  },
  {
   "cell_type": "code",
   "execution_count": 125,
   "id": "6108bce0",
   "metadata": {},
   "outputs": [
    {
     "data": {
      "text/plain": [
       "'Mango'"
      ]
     },
     "execution_count": 125,
     "metadata": {},
     "output_type": "execute_result"
    }
   ],
   "source": [
    "list5.pop(2)"
   ]
  },
  {
   "cell_type": "code",
   "execution_count": 126,
   "id": "2f788ad0",
   "metadata": {},
   "outputs": [
    {
     "data": {
      "text/plain": [
       "[True, 72.5, 'Trishaan']"
      ]
     },
     "execution_count": 126,
     "metadata": {},
     "output_type": "execute_result"
    }
   ],
   "source": [
    "list5"
   ]
  },
  {
   "cell_type": "code",
   "execution_count": 129,
   "id": "a0edf52d",
   "metadata": {},
   "outputs": [
    {
     "data": {
      "text/plain": [
       "[True, 72.5, 'Trishaan', 'Mango']"
      ]
     },
     "execution_count": 129,
     "metadata": {},
     "output_type": "execute_result"
    }
   ],
   "source": [
    "list5.append('Mango')\n",
    "list5"
   ]
  },
  {
   "cell_type": "code",
   "execution_count": 130,
   "id": "d2bceb19",
   "metadata": {},
   "outputs": [
    {
     "data": {
      "text/plain": [
       "[True, 72.5, 'Trishaan', 'Mango', 'Parmeet']"
      ]
     },
     "execution_count": 130,
     "metadata": {},
     "output_type": "execute_result"
    }
   ],
   "source": [
    "list5.append('Parmeet')\n",
    "list5"
   ]
  },
  {
   "cell_type": "code",
   "execution_count": 131,
   "id": "cb04b00a",
   "metadata": {},
   "outputs": [],
   "source": [
    "list5.remove('Trishaan')"
   ]
  },
  {
   "cell_type": "code",
   "execution_count": 132,
   "id": "a6b113b3",
   "metadata": {},
   "outputs": [
    {
     "data": {
      "text/plain": [
       "[True, 72.5, 'Mango', 'Parmeet']"
      ]
     },
     "execution_count": 132,
     "metadata": {},
     "output_type": "execute_result"
    }
   ],
   "source": [
    "list5"
   ]
  },
  {
   "cell_type": "markdown",
   "id": "1aabf467",
   "metadata": {},
   "source": [
    "1. Pop -> It will take the index number and remove the ele at that index and it will return the element at that index\n",
    "2. Remove -> It will take the element you want to remove"
   ]
  },
  {
   "cell_type": "code",
   "execution_count": 137,
   "id": "a869ef01",
   "metadata": {},
   "outputs": [],
   "source": [
    "list5.insert(2,'Cherry')"
   ]
  },
  {
   "cell_type": "code",
   "execution_count": 138,
   "id": "3cb7cf5d",
   "metadata": {},
   "outputs": [
    {
     "data": {
      "text/plain": [
       "[True, 72.5, 'Cherry', 'Mango', 'Parmeet']"
      ]
     },
     "execution_count": 138,
     "metadata": {},
     "output_type": "execute_result"
    }
   ],
   "source": [
    "list5"
   ]
  },
  {
   "cell_type": "code",
   "execution_count": 146,
   "id": "de1fba9a",
   "metadata": {},
   "outputs": [],
   "source": [
    "list1 = [40,2,67,890,21,3,68,9]"
   ]
  },
  {
   "cell_type": "code",
   "execution_count": 147,
   "id": "53f1fcc0",
   "metadata": {},
   "outputs": [
    {
     "data": {
      "text/plain": [
       "[40, 2, 67, 890, 21, 3, 68, 9]"
      ]
     },
     "execution_count": 147,
     "metadata": {},
     "output_type": "execute_result"
    }
   ],
   "source": [
    "list1"
   ]
  },
  {
   "cell_type": "code",
   "execution_count": 148,
   "id": "6108c318",
   "metadata": {},
   "outputs": [],
   "source": [
    "# sorting the list # sort function will return None values\n",
    "list1.sort() # ascending order"
   ]
  },
  {
   "cell_type": "code",
   "execution_count": 149,
   "id": "b5d42e2d",
   "metadata": {},
   "outputs": [
    {
     "data": {
      "text/plain": [
       "[2, 3, 9, 21, 40, 67, 68, 890]"
      ]
     },
     "execution_count": 149,
     "metadata": {},
     "output_type": "execute_result"
    }
   ],
   "source": [
    "list1"
   ]
  },
  {
   "cell_type": "code",
   "execution_count": 150,
   "id": "dba686db",
   "metadata": {},
   "outputs": [],
   "source": [
    "# sort in descending order\n",
    "list1.sort(reverse=True)"
   ]
  },
  {
   "cell_type": "code",
   "execution_count": 151,
   "id": "8b9d2392",
   "metadata": {},
   "outputs": [
    {
     "data": {
      "text/plain": [
       "[890, 68, 67, 40, 21, 9, 3, 2]"
      ]
     },
     "execution_count": 151,
     "metadata": {},
     "output_type": "execute_result"
    }
   ],
   "source": [
    "list1"
   ]
  },
  {
   "cell_type": "code",
   "execution_count": 157,
   "id": "cdffa965",
   "metadata": {},
   "outputs": [],
   "source": [
    "# sorted\n",
    "list1 = [40,2,67,890,21,3,68,9]"
   ]
  },
  {
   "cell_type": "code",
   "execution_count": 158,
   "id": "3ae4c5a4",
   "metadata": {},
   "outputs": [
    {
     "data": {
      "text/plain": [
       "[2, 3, 9, 21, 40, 67, 68, 890]"
      ]
     },
     "execution_count": 158,
     "metadata": {},
     "output_type": "execute_result"
    }
   ],
   "source": [
    "sorted(list1)"
   ]
  },
  {
   "cell_type": "code",
   "execution_count": 159,
   "id": "a42c37e6",
   "metadata": {},
   "outputs": [
    {
     "data": {
      "text/plain": [
       "[40, 2, 67, 890, 21, 3, 68, 9]"
      ]
     },
     "execution_count": 159,
     "metadata": {},
     "output_type": "execute_result"
    }
   ],
   "source": [
    "list1"
   ]
  },
  {
   "cell_type": "markdown",
   "id": "aeca5acf",
   "metadata": {},
   "source": [
    "1. sorted -> is returning me the sorted values and it will not update the list\n",
    "2. sort -> it will sort the values and update the list and return Non values"
   ]
  },
  {
   "cell_type": "markdown",
   "id": "dbee288c",
   "metadata": {},
   "source": [
    "# Tuples"
   ]
  },
  {
   "cell_type": "markdown",
   "id": "c02b395e",
   "metadata": {},
   "source": [
    "1. Tuples are Immutable(once define you cannot change the values)\n",
    "2. Tuples are also ordered\n",
    "3. Tuples can allow duplicates\n",
    "4. Tuples are defined in small brackets ()"
   ]
  },
  {
   "cell_type": "code",
   "execution_count": 162,
   "id": "c9b7c716",
   "metadata": {},
   "outputs": [
    {
     "name": "stdout",
     "output_type": "stream",
     "text": [
      "() <class 'tuple'>\n"
     ]
    }
   ],
   "source": [
    "tuple1 = ()\n",
    "print(tuple1,type(tuple1))"
   ]
  },
  {
   "cell_type": "code",
   "execution_count": 163,
   "id": "8133502d",
   "metadata": {},
   "outputs": [
    {
     "name": "stdout",
     "output_type": "stream",
     "text": [
      "() <class 'tuple'>\n"
     ]
    }
   ],
   "source": [
    "tuple1 = tuple()\n",
    "print(tuple1,type(tuple1))"
   ]
  },
  {
   "cell_type": "code",
   "execution_count": 165,
   "id": "98c08cb3",
   "metadata": {},
   "outputs": [
    {
     "name": "stdout",
     "output_type": "stream",
     "text": [
      "(10, 20, 30, 40)\n",
      "<class 'tuple'>\n"
     ]
    }
   ],
   "source": [
    "tuple2 = (10,20,30,40)\n",
    "print(tuple2)\n",
    "print(type(tuple2))"
   ]
  },
  {
   "cell_type": "code",
   "execution_count": 167,
   "id": "01b8745a",
   "metadata": {},
   "outputs": [
    {
     "name": "stdout",
     "output_type": "stream",
     "text": [
      "(10.1, 20.2, 30.0, 40.1)\n",
      "<class 'tuple'>\n"
     ]
    }
   ],
   "source": [
    "tuple3 = (10.1,20.2,30.0,40.1)\n",
    "print(tuple3)\n",
    "print(type(tuple3))"
   ]
  },
  {
   "cell_type": "code",
   "execution_count": 168,
   "id": "1f1b3418",
   "metadata": {},
   "outputs": [
    {
     "name": "stdout",
     "output_type": "stream",
     "text": [
      "('Parmeet', 'Singh', 'Dang')\n",
      "<class 'tuple'>\n"
     ]
    }
   ],
   "source": [
    "tuple4 = ('Parmeet','Singh','Dang')\n",
    "print(tuple4)\n",
    "print(type(tuple4))"
   ]
  },
  {
   "cell_type": "code",
   "execution_count": 169,
   "id": "5a103103",
   "metadata": {},
   "outputs": [
    {
     "name": "stdout",
     "output_type": "stream",
     "text": [
      "(True, False, True, False)\n",
      "<class 'tuple'>\n"
     ]
    }
   ],
   "source": [
    "tuple5 = (True, False, True, False)\n",
    "print(tuple5)\n",
    "print(type(tuple5))"
   ]
  },
  {
   "cell_type": "code",
   "execution_count": 170,
   "id": "710b9c2c",
   "metadata": {},
   "outputs": [
    {
     "name": "stdout",
     "output_type": "stream",
     "text": [
      "(True, 1, 5.6, 'Parmeet')\n",
      "<class 'tuple'>\n"
     ]
    }
   ],
   "source": [
    "tuple6 = (True, 1,5.6,'Parmeet')\n",
    "print(tuple6)\n",
    "print(type(tuple6))"
   ]
  },
  {
   "cell_type": "code",
   "execution_count": 177,
   "id": "ffd05f5a",
   "metadata": {},
   "outputs": [
    {
     "ename": "TypeError",
     "evalue": "'tuple' object does not support item assignment",
     "output_type": "error",
     "traceback": [
      "\u001b[1;31m---------------------------------------------------------------------------\u001b[0m",
      "\u001b[1;31mTypeError\u001b[0m                                 Traceback (most recent call last)",
      "\u001b[1;32m<ipython-input-177-945fa259913e>\u001b[0m in \u001b[0;36m<module>\u001b[1;34m\u001b[0m\n\u001b[0;32m      1\u001b[0m \u001b[1;31m# change the element 'Parmeet' with Trishaan\u001b[0m\u001b[1;33m\u001b[0m\u001b[1;33m\u001b[0m\u001b[1;33m\u001b[0m\u001b[0m\n\u001b[1;32m----> 2\u001b[1;33m \u001b[0mtuple6\u001b[0m\u001b[1;33m[\u001b[0m\u001b[1;36m3\u001b[0m\u001b[1;33m]\u001b[0m \u001b[1;33m=\u001b[0m\u001b[1;34m'Anit'\u001b[0m\u001b[1;33m\u001b[0m\u001b[1;33m\u001b[0m\u001b[0m\n\u001b[0m",
      "\u001b[1;31mTypeError\u001b[0m: 'tuple' object does not support item assignment"
     ]
    }
   ],
   "source": [
    "# change the element 'Parmeet' with Trishaan\n",
    "tuple6[3] ='Anit'"
   ]
  },
  {
   "cell_type": "code",
   "execution_count": 180,
   "id": "9b5f34f8",
   "metadata": {},
   "outputs": [
    {
     "data": {
      "text/plain": [
       "(True, 1, 5.6, 'Parmeet')"
      ]
     },
     "execution_count": 180,
     "metadata": {},
     "output_type": "execute_result"
    }
   ],
   "source": [
    "tuple6"
   ]
  },
  {
   "cell_type": "code",
   "execution_count": 182,
   "id": "3b79df31",
   "metadata": {},
   "outputs": [
    {
     "data": {
      "text/plain": [
       "[True, 1, 5.6, 'Parmeet']"
      ]
     },
     "execution_count": 182,
     "metadata": {},
     "output_type": "execute_result"
    }
   ],
   "source": [
    "# converting the tuple to list\n",
    "list1 = list(tuple6)\n",
    "list1"
   ]
  },
  {
   "cell_type": "code",
   "execution_count": 183,
   "id": "8708c50a",
   "metadata": {},
   "outputs": [
    {
     "data": {
      "text/plain": [
       "[True, 1, 5.6, 'Anit']"
      ]
     },
     "execution_count": 183,
     "metadata": {},
     "output_type": "execute_result"
    }
   ],
   "source": [
    "list1[3] = 'Anit'\n",
    "list1"
   ]
  },
  {
   "cell_type": "code",
   "execution_count": 184,
   "id": "97f85161",
   "metadata": {},
   "outputs": [
    {
     "data": {
      "text/plain": [
       "(True, 1, 5.6, 'Anit')"
      ]
     },
     "execution_count": 184,
     "metadata": {},
     "output_type": "execute_result"
    }
   ],
   "source": [
    "tuple6 = tuple(list1)\n",
    "tuple6"
   ]
  },
  {
   "cell_type": "code",
   "execution_count": 194,
   "id": "1f49af67",
   "metadata": {},
   "outputs": [],
   "source": [
    "list1 = list(tuple6)"
   ]
  },
  {
   "cell_type": "code",
   "execution_count": 196,
   "id": "2570ca02",
   "metadata": {},
   "outputs": [],
   "source": [
    "list1.append('Parmeet')"
   ]
  },
  {
   "cell_type": "code",
   "execution_count": 198,
   "id": "1629ca30",
   "metadata": {},
   "outputs": [],
   "source": [
    "tuple6 = tuple(list1)"
   ]
  },
  {
   "cell_type": "code",
   "execution_count": 199,
   "id": "c7b69c57",
   "metadata": {},
   "outputs": [
    {
     "data": {
      "text/plain": [
       "(True, 1, 5.6, 'Anit', 'Parmeet')"
      ]
     },
     "execution_count": 199,
     "metadata": {},
     "output_type": "execute_result"
    }
   ],
   "source": [
    "tuple6"
   ]
  },
  {
   "cell_type": "code",
   "execution_count": 201,
   "id": "51a6a7dc",
   "metadata": {},
   "outputs": [
    {
     "data": {
      "text/plain": [
       "5"
      ]
     },
     "execution_count": 201,
     "metadata": {},
     "output_type": "execute_result"
    }
   ],
   "source": [
    "len(tuple6)"
   ]
  },
  {
   "cell_type": "code",
   "execution_count": 202,
   "id": "74106644",
   "metadata": {},
   "outputs": [
    {
     "data": {
      "text/plain": [
       "1"
      ]
     },
     "execution_count": 202,
     "metadata": {},
     "output_type": "execute_result"
    }
   ],
   "source": [
    "tuple6.count('Parmeet')"
   ]
  },
  {
   "cell_type": "code",
   "execution_count": 204,
   "id": "74326ef5",
   "metadata": {},
   "outputs": [
    {
     "data": {
      "text/plain": [
       "4"
      ]
     },
     "execution_count": 204,
     "metadata": {},
     "output_type": "execute_result"
    }
   ],
   "source": [
    "tuple6.index('Parmeet')"
   ]
  },
  {
   "cell_type": "code",
   "execution_count": 206,
   "id": "1819feea",
   "metadata": {},
   "outputs": [
    {
     "data": {
      "text/plain": [
       "str"
      ]
     },
     "execution_count": 206,
     "metadata": {},
     "output_type": "execute_result"
    }
   ],
   "source": [
    "tuple1 = ('Mango')\n",
    "type(tuple1)"
   ]
  },
  {
   "cell_type": "code",
   "execution_count": 207,
   "id": "f398dbef",
   "metadata": {},
   "outputs": [
    {
     "data": {
      "text/plain": [
       "tuple"
      ]
     },
     "execution_count": 207,
     "metadata": {},
     "output_type": "execute_result"
    }
   ],
   "source": [
    "tuple1 = ('Mango',)\n",
    "type(tuple1)"
   ]
  },
  {
   "cell_type": "code",
   "execution_count": 208,
   "id": "20af157a",
   "metadata": {},
   "outputs": [
    {
     "data": {
      "text/plain": [
       "('Mango',)"
      ]
     },
     "execution_count": 208,
     "metadata": {},
     "output_type": "execute_result"
    }
   ],
   "source": [
    "tuple1"
   ]
  },
  {
   "cell_type": "code",
   "execution_count": 228,
   "id": "85307e4a",
   "metadata": {},
   "outputs": [
    {
     "data": {
      "text/plain": [
       "list"
      ]
     },
     "execution_count": 228,
     "metadata": {},
     "output_type": "execute_result"
    }
   ],
   "source": [
    "list1 = ['Parmeet']\n",
    "type(list1)\n"
   ]
  },
  {
   "cell_type": "code",
   "execution_count": 229,
   "id": "877e8217",
   "metadata": {},
   "outputs": [
    {
     "data": {
      "text/plain": [
       "('Parmeet',)"
      ]
     },
     "execution_count": 229,
     "metadata": {},
     "output_type": "execute_result"
    }
   ],
   "source": [
    "tup = tuple(list1)\n",
    "tup"
   ]
  },
  {
   "cell_type": "markdown",
   "id": "e2f9f729",
   "metadata": {},
   "source": [
    "## Unpacking concept "
   ]
  },
  {
   "cell_type": "code",
   "execution_count": 216,
   "id": "00ee3c6b",
   "metadata": {},
   "outputs": [],
   "source": [
    "tuple1 = ('Mango','Banana','Cherry')"
   ]
  },
  {
   "cell_type": "code",
   "execution_count": 217,
   "id": "318cd438",
   "metadata": {},
   "outputs": [],
   "source": [
    "a,b,c = tuple1"
   ]
  },
  {
   "cell_type": "code",
   "execution_count": 218,
   "id": "1ec314d8",
   "metadata": {},
   "outputs": [
    {
     "name": "stdout",
     "output_type": "stream",
     "text": [
      "Mango Banana Cherry\n"
     ]
    }
   ],
   "source": [
    "print(a,b,c)"
   ]
  },
  {
   "cell_type": "code",
   "execution_count": 219,
   "id": "c6325733",
   "metadata": {},
   "outputs": [
    {
     "ename": "ValueError",
     "evalue": "too many values to unpack (expected 2)",
     "output_type": "error",
     "traceback": [
      "\u001b[1;31m---------------------------------------------------------------------------\u001b[0m",
      "\u001b[1;31mValueError\u001b[0m                                Traceback (most recent call last)",
      "\u001b[1;32m<ipython-input-219-3ebcf9a454dc>\u001b[0m in \u001b[0;36m<module>\u001b[1;34m\u001b[0m\n\u001b[1;32m----> 1\u001b[1;33m \u001b[0ma\u001b[0m\u001b[1;33m,\u001b[0m\u001b[0mb\u001b[0m \u001b[1;33m=\u001b[0m \u001b[0mtuple1\u001b[0m\u001b[1;33m\u001b[0m\u001b[1;33m\u001b[0m\u001b[0m\n\u001b[0m",
      "\u001b[1;31mValueError\u001b[0m: too many values to unpack (expected 2)"
     ]
    }
   ],
   "source": [
    "a,b = tuple1"
   ]
  },
  {
   "cell_type": "code",
   "execution_count": null,
   "id": "904edbac",
   "metadata": {},
   "outputs": [],
   "source": [
    "*b ->list"
   ]
  },
  {
   "cell_type": "code",
   "execution_count": 220,
   "id": "386594e8",
   "metadata": {},
   "outputs": [],
   "source": [
    "a,*b = tuple1"
   ]
  },
  {
   "cell_type": "code",
   "execution_count": 221,
   "id": "e9261887",
   "metadata": {},
   "outputs": [
    {
     "name": "stdout",
     "output_type": "stream",
     "text": [
      "Mango\n",
      "['Banana', 'Cherry']\n"
     ]
    }
   ],
   "source": [
    "print(a)\n",
    "print(b)"
   ]
  },
  {
   "cell_type": "code",
   "execution_count": 223,
   "id": "b5afa7a2",
   "metadata": {},
   "outputs": [
    {
     "data": {
      "text/plain": [
       "('Mango', 'Banana', 'Cherry')"
      ]
     },
     "execution_count": 223,
     "metadata": {},
     "output_type": "execute_result"
    }
   ],
   "source": [
    "tuple1"
   ]
  },
  {
   "cell_type": "code",
   "execution_count": 225,
   "id": "6426411e",
   "metadata": {},
   "outputs": [],
   "source": [
    "*a,b = tuple1"
   ]
  },
  {
   "cell_type": "code",
   "execution_count": 226,
   "id": "b5e4066d",
   "metadata": {},
   "outputs": [
    {
     "name": "stdout",
     "output_type": "stream",
     "text": [
      "['Mango', 'Banana']\n",
      "Cherry\n"
     ]
    }
   ],
   "source": [
    "print(a)\n",
    "print(b)"
   ]
  },
  {
   "cell_type": "code",
   "execution_count": 227,
   "id": "621571f2",
   "metadata": {},
   "outputs": [
    {
     "ename": "ValueError",
     "evalue": "not enough values to unpack (expected 4, got 3)",
     "output_type": "error",
     "traceback": [
      "\u001b[1;31m---------------------------------------------------------------------------\u001b[0m",
      "\u001b[1;31mValueError\u001b[0m                                Traceback (most recent call last)",
      "\u001b[1;32m<ipython-input-227-d36ed94df2f9>\u001b[0m in \u001b[0;36m<module>\u001b[1;34m\u001b[0m\n\u001b[1;32m----> 1\u001b[1;33m \u001b[0ma\u001b[0m\u001b[1;33m,\u001b[0m\u001b[0mb\u001b[0m\u001b[1;33m,\u001b[0m\u001b[0mc\u001b[0m\u001b[1;33m,\u001b[0m\u001b[0md\u001b[0m \u001b[1;33m=\u001b[0m \u001b[0mtuple1\u001b[0m\u001b[1;33m\u001b[0m\u001b[1;33m\u001b[0m\u001b[0m\n\u001b[0m",
      "\u001b[1;31mValueError\u001b[0m: not enough values to unpack (expected 4, got 3)"
     ]
    }
   ],
   "source": [
    "a,b,c,d = tuple1"
   ]
  },
  {
   "cell_type": "markdown",
   "id": "fa5730db",
   "metadata": {},
   "source": [
    "## Sets"
   ]
  },
  {
   "cell_type": "markdown",
   "id": "b8871511",
   "metadata": {},
   "source": [
    "1. sets are immutable -> cannot change the element\n",
    "2. sets are unordered\n",
    "3. sets doesnot allow duplicates"
   ]
  },
  {
   "cell_type": "code",
   "execution_count": 230,
   "id": "3bbc0857",
   "metadata": {},
   "outputs": [
    {
     "data": {
      "text/plain": [
       "set"
      ]
     },
     "execution_count": 230,
     "metadata": {},
     "output_type": "execute_result"
    }
   ],
   "source": [
    "a = {1,2,3}\n",
    "type(a)"
   ]
  },
  {
   "cell_type": "code",
   "execution_count": 231,
   "id": "de394ad7",
   "metadata": {},
   "outputs": [
    {
     "data": {
      "text/plain": [
       "dict"
      ]
     },
     "execution_count": 231,
     "metadata": {},
     "output_type": "execute_result"
    }
   ],
   "source": [
    "a = {}\n",
    "type(a)"
   ]
  },
  {
   "cell_type": "code",
   "execution_count": 232,
   "id": "7ebc6a90",
   "metadata": {},
   "outputs": [
    {
     "data": {
      "text/plain": [
       "set"
      ]
     },
     "execution_count": 232,
     "metadata": {},
     "output_type": "execute_result"
    }
   ],
   "source": [
    "a = set()\n",
    "type(a)"
   ]
  },
  {
   "cell_type": "code",
   "execution_count": 233,
   "id": "c9d09d39",
   "metadata": {},
   "outputs": [
    {
     "name": "stdout",
     "output_type": "stream",
     "text": [
      "{1, 2, 3, 4, 5, 6, 7}\n"
     ]
    }
   ],
   "source": [
    "a = {1,2,3,4,5,6,7}\n",
    "print(a)"
   ]
  },
  {
   "cell_type": "code",
   "execution_count": 235,
   "id": "7dfefb41",
   "metadata": {},
   "outputs": [
    {
     "data": {
      "text/plain": [
       "1"
      ]
     },
     "execution_count": 235,
     "metadata": {},
     "output_type": "execute_result"
    }
   ],
   "source": [
    "a.pop() # remove "
   ]
  },
  {
   "cell_type": "code",
   "execution_count": 237,
   "id": "a174fbeb",
   "metadata": {},
   "outputs": [
    {
     "ename": "TypeError",
     "evalue": "'set' object is not subscriptable",
     "output_type": "error",
     "traceback": [
      "\u001b[1;31m---------------------------------------------------------------------------\u001b[0m",
      "\u001b[1;31mTypeError\u001b[0m                                 Traceback (most recent call last)",
      "\u001b[1;32m<ipython-input-237-fc907be37984>\u001b[0m in \u001b[0;36m<module>\u001b[1;34m\u001b[0m\n\u001b[1;32m----> 1\u001b[1;33m \u001b[0ma\u001b[0m\u001b[1;33m[\u001b[0m\u001b[1;36m2\u001b[0m\u001b[1;33m]\u001b[0m\u001b[1;33m\u001b[0m\u001b[1;33m\u001b[0m\u001b[0m\n\u001b[0m",
      "\u001b[1;31mTypeError\u001b[0m: 'set' object is not subscriptable"
     ]
    }
   ],
   "source": [
    "a[2]"
   ]
  },
  {
   "cell_type": "code",
   "execution_count": 238,
   "id": "6ecb8943",
   "metadata": {},
   "outputs": [
    {
     "data": {
      "text/plain": [
       "{1, 2, 3, 4, 5, 6, 7, 8}"
      ]
     },
     "execution_count": 238,
     "metadata": {},
     "output_type": "execute_result"
    }
   ],
   "source": [
    "a = {1,1,1,2,2,2,4,4,5,6,7,8,3}\n",
    "a"
   ]
  },
  {
   "cell_type": "code",
   "execution_count": 242,
   "id": "3ad116fc",
   "metadata": {},
   "outputs": [],
   "source": [
    "set1 = {1,2,3,4,5}\n",
    "set2 = {2,5,7}\n",
    "set3 = {8}"
   ]
  },
  {
   "cell_type": "code",
   "execution_count": 246,
   "id": "4664e2ed",
   "metadata": {},
   "outputs": [
    {
     "data": {
      "text/plain": [
       "{1, 2, 3, 4, 5}"
      ]
     },
     "execution_count": 246,
     "metadata": {},
     "output_type": "execute_result"
    }
   ],
   "source": [
    "set1"
   ]
  },
  {
   "cell_type": "code",
   "execution_count": 247,
   "id": "ddb65f3b",
   "metadata": {},
   "outputs": [],
   "source": [
    "set1.add(9)"
   ]
  },
  {
   "cell_type": "code",
   "execution_count": 248,
   "id": "f641cde2",
   "metadata": {},
   "outputs": [
    {
     "data": {
      "text/plain": [
       "{1, 2, 3, 4, 5, 9}"
      ]
     },
     "execution_count": 248,
     "metadata": {},
     "output_type": "execute_result"
    }
   ],
   "source": [
    "set1"
   ]
  },
  {
   "cell_type": "code",
   "execution_count": 249,
   "id": "03329adf",
   "metadata": {},
   "outputs": [],
   "source": [
    "set1.add(3)"
   ]
  },
  {
   "cell_type": "code",
   "execution_count": 250,
   "id": "91d1d11f",
   "metadata": {},
   "outputs": [
    {
     "data": {
      "text/plain": [
       "{1, 2, 3, 4, 5, 9}"
      ]
     },
     "execution_count": 250,
     "metadata": {},
     "output_type": "execute_result"
    }
   ],
   "source": [
    "set1"
   ]
  },
  {
   "cell_type": "code",
   "execution_count": 252,
   "id": "38ec6be0",
   "metadata": {},
   "outputs": [
    {
     "name": "stdout",
     "output_type": "stream",
     "text": [
      "{1, 2, 3, 4, 5, 9}\n",
      "{2, 5, 7}\n"
     ]
    }
   ],
   "source": [
    "print(set1)\n",
    "print(set2)"
   ]
  },
  {
   "cell_type": "code",
   "execution_count": 253,
   "id": "9429aec0",
   "metadata": {},
   "outputs": [
    {
     "data": {
      "text/plain": [
       "{1, 2, 3, 4, 5, 7, 9}"
      ]
     },
     "execution_count": 253,
     "metadata": {},
     "output_type": "execute_result"
    }
   ],
   "source": [
    "set1.union(set2)"
   ]
  },
  {
   "cell_type": "code",
   "execution_count": 255,
   "id": "564a675f",
   "metadata": {},
   "outputs": [],
   "source": [
    "set1.update(set2) # updating set1 with set2 elements"
   ]
  },
  {
   "cell_type": "code",
   "execution_count": 256,
   "id": "00bb63ee",
   "metadata": {},
   "outputs": [
    {
     "data": {
      "text/plain": [
       "{1, 2, 3, 4, 5, 7, 9}"
      ]
     },
     "execution_count": 256,
     "metadata": {},
     "output_type": "execute_result"
    }
   ],
   "source": [
    "set1"
   ]
  },
  {
   "cell_type": "code",
   "execution_count": 257,
   "id": "529f0717",
   "metadata": {},
   "outputs": [
    {
     "data": {
      "text/plain": [
       "{1, 2, 3, 4, 5, 7, 9}"
      ]
     },
     "execution_count": 257,
     "metadata": {},
     "output_type": "execute_result"
    }
   ],
   "source": [
    "set1"
   ]
  },
  {
   "cell_type": "code",
   "execution_count": 259,
   "id": "601f5563",
   "metadata": {},
   "outputs": [],
   "source": [
    "set2 = {54,56,57,2,5}"
   ]
  },
  {
   "cell_type": "code",
   "execution_count": 260,
   "id": "1e1c1326",
   "metadata": {},
   "outputs": [
    {
     "name": "stdout",
     "output_type": "stream",
     "text": [
      "set1 : {1, 2, 3, 4, 5, 7, 9}\n",
      "set2 : {2, 5, 54, 56, 57}\n"
     ]
    }
   ],
   "source": [
    "print(f'set1 : {set1}')\n",
    "print(f'set2 : {set2}')"
   ]
  },
  {
   "cell_type": "code",
   "execution_count": 262,
   "id": "4b9ef087",
   "metadata": {},
   "outputs": [
    {
     "data": {
      "text/plain": [
       "{1, 3, 4, 7, 9}"
      ]
     },
     "execution_count": 262,
     "metadata": {},
     "output_type": "execute_result"
    }
   ],
   "source": [
    "set1.difference(set2) # remove all the common elements from set 1"
   ]
  },
  {
   "cell_type": "code",
   "execution_count": 263,
   "id": "c2275b43",
   "metadata": {},
   "outputs": [
    {
     "data": {
      "text/plain": [
       "{54, 56, 57}"
      ]
     },
     "execution_count": 263,
     "metadata": {},
     "output_type": "execute_result"
    }
   ],
   "source": [
    "set2.difference(set1) # remove all the common elements from set 2"
   ]
  },
  {
   "cell_type": "code",
   "execution_count": 265,
   "id": "cfa2ba72",
   "metadata": {},
   "outputs": [],
   "source": [
    "set1 = {1,2,3,4,5}\n",
    "set2 = {2,5}"
   ]
  },
  {
   "cell_type": "code",
   "execution_count": 267,
   "id": "8be60f3c",
   "metadata": {
    "scrolled": true
   },
   "outputs": [
    {
     "data": {
      "text/plain": [
       "True"
      ]
     },
     "execution_count": 267,
     "metadata": {},
     "output_type": "execute_result"
    }
   ],
   "source": [
    "set2.issubset(set1)"
   ]
  },
  {
   "cell_type": "code",
   "execution_count": 269,
   "id": "c9dbbf92",
   "metadata": {},
   "outputs": [
    {
     "data": {
      "text/plain": [
       "True"
      ]
     },
     "execution_count": 269,
     "metadata": {},
     "output_type": "execute_result"
    }
   ],
   "source": [
    "set1.issuperset(set2)"
   ]
  },
  {
   "cell_type": "code",
   "execution_count": 270,
   "id": "f1475f47",
   "metadata": {},
   "outputs": [],
   "source": [
    "set1 = {1, 2, 3, 4, 5, 7, 9}\n",
    "set2 = {2, 5, 54, 56, 57}"
   ]
  },
  {
   "cell_type": "code",
   "execution_count": 271,
   "id": "7946d33a",
   "metadata": {},
   "outputs": [
    {
     "data": {
      "text/plain": [
       "{2, 5}"
      ]
     },
     "execution_count": 271,
     "metadata": {},
     "output_type": "execute_result"
    }
   ],
   "source": [
    "set1.intersection(set2)"
   ]
  },
  {
   "cell_type": "code",
   "execution_count": 272,
   "id": "7f02b348",
   "metadata": {},
   "outputs": [
    {
     "data": {
      "text/plain": [
       "{2, 5}"
      ]
     },
     "execution_count": 272,
     "metadata": {},
     "output_type": "execute_result"
    }
   ],
   "source": [
    "set2.intersection(set1)"
   ]
  },
  {
   "cell_type": "code",
   "execution_count": 275,
   "id": "523905ca",
   "metadata": {},
   "outputs": [],
   "source": [
    "set1 = {1,2,3,4}\n",
    "set2 = {7,5,2}"
   ]
  },
  {
   "cell_type": "code",
   "execution_count": 276,
   "id": "aedea0c0",
   "metadata": {},
   "outputs": [
    {
     "data": {
      "text/plain": [
       "False"
      ]
     },
     "execution_count": 276,
     "metadata": {},
     "output_type": "execute_result"
    }
   ],
   "source": [
    "set1.isdisjoint(set2)"
   ]
  },
  {
   "cell_type": "code",
   "execution_count": 277,
   "id": "f0f03142",
   "metadata": {},
   "outputs": [
    {
     "data": {
      "text/plain": [
       "{1, 2, 3, 4}"
      ]
     },
     "execution_count": 277,
     "metadata": {},
     "output_type": "execute_result"
    }
   ],
   "source": [
    "set1"
   ]
  },
  {
   "cell_type": "code",
   "execution_count": 278,
   "id": "1c30b7b8",
   "metadata": {},
   "outputs": [],
   "source": [
    "set1.remove(3)"
   ]
  },
  {
   "cell_type": "code",
   "execution_count": 279,
   "id": "101a9c16",
   "metadata": {},
   "outputs": [
    {
     "data": {
      "text/plain": [
       "{1, 2, 4}"
      ]
     },
     "execution_count": 279,
     "metadata": {},
     "output_type": "execute_result"
    }
   ],
   "source": [
    "set1"
   ]
  },
  {
   "cell_type": "code",
   "execution_count": 280,
   "id": "9450ff97",
   "metadata": {},
   "outputs": [],
   "source": [
    "set1 = {1,2,3,4,5,6,7,8,9}"
   ]
  },
  {
   "cell_type": "code",
   "execution_count": 281,
   "id": "16788906",
   "metadata": {},
   "outputs": [
    {
     "data": {
      "text/plain": [
       "{1, 2, 3, 4, 5, 6, 7, 8, 9}"
      ]
     },
     "execution_count": 281,
     "metadata": {},
     "output_type": "execute_result"
    }
   ],
   "source": [
    "set1"
   ]
  },
  {
   "cell_type": "markdown",
   "id": "226ba21c",
   "metadata": {},
   "source": [
    "# conditional statements\n",
    "if condition:\n",
    "    statement\n",
    "else:\n",
    "    statement"
   ]
  },
  {
   "cell_type": "markdown",
   "id": "6e8d7c83",
   "metadata": {},
   "source": [
    "# Loops"
   ]
  },
  {
   "cell_type": "code",
   "execution_count": 284,
   "id": "e1445cb4",
   "metadata": {},
   "outputs": [
    {
     "ename": "SyntaxError",
     "evalue": "invalid syntax (<ipython-input-284-59cbe97e77e0>, line 1)",
     "output_type": "error",
     "traceback": [
      "\u001b[1;36m  File \u001b[1;32m\"<ipython-input-284-59cbe97e77e0>\"\u001b[1;36m, line \u001b[1;32m1\u001b[0m\n\u001b[1;33m    print/ number from 1 to 50\u001b[0m\n\u001b[1;37m                  ^\u001b[0m\n\u001b[1;31mSyntaxError\u001b[0m\u001b[1;31m:\u001b[0m invalid syntax\n"
     ]
    }
   ],
   "source": [
    "# print number from 1 to 50\n",
    "print(1)\n",
    "print(2).......print(50)\n",
    "\n",
    "print(1,2,3,4)"
   ]
  },
  {
   "cell_type": "code",
   "execution_count": null,
   "id": "f05e2fdf",
   "metadata": {},
   "outputs": [],
   "source": [
    "# for loops\n",
    "for variable_name in iterables:\n",
    "    logic"
   ]
  },
  {
   "cell_type": "code",
   "execution_count": 287,
   "id": "8144fea3",
   "metadata": {},
   "outputs": [
    {
     "data": {
      "text/plain": [
       "range"
      ]
     },
     "execution_count": 287,
     "metadata": {},
     "output_type": "execute_result"
    }
   ],
   "source": [
    "range(1,50) # range(start_index, stop_index,step)"
   ]
  },
  {
   "cell_type": "code",
   "execution_count": 292,
   "id": "67a62859",
   "metadata": {},
   "outputs": [
    {
     "name": "stdout",
     "output_type": "stream",
     "text": [
      "1 2 3 4 5 6 7 8 9 "
     ]
    }
   ],
   "source": [
    "for ele in range(1,10):\n",
    "    print(ele, end=\" \")"
   ]
  },
  {
   "cell_type": "code",
   "execution_count": 294,
   "id": "51f1b89c",
   "metadata": {},
   "outputs": [],
   "source": [
    "list1 = ['Parmeet','Singh','Dang']"
   ]
  },
  {
   "cell_type": "code",
   "execution_count": 295,
   "id": "5e9d8e87",
   "metadata": {},
   "outputs": [
    {
     "data": {
      "text/plain": [
       "3"
      ]
     },
     "execution_count": 295,
     "metadata": {},
     "output_type": "execute_result"
    }
   ],
   "source": [
    "len(list1)"
   ]
  },
  {
   "cell_type": "code",
   "execution_count": 299,
   "id": "3dda114b",
   "metadata": {
    "scrolled": true
   },
   "outputs": [
    {
     "name": "stdout",
     "output_type": "stream",
     "text": [
      "0\n",
      "1\n",
      "2\n"
     ]
    }
   ],
   "source": [
    "for ele in range(3): #0,1,2\n",
    "    print(ele)"
   ]
  },
  {
   "cell_type": "code",
   "execution_count": 297,
   "id": "90400841",
   "metadata": {},
   "outputs": [
    {
     "name": "stdout",
     "output_type": "stream",
     "text": [
      "0\n",
      "1\n",
      "2\n"
     ]
    }
   ],
   "source": [
    "for ele in range(len(list1)):  # for ele in range(3):\n",
    "    print(ele)"
   ]
  },
  {
   "cell_type": "code",
   "execution_count": 300,
   "id": "073942ab",
   "metadata": {},
   "outputs": [
    {
     "data": {
      "text/plain": [
       "['Parmeet', 'Singh', 'Dang']"
      ]
     },
     "execution_count": 300,
     "metadata": {},
     "output_type": "execute_result"
    }
   ],
   "source": [
    "list1"
   ]
  },
  {
   "cell_type": "code",
   "execution_count": 301,
   "id": "8f0f7337",
   "metadata": {},
   "outputs": [
    {
     "name": "stdout",
     "output_type": "stream",
     "text": [
      "Parmeet\n",
      "Singh\n",
      "Dang\n"
     ]
    }
   ],
   "source": [
    "for ele in list1:\n",
    "    print(ele)"
   ]
  },
  {
   "cell_type": "code",
   "execution_count": 302,
   "id": "ef589558",
   "metadata": {},
   "outputs": [
    {
     "name": "stdout",
     "output_type": "stream",
     "text": [
      "p\n",
      "a\n",
      "r\n",
      "m\n",
      "e\n",
      "e\n",
      "t\n"
     ]
    }
   ],
   "source": [
    "for ele in \"parmeet\":\n",
    "    print(ele)"
   ]
  },
  {
   "cell_type": "code",
   "execution_count": null,
   "id": "25173a3a",
   "metadata": {},
   "outputs": [],
   "source": [
    "p a r m e e t\n",
    "0 1 2 3 4 5 6"
   ]
  },
  {
   "cell_type": "code",
   "execution_count": 308,
   "id": "a357c87e",
   "metadata": {},
   "outputs": [
    {
     "name": "stdout",
     "output_type": "stream",
     "text": [
      "0 p\n",
      "1 a\n",
      "2 r\n",
      "3 m\n",
      "4 e\n",
      "5 e\n",
      "6 t\n"
     ]
    }
   ],
   "source": [
    "# enumerate -> return the tuple of 2 elements (1st ele : index, 2nd ele is value at that index)\n",
    "for idx,ele in enumerate(\"parmeet\"):\n",
    "    print(idx,ele)"
   ]
  },
  {
   "cell_type": "code",
   "execution_count": 304,
   "id": "2300e1cf",
   "metadata": {},
   "outputs": [],
   "source": [
    "idx,ele = (0, 'p')"
   ]
  },
  {
   "cell_type": "code",
   "execution_count": 305,
   "id": "50c23003",
   "metadata": {},
   "outputs": [
    {
     "name": "stdout",
     "output_type": "stream",
     "text": [
      "0 p\n"
     ]
    }
   ],
   "source": [
    "print(idx, ele)"
   ]
  },
  {
   "cell_type": "code",
   "execution_count": 310,
   "id": "b0f2dac2",
   "metadata": {},
   "outputs": [
    {
     "name": "stdout",
     "output_type": "stream",
     "text": [
      "0 Parmeet\n",
      "1 Singh\n",
      "2 Dang\n"
     ]
    }
   ],
   "source": [
    "for idx,ele in enumerate(list1):\n",
    "    print(idx,ele)"
   ]
  },
  {
   "cell_type": "code",
   "execution_count": 311,
   "id": "0805120a",
   "metadata": {},
   "outputs": [
    {
     "name": "stdout",
     "output_type": "stream",
     "text": [
      "0 Mango\n",
      "1 Banana\n",
      "2 Cherry\n"
     ]
    }
   ],
   "source": [
    "for idx,ele in enumerate(tuple1):\n",
    "    print(idx,ele)"
   ]
  },
  {
   "cell_type": "code",
   "execution_count": 312,
   "id": "40b807ac",
   "metadata": {},
   "outputs": [
    {
     "data": {
      "text/plain": [
       "{1, 2, 4, 5, 6, 7, 8, 9}"
      ]
     },
     "execution_count": 312,
     "metadata": {},
     "output_type": "execute_result"
    }
   ],
   "source": [
    "set1"
   ]
  },
  {
   "cell_type": "code",
   "execution_count": 313,
   "id": "f0b73084",
   "metadata": {},
   "outputs": [
    {
     "name": "stdout",
     "output_type": "stream",
     "text": [
      "0 1\n",
      "1 2\n",
      "2 4\n",
      "3 5\n",
      "4 6\n",
      "5 7\n",
      "6 8\n",
      "7 9\n"
     ]
    }
   ],
   "source": [
    "for idx,ele in enumerate(set1):\n",
    "    print(idx,ele)"
   ]
  },
  {
   "cell_type": "code",
   "execution_count": 314,
   "id": "22fdc98a",
   "metadata": {},
   "outputs": [
    {
     "data": {
      "text/plain": [
       "{1, 2, 4, 5, 6, 7, 8, 9}"
      ]
     },
     "execution_count": 314,
     "metadata": {},
     "output_type": "execute_result"
    }
   ],
   "source": [
    "set1"
   ]
  },
  {
   "cell_type": "code",
   "execution_count": 317,
   "id": "0bc07fee",
   "metadata": {},
   "outputs": [
    {
     "name": "stdout",
     "output_type": "stream",
     "text": [
      "1\n",
      "2\n",
      "4\n",
      "5\n",
      "6\n",
      "7\n",
      "8\n",
      "9\n"
     ]
    }
   ],
   "source": [
    "for ele in set1:\n",
    "    print(ele)"
   ]
  },
  {
   "cell_type": "code",
   "execution_count": 323,
   "id": "92986d4b",
   "metadata": {},
   "outputs": [
    {
     "data": {
      "text/plain": [
       "0"
      ]
     },
     "execution_count": 323,
     "metadata": {},
     "output_type": "execute_result"
    }
   ],
   "source": [
    "2%2"
   ]
  },
  {
   "cell_type": "code",
   "execution_count": 321,
   "id": "a88dd34b",
   "metadata": {},
   "outputs": [
    {
     "name": "stdout",
     "output_type": "stream",
     "text": [
      "1\n",
      "5\n",
      "7\n",
      "9\n"
     ]
    }
   ],
   "source": [
    "#print only odd elements\n",
    "for ele in set1:\n",
    "    if ele %2 !=0:\n",
    "        print(ele)"
   ]
  },
  {
   "cell_type": "code",
   "execution_count": 324,
   "id": "dfbe3b6d",
   "metadata": {},
   "outputs": [
    {
     "name": "stdout",
     "output_type": "stream",
     "text": [
      "2\n",
      "4\n",
      "6\n",
      "8\n"
     ]
    }
   ],
   "source": [
    "#print only even elements\n",
    "for ele in set1:\n",
    "    if ele %2 ==0:\n",
    "        print(ele)"
   ]
  },
  {
   "cell_type": "code",
   "execution_count": 325,
   "id": "35cc2fe0",
   "metadata": {},
   "outputs": [],
   "source": [
    "list1 = [1,2,3,4,5]"
   ]
  },
  {
   "cell_type": "code",
   "execution_count": 326,
   "id": "a380bb52",
   "metadata": {},
   "outputs": [],
   "source": [
    "# [1,4,9,16,25]"
   ]
  },
  {
   "cell_type": "code",
   "execution_count": 331,
   "id": "1b6c6058",
   "metadata": {},
   "outputs": [
    {
     "name": "stdout",
     "output_type": "stream",
     "text": [
      "1 4 9 16 25 "
     ]
    }
   ],
   "source": [
    "for i in list1:\n",
    "    print(i*i,end =\" \")"
   ]
  },
  {
   "cell_type": "code",
   "execution_count": 333,
   "id": "f1c106a5",
   "metadata": {},
   "outputs": [],
   "source": [
    "new_list = []\n",
    "for i in list1:\n",
    "    new_list.append(i*i)"
   ]
  },
  {
   "cell_type": "code",
   "execution_count": 334,
   "id": "f4103a43",
   "metadata": {},
   "outputs": [
    {
     "data": {
      "text/plain": [
       "[1, 4, 9, 16, 25]"
      ]
     },
     "execution_count": 334,
     "metadata": {},
     "output_type": "execute_result"
    }
   ],
   "source": [
    "new_list"
   ]
  },
  {
   "cell_type": "code",
   "execution_count": null,
   "id": "6937030e",
   "metadata": {},
   "outputs": [],
   "source": []
  }
 ],
 "metadata": {
  "kernelspec": {
   "display_name": "Python 3",
   "language": "python",
   "name": "python3"
  },
  "language_info": {
   "codemirror_mode": {
    "name": "ipython",
    "version": 3
   },
   "file_extension": ".py",
   "mimetype": "text/x-python",
   "name": "python",
   "nbconvert_exporter": "python",
   "pygments_lexer": "ipython3",
   "version": "3.8.8"
  }
 },
 "nbformat": 4,
 "nbformat_minor": 5
}
