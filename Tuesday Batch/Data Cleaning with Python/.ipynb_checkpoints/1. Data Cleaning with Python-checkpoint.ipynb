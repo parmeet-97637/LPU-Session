{
 "cells": [
  {
   "cell_type": "markdown",
   "id": "acac0274",
   "metadata": {},
   "source": [
    "## What is Data Cleaning?"
   ]
  },
  {
   "cell_type": "markdown",
   "id": "8569ff22",
   "metadata": {},
   "source": [
    "<font size=\"3\">It is the process of detecting and correcting (or removing) corrupt or inaccurate records from a record set, table, or database and refers to identifying incomplete, incorrect, inaccurate or irrelevant parts of the data and then replacing, modifying, or deleting the dirty or coarse data.\n",
    "    \n",
    "we can say that the aspects of clean data are:\n",
    "- Complete\n",
    "- Correct\n",
    "- Accurate\n",
    "- Relevant"
   ]
  },
  {
   "cell_type": "markdown",
   "id": "7071c49b",
   "metadata": {},
   "source": [
    "## Why is it important?"
   ]
  },
  {
   "cell_type": "markdown",
   "id": "d3499554",
   "metadata": {},
   "source": [
    "<font size=\"3\">Using dirty data to produce analysis will result in erroneous predictions that engenders bad decisions and dangerous outcomes. Not only that, most machine learning algorithms only work when your data is properly cleaned and fit for modeling."
   ]
  },
  {
   "cell_type": "markdown",
   "id": "f67c892a",
   "metadata": {},
   "source": [
    "## How to clean data"
   ]
  },
  {
   "cell_type": "markdown",
   "id": "39392889",
   "metadata": {},
   "source": [
    "<font size=\"3\"> We will perform data cleaning on <a href =\"https://www.kaggle.com/datasets/dgomonov/new-york-city-airbnb-open-data\">New York City Airbnb Open Data</a> from Kaggle."
   ]
  },
  {
   "cell_type": "markdown",
   "id": "79d651c0",
   "metadata": {},
   "source": [
    "## Tasks to be performed"
   ]
  },
  {
   "cell_type": "markdown",
   "id": "510a4369",
   "metadata": {},
   "source": [
    "<font size=\"3\">\n",
    "    \n",
    "- Missing data\n",
    "- Inconsistent data/Irrelevant features\n",
    "- Outliers"
   ]
  },
  {
   "cell_type": "markdown",
   "id": "1cd8c7ab",
   "metadata": {},
   "source": [
    "## Python Implementation"
   ]
  },
  {
   "cell_type": "markdown",
   "id": "521c04ba",
   "metadata": {},
   "source": [
    "### Importing Libraries"
   ]
  },
  {
   "cell_type": "code",
   "execution_count": 1,
   "id": "b4b4ce3a",
   "metadata": {},
   "outputs": [],
   "source": [
    "# data Manipulation libraries\n",
    "import pandas as pd\n",
    "import numpy as np\n",
    "\n",
    "# Data Visualization libraries\n",
    "import seaborn as sns\n",
    "import matplotlib.pyplot as plt\n",
    "\n",
    "plt.style.use('fivethirtyeight')\n",
    "\n",
    "%matplotlib inline"
   ]
  },
  {
   "cell_type": "code",
   "execution_count": 2,
   "id": "4be1e928",
   "metadata": {},
   "outputs": [],
   "source": [
    "airbnb_ori = pd.read_csv(r\"C:\\Users\\Parmeet.dang\\Desktop\\Data Analyst\\LPU Sessions\\Monday Batch\\archive\\AB_NYC_2019.csv\")"
   ]
  },
  {
   "cell_type": "code",
   "execution_count": 3,
   "id": "410a8916",
   "metadata": {},
   "outputs": [],
   "source": [
    "airbnb = airbnb_ori.copy()"
   ]
  },
  {
   "cell_type": "markdown",
   "id": "93f42455",
   "metadata": {},
   "source": [
    "### Exploratory Data Analysis"
   ]
  },
  {
   "cell_type": "code",
   "execution_count": 4,
   "id": "5ddc056c",
   "metadata": {},
   "outputs": [
    {
     "data": {
      "text/html": [
       "<div>\n",
       "<style scoped>\n",
       "    .dataframe tbody tr th:only-of-type {\n",
       "        vertical-align: middle;\n",
       "    }\n",
       "\n",
       "    .dataframe tbody tr th {\n",
       "        vertical-align: top;\n",
       "    }\n",
       "\n",
       "    .dataframe thead th {\n",
       "        text-align: right;\n",
       "    }\n",
       "</style>\n",
       "<table border=\"1\" class=\"dataframe\">\n",
       "  <thead>\n",
       "    <tr style=\"text-align: right;\">\n",
       "      <th></th>\n",
       "      <th>id</th>\n",
       "      <th>name</th>\n",
       "      <th>host_id</th>\n",
       "      <th>host_name</th>\n",
       "      <th>neighbourhood_group</th>\n",
       "      <th>neighbourhood</th>\n",
       "      <th>latitude</th>\n",
       "      <th>longitude</th>\n",
       "      <th>room_type</th>\n",
       "      <th>price</th>\n",
       "      <th>minimum_nights</th>\n",
       "      <th>number_of_reviews</th>\n",
       "      <th>last_review</th>\n",
       "      <th>reviews_per_month</th>\n",
       "      <th>calculated_host_listings_count</th>\n",
       "      <th>availability_365</th>\n",
       "    </tr>\n",
       "  </thead>\n",
       "  <tbody>\n",
       "    <tr>\n",
       "      <th>0</th>\n",
       "      <td>2539</td>\n",
       "      <td>Clean &amp; quiet apt home by the park</td>\n",
       "      <td>2787</td>\n",
       "      <td>John</td>\n",
       "      <td>Brooklyn</td>\n",
       "      <td>Kensington</td>\n",
       "      <td>40.64749</td>\n",
       "      <td>-73.97237</td>\n",
       "      <td>Private room</td>\n",
       "      <td>149</td>\n",
       "      <td>1</td>\n",
       "      <td>9</td>\n",
       "      <td>2018-10-19</td>\n",
       "      <td>0.21</td>\n",
       "      <td>6</td>\n",
       "      <td>365</td>\n",
       "    </tr>\n",
       "    <tr>\n",
       "      <th>1</th>\n",
       "      <td>2595</td>\n",
       "      <td>Skylit Midtown Castle</td>\n",
       "      <td>2845</td>\n",
       "      <td>Jennifer</td>\n",
       "      <td>Manhattan</td>\n",
       "      <td>Midtown</td>\n",
       "      <td>40.75362</td>\n",
       "      <td>-73.98377</td>\n",
       "      <td>Entire home/apt</td>\n",
       "      <td>225</td>\n",
       "      <td>1</td>\n",
       "      <td>45</td>\n",
       "      <td>2019-05-21</td>\n",
       "      <td>0.38</td>\n",
       "      <td>2</td>\n",
       "      <td>355</td>\n",
       "    </tr>\n",
       "    <tr>\n",
       "      <th>2</th>\n",
       "      <td>3647</td>\n",
       "      <td>THE VILLAGE OF HARLEM....NEW YORK !</td>\n",
       "      <td>4632</td>\n",
       "      <td>Elisabeth</td>\n",
       "      <td>Manhattan</td>\n",
       "      <td>Harlem</td>\n",
       "      <td>40.80902</td>\n",
       "      <td>-73.94190</td>\n",
       "      <td>Private room</td>\n",
       "      <td>150</td>\n",
       "      <td>3</td>\n",
       "      <td>0</td>\n",
       "      <td>NaN</td>\n",
       "      <td>NaN</td>\n",
       "      <td>1</td>\n",
       "      <td>365</td>\n",
       "    </tr>\n",
       "    <tr>\n",
       "      <th>3</th>\n",
       "      <td>3831</td>\n",
       "      <td>Cozy Entire Floor of Brownstone</td>\n",
       "      <td>4869</td>\n",
       "      <td>LisaRoxanne</td>\n",
       "      <td>Brooklyn</td>\n",
       "      <td>Clinton Hill</td>\n",
       "      <td>40.68514</td>\n",
       "      <td>-73.95976</td>\n",
       "      <td>Entire home/apt</td>\n",
       "      <td>89</td>\n",
       "      <td>1</td>\n",
       "      <td>270</td>\n",
       "      <td>2019-07-05</td>\n",
       "      <td>4.64</td>\n",
       "      <td>1</td>\n",
       "      <td>194</td>\n",
       "    </tr>\n",
       "    <tr>\n",
       "      <th>4</th>\n",
       "      <td>5022</td>\n",
       "      <td>Entire Apt: Spacious Studio/Loft by central park</td>\n",
       "      <td>7192</td>\n",
       "      <td>Laura</td>\n",
       "      <td>Manhattan</td>\n",
       "      <td>East Harlem</td>\n",
       "      <td>40.79851</td>\n",
       "      <td>-73.94399</td>\n",
       "      <td>Entire home/apt</td>\n",
       "      <td>80</td>\n",
       "      <td>10</td>\n",
       "      <td>9</td>\n",
       "      <td>2018-11-19</td>\n",
       "      <td>0.10</td>\n",
       "      <td>1</td>\n",
       "      <td>0</td>\n",
       "    </tr>\n",
       "  </tbody>\n",
       "</table>\n",
       "</div>"
      ],
      "text/plain": [
       "     id                                              name  host_id  \\\n",
       "0  2539                Clean & quiet apt home by the park     2787   \n",
       "1  2595                             Skylit Midtown Castle     2845   \n",
       "2  3647               THE VILLAGE OF HARLEM....NEW YORK !     4632   \n",
       "3  3831                   Cozy Entire Floor of Brownstone     4869   \n",
       "4  5022  Entire Apt: Spacious Studio/Loft by central park     7192   \n",
       "\n",
       "     host_name neighbourhood_group neighbourhood  latitude  longitude  \\\n",
       "0         John            Brooklyn    Kensington  40.64749  -73.97237   \n",
       "1     Jennifer           Manhattan       Midtown  40.75362  -73.98377   \n",
       "2    Elisabeth           Manhattan        Harlem  40.80902  -73.94190   \n",
       "3  LisaRoxanne            Brooklyn  Clinton Hill  40.68514  -73.95976   \n",
       "4        Laura           Manhattan   East Harlem  40.79851  -73.94399   \n",
       "\n",
       "         room_type  price  minimum_nights  number_of_reviews last_review  \\\n",
       "0     Private room    149               1                  9  2018-10-19   \n",
       "1  Entire home/apt    225               1                 45  2019-05-21   \n",
       "2     Private room    150               3                  0         NaN   \n",
       "3  Entire home/apt     89               1                270  2019-07-05   \n",
       "4  Entire home/apt     80              10                  9  2018-11-19   \n",
       "\n",
       "   reviews_per_month  calculated_host_listings_count  availability_365  \n",
       "0               0.21                               6               365  \n",
       "1               0.38                               2               355  \n",
       "2                NaN                               1               365  \n",
       "3               4.64                               1               194  \n",
       "4               0.10                               1                 0  "
      ]
     },
     "execution_count": 4,
     "metadata": {},
     "output_type": "execute_result"
    }
   ],
   "source": [
    "# first few records/rows of the dataframe\n",
    "airbnb.head()"
   ]
  },
  {
   "cell_type": "markdown",
   "id": "56bac0c9",
   "metadata": {},
   "source": [
    "### Data info"
   ]
  },
  {
   "cell_type": "markdown",
   "id": "3091cef0",
   "metadata": {},
   "source": [
    "<font size=\"3\">Calling info() on our dataset tells us tons of information about our data frame like the shape (rows, columns), the data type of our features, and the memory usage."
   ]
  },
  {
   "cell_type": "code",
   "execution_count": 5,
   "id": "467d0d5d",
   "metadata": {
    "scrolled": true
   },
   "outputs": [
    {
     "name": "stdout",
     "output_type": "stream",
     "text": [
      "<class 'pandas.core.frame.DataFrame'>\n",
      "RangeIndex: 48895 entries, 0 to 48894\n",
      "Data columns (total 16 columns):\n",
      " #   Column                          Non-Null Count  Dtype  \n",
      "---  ------                          --------------  -----  \n",
      " 0   id                              48895 non-null  int64  \n",
      " 1   name                            48879 non-null  object \n",
      " 2   host_id                         48895 non-null  int64  \n",
      " 3   host_name                       48874 non-null  object \n",
      " 4   neighbourhood_group             48895 non-null  object \n",
      " 5   neighbourhood                   48895 non-null  object \n",
      " 6   latitude                        48895 non-null  float64\n",
      " 7   longitude                       48895 non-null  float64\n",
      " 8   room_type                       48895 non-null  object \n",
      " 9   price                           48895 non-null  int64  \n",
      " 10  minimum_nights                  48895 non-null  int64  \n",
      " 11  number_of_reviews               48895 non-null  int64  \n",
      " 12  last_review                     38843 non-null  object \n",
      " 13  reviews_per_month               38843 non-null  float64\n",
      " 14  calculated_host_listings_count  48895 non-null  int64  \n",
      " 15  availability_365                48895 non-null  int64  \n",
      "dtypes: float64(3), int64(7), object(6)\n",
      "memory usage: 6.0+ MB\n"
     ]
    }
   ],
   "source": [
    "airbnb.info()"
   ]
  },
  {
   "cell_type": "markdown",
   "id": "2139ea87",
   "metadata": {},
   "source": [
    "### Checking Summary statistics"
   ]
  },
  {
   "cell_type": "code",
   "execution_count": 6,
   "id": "c63be011",
   "metadata": {
    "scrolled": true
   },
   "outputs": [
    {
     "data": {
      "text/html": [
       "<div>\n",
       "<style scoped>\n",
       "    .dataframe tbody tr th:only-of-type {\n",
       "        vertical-align: middle;\n",
       "    }\n",
       "\n",
       "    .dataframe tbody tr th {\n",
       "        vertical-align: top;\n",
       "    }\n",
       "\n",
       "    .dataframe thead th {\n",
       "        text-align: right;\n",
       "    }\n",
       "</style>\n",
       "<table border=\"1\" class=\"dataframe\">\n",
       "  <thead>\n",
       "    <tr style=\"text-align: right;\">\n",
       "      <th></th>\n",
       "      <th>id</th>\n",
       "      <th>host_id</th>\n",
       "      <th>latitude</th>\n",
       "      <th>longitude</th>\n",
       "      <th>price</th>\n",
       "      <th>minimum_nights</th>\n",
       "      <th>number_of_reviews</th>\n",
       "      <th>reviews_per_month</th>\n",
       "      <th>calculated_host_listings_count</th>\n",
       "      <th>availability_365</th>\n",
       "    </tr>\n",
       "  </thead>\n",
       "  <tbody>\n",
       "    <tr>\n",
       "      <th>count</th>\n",
       "      <td>4.889500e+04</td>\n",
       "      <td>4.889500e+04</td>\n",
       "      <td>48895.000000</td>\n",
       "      <td>48895.000000</td>\n",
       "      <td>48895.000000</td>\n",
       "      <td>48895.000000</td>\n",
       "      <td>48895.000000</td>\n",
       "      <td>38843.000000</td>\n",
       "      <td>48895.000000</td>\n",
       "      <td>48895.000000</td>\n",
       "    </tr>\n",
       "    <tr>\n",
       "      <th>mean</th>\n",
       "      <td>1.901714e+07</td>\n",
       "      <td>6.762001e+07</td>\n",
       "      <td>40.728949</td>\n",
       "      <td>-73.952170</td>\n",
       "      <td>152.720687</td>\n",
       "      <td>7.029962</td>\n",
       "      <td>23.274466</td>\n",
       "      <td>1.373221</td>\n",
       "      <td>7.143982</td>\n",
       "      <td>112.781327</td>\n",
       "    </tr>\n",
       "    <tr>\n",
       "      <th>std</th>\n",
       "      <td>1.098311e+07</td>\n",
       "      <td>7.861097e+07</td>\n",
       "      <td>0.054530</td>\n",
       "      <td>0.046157</td>\n",
       "      <td>240.154170</td>\n",
       "      <td>20.510550</td>\n",
       "      <td>44.550582</td>\n",
       "      <td>1.680442</td>\n",
       "      <td>32.952519</td>\n",
       "      <td>131.622289</td>\n",
       "    </tr>\n",
       "    <tr>\n",
       "      <th>min</th>\n",
       "      <td>2.539000e+03</td>\n",
       "      <td>2.438000e+03</td>\n",
       "      <td>40.499790</td>\n",
       "      <td>-74.244420</td>\n",
       "      <td>0.000000</td>\n",
       "      <td>1.000000</td>\n",
       "      <td>0.000000</td>\n",
       "      <td>0.010000</td>\n",
       "      <td>1.000000</td>\n",
       "      <td>0.000000</td>\n",
       "    </tr>\n",
       "    <tr>\n",
       "      <th>25%</th>\n",
       "      <td>9.471945e+06</td>\n",
       "      <td>7.822033e+06</td>\n",
       "      <td>40.690100</td>\n",
       "      <td>-73.983070</td>\n",
       "      <td>69.000000</td>\n",
       "      <td>1.000000</td>\n",
       "      <td>1.000000</td>\n",
       "      <td>0.190000</td>\n",
       "      <td>1.000000</td>\n",
       "      <td>0.000000</td>\n",
       "    </tr>\n",
       "    <tr>\n",
       "      <th>50%</th>\n",
       "      <td>1.967728e+07</td>\n",
       "      <td>3.079382e+07</td>\n",
       "      <td>40.723070</td>\n",
       "      <td>-73.955680</td>\n",
       "      <td>106.000000</td>\n",
       "      <td>3.000000</td>\n",
       "      <td>5.000000</td>\n",
       "      <td>0.720000</td>\n",
       "      <td>1.000000</td>\n",
       "      <td>45.000000</td>\n",
       "    </tr>\n",
       "    <tr>\n",
       "      <th>75%</th>\n",
       "      <td>2.915218e+07</td>\n",
       "      <td>1.074344e+08</td>\n",
       "      <td>40.763115</td>\n",
       "      <td>-73.936275</td>\n",
       "      <td>175.000000</td>\n",
       "      <td>5.000000</td>\n",
       "      <td>24.000000</td>\n",
       "      <td>2.020000</td>\n",
       "      <td>2.000000</td>\n",
       "      <td>227.000000</td>\n",
       "    </tr>\n",
       "    <tr>\n",
       "      <th>max</th>\n",
       "      <td>3.648724e+07</td>\n",
       "      <td>2.743213e+08</td>\n",
       "      <td>40.913060</td>\n",
       "      <td>-73.712990</td>\n",
       "      <td>10000.000000</td>\n",
       "      <td>1250.000000</td>\n",
       "      <td>629.000000</td>\n",
       "      <td>58.500000</td>\n",
       "      <td>327.000000</td>\n",
       "      <td>365.000000</td>\n",
       "    </tr>\n",
       "  </tbody>\n",
       "</table>\n",
       "</div>"
      ],
      "text/plain": [
       "                 id       host_id      latitude     longitude         price  \\\n",
       "count  4.889500e+04  4.889500e+04  48895.000000  48895.000000  48895.000000   \n",
       "mean   1.901714e+07  6.762001e+07     40.728949    -73.952170    152.720687   \n",
       "std    1.098311e+07  7.861097e+07      0.054530      0.046157    240.154170   \n",
       "min    2.539000e+03  2.438000e+03     40.499790    -74.244420      0.000000   \n",
       "25%    9.471945e+06  7.822033e+06     40.690100    -73.983070     69.000000   \n",
       "50%    1.967728e+07  3.079382e+07     40.723070    -73.955680    106.000000   \n",
       "75%    2.915218e+07  1.074344e+08     40.763115    -73.936275    175.000000   \n",
       "max    3.648724e+07  2.743213e+08     40.913060    -73.712990  10000.000000   \n",
       "\n",
       "       minimum_nights  number_of_reviews  reviews_per_month  \\\n",
       "count    48895.000000       48895.000000       38843.000000   \n",
       "mean         7.029962          23.274466           1.373221   \n",
       "std         20.510550          44.550582           1.680442   \n",
       "min          1.000000           0.000000           0.010000   \n",
       "25%          1.000000           1.000000           0.190000   \n",
       "50%          3.000000           5.000000           0.720000   \n",
       "75%          5.000000          24.000000           2.020000   \n",
       "max       1250.000000         629.000000          58.500000   \n",
       "\n",
       "       calculated_host_listings_count  availability_365  \n",
       "count                    48895.000000      48895.000000  \n",
       "mean                         7.143982        112.781327  \n",
       "std                         32.952519        131.622289  \n",
       "min                          1.000000          0.000000  \n",
       "25%                          1.000000          0.000000  \n",
       "50%                          1.000000         45.000000  \n",
       "75%                          2.000000        227.000000  \n",
       "max                        327.000000        365.000000  "
      ]
     },
     "execution_count": 6,
     "metadata": {},
     "output_type": "execute_result"
    }
   ],
   "source": [
    "airbnb.describe() # numerical cols"
   ]
  },
  {
   "cell_type": "markdown",
   "id": "8f78eaa8",
   "metadata": {},
   "source": [
    "### Data Type"
   ]
  },
  {
   "cell_type": "markdown",
   "id": "da62f29c",
   "metadata": {},
   "source": [
    "<font size=\"3\">Separating our features into numerical and categorical early on is useful and here is a helper function that does that. This is accomplished by using the select_dtypes() function that columns with the ‘object’ data type as categorical and the rest as numerical."
   ]
  },
  {
   "cell_type": "code",
   "execution_count": 7,
   "id": "66c76a47",
   "metadata": {},
   "outputs": [],
   "source": [
    "cat_df = airbnb.select_dtypes(include=['object'])\n",
    "num_df = airbnb.select_dtypes(exclude=['object'])"
   ]
  },
  {
   "cell_type": "code",
   "execution_count": 8,
   "id": "d5e67a65",
   "metadata": {},
   "outputs": [],
   "source": [
    "def printColumnTypes(non_numeric_df, numeric_df):\n",
    "    '''separates non-numeric and numeric columns'''\n",
    "    print(\"Non-Numeric columns:\")\n",
    "    for col in non_numeric_df:\n",
    "        print(f\"{col}\")\n",
    "    print(\"\")\n",
    "    print(\"Numeric columns:\")\n",
    "    for col in numeric_df:\n",
    "        print(f\"{col}\")"
   ]
  },
  {
   "cell_type": "code",
   "execution_count": 9,
   "id": "c358e871",
   "metadata": {
    "scrolled": false
   },
   "outputs": [
    {
     "name": "stdout",
     "output_type": "stream",
     "text": [
      "Non-Numeric columns:\n",
      "name\n",
      "host_name\n",
      "neighbourhood_group\n",
      "neighbourhood\n",
      "room_type\n",
      "last_review\n",
      "\n",
      "Numeric columns:\n",
      "id\n",
      "host_id\n",
      "latitude\n",
      "longitude\n",
      "price\n",
      "minimum_nights\n",
      "number_of_reviews\n",
      "reviews_per_month\n",
      "calculated_host_listings_count\n",
      "availability_365\n"
     ]
    }
   ],
   "source": [
    "printColumnTypes(cat_df, num_df)"
   ]
  },
  {
   "cell_type": "markdown",
   "id": "23cfda60",
   "metadata": {},
   "source": [
    "<font size=\"3\">Now we have some idea of our data, we can move on to cleaning it by first checking for missing values."
   ]
  },
  {
   "cell_type": "markdown",
   "id": "abd9cd92",
   "metadata": {},
   "source": [
    "### Missing Data"
   ]
  },
  {
   "cell_type": "markdown",
   "id": "1d1b32cb",
   "metadata": {},
   "source": [
    "<font size=\"3\">\n",
    "    \n",
    "The two common methods to deal with missing values are\n",
    "- dropping the rows / columns : you’re essentially losing information that might be useful for prediction\n",
    "- imputing them based on other observations i.e. the mean or median : imputing values will introduce bias to your data but it still might better than removing your features.    "
   ]
  },
  {
   "cell_type": "markdown",
   "id": "72df1b82",
   "metadata": {},
   "source": [
    "### Columns with missing values"
   ]
  },
  {
   "cell_type": "code",
   "execution_count": 10,
   "id": "daf822e5",
   "metadata": {},
   "outputs": [
    {
     "name": "stdout",
     "output_type": "stream",
     "text": [
      "name => 16\n",
      "host_name => 21\n",
      "last_review => 10052\n",
      "reviews_per_month => 10052\n"
     ]
    }
   ],
   "source": [
    "def missing_cols(df):\n",
    "    '''prints out columns with its amount of missing values'''\n",
    "    total = 0\n",
    "    for col in df.columns:\n",
    "        missing_vals = df[col].isnull().sum()\n",
    "        total += missing_vals\n",
    "        if missing_vals != 0:\n",
    "            print(f\"{col} => {df[col].isnull().sum()}\")\n",
    "    \n",
    "    if total == 0:\n",
    "        print(\"no missing values left\")\n",
    "            \n",
    "missing_cols(airbnb)"
   ]
  },
  {
   "cell_type": "markdown",
   "id": "3bace032",
   "metadata": {},
   "source": [
    "#\n",
    "## Percentage missing"
   ]
  },
  {
   "cell_type": "code",
   "execution_count": 11,
   "id": "3ab46910",
   "metadata": {},
   "outputs": [
    {
     "name": "stdout",
     "output_type": "stream",
     "text": [
      "name => 0.03%\n",
      "host_name => 0.04%\n",
      "last_review => 20.56%\n",
      "reviews_per_month => 20.56%\n"
     ]
    }
   ],
   "source": [
    "def perc_missing(df):\n",
    "    '''prints out columns with missing values with its %'''\n",
    "    for col in df.columns:\n",
    "        pct = df[col].isna().mean() * 100\n",
    "        if (pct != 0):\n",
    "            print('{} => {}%'.format(col, round(pct, 2)))\n",
    "    \n",
    "perc_missing(airbnb)"
   ]
  },
  {
   "cell_type": "markdown",
   "id": "f8d0bd9d",
   "metadata": {},
   "source": [
    "### Heatmap of missing values\n",
    "<font size=\"3\">Heatmaps are also useful to visualize your missing values, in particular at which point of the data do missing values exists."
   ]
  },
  {
   "cell_type": "code",
   "execution_count": 12,
   "id": "934fa8bc",
   "metadata": {
    "scrolled": true
   },
   "outputs": [
    {
     "data": {
      "text/plain": [
       "<AxesSubplot:>"
      ]
     },
     "execution_count": 12,
     "metadata": {},
     "output_type": "execute_result"
    },
    {
     "data": {
      "image/png": "[encoded data removed]",
      "text/plain": [
       "<Figure size 720x432 with 1 Axes>"
      ]
     },
     "metadata": {
      "needs_background": "light"
     },
     "output_type": "display_data"
    }
   ],
   "source": [
    "plt.figure(figsize=(10, 6))\n",
    "sns.heatmap(airbnb.isnull(), yticklabels=False, cmap='viridis', cbar=False)"
   ]
  },
  {
   "cell_type": "markdown",
   "id": "5d66c6f0",
   "metadata": {},
   "source": [
    "### Technique to deal with missing values"
   ]
  },
  {
   "cell_type": "markdown",
   "id": "ea206746",
   "metadata": {},
   "source": [
    "<font size=\"3\">\n",
    "    \n",
    "1. Drop the feature\n",
    "2. Drop the row\n",
    "3. Impute the missing value\n",
    "4. Replace it"
   ]
  },
  {
   "cell_type": "markdown",
   "id": "799e14e9",
   "metadata": {},
   "source": [
    "### 1. Dropping feature"
   ]
  },
  {
   "cell_type": "markdown",
   "id": "3345a741",
   "metadata": {},
   "source": [
    "<font size=\"3\">\n",
    "\n",
    "Dropping feature usually isn’t recommended because you’re losing information. But if you’re sure that the column isn’t important, or simply has too many missing values, you can choose to drop them. \n",
    "    \n",
    "for this dataset, the host_name column was removed for ethical reasons, and id was removed because it was was unnecessary."
   ]
  },
  {
   "cell_type": "code",
   "execution_count": 13,
   "id": "7591a92d",
   "metadata": {
    "scrolled": true
   },
   "outputs": [
    {
     "data": {
      "text/html": [
       "<div>\n",
       "<style scoped>\n",
       "    .dataframe tbody tr th:only-of-type {\n",
       "        vertical-align: middle;\n",
       "    }\n",
       "\n",
       "    .dataframe tbody tr th {\n",
       "        vertical-align: top;\n",
       "    }\n",
       "\n",
       "    .dataframe thead th {\n",
       "        text-align: right;\n",
       "    }\n",
       "</style>\n",
       "<table border=\"1\" class=\"dataframe\">\n",
       "  <thead>\n",
       "    <tr style=\"text-align: right;\">\n",
       "      <th></th>\n",
       "      <th>id</th>\n",
       "      <th>name</th>\n",
       "      <th>host_id</th>\n",
       "      <th>host_name</th>\n",
       "      <th>neighbourhood_group</th>\n",
       "      <th>neighbourhood</th>\n",
       "      <th>latitude</th>\n",
       "      <th>longitude</th>\n",
       "      <th>room_type</th>\n",
       "      <th>price</th>\n",
       "      <th>minimum_nights</th>\n",
       "      <th>number_of_reviews</th>\n",
       "      <th>last_review</th>\n",
       "      <th>reviews_per_month</th>\n",
       "      <th>calculated_host_listings_count</th>\n",
       "      <th>availability_365</th>\n",
       "    </tr>\n",
       "  </thead>\n",
       "  <tbody>\n",
       "    <tr>\n",
       "      <th>0</th>\n",
       "      <td>2539</td>\n",
       "      <td>Clean &amp; quiet apt home by the park</td>\n",
       "      <td>2787</td>\n",
       "      <td>John</td>\n",
       "      <td>Brooklyn</td>\n",
       "      <td>Kensington</td>\n",
       "      <td>40.64749</td>\n",
       "      <td>-73.97237</td>\n",
       "      <td>Private room</td>\n",
       "      <td>149</td>\n",
       "      <td>1</td>\n",
       "      <td>9</td>\n",
       "      <td>2018-10-19</td>\n",
       "      <td>0.21</td>\n",
       "      <td>6</td>\n",
       "      <td>365</td>\n",
       "    </tr>\n",
       "    <tr>\n",
       "      <th>1</th>\n",
       "      <td>2595</td>\n",
       "      <td>Skylit Midtown Castle</td>\n",
       "      <td>2845</td>\n",
       "      <td>Jennifer</td>\n",
       "      <td>Manhattan</td>\n",
       "      <td>Midtown</td>\n",
       "      <td>40.75362</td>\n",
       "      <td>-73.98377</td>\n",
       "      <td>Entire home/apt</td>\n",
       "      <td>225</td>\n",
       "      <td>1</td>\n",
       "      <td>45</td>\n",
       "      <td>2019-05-21</td>\n",
       "      <td>0.38</td>\n",
       "      <td>2</td>\n",
       "      <td>355</td>\n",
       "    </tr>\n",
       "    <tr>\n",
       "      <th>2</th>\n",
       "      <td>3647</td>\n",
       "      <td>THE VILLAGE OF HARLEM....NEW YORK !</td>\n",
       "      <td>4632</td>\n",
       "      <td>Elisabeth</td>\n",
       "      <td>Manhattan</td>\n",
       "      <td>Harlem</td>\n",
       "      <td>40.80902</td>\n",
       "      <td>-73.94190</td>\n",
       "      <td>Private room</td>\n",
       "      <td>150</td>\n",
       "      <td>3</td>\n",
       "      <td>0</td>\n",
       "      <td>NaN</td>\n",
       "      <td>NaN</td>\n",
       "      <td>1</td>\n",
       "      <td>365</td>\n",
       "    </tr>\n",
       "    <tr>\n",
       "      <th>3</th>\n",
       "      <td>3831</td>\n",
       "      <td>Cozy Entire Floor of Brownstone</td>\n",
       "      <td>4869</td>\n",
       "      <td>LisaRoxanne</td>\n",
       "      <td>Brooklyn</td>\n",
       "      <td>Clinton Hill</td>\n",
       "      <td>40.68514</td>\n",
       "      <td>-73.95976</td>\n",
       "      <td>Entire home/apt</td>\n",
       "      <td>89</td>\n",
       "      <td>1</td>\n",
       "      <td>270</td>\n",
       "      <td>2019-07-05</td>\n",
       "      <td>4.64</td>\n",
       "      <td>1</td>\n",
       "      <td>194</td>\n",
       "    </tr>\n",
       "    <tr>\n",
       "      <th>4</th>\n",
       "      <td>5022</td>\n",
       "      <td>Entire Apt: Spacious Studio/Loft by central park</td>\n",
       "      <td>7192</td>\n",
       "      <td>Laura</td>\n",
       "      <td>Manhattan</td>\n",
       "      <td>East Harlem</td>\n",
       "      <td>40.79851</td>\n",
       "      <td>-73.94399</td>\n",
       "      <td>Entire home/apt</td>\n",
       "      <td>80</td>\n",
       "      <td>10</td>\n",
       "      <td>9</td>\n",
       "      <td>2018-11-19</td>\n",
       "      <td>0.10</td>\n",
       "      <td>1</td>\n",
       "      <td>0</td>\n",
       "    </tr>\n",
       "  </tbody>\n",
       "</table>\n",
       "</div>"
      ],
      "text/plain": [
       "     id                                              name  host_id  \\\n",
       "0  2539                Clean & quiet apt home by the park     2787   \n",
       "1  2595                             Skylit Midtown Castle     2845   \n",
       "2  3647               THE VILLAGE OF HARLEM....NEW YORK !     4632   \n",
       "3  3831                   Cozy Entire Floor of Brownstone     4869   \n",
       "4  5022  Entire Apt: Spacious Studio/Loft by central park     7192   \n",
       "\n",
       "     host_name neighbourhood_group neighbourhood  latitude  longitude  \\\n",
       "0         John            Brooklyn    Kensington  40.64749  -73.97237   \n",
       "1     Jennifer           Manhattan       Midtown  40.75362  -73.98377   \n",
       "2    Elisabeth           Manhattan        Harlem  40.80902  -73.94190   \n",
       "3  LisaRoxanne            Brooklyn  Clinton Hill  40.68514  -73.95976   \n",
       "4        Laura           Manhattan   East Harlem  40.79851  -73.94399   \n",
       "\n",
       "         room_type  price  minimum_nights  number_of_reviews last_review  \\\n",
       "0     Private room    149               1                  9  2018-10-19   \n",
       "1  Entire home/apt    225               1                 45  2019-05-21   \n",
       "2     Private room    150               3                  0         NaN   \n",
       "3  Entire home/apt     89               1                270  2019-07-05   \n",
       "4  Entire home/apt     80              10                  9  2018-11-19   \n",
       "\n",
       "   reviews_per_month  calculated_host_listings_count  availability_365  \n",
       "0               0.21                               6               365  \n",
       "1               0.38                               2               355  \n",
       "2                NaN                               1               365  \n",
       "3               4.64                               1               194  \n",
       "4               0.10                               1                 0  "
      ]
     },
     "execution_count": 13,
     "metadata": {},
     "output_type": "execute_result"
    }
   ],
   "source": [
    "airbnb_ori.head()"
   ]
  },
  {
   "cell_type": "code",
   "execution_count": 14,
   "id": "d61435a1",
   "metadata": {},
   "outputs": [],
   "source": [
    "# airbnb_ori.loc[airbnb_ori['number_of_reviews'] ==0,[\"id\",\"number_of_reviews\",\"last_review\",\"reviews_per_month\"]]"
   ]
  },
  {
   "cell_type": "code",
   "execution_count": 15,
   "id": "9b9a4b7c",
   "metadata": {},
   "outputs": [
    {
     "name": "stdout",
     "output_type": "stream",
     "text": [
      "name => 16\n",
      "reviews_per_month => 10052\n"
     ]
    }
   ],
   "source": [
    "# Drop unnecessary columns that are not important\n",
    "colsToDrop = ['id','host_name','last_review']\n",
    "\n",
    "airbnb.drop(colsToDrop, axis=1, inplace=True)\n",
    "\n",
    "missing_cols(airbnb)"
   ]
  },
  {
   "cell_type": "markdown",
   "id": "4bac7daa",
   "metadata": {},
   "source": [
    "### 2. Dropping the row"
   ]
  },
  {
   "cell_type": "code",
   "execution_count": 16,
   "id": "4d59181d",
   "metadata": {},
   "outputs": [],
   "source": [
    "airbnb_copy = airbnb.copy()"
   ]
  },
  {
   "cell_type": "code",
   "execution_count": 17,
   "id": "c6e977da",
   "metadata": {},
   "outputs": [],
   "source": [
    "# intentionally filling mising values in price columns\n",
    "airbnb_copy.loc[airbnb_copy['price'] ==10,\"price\"] = np.nan"
   ]
  },
  {
   "cell_type": "code",
   "execution_count": 18,
   "id": "1c13313e",
   "metadata": {},
   "outputs": [
    {
     "data": {
      "text/plain": [
       "17"
      ]
     },
     "execution_count": 18,
     "metadata": {},
     "output_type": "execute_result"
    }
   ],
   "source": [
    "airbnb_copy['price'].isna().sum() # checking mising values in price"
   ]
  },
  {
   "cell_type": "markdown",
   "id": "1e12f36d",
   "metadata": {},
   "source": [
    "<font size=\"3\">If you want to remove rows, you do so using dropna"
   ]
  },
  {
   "cell_type": "code",
   "execution_count": 19,
   "id": "f14663fa",
   "metadata": {},
   "outputs": [],
   "source": [
    "# remove rows with missing values in price\n",
    "airbnb_copy.dropna(subset =['price'],axis =0,inplace=True)"
   ]
  },
  {
   "cell_type": "code",
   "execution_count": 20,
   "id": "3bcaa0ae",
   "metadata": {},
   "outputs": [
    {
     "data": {
      "text/plain": [
       "0"
      ]
     },
     "execution_count": 20,
     "metadata": {},
     "output_type": "execute_result"
    }
   ],
   "source": [
    "airbnb_copy['price'].isnull().sum()"
   ]
  },
  {
   "cell_type": "code",
   "execution_count": 21,
   "id": "b9c523bc",
   "metadata": {
    "scrolled": true
   },
   "outputs": [
    {
     "data": {
      "text/plain": [
       "name                                 16\n",
       "host_id                               0\n",
       "neighbourhood_group                   0\n",
       "neighbourhood                         0\n",
       "latitude                              0\n",
       "longitude                             0\n",
       "room_type                             0\n",
       "price                                 0\n",
       "minimum_nights                        0\n",
       "number_of_reviews                     0\n",
       "reviews_per_month                 10047\n",
       "calculated_host_listings_count        0\n",
       "availability_365                      0\n",
       "dtype: int64"
      ]
     },
     "execution_count": 21,
     "metadata": {},
     "output_type": "execute_result"
    }
   ],
   "source": [
    "airbnb_copy.isnull().sum()"
   ]
  },
  {
   "cell_type": "markdown",
   "id": "87b727fd",
   "metadata": {},
   "source": [
    "### 3. Imputing"
   ]
  },
  {
   "cell_type": "markdown",
   "id": "5fda86b8",
   "metadata": {},
   "source": [
    "<font size=\"3\">\n",
    "\n",
    "- *fillna* — filling in null values based on given value (mean, median, mode, or specified value)\n",
    "- *bfill / ffill* — stands for backward fill and forward fill (filling in missing values based on the value after or before the column.)\n",
    "- *Simple Imputer* — Sk-learn’s built-in function that imputes missing values (commonly used alongside a pipeline when building ML models)"
   ]
  },
  {
   "cell_type": "code",
   "execution_count": 22,
   "id": "14c939f2",
   "metadata": {},
   "outputs": [],
   "source": [
    "# NumericaL -> mean,min,max, specified value, median\n",
    "# categorical -> mode/most frequent"
   ]
  },
  {
   "cell_type": "code",
   "execution_count": 23,
   "id": "13c472c8",
   "metadata": {},
   "outputs": [],
   "source": [
    "# imputing price with mean\n",
    "price_mean_value = round(airbnb['price'].mean(), 2)\n",
    "airbnb['price'].fillna(price_mean_value, inplace=True)"
   ]
  },
  {
   "cell_type": "code",
   "execution_count": 24,
   "id": "2f9562cf",
   "metadata": {},
   "outputs": [],
   "source": [
    "# imputing price with median\n",
    "price_median_value = round(airbnb['price'].median(), 2)\n",
    "airbnb['price'].fillna(price_median_value, inplace=True)"
   ]
  },
  {
   "cell_type": "code",
   "execution_count": 25,
   "id": "60c89c8d",
   "metadata": {},
   "outputs": [],
   "source": [
    "# imputing with bfill or ffill\n",
    "airbnb['price'].bfill(inplace=True)\n",
    "airbnb['price'].ffill(inplace=True)"
   ]
  },
  {
   "cell_type": "code",
   "execution_count": 26,
   "id": "57aa3846",
   "metadata": {},
   "outputs": [
    {
     "data": {
      "text/plain": [
       "Int64Index([], dtype='int64')"
      ]
     },
     "execution_count": 26,
     "metadata": {},
     "output_type": "execute_result"
    }
   ],
   "source": [
    "airbnb[airbnb['price'].isnull()].index"
   ]
  },
  {
   "cell_type": "code",
   "execution_count": 29,
   "id": "d1ed0c3e",
   "metadata": {},
   "outputs": [],
   "source": [
    "# imputing with SimpleImputor from the sklearn library\n",
    "from sklearn.impute import SimpleImputer\n",
    "# define the imputer\n",
    "imr = SimpleImputer(missing_values=np.nan, strategy='mean') # or median\n",
    "airbnb[['price']] = imr.fit_transform(airbnb[['price']])\n",
    "\n",
    "# use strategy = 'most_frequent' for categorical data"
   ]
  },
  {
   "cell_type": "markdown",
   "id": "43ecb453",
   "metadata": {},
   "source": [
    "### 4. Replace"
   ]
  },
  {
   "cell_type": "markdown",
   "id": "f519a7bf",
   "metadata": {},
   "source": [
    "<font size=\"3\">\n",
    "\n",
    "To replace values, the fillna function is also used.\n",
    "    \n",
    "You define the value you want to replace in the key, and the substitute in the value — {column_name: replacement_for_NA}"
   ]
  },
  {
   "cell_type": "code",
   "execution_count": 32,
   "id": "cf241944",
   "metadata": {},
   "outputs": [],
   "source": [
    "x = airbnb['price'].replace(np.nan,airbnb['price'].median())"
   ]
  },
  {
   "cell_type": "code",
   "execution_count": 33,
   "id": "6b87a08b",
   "metadata": {},
   "outputs": [
    {
     "name": "stdout",
     "output_type": "stream",
     "text": [
      "name => 16\n"
     ]
    }
   ],
   "source": [
    "# replace null values in reviews_per_month with 0 \n",
    "airbnb.fillna({'reviews_per_month':0}, inplace=True)\n",
    "\n",
    "missing_cols(airbnb)"
   ]
  },
  {
   "cell_type": "code",
   "execution_count": 34,
   "id": "d4a74722",
   "metadata": {},
   "outputs": [
    {
     "name": "stdout",
     "output_type": "stream",
     "text": [
      "no missing values left\n"
     ]
    }
   ],
   "source": [
    "# replace null values in name with 'None'\n",
    "airbnb.fillna({'name':'None'}, inplace=True)\n",
    "\n",
    "missing_cols(airbnb)"
   ]
  },
  {
   "cell_type": "markdown",
   "id": "00a1b069",
   "metadata": {},
   "source": [
    "<font size=\"3\">*Now let’s move on to dealing with inconsistent or irrelevant features.*"
   ]
  },
  {
   "cell_type": "markdown",
   "id": "8e0228cb",
   "metadata": {},
   "source": [
    "## Inconsistent data/Irrelevant features"
   ]
  },
  {
   "cell_type": "markdown",
   "id": "a8c454f8",
   "metadata": {},
   "source": [
    "<font size=\"3\">Inconsistent data refers to things like spelling errors in your data, column names that are not relevant to the data, the wrong data type, etc."
   ]
  },
  {
   "cell_type": "markdown",
   "id": "55a1db2d",
   "metadata": {},
   "source": [
    "### 1. Remove rows based on regex"
   ]
  },
  {
   "cell_type": "markdown",
   "id": "c8f8475b",
   "metadata": {},
   "source": [
    "<font size=\"3\">\n",
    "\n",
    "Let’s say you want to remove rows that contain a certain word. For my example, I chose the word noisy/Noisy as my target, and I used the function str.contains() to find the indexes that contain those rows.\n",
    "    \n",
    "Then, using the drop function, and setting axis to index, I can supply the indexes I have and drop those rows."
   ]
  },
  {
   "cell_type": "code",
   "execution_count": 35,
   "id": "89890810",
   "metadata": {},
   "outputs": [
    {
     "name": "stdout",
     "output_type": "stream",
     "text": [
      "19733                     Noisy room next to Prospect Park\n",
      "23857               Small Homey Studio in a Big Noisy City\n",
      "35343    My wife is not used to the noisy environment. How\n",
      "Name: name, dtype: object\n"
     ]
    }
   ],
   "source": [
    "# example: remove rows that contain the target word\n",
    "target = '[Nn]oisy'\n",
    "\n",
    "noisy_airbnb = airbnb[airbnb['name'].str.contains(target, regex=True)]\n",
    "\n",
    "# show rows that contains the word noisy\n",
    "print(noisy_airbnb['name'])\n",
    "\n",
    "# get the index that contains the word noisy\n",
    "index_to_drop = noisy_airbnb['name'].index\n",
    "\n",
    "# print(index_to_drop)"
   ]
  },
  {
   "cell_type": "markdown",
   "id": "ddddc96a",
   "metadata": {},
   "source": [
    "### 2. Spelling errors in categorical data"
   ]
  },
  {
   "cell_type": "markdown",
   "id": "6e613c74",
   "metadata": {},
   "source": [
    "<font size=\"3\">Sometimes your categorical data might have spelling errors or different capitalization that can mess up your categorization."
   ]
  },
  {
   "cell_type": "code",
   "execution_count": 36,
   "id": "ccbb08a9",
   "metadata": {
    "scrolled": true
   },
   "outputs": [
    {
     "data": {
      "text/plain": [
       "Manhattan        21661\n",
       "Brooklyn         20104\n",
       "Queens            5666\n",
       "Bronx             1091\n",
       "Staten Island      373\n",
       "Name: neighbourhood_group, dtype: int64"
      ]
     },
     "execution_count": 36,
     "metadata": {},
     "output_type": "execute_result"
    }
   ],
   "source": [
    "airbnb['neighbourhood_group'].value_counts()"
   ]
  },
  {
   "cell_type": "markdown",
   "id": "7d288a9f",
   "metadata": {},
   "source": [
    "<font size=\"3\">*To simulate a scenario where some of the data had capitalization or spelling issues, I sampled 2 rows from the data, and replaced them with the wrong spelling*"
   ]
  },
  {
   "cell_type": "code",
   "execution_count": 37,
   "id": "6f3eb021",
   "metadata": {},
   "outputs": [
    {
     "data": {
      "text/plain": [
       "Manhattan        21660\n",
       "Brooklyn         20103\n",
       "Queens            5666\n",
       "Bronx             1091\n",
       "Staten Island      373\n",
       "manhatann            1\n",
       "brookln              1\n",
       "Name: neighbourhood_group, dtype: int64"
      ]
     },
     "execution_count": 37,
     "metadata": {},
     "output_type": "execute_result"
    }
   ],
   "source": [
    "random_index = airbnb.sample(2, random_state = 10).index\n",
    "\n",
    "# airbnb['neighbourhood_group'].loc[random_index]\n",
    "## we randomly selected Manhattan and Brooklyn\n",
    "\n",
    "wrong_spelling = ['manhatann', 'brookln']\n",
    "\n",
    "# replace them with the wrong spelling\n",
    "airbnb.loc[random_index,'neighbourhood_group'] = wrong_spelling\n",
    "airbnb['neighbourhood_group'].value_counts()"
   ]
  },
  {
   "cell_type": "code",
   "execution_count": 38,
   "id": "646cb422",
   "metadata": {},
   "outputs": [
    {
     "data": {
      "text/plain": [
       "Manhattan        21661\n",
       "Brooklyn         20104\n",
       "Queens            5666\n",
       "Bronx             1091\n",
       "Staten Island      373\n",
       "Name: neighbourhood_group, dtype: int64"
      ]
     },
     "execution_count": 38,
     "metadata": {},
     "output_type": "execute_result"
    }
   ],
   "source": [
    "airbnb['neighbourhood_group'].replace(['manhatann','brookln'],['Manhattan','Brooklyn'], inplace = True)\n",
    "airbnb['neighbourhood_group'].value_counts()"
   ]
  },
  {
   "cell_type": "code",
   "execution_count": 39,
   "id": "4795b91a",
   "metadata": {},
   "outputs": [
    {
     "data": {
      "text/plain": [
       "Manhattan        21661\n",
       "Brooklyn         20104\n",
       "Queens            5666\n",
       "Bronx             1091\n",
       "Staten Island      373\n",
       "Name: neighbourhood_group, dtype: int64"
      ]
     },
     "execution_count": 39,
     "metadata": {},
     "output_type": "execute_result"
    }
   ],
   "source": [
    "airbnb['neighbourhood_group'].replace(['manhatann', 'brookln'],\n",
    "                             ['Manhattan', 'Brooklyn'], inplace=True)\n",
    "airbnb['neighbourhood_group'].value_counts()"
   ]
  },
  {
   "cell_type": "markdown",
   "id": "4c05c4a0",
   "metadata": {},
   "source": [
    "### 3. Renaming columns"
   ]
  },
  {
   "cell_type": "code",
   "execution_count": 40,
   "id": "ba8f1ac5",
   "metadata": {},
   "outputs": [
    {
     "data": {
      "text/html": [
       "<div>\n",
       "<style scoped>\n",
       "    .dataframe tbody tr th:only-of-type {\n",
       "        vertical-align: middle;\n",
       "    }\n",
       "\n",
       "    .dataframe tbody tr th {\n",
       "        vertical-align: top;\n",
       "    }\n",
       "\n",
       "    .dataframe thead th {\n",
       "        text-align: right;\n",
       "    }\n",
       "</style>\n",
       "<table border=\"1\" class=\"dataframe\">\n",
       "  <thead>\n",
       "    <tr style=\"text-align: right;\">\n",
       "      <th></th>\n",
       "      <th>listing_name</th>\n",
       "      <th>host_id</th>\n",
       "      <th>neighbourhood_group</th>\n",
       "      <th>neighbourhood</th>\n",
       "      <th>lat</th>\n",
       "      <th>long</th>\n",
       "      <th>room_type</th>\n",
       "      <th>price</th>\n",
       "      <th>minimum_nights</th>\n",
       "      <th>number_of_reviews</th>\n",
       "      <th>reviews_per_month</th>\n",
       "      <th>calculated_host_listings_count</th>\n",
       "      <th>availability_365</th>\n",
       "    </tr>\n",
       "  </thead>\n",
       "  <tbody>\n",
       "    <tr>\n",
       "      <th>0</th>\n",
       "      <td>Clean &amp; quiet apt home by the park</td>\n",
       "      <td>2787</td>\n",
       "      <td>Brooklyn</td>\n",
       "      <td>Kensington</td>\n",
       "      <td>40.64749</td>\n",
       "      <td>-73.97237</td>\n",
       "      <td>Private room</td>\n",
       "      <td>149.0</td>\n",
       "      <td>1</td>\n",
       "      <td>9</td>\n",
       "      <td>0.21</td>\n",
       "      <td>6</td>\n",
       "      <td>365</td>\n",
       "    </tr>\n",
       "    <tr>\n",
       "      <th>1</th>\n",
       "      <td>Skylit Midtown Castle</td>\n",
       "      <td>2845</td>\n",
       "      <td>Manhattan</td>\n",
       "      <td>Midtown</td>\n",
       "      <td>40.75362</td>\n",
       "      <td>-73.98377</td>\n",
       "      <td>Entire home/apt</td>\n",
       "      <td>225.0</td>\n",
       "      <td>1</td>\n",
       "      <td>45</td>\n",
       "      <td>0.38</td>\n",
       "      <td>2</td>\n",
       "      <td>355</td>\n",
       "    </tr>\n",
       "    <tr>\n",
       "      <th>2</th>\n",
       "      <td>THE VILLAGE OF HARLEM....NEW YORK !</td>\n",
       "      <td>4632</td>\n",
       "      <td>Manhattan</td>\n",
       "      <td>Harlem</td>\n",
       "      <td>40.80902</td>\n",
       "      <td>-73.94190</td>\n",
       "      <td>Private room</td>\n",
       "      <td>150.0</td>\n",
       "      <td>3</td>\n",
       "      <td>0</td>\n",
       "      <td>0.00</td>\n",
       "      <td>1</td>\n",
       "      <td>365</td>\n",
       "    </tr>\n",
       "    <tr>\n",
       "      <th>3</th>\n",
       "      <td>Cozy Entire Floor of Brownstone</td>\n",
       "      <td>4869</td>\n",
       "      <td>Brooklyn</td>\n",
       "      <td>Clinton Hill</td>\n",
       "      <td>40.68514</td>\n",
       "      <td>-73.95976</td>\n",
       "      <td>Entire home/apt</td>\n",
       "      <td>89.0</td>\n",
       "      <td>1</td>\n",
       "      <td>270</td>\n",
       "      <td>4.64</td>\n",
       "      <td>1</td>\n",
       "      <td>194</td>\n",
       "    </tr>\n",
       "    <tr>\n",
       "      <th>4</th>\n",
       "      <td>Entire Apt: Spacious Studio/Loft by central park</td>\n",
       "      <td>7192</td>\n",
       "      <td>Manhattan</td>\n",
       "      <td>East Harlem</td>\n",
       "      <td>40.79851</td>\n",
       "      <td>-73.94399</td>\n",
       "      <td>Entire home/apt</td>\n",
       "      <td>80.0</td>\n",
       "      <td>10</td>\n",
       "      <td>9</td>\n",
       "      <td>0.10</td>\n",
       "      <td>1</td>\n",
       "      <td>0</td>\n",
       "    </tr>\n",
       "  </tbody>\n",
       "</table>\n",
       "</div>"
      ],
      "text/plain": [
       "                                       listing_name  host_id  \\\n",
       "0                Clean & quiet apt home by the park     2787   \n",
       "1                             Skylit Midtown Castle     2845   \n",
       "2               THE VILLAGE OF HARLEM....NEW YORK !     4632   \n",
       "3                   Cozy Entire Floor of Brownstone     4869   \n",
       "4  Entire Apt: Spacious Studio/Loft by central park     7192   \n",
       "\n",
       "  neighbourhood_group neighbourhood       lat      long        room_type  \\\n",
       "0            Brooklyn    Kensington  40.64749 -73.97237     Private room   \n",
       "1           Manhattan       Midtown  40.75362 -73.98377  Entire home/apt   \n",
       "2           Manhattan        Harlem  40.80902 -73.94190     Private room   \n",
       "3            Brooklyn  Clinton Hill  40.68514 -73.95976  Entire home/apt   \n",
       "4           Manhattan   East Harlem  40.79851 -73.94399  Entire home/apt   \n",
       "\n",
       "   price  minimum_nights  number_of_reviews  reviews_per_month  \\\n",
       "0  149.0               1                  9               0.21   \n",
       "1  225.0               1                 45               0.38   \n",
       "2  150.0               3                  0               0.00   \n",
       "3   89.0               1                270               4.64   \n",
       "4   80.0              10                  9               0.10   \n",
       "\n",
       "   calculated_host_listings_count  availability_365  \n",
       "0                               6               365  \n",
       "1                               2               355  \n",
       "2                               1               365  \n",
       "3                               1               194  \n",
       "4                               1                 0  "
      ]
     },
     "execution_count": 40,
     "metadata": {},
     "output_type": "execute_result"
    }
   ],
   "source": [
    "new_names = {'name':'listing_name', 'latitude':'lat', 'longitude':'long'}\n",
    "\n",
    "airbnb.rename(columns=new_names, inplace=True)\n",
    "airbnb.head()"
   ]
  },
  {
   "cell_type": "markdown",
   "id": "18129b53",
   "metadata": {},
   "source": [
    "### 4. Data Type Correction"
   ]
  },
  {
   "cell_type": "markdown",
   "id": "3992146e",
   "metadata": {},
   "source": [
    "<font size=\"3\">\n",
    "    \n",
    "Converting to DateTime\n",
    "    \n",
    "If you have data that should be a datetime object, but are strings, you can use the pd.to_datetime, and pass it the format that represents your data."
   ]
  },
  {
   "cell_type": "code",
   "execution_count": 41,
   "id": "0a297947",
   "metadata": {
    "scrolled": true
   },
   "outputs": [
    {
     "data": {
      "text/plain": [
       "numpy.datetime64"
      ]
     },
     "execution_count": 41,
     "metadata": {},
     "output_type": "execute_result"
    }
   ],
   "source": [
    "airbnb_ori['last_review'] = pd.to_datetime(airbnb_ori['last_review'], format='%Y-%m-%d')\n",
    "airbnb_ori['last_review'].dtype.type"
   ]
  },
  {
   "cell_type": "code",
   "execution_count": 42,
   "id": "e27229bb",
   "metadata": {},
   "outputs": [
    {
     "name": "stdout",
     "output_type": "stream",
     "text": [
      "<class 'pandas.core.frame.DataFrame'>\n",
      "RangeIndex: 48895 entries, 0 to 48894\n",
      "Data columns (total 16 columns):\n",
      " #   Column                          Non-Null Count  Dtype         \n",
      "---  ------                          --------------  -----         \n",
      " 0   id                              48895 non-null  int64         \n",
      " 1   name                            48879 non-null  object        \n",
      " 2   host_id                         48895 non-null  int64         \n",
      " 3   host_name                       48874 non-null  object        \n",
      " 4   neighbourhood_group             48895 non-null  object        \n",
      " 5   neighbourhood                   48895 non-null  object        \n",
      " 6   latitude                        48895 non-null  float64       \n",
      " 7   longitude                       48895 non-null  float64       \n",
      " 8   room_type                       48895 non-null  object        \n",
      " 9   price                           48895 non-null  int64         \n",
      " 10  minimum_nights                  48895 non-null  int64         \n",
      " 11  number_of_reviews               48895 non-null  int64         \n",
      " 12  last_review                     38843 non-null  datetime64[ns]\n",
      " 13  reviews_per_month               38843 non-null  float64       \n",
      " 14  calculated_host_listings_count  48895 non-null  int64         \n",
      " 15  availability_365                48895 non-null  int64         \n",
      "dtypes: datetime64[ns](1), float64(3), int64(7), object(5)\n",
      "memory usage: 6.0+ MB\n"
     ]
    }
   ],
   "source": [
    "airbnb_ori.info()"
   ]
  },
  {
   "cell_type": "markdown",
   "id": "f0992916",
   "metadata": {},
   "source": [
    "### 5. Duplicates"
   ]
  },
  {
   "cell_type": "markdown",
   "id": "fb8376d7",
   "metadata": {},
   "source": [
    "<font size=\"3\">There are cases where your rows have duplicate values, this could’ve happened due to some mishaps in your data collection."
   ]
  },
  {
   "cell_type": "code",
   "execution_count": 43,
   "id": "d3f89506",
   "metadata": {},
   "outputs": [
    {
     "data": {
      "text/plain": [
       "False"
      ]
     },
     "execution_count": 43,
     "metadata": {},
     "output_type": "execute_result"
    }
   ],
   "source": [
    "airbnb.duplicated().any()"
   ]
  },
  {
   "cell_type": "code",
   "execution_count": 44,
   "id": "f4ae2280",
   "metadata": {},
   "outputs": [],
   "source": [
    "## if true\n",
    "# airbnb.drop_duplicates()\n",
    "\n",
    "## if you want to drop duplicates at specific column\n",
    "# airbnb.drop('col_name', axis=1, inplace=True).drop_duplicates()"
   ]
  },
  {
   "cell_type": "markdown",
   "id": "a50460fd",
   "metadata": {},
   "source": [
    "### 6. Change data type to reduce memory"
   ]
  },
  {
   "cell_type": "markdown",
   "id": "6d2a1d5b",
   "metadata": {},
   "source": [
    "<font size=\"3\">\n",
    "\n",
    "Changing data type is common if you want to reduce memory usage.\n",
    "    \n",
    "To do so, you can use the astype(‘dtype’) function where you specify the dtype you want.\n",
    "    \n",
    "we have changed the data type for the host_id column from int64 to int32"
   ]
  },
  {
   "cell_type": "code",
   "execution_count": 45,
   "id": "7b4b3ad6",
   "metadata": {},
   "outputs": [
    {
     "name": "stdout",
     "output_type": "stream",
     "text": [
      "<class 'pandas.core.frame.DataFrame'>\n",
      "RangeIndex: 48895 entries, 0 to 48894\n",
      "Data columns (total 13 columns):\n",
      " #   Column                          Non-Null Count  Dtype  \n",
      "---  ------                          --------------  -----  \n",
      " 0   listing_name                    48895 non-null  object \n",
      " 1   host_id                         48895 non-null  int64  \n",
      " 2   neighbourhood_group             48895 non-null  object \n",
      " 3   neighbourhood                   48895 non-null  object \n",
      " 4   lat                             48895 non-null  float64\n",
      " 5   long                            48895 non-null  float64\n",
      " 6   room_type                       48895 non-null  object \n",
      " 7   price                           48895 non-null  float64\n",
      " 8   minimum_nights                  48895 non-null  int64  \n",
      " 9   number_of_reviews               48895 non-null  int64  \n",
      " 10  reviews_per_month               48895 non-null  float64\n",
      " 11  calculated_host_listings_count  48895 non-null  int64  \n",
      " 12  availability_365                48895 non-null  int64  \n",
      "dtypes: float64(4), int64(5), object(4)\n",
      "memory usage: 4.8+ MB\n"
     ]
    }
   ],
   "source": [
    "# observe the memory\n",
    "airbnb.info()"
   ]
  },
  {
   "cell_type": "code",
   "execution_count": 46,
   "id": "512d8468",
   "metadata": {
    "scrolled": true
   },
   "outputs": [
    {
     "name": "stdout",
     "output_type": "stream",
     "text": [
      "<class 'pandas.core.frame.DataFrame'>\n",
      "RangeIndex: 48895 entries, 0 to 48894\n",
      "Data columns (total 13 columns):\n",
      " #   Column                          Non-Null Count  Dtype  \n",
      "---  ------                          --------------  -----  \n",
      " 0   listing_name                    48895 non-null  object \n",
      " 1   host_id                         48895 non-null  int32  \n",
      " 2   neighbourhood_group             48895 non-null  object \n",
      " 3   neighbourhood                   48895 non-null  object \n",
      " 4   lat                             48895 non-null  float64\n",
      " 5   long                            48895 non-null  float64\n",
      " 6   room_type                       48895 non-null  object \n",
      " 7   price                           48895 non-null  float64\n",
      " 8   minimum_nights                  48895 non-null  int64  \n",
      " 9   number_of_reviews               48895 non-null  int64  \n",
      " 10  reviews_per_month               48895 non-null  float64\n",
      " 11  calculated_host_listings_count  48895 non-null  int64  \n",
      " 12  availability_365                48895 non-null  int64  \n",
      "dtypes: float64(4), int32(1), int64(4), object(4)\n",
      "memory usage: 4.7+ MB\n"
     ]
    }
   ],
   "source": [
    "airbnb['host_id'] = airbnb['host_id'].astype('int32')\n",
    "airbnb.info()"
   ]
  },
  {
   "cell_type": "markdown",
   "id": "c0f379d9",
   "metadata": {},
   "source": [
    "### Outliers"
   ]
  },
  {
   "cell_type": "markdown",
   "id": "beb2d9dd",
   "metadata": {},
   "source": [
    "<font size=\"3\">\n",
    "    \n",
    "Outliers can be dangerous as they can skew your model and give you predictions that are biased and erroneous.\n",
    "\n",
    "The best way to find outliers is to use the describe function and look at information such as maximum and mean."
   ]
  },
  {
   "cell_type": "code",
   "execution_count": 47,
   "id": "949260aa",
   "metadata": {},
   "outputs": [
    {
     "data": {
      "text/plain": [
       "count    48895.000000\n",
       "mean       152.720687\n",
       "std        240.154170\n",
       "min          0.000000\n",
       "25%         69.000000\n",
       "50%        106.000000\n",
       "75%        175.000000\n",
       "max      10000.000000\n",
       "Name: price, dtype: float64"
      ]
     },
     "execution_count": 47,
     "metadata": {},
     "output_type": "execute_result"
    }
   ],
   "source": [
    "airbnb['price'].describe()"
   ]
  },
  {
   "cell_type": "markdown",
   "id": "05386063",
   "metadata": {},
   "source": [
    "<font size=\"3\">\n",
    "\n",
    "You can also plot a histogram and look at the distribution of your data.\n",
    "    \n",
    "In this histogram, you can see that most of the data is around 0 to 5000."
   ]
  },
  {
   "cell_type": "code",
   "execution_count": 48,
   "id": "3e5aa05f",
   "metadata": {},
   "outputs": [
    {
     "data": {
      "text/plain": [
       "<AxesSubplot:>"
      ]
     },
     "execution_count": 48,
     "metadata": {},
     "output_type": "execute_result"
    },
    {
     "data": {
      "image/png": "[encoded data removed]",
      "text/plain": [
       "<Figure size 720x432 with 1 Axes>"
      ]
     },
     "metadata": {
      "needs_background": "light"
     },
     "output_type": "display_data"
    }
   ],
   "source": [
    "plt.figure(figsize=(10, 6))\n",
    "airbnb['price'].hist(bins=100)"
   ]
  },
  {
   "cell_type": "markdown",
   "id": "9ecfedce",
   "metadata": {},
   "source": [
    "<font size=\"3\">\n",
    "\n",
    "A boxplot is also useful in detecting outliers.\n",
    "\n",
    "As you can see, the price column has multiple data points that are outliers (above of the maximum in the boxplot)"
   ]
  },
  {
   "cell_type": "code",
   "execution_count": 49,
   "id": "a64bcbca",
   "metadata": {},
   "outputs": [
    {
     "data": {
      "text/plain": [
       "<AxesSubplot:>"
      ]
     },
     "execution_count": 49,
     "metadata": {},
     "output_type": "execute_result"
    },
    {
     "data": {
      "image/png": "[encoded data removed]",
      "text/plain": [
       "<Figure size 720x432 with 1 Axes>"
      ]
     },
     "metadata": {
      "needs_background": "light"
     },
     "output_type": "display_data"
    }
   ],
   "source": [
    "plt.figure(figsize=(10, 6))\n",
    "airbnb.boxplot(column=['price'])"
   ]
  },
  {
   "cell_type": "markdown",
   "id": "4e7d2c9f",
   "metadata": {},
   "source": [
    "<font size=\"3\">\n",
    "For categorical data, you can plot a bar chart to see whether a particular category to view the count of the categories.\n",
    "\n",
    "Outliers in categorical data is tricky, because you have to determine whether it’s appropriate to call it an outlier based on context.\n",
    "\n",
    "Some outliers are more obvious. Let’s say there’s an experiment done where 1000 people choose between a glass of water and a glass of milk. If the final result is 1 person who chose a glass of water, and 999 people choosing a glass of milk, that 1 person can be considered an outlier.\n",
    "\n",
    "However, in some cases, outliers depend on context. In our example, you see that Manhattan and Brooklyn has significantly more data than Staten Island. This doesn’t count as an outlier, since Manhattan and Brooklyn has a higher housing density as compared to Staten Island."
   ]
  },
  {
   "cell_type": "code",
   "execution_count": 50,
   "id": "58c2b3ed",
   "metadata": {},
   "outputs": [
    {
     "data": {
      "text/plain": [
       "<AxesSubplot:>"
      ]
     },
     "execution_count": 50,
     "metadata": {},
     "output_type": "execute_result"
    },
    {
     "data": {
      "image/png": "[encoded data removed]",
      "text/plain": [
       "<Figure size 720x432 with 1 Axes>"
      ]
     },
     "metadata": {
      "needs_background": "light"
     },
     "output_type": "display_data"
    }
   ],
   "source": [
    "plt.figure(figsize=(10, 6))\n",
    "airbnb['neighbourhood_group'].value_counts().plot.bar()"
   ]
  },
  {
   "cell_type": "markdown",
   "id": "49707d6f",
   "metadata": {},
   "source": [
    "### Dealing with outliers"
   ]
  },
  {
   "cell_type": "markdown",
   "id": "08423200",
   "metadata": {},
   "source": [
    "<font size=\"3\">\n",
    "\n",
    "Dealing with outliers is similar to removing missing values, the only difference is the way you find outliers.\n",
    "\n",
    "To categorize numerical values as outliers, there are statistical techniques like using the standard deviation and the Interquartile range. \n",
    "\n",
    "<a href =\"2. Outliers Manual Detection.ipynb\"> Outliers Manual Detection</a>\n",
    "    \n",
    "<a href =\"3. Outliers Automatic Detection.ipynb\"> Outliers Automatic Detection</a>\n"
   ]
  },
  {
   "cell_type": "code",
   "execution_count": null,
   "id": "ce489c4a",
   "metadata": {},
   "outputs": [],
   "source": []
  }
 ],
 "metadata": {
  "kernelspec": {
   "display_name": "Python 3",
   "language": "python",
   "name": "python3"
  },
  "language_info": {
   "codemirror_mode": {
    "name": "ipython",
    "version": 3
   },
   "file_extension": ".py",
   "mimetype": "text/x-python",
   "name": "python",
   "nbconvert_exporter": "python",
   "pygments_lexer": "ipython3",
   "version": "3.8.8"
  }
 },
 "nbformat": 4,
 "nbformat_minor": 5
}
