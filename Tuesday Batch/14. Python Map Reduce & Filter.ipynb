{
 "cells": [
  {
   "cell_type": "markdown",
   "id": "5a4eeea1",
   "metadata": {},
   "source": [
    "# Python In-Built Functions\n",
    "\n",
    "- Python has three main built-in functions:\n",
    "    - map()\n",
    "    - filter()\n",
    "    - reduce()\n"
   ]
  },
  {
   "cell_type": "code",
   "execution_count": 3,
   "id": "00e3fbfc",
   "metadata": {},
   "outputs": [],
   "source": [
    "list1 = [1,2,3,4,5,6,7,8,9]"
   ]
  },
  {
   "cell_type": "code",
   "execution_count": null,
   "id": "fd42f4d0",
   "metadata": {},
   "outputs": [],
   "source": [
    "list2 = [1,4,9,16,25,36,49,64,81]"
   ]
  },
  {
   "cell_type": "code",
   "execution_count": 5,
   "id": "03ca93e3",
   "metadata": {},
   "outputs": [],
   "source": [
    "#old traditional way no recommended\n",
    "list2 = []\n",
    "for i in list1:\n",
    "    list2.append(i**2)"
   ]
  },
  {
   "cell_type": "code",
   "execution_count": 8,
   "id": "920d3297",
   "metadata": {},
   "outputs": [
    {
     "data": {
      "text/plain": [
       "[1, 4, 9, 16, 25, 36, 49, 64, 81]"
      ]
     },
     "execution_count": 8,
     "metadata": {},
     "output_type": "execute_result"
    }
   ],
   "source": [
    "list2 = [i**2 for i in list1] #list comprehension\n",
    "list2"
   ]
  },
  {
   "cell_type": "code",
   "execution_count": null,
   "id": "53d56456",
   "metadata": {},
   "outputs": [],
   "source": [
    "#syntax\n",
    "map(function,iterables) #map will return an object"
   ]
  },
  {
   "cell_type": "code",
   "execution_count": 9,
   "id": "9767e09a",
   "metadata": {},
   "outputs": [
    {
     "data": {
      "text/plain": [
       "[1, 2, 3, 4, 5, 6, 7, 8, 9]"
      ]
     },
     "execution_count": 9,
     "metadata": {},
     "output_type": "execute_result"
    }
   ],
   "source": [
    "list1"
   ]
  },
  {
   "cell_type": "code",
   "execution_count": 11,
   "id": "e649430e",
   "metadata": {},
   "outputs": [],
   "source": [
    "def square(a):\n",
    "    return a*a"
   ]
  },
  {
   "cell_type": "code",
   "execution_count": 12,
   "id": "877f8ea7",
   "metadata": {},
   "outputs": [
    {
     "data": {
      "text/plain": [
       "<map at 0x1e89d5890d0>"
      ]
     },
     "execution_count": 12,
     "metadata": {},
     "output_type": "execute_result"
    }
   ],
   "source": [
    "#map(function,iterables)\n",
    "map(square,list1) #return object"
   ]
  },
  {
   "cell_type": "code",
   "execution_count": null,
   "id": "308bca09",
   "metadata": {},
   "outputs": [],
   "source": [
    "#to see th value you need to encapsulate it inside n iterable"
   ]
  },
  {
   "cell_type": "code",
   "execution_count": 13,
   "id": "45c4fa0f",
   "metadata": {},
   "outputs": [
    {
     "data": {
      "text/plain": [
       "[1, 4, 9, 16, 25, 36, 49, 64, 81]"
      ]
     },
     "execution_count": 13,
     "metadata": {},
     "output_type": "execute_result"
    }
   ],
   "source": [
    "list(map(square,list1))"
   ]
  },
  {
   "cell_type": "code",
   "execution_count": 14,
   "id": "e3daee76",
   "metadata": {},
   "outputs": [
    {
     "data": {
      "text/plain": [
       "<map at 0x1e89d589040>"
      ]
     },
     "execution_count": 14,
     "metadata": {},
     "output_type": "execute_result"
    }
   ],
   "source": [
    "map(lambda a:a*a,list1) #converting square to lambda function and using inside map"
   ]
  },
  {
   "cell_type": "code",
   "execution_count": 18,
   "id": "81c1ded1",
   "metadata": {},
   "outputs": [
    {
     "data": {
      "text/plain": [
       "[1, 4, 9, 16, 25, 36, 49, 64, 81]"
      ]
     },
     "execution_count": 18,
     "metadata": {},
     "output_type": "execute_result"
    }
   ],
   "source": [
    "list(map(lambda a:a*a,list1))"
   ]
  },
  {
   "cell_type": "code",
   "execution_count": 19,
   "id": "6c5964d8",
   "metadata": {},
   "outputs": [
    {
     "data": {
      "text/plain": [
       "[1, 2, 3, 4, 5, 6, 7, 8, 9]"
      ]
     },
     "execution_count": 19,
     "metadata": {},
     "output_type": "execute_result"
    }
   ],
   "source": [
    "list1"
   ]
  },
  {
   "cell_type": "code",
   "execution_count": 21,
   "id": "f67a208a",
   "metadata": {},
   "outputs": [
    {
     "data": {
      "text/plain": [
       "[1, 4, 9, 16, 25, 36, 49, 64, 81]"
      ]
     },
     "execution_count": 21,
     "metadata": {},
     "output_type": "execute_result"
    }
   ],
   "source": [
    "list2"
   ]
  },
  {
   "cell_type": "code",
   "execution_count": null,
   "id": "a48ccf15",
   "metadata": {},
   "outputs": [],
   "source": [
    "{1:1,2:4,3:9,4:16,5:25,6:36,7:49,8:64,9:81}"
   ]
  },
  {
   "cell_type": "code",
   "execution_count": 20,
   "id": "ce7652b0",
   "metadata": {},
   "outputs": [
    {
     "data": {
      "text/plain": [
       "{1: 1, 2: 4, 3: 9, 4: 16, 5: 25, 6: 36, 7: 49, 8: 64, 9: 81}"
      ]
     },
     "execution_count": 20,
     "metadata": {},
     "output_type": "execute_result"
    }
   ],
   "source": [
    "#let try with list comprehension\n",
    "{i : i**2 for i in list1}"
   ]
  },
  {
   "cell_type": "code",
   "execution_count": 23,
   "id": "507f933e",
   "metadata": {},
   "outputs": [
    {
     "data": {
      "text/plain": [
       "[1, 2, 3, 4, 5, 6, 7, 8, 9]"
      ]
     },
     "execution_count": 23,
     "metadata": {},
     "output_type": "execute_result"
    }
   ],
   "source": [
    "list1"
   ]
  },
  {
   "cell_type": "code",
   "execution_count": 26,
   "id": "1ef29a60",
   "metadata": {},
   "outputs": [
    {
     "data": {
      "text/plain": [
       "<filter at 0x1e89d589e50>"
      ]
     },
     "execution_count": 26,
     "metadata": {},
     "output_type": "execute_result"
    }
   ],
   "source": [
    "filter(lambda x: x>3, list1)"
   ]
  },
  {
   "cell_type": "code",
   "execution_count": 27,
   "id": "820f2693",
   "metadata": {},
   "outputs": [
    {
     "data": {
      "text/plain": [
       "[4, 5, 6, 7, 8, 9]"
      ]
     },
     "execution_count": 27,
     "metadata": {},
     "output_type": "execute_result"
    }
   ],
   "source": [
    "list(filter(lambda x: x>3, list1))"
   ]
  },
  {
   "cell_type": "code",
   "execution_count": 28,
   "id": "fa9fa2d8",
   "metadata": {},
   "outputs": [
    {
     "data": {
      "text/plain": [
       "[64, 343, 729, 1000]"
      ]
     },
     "execution_count": 28,
     "metadata": {},
     "output_type": "execute_result"
    }
   ],
   "source": [
    "list(map(lambda x:x**3, [4,7,9,10]))"
   ]
  },
  {
   "cell_type": "code",
   "execution_count": 30,
   "id": "10e55075",
   "metadata": {},
   "outputs": [
    {
     "data": {
      "text/plain": [
       "[2, 4, 6, 8]"
      ]
     },
     "execution_count": 30,
     "metadata": {},
     "output_type": "execute_result"
    }
   ],
   "source": [
    "list(filter(lambda x: x%2==0,list1))"
   ]
  },
  {
   "cell_type": "code",
   "execution_count": 31,
   "id": "30aa4682",
   "metadata": {},
   "outputs": [
    {
     "name": "stdout",
     "output_type": "stream",
     "text": [
      "['Parmeet', 'Trishaan']\n"
     ]
    }
   ],
   "source": [
    "list1 = [\"Parmeet\",\"Trishaan\",\"Anit\"]\n",
    "new_list = filter(lambda x: len(x)>5,list1)\n",
    "print(list(new_list))"
   ]
  },
  {
   "cell_type": "code",
   "execution_count": null,
   "id": "071d95b6",
   "metadata": {},
   "outputs": [],
   "source": []
  },
  {
   "cell_type": "markdown",
   "id": "163fd854",
   "metadata": {},
   "source": [
    "## 1.  The map() function:\n",
    "- The map() function is a higher-order function. \n",
    "- This function accepts another function and a sequence of ‘iterables’ as parameters and provides output after applying the function to each iterable in the sequence. \n",
    "\n",
    "- It has the following syntax:\n",
    "\n",
    "$SYNTAX: map(function, iterables)$\n",
    "\n",
    "- The function is used to define an expression which is then applied to the ‘iterables’.\n",
    "- User-defined functions and lambda functions can both be sent to the map function."
   ]
  },
  {
   "cell_type": "code",
   "execution_count": 1,
   "id": "f3357468",
   "metadata": {},
   "outputs": [],
   "source": [
    "#Example-1 Return a square of each number\n",
    "def function(a):\n",
    "    return a*a"
   ]
  },
  {
   "cell_type": "code",
   "execution_count": 2,
   "id": "ca2833cc",
   "metadata": {},
   "outputs": [
    {
     "name": "stdout",
     "output_type": "stream",
     "text": [
      "<map object at 0x000001E10E521D00>\n",
      "[1, 4, 9, 16]\n"
     ]
    }
   ],
   "source": [
    "list1 = [1,2,3,4]\n",
    "x = map(function, list1)  #x is the map object\n",
    "print(x) #it returns the object\n",
    "print(list(x)) #it returns the element"
   ]
  },
  {
   "cell_type": "code",
   "execution_count": 3,
   "id": "9981b566",
   "metadata": {},
   "outputs": [
    {
     "name": "stdout",
     "output_type": "stream",
     "text": [
      "[1, 4, 9, 16]\n"
     ]
    }
   ],
   "source": [
    "#Example-2 Above function converted to lambda function\n",
    "list1 = [1,2,3,4]\n",
    "x = map(lambda x: x*x,list1) #returns the mapper object\n",
    "print(list(x)) # returns list with square of each element"
   ]
  },
  {
   "cell_type": "code",
   "execution_count": 4,
   "id": "6a64a137",
   "metadata": {},
   "outputs": [],
   "source": [
    "#Example-2 passing tuples to the map function\n",
    "def function(a):\n",
    "    if a%2==0: #returning only even numbers, else return odd\n",
    "        return \"Even\"\n",
    "    else:\n",
    "        return \"Odd\""
   ]
  },
  {
   "cell_type": "code",
   "execution_count": 5,
   "id": "e5536d00",
   "metadata": {},
   "outputs": [
    {
     "name": "stdout",
     "output_type": "stream",
     "text": [
      "('Odd', 'Even', 'Odd', 'Even', 'Odd', 'Even')\n"
     ]
    }
   ],
   "source": [
    "#change the numbers to odd and even\n",
    "tuple1 = (1,2,3,4,5,6)\n",
    "x = map(function,tuple1) #returns the object\n",
    "print(tuple(x)) #returns the tuple"
   ]
  },
  {
   "cell_type": "code",
   "execution_count": 6,
   "id": "2f582a8b",
   "metadata": {},
   "outputs": [
    {
     "name": "stdout",
     "output_type": "stream",
     "text": [
      "{65, 66, 58, 101, 9, 11, 77, 81, 26, 27}\n"
     ]
    }
   ],
   "source": [
    "#Example-3 Adding each element in tuple with 4 and returning sets\n",
    "tuple1= (5, 7, 22, 97, 54, 62, 77, 23, 73, 61)\n",
    "newtuple = set(map(lambda x: x+4 , tuple1)) \n",
    "print(newtuple)"
   ]
  },
  {
   "cell_type": "markdown",
   "id": "41db1037",
   "metadata": {},
   "source": [
    "## 2. The filter() function:\n",
    "- The filter() function is used to generate an output list of values that return true when the function is called. \n",
    "- It has the following syntax:\n",
    "\n",
    "$SYNTAX: filter (function, iterables)$\n",
    "\n",
    "- This function like map(), can take user-defined functions and lambda functions as parameters."
   ]
  },
  {
   "cell_type": "code",
   "execution_count": 7,
   "id": "b054d552",
   "metadata": {},
   "outputs": [],
   "source": [
    "#Example-1\n",
    "def func(x):\n",
    "    if x>=3: #returning elements only if it is greater than or equal to 3\n",
    "        return x"
   ]
  },
  {
   "cell_type": "code",
   "execution_count": 8,
   "id": "39a0bf40",
   "metadata": {},
   "outputs": [
    {
     "name": "stdout",
     "output_type": "stream",
     "text": [
      "<filter object at 0x000001E10E55FDF0>\n",
      "[3, 4]\n"
     ]
    }
   ],
   "source": [
    "list1= [1,2,3,4]\n",
    "y = filter(func,list1)  #creating the filter object\n",
    "print(y) #printing filter object\n",
    "print(list(y)) #returning the list of elements"
   ]
  },
  {
   "cell_type": "code",
   "execution_count": 9,
   "id": "53a5c9f1",
   "metadata": {},
   "outputs": [
    {
     "name": "stdout",
     "output_type": "stream",
     "text": [
      "[5, 7, 22, 97, 54, 62, 77, 23, 73, 61]\n"
     ]
    }
   ],
   "source": [
    "#Example-2 Above function converted to lambda function\n",
    "y = filter(lambda x: (x>=3), tuple1)\n",
    "print(list(y))"
   ]
  },
  {
   "cell_type": "code",
   "execution_count": 10,
   "id": "433f1366",
   "metadata": {},
   "outputs": [
    {
     "name": "stdout",
     "output_type": "stream",
     "text": [
      "['Parmeet', 'Trishaan']\n"
     ]
    }
   ],
   "source": [
    "#Example-3 - Returning elements whose length is greater than 5\n",
    "list1 = [\"Parmeet\",\"Trishaan\",\"Anit\"]\n",
    "new_list = filter(lambda x: len(x)>5,list1)\n",
    "print(list(new_list))"
   ]
  },
  {
   "attachments": {
    "image.png": {
     "image/png": "[encoded data removed]"
    }
   },
   "cell_type": "markdown",
   "id": "e45ba80d",
   "metadata": {},
   "source": [
    "## 3. The reduce() function:\n",
    "- The reduce() function applies a provided function to ‘iterables’ and returns a single value, as the name implies.\n",
    "![image.png](attachment:image.png)\n",
    "$SYNTAX: reduce(function, iterables)$\n",
    "\n",
    "The function specifies which expression should be applied to the ‘iterables’ in this case. The function tools module must be used to import this function."
   ]
  },
  {
   "cell_type": "code",
   "execution_count": 32,
   "id": "4771af6b",
   "metadata": {},
   "outputs": [
    {
     "data": {
      "text/plain": [
       "187"
      ]
     },
     "execution_count": 32,
     "metadata": {},
     "output_type": "execute_result"
    }
   ],
   "source": [
    "#Example-1\n",
    "from functools import reduce\n",
    "reduce(lambda a,b: a+b,[23,21,45,98]) #returns the element"
   ]
  },
  {
   "cell_type": "code",
   "execution_count": 33,
   "id": "f7670952",
   "metadata": {},
   "outputs": [
    {
     "data": {
      "text/plain": [
       "120"
      ]
     },
     "execution_count": 33,
     "metadata": {},
     "output_type": "execute_result"
    }
   ],
   "source": [
    "#Example-2 - Multiple all the elements\n",
    "list1 = [1,2,3,4,5]\n",
    "reduce(lambda x,y:x*y,list1) #returns the elements"
   ]
  },
  {
   "cell_type": "markdown",
   "id": "cf83e54c",
   "metadata": {},
   "source": [
    "## 4. Using Lambda Function with Map"
   ]
  },
  {
   "cell_type": "code",
   "execution_count": 13,
   "id": "287f8fe7",
   "metadata": {},
   "outputs": [
    {
     "name": "stdout",
     "output_type": "stream",
     "text": [
      "['Parmeet', 'Trishaan', 'Anit']\n"
     ]
    }
   ],
   "source": [
    "#Example - returns the string with capitalize case\n",
    "list1 = [\"parmeet\",\"triShaan\",\"ANIT\"]\n",
    " \n",
    "final_list = list(map(lambda x: x[0].upper()+x[1:].lower(), list1))\n",
    "print(final_list)"
   ]
  },
  {
   "cell_type": "markdown",
   "id": "efce1138",
   "metadata": {},
   "source": [
    "## 5. Using lambda Function with filter"
   ]
  },
  {
   "cell_type": "code",
   "execution_count": 14,
   "id": "9be5b87d",
   "metadata": {},
   "outputs": [
    {
     "name": "stdout",
     "output_type": "stream",
     "text": [
      "[5, 7, 97, 77, 23, 73, 61]\n"
     ]
    }
   ],
   "source": [
    "#Example - returns the odd numbers\n",
    "li = [5, 7, 22, 97, 54, 62, 77, 23, 73, 61]\n",
    " \n",
    "final_list = list(filter(lambda x: (x%2 != 0) , li))\n",
    "print(final_list)"
   ]
  },
  {
   "cell_type": "markdown",
   "id": "22ceac56",
   "metadata": {},
   "source": [
    "## 6. Using Lambda Function with Reduce"
   ]
  },
  {
   "cell_type": "code",
   "execution_count": 15,
   "id": "0e4cebfd",
   "metadata": {},
   "outputs": [
    {
     "name": "stdout",
     "output_type": "stream",
     "text": [
      "1100\n"
     ]
    }
   ],
   "source": [
    "#Example - to find the largest element\n",
    "\n",
    "from functools import reduce\n",
    "li = [15, 180, 1100,10, 200, 50 ]\n",
    "largest = reduce((lambda x, y: x if x > y else y), li)\n",
    "print (largest)"
   ]
  },
  {
   "cell_type": "code",
   "execution_count": 34,
   "id": "e50e0e74",
   "metadata": {},
   "outputs": [
    {
     "data": {
      "text/plain": [
       "10"
      ]
     },
     "execution_count": 34,
     "metadata": {},
     "output_type": "execute_result"
    }
   ],
   "source": [
    "list1 = [15, 180, 1100,10, 200, 50 ]\n",
    "\n",
    "reduce(lambda x,y : x if x<y else y,list1) #generated the smallest element"
   ]
  },
  {
   "cell_type": "code",
   "execution_count": 35,
   "id": "daabd700",
   "metadata": {},
   "outputs": [
    {
     "data": {
      "text/plain": [
       "6"
      ]
     },
     "execution_count": 35,
     "metadata": {},
     "output_type": "execute_result"
    }
   ],
   "source": [
    "reduce(lambda x,y : x*y, range(1,4)) #range(1,4) - > [1,2,3]"
   ]
  },
  {
   "cell_type": "code",
   "execution_count": null,
   "id": "be63a7e9",
   "metadata": {},
   "outputs": [],
   "source": [
    "[1,2,3]\n",
    "x*y\n",
    "x - 1\n",
    "y - 2\n",
    "\n",
    "x*y = 1* 2 = 2 = x\n",
    "\n",
    "x=2\n",
    "y =3\n",
    "\n",
    "x*y = 6"
   ]
  }
 ],
 "metadata": {
  "kernelspec": {
   "display_name": "Python 3",
   "language": "python",
   "name": "python3"
  },
  "language_info": {
   "codemirror_mode": {
    "name": "ipython",
    "version": 3
   },
   "file_extension": ".py",
   "mimetype": "text/x-python",
   "name": "python",
   "nbconvert_exporter": "python",
   "pygments_lexer": "ipython3",
   "version": "3.8.8"
  }
 },
 "nbformat": 4,
 "nbformat_minor": 5
}
