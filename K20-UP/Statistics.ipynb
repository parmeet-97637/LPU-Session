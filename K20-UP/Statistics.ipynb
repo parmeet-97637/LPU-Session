{
 "cells": [
  {
   "cell_type": "markdown",
   "id": "d4682661",
   "metadata": {},
   "source": [
    "**Permutation**\n",
    "It is a way of arranging a selected group of objects in a way that their order is significance."
   ]
  },
  {
   "cell_type": "markdown",
   "id": "b6b8b2db",
   "metadata": {},
   "source": [
    "<b><font size=\"3\"> When you plan to line up the top order batsman of a cricket team, we use permutation to find all the possible orders. "
   ]
  },
  {
   "cell_type": "code",
   "execution_count": 1,
   "id": "2edf0090",
   "metadata": {},
   "outputs": [],
   "source": [
    "from itertools import permutations"
   ]
  },
  {
   "cell_type": "code",
   "execution_count": 2,
   "id": "bb3ecef1",
   "metadata": {},
   "outputs": [
    {
     "name": "stdout",
     "output_type": "stream",
     "text": [
      "('Dhawan', 'Sharma', 'Kohli', 'Rahul')\n",
      "('Dhawan', 'Sharma', 'Rahul', 'Kohli')\n",
      "('Dhawan', 'Kohli', 'Sharma', 'Rahul')\n",
      "('Dhawan', 'Kohli', 'Rahul', 'Sharma')\n",
      "('Dhawan', 'Rahul', 'Sharma', 'Kohli')\n",
      "('Dhawan', 'Rahul', 'Kohli', 'Sharma')\n",
      "('Sharma', 'Dhawan', 'Kohli', 'Rahul')\n",
      "('Sharma', 'Dhawan', 'Rahul', 'Kohli')\n",
      "('Sharma', 'Kohli', 'Dhawan', 'Rahul')\n",
      "('Sharma', 'Kohli', 'Rahul', 'Dhawan')\n",
      "('Sharma', 'Rahul', 'Dhawan', 'Kohli')\n",
      "('Sharma', 'Rahul', 'Kohli', 'Dhawan')\n",
      "('Kohli', 'Dhawan', 'Sharma', 'Rahul')\n",
      "('Kohli', 'Dhawan', 'Rahul', 'Sharma')\n",
      "('Kohli', 'Sharma', 'Dhawan', 'Rahul')\n",
      "('Kohli', 'Sharma', 'Rahul', 'Dhawan')\n",
      "('Kohli', 'Rahul', 'Dhawan', 'Sharma')\n",
      "('Kohli', 'Rahul', 'Sharma', 'Dhawan')\n",
      "('Rahul', 'Dhawan', 'Sharma', 'Kohli')\n",
      "('Rahul', 'Dhawan', 'Kohli', 'Sharma')\n",
      "('Rahul', 'Sharma', 'Dhawan', 'Kohli')\n",
      "('Rahul', 'Sharma', 'Kohli', 'Dhawan')\n",
      "('Rahul', 'Kohli', 'Dhawan', 'Sharma')\n",
      "('Rahul', 'Kohli', 'Sharma', 'Dhawan')\n"
     ]
    }
   ],
   "source": [
    "team = ['Dhawan','Sharma','Kohli','Rahul']\n",
    "\n",
    "p = permutations(team)\n",
    "\n",
    "# print all the acquired permutations\n",
    "for order in p:\n",
    "    print(order)"
   ]
  },
  {
   "cell_type": "markdown",
   "id": "c8b70029",
   "metadata": {},
   "source": [
    "**Q. How many 4 letter words can be formed using alphabets R,E,A and D**"
   ]
  },
  {
   "cell_type": "code",
   "execution_count": 5,
   "id": "a5fcb9f1",
   "metadata": {},
   "outputs": [
    {
     "name": "stdout",
     "output_type": "stream",
     "text": [
      "0 ('R', 'E', 'A', 'D')\n",
      "1 ('R', 'E', 'D', 'A')\n",
      "2 ('R', 'A', 'E', 'D')\n",
      "3 ('R', 'A', 'D', 'E')\n",
      "4 ('R', 'D', 'E', 'A')\n",
      "5 ('R', 'D', 'A', 'E')\n",
      "6 ('E', 'R', 'A', 'D')\n",
      "7 ('E', 'R', 'D', 'A')\n",
      "8 ('E', 'A', 'R', 'D')\n",
      "9 ('E', 'A', 'D', 'R')\n",
      "10 ('E', 'D', 'R', 'A')\n",
      "11 ('E', 'D', 'A', 'R')\n",
      "12 ('A', 'R', 'E', 'D')\n",
      "13 ('A', 'R', 'D', 'E')\n",
      "14 ('A', 'E', 'R', 'D')\n",
      "15 ('A', 'E', 'D', 'R')\n",
      "16 ('A', 'D', 'R', 'E')\n",
      "17 ('A', 'D', 'E', 'R')\n",
      "18 ('D', 'R', 'E', 'A')\n",
      "19 ('D', 'R', 'A', 'E')\n",
      "20 ('D', 'E', 'R', 'A')\n",
      "21 ('D', 'E', 'A', 'R')\n",
      "22 ('D', 'A', 'R', 'E')\n",
      "23 ('D', 'A', 'E', 'R')\n"
     ]
    }
   ],
   "source": [
    "alphabets = ['R','E','A','D']\n",
    "\n",
    "p = permutations(alphabets)\n",
    "\n",
    "# print all the acquired permutations\n",
    "for idx, order in enumerate(p):\n",
    "    print(idx,order)"
   ]
  },
  {
   "cell_type": "markdown",
   "id": "7d8736bb",
   "metadata": {},
   "source": [
    "$ Permutation = \\frac{n!}{(n-r)!} $\n",
    "<br>\n",
    "n = total number of objects<br>\n",
    "r = number of selected objects"
   ]
  },
  {
   "cell_type": "markdown",
   "id": "76dad1a7",
   "metadata": {},
   "source": [
    "## Combination"
   ]
  },
  {
   "cell_type": "markdown",
   "id": "f313f4c4",
   "metadata": {},
   "source": [
    "It is a selection of items from a set that has distinct members, such that the order of selection doesnot matter"
   ]
  },
  {
   "cell_type": "markdown",
   "id": "47710b55",
   "metadata": {},
   "source": [
    "<b> Q. Choosing three bowlers from a set of four bowlers, we donot need to order them."
   ]
  },
  {
   "cell_type": "code",
   "execution_count": 6,
   "id": "90ae4acb",
   "metadata": {},
   "outputs": [],
   "source": [
    "from itertools import combinations"
   ]
  },
  {
   "cell_type": "code",
   "execution_count": 7,
   "id": "d5b7e003",
   "metadata": {},
   "outputs": [],
   "source": [
    "bowlers = ['Pandya','Chahal','Bumrah','Ashwin']"
   ]
  },
  {
   "cell_type": "code",
   "execution_count": 9,
   "id": "c531de36",
   "metadata": {},
   "outputs": [],
   "source": [
    "c = combinations(bowlers,3)"
   ]
  },
  {
   "cell_type": "code",
   "execution_count": 11,
   "id": "dd8e681f",
   "metadata": {},
   "outputs": [
    {
     "name": "stdout",
     "output_type": "stream",
     "text": [
      "('Pandya', 'Chahal', 'Bumrah')\n",
      "('Pandya', 'Chahal', 'Ashwin')\n",
      "('Pandya', 'Bumrah', 'Ashwin')\n",
      "('Chahal', 'Bumrah', 'Ashwin')\n"
     ]
    }
   ],
   "source": [
    "for combination in c:\n",
    "    print(combination)"
   ]
  },
  {
   "cell_type": "markdown",
   "id": "5222493b",
   "metadata": {},
   "source": [
    "$ Combination = \\frac{n!}{r! *(n-r)!}$\n",
    "<br>\n",
    "\n",
    "n = total objects in the set<br>\n",
    "\n",
    "r = number of choosing objects from the set"
   ]
  },
  {
   "cell_type": "markdown",
   "id": "ac5d1d03",
   "metadata": {},
   "source": [
    "<b> Q. Th number of ways in which you can choose 13 cards from the deck of 52 cards.?"
   ]
  },
  {
   "cell_type": "code",
   "execution_count": null,
   "id": "0c7b8cdd",
   "metadata": {},
   "outputs": [],
   "source": []
  }
 ],
 "metadata": {
  "kernelspec": {
   "display_name": "Python 3",
   "language": "python",
   "name": "python3"
  },
  "language_info": {
   "codemirror_mode": {
    "name": "ipython",
    "version": 3
   },
   "file_extension": ".py",
   "mimetype": "text/x-python",
   "name": "python",
   "nbconvert_exporter": "python",
   "pygments_lexer": "ipython3",
   "version": "3.8.8"
  }
 },
 "nbformat": 4,
 "nbformat_minor": 5
}
