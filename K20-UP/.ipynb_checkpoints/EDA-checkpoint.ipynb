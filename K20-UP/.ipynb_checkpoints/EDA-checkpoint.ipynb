{
 "cells": [
  {
   "cell_type": "markdown",
   "id": "333125ff",
   "metadata": {},
   "source": [
    "## What is EDA?"
   ]
  },
  {
   "cell_type": "markdown",
   "id": "165786fe",
   "metadata": {},
   "source": [
    "1. It is Exploratory Data Analysis\n",
    "2. Drawing Insights form the given datasets.\n",
    "3. Finding Patterns in your datasets.\n",
    "4. Finding Anamolies in your datasets."
   ]
  },
  {
   "cell_type": "markdown",
   "id": "7848828e",
   "metadata": {},
   "source": [
    "## Sources of Data"
   ]
  },
  {
   "cell_type": "markdown",
   "id": "db5ba66b",
   "metadata": {},
   "source": [
    "1. Public Data\n",
    "    1. Kaggle\n",
    "    2. GIT\n",
    "    3. Open source platforms\n",
    "    4. Social Media Platforms\n",
    "    \n",
    "2. Private Data\n",
    "    1. Organizations\n",
    "    2. Government Data"
   ]
  },
  {
   "cell_type": "markdown",
   "id": "6889ed15",
   "metadata": {},
   "source": [
    "## Types of Data"
   ]
  },
  {
   "cell_type": "markdown",
   "id": "85e515a4",
   "metadata": {},
   "source": [
    "1. Sturctured \n",
    "    1. Tabular Format (Rows & Cols), e.g., Excel, SQL Database\n",
    "\n",
    "2. Unstructured\n",
    "    2. Videos, Photos\n",
    "\n",
    "3. Semi-sturcutred\n",
    "    3. Emails, JSON,TXT, Wordfile, No SQL Database"
   ]
  },
  {
   "cell_type": "markdown",
   "id": "9480d254",
   "metadata": {},
   "source": [
    "## Data Types"
   ]
  },
  {
   "cell_type": "markdown",
   "id": "37fe65df",
   "metadata": {},
   "source": [
    "1. Categorical\n",
    "        Examples : Computer Languages, Name, Colors, Vegetables, \n",
    "2. Numerical\n",
    "        Examples : Salary, Roll no., age, ID\n",
    "3. Date/Time"
   ]
  },
  {
   "cell_type": "markdown",
   "id": "4740a023",
   "metadata": {},
   "source": [
    "### 1. Categorical Features : It represents grouping"
   ]
  },
  {
   "cell_type": "markdown",
   "id": "6347a730",
   "metadata": {},
   "source": [
    "***A. Ordered Categorical Variable*** : Comparison is possible, Squence<br>\n",
    "    Example: Ratings, Month, Temperature(Hot/Cold), Height(small/Tall/Medium), Salary(High/Low/Medium)\n",
    "    \n",
    "**B. Un-Orderd Categorical Variable** : No Sequence<br>\n",
    "    Example : Name, Gender, Courses, Loan(Personal/Home/Commercial)"
   ]
  },
  {
   "cell_type": "markdown",
   "id": "f19f8ca0",
   "metadata": {},
   "source": [
    "#### 2. Numerical Features : (Quantitative Variables) : It sepecifies amounts"
   ]
  },
  {
   "cell_type": "markdown",
   "id": "937daaf1",
   "metadata": {},
   "source": [
    "***A. Discrete Features*** : Which can be counted, Measured (Any countable numerical integer feature)<br>\n",
    "    Example: Age(25,26), Rank, Year\n",
    "        \n",
    "***B. Continuous Features*** : any values (folat/decimal values)<br>\n",
    "    Example : Age(26.5,27.1), Height, Weight, marks, percentage\n",
    "        "
   ]
  },
  {
   "cell_type": "markdown",
   "id": "2883a9be",
   "metadata": {},
   "source": [
    "## Categorical Features/Variables"
   ]
  },
  {
   "cell_type": "markdown",
   "id": "d270cd28",
   "metadata": {},
   "source": [
    "**1. Binary Variable** : The variable that can take only 2 values<br>\n",
    "    Outcomes : Yes/No, Heads/Tails, Win/Loose\n",
    "        \n",
    "**2. Nominal Variable** : Groups with no rank or order between them<br>\n",
    "    Example : Names, colors, courses, Brand Names\n",
    "        \n",
    "**3. Ordinal Variable**:Groups that can be ranked or specified in a order<br>\n",
    "    Example : Ratings, Ranks"
   ]
  },
  {
   "cell_type": "markdown",
   "id": "b443e00b",
   "metadata": {},
   "source": [
    "## Analysis Steps"
   ]
  },
  {
   "cell_type": "markdown",
   "id": "502f17b1",
   "metadata": {},
   "source": [
    "1. **Univariate Analysis :** \n",
    "    - Working with 1 variable\n",
    "    - Analysing one variable at a time\n",
    "    \n",
    "    **Segmented Univariate Analysis ** : 1numerical +1 categorical\n",
    "<br><br>\n",
    "2. **Bi-variate Analysis :**\n",
    "    - working with 2 variables\n",
    "    - analysing 2 variables at a time\n",
    "<br><br>    \n",
    "3. **Multi-variate Analysis:**\n",
    "    - working with more than 2 variables"
   ]
  },
  {
   "cell_type": "markdown",
   "id": "cbfde68c",
   "metadata": {},
   "source": [
    "## 1. Univariate Analysis"
   ]
  },
  {
   "cell_type": "markdown",
   "id": "a2bbf899",
   "metadata": {},
   "source": [
    "**A. Numerical Feature:** Scatterplot, lineplot, striplot, swarmplot, denisty plot, box plot<br>\n",
    "**B. categorical Features :** countplot,histograms, distplot,pie chart, "
   ]
  },
  {
   "cell_type": "markdown",
   "id": "a5486274",
   "metadata": {},
   "source": [
    "## 2. Bivariate Analysis"
   ]
  },
  {
   "cell_type": "code",
   "execution_count": null,
   "id": "5a3ce13b",
   "metadata": {},
   "outputs": [],
   "source": [
    "Bins/Buckets : Historgram \n",
    "\n",
    "salary : 100.50,2000,500000 (continuous) -> convert to categorical ( I will create bins)\n",
    "\n",
    "wwiths : 10,20,30,40,50,60,70,100,\n",
    "\n",
    "10-20\n",
    "20-30\n",
    "40-50\n",
    "60-70\n"
   ]
  },
  {
   "cell_type": "markdown",
   "id": "9572aa4b",
   "metadata": {},
   "source": [
    "**Categorical Analysis(including discrete variables)**<br>\n",
    "\n",
    "- **Frequency of the the two variables/categories**<br>\n",
    "    - Crosstab\n",
    "    - Heatmaps\n",
    "    - stacked bar charts\n",
    "\n",
    "- Range of continuous variables with respect to each category(Binning)<br>\n",
    "    - Boxplots\n",
    "    - Violin plots\n",
    "    - Swam plots\n",
    "    - count plots\n",
    "    - Bar plots\n",
    "    \n",
    "    "
   ]
  },
  {
   "cell_type": "code",
   "execution_count": null,
   "id": "25e1271e",
   "metadata": {},
   "outputs": [],
   "source": [
    "Gender and Salary\n",
    "\n",
    "M : avg(salary)\n",
    "F : avg(salary)"
   ]
  },
  {
   "cell_type": "markdown",
   "id": "0b188994",
   "metadata": {},
   "source": [
    "**Continuous Variables**\n",
    "- Range of continuous variables with respect to each category\n",
    "    - Boxplots\n",
    "    - Violin plots\n",
    "    - Swam plots\n",
    "    - count plots\n",
    "    - Bar plots\n",
    "- How the increase or decrease in one variable changes the other variable (2 Numerical features)\n",
    "    - line plot\n",
    "    - scatter plot"
   ]
  },
  {
   "cell_type": "markdown",
   "id": "75db3433",
   "metadata": {},
   "source": [
    "## Demo"
   ]
  },
  {
   "attachments": {
    "image.png": {
     "image/png": "[encoded data removed]"
    }
   },
   "cell_type": "markdown",
   "id": "8285e8c6",
   "metadata": {},
   "source": [
    "![image.png](attachment:image.png)"
   ]
  },
  {
   "cell_type": "markdown",
   "id": "cac38b9c",
   "metadata": {},
   "source": [
    "## Source of Data : kaggle Data set(Public) : Titanic Data set"
   ]
  },
  {
   "cell_type": "markdown",
   "id": "50ad667b",
   "metadata": {},
   "source": [
    "### 1. Import Necessary Libraries"
   ]
  },
  {
   "cell_type": "code",
   "execution_count": 6,
   "id": "8aaeb3e9",
   "metadata": {},
   "outputs": [],
   "source": [
    "# Data Manipulation Libraries\n",
    "import pandas as pd\n",
    "import numpy as np\n",
    "\n",
    "# Data Visualization libraries\n",
    "import matplotlib.pyplot as plt\n",
    "import seaborn as sns\n",
    "\n",
    "# magic command to show the plot in jupyter \n",
    "%matplotlib inline\n",
    "\n",
    "# ignore the warnings\n",
    "import warnings\n",
    "warnings.filterwarnings('ignore')\n",
    "\n",
    "#settings\n",
    "pd.set_option('display.max_columns',200)\n",
    "pd.set_option('display.max_rows',None)"
   ]
  },
  {
   "cell_type": "markdown",
   "id": "b242330a",
   "metadata": {},
   "source": [
    "### 2. Read the dataset"
   ]
  },
  {
   "cell_type": "code",
   "execution_count": 7,
   "id": "342a6d98",
   "metadata": {},
   "outputs": [
    {
     "data": {
      "text/html": [
       "<div>\n",
       "<style scoped>\n",
       "    .dataframe tbody tr th:only-of-type {\n",
       "        vertical-align: middle;\n",
       "    }\n",
       "\n",
       "    .dataframe tbody tr th {\n",
       "        vertical-align: top;\n",
       "    }\n",
       "\n",
       "    .dataframe thead th {\n",
       "        text-align: right;\n",
       "    }\n",
       "</style>\n",
       "<table border=\"1\" class=\"dataframe\">\n",
       "  <thead>\n",
       "    <tr style=\"text-align: right;\">\n",
       "      <th></th>\n",
       "      <th>PassengerId</th>\n",
       "      <th>Survived</th>\n",
       "      <th>Pclass</th>\n",
       "      <th>Name</th>\n",
       "      <th>Sex</th>\n",
       "      <th>Age</th>\n",
       "      <th>SibSp</th>\n",
       "      <th>Parch</th>\n",
       "      <th>Ticket</th>\n",
       "      <th>Fare</th>\n",
       "      <th>Cabin</th>\n",
       "      <th>Embarked</th>\n",
       "    </tr>\n",
       "  </thead>\n",
       "  <tbody>\n",
       "    <tr>\n",
       "      <th>0</th>\n",
       "      <td>1</td>\n",
       "      <td>0</td>\n",
       "      <td>3</td>\n",
       "      <td>Braund, Mr. Owen Harris</td>\n",
       "      <td>male</td>\n",
       "      <td>22.0</td>\n",
       "      <td>1</td>\n",
       "      <td>0</td>\n",
       "      <td>A/5 21171</td>\n",
       "      <td>7.2500</td>\n",
       "      <td>NaN</td>\n",
       "      <td>S</td>\n",
       "    </tr>\n",
       "    <tr>\n",
       "      <th>1</th>\n",
       "      <td>2</td>\n",
       "      <td>1</td>\n",
       "      <td>1</td>\n",
       "      <td>Cumings, Mrs. John Bradley (Florence Briggs Th...</td>\n",
       "      <td>female</td>\n",
       "      <td>38.0</td>\n",
       "      <td>1</td>\n",
       "      <td>0</td>\n",
       "      <td>PC 17599</td>\n",
       "      <td>71.2833</td>\n",
       "      <td>C85</td>\n",
       "      <td>C</td>\n",
       "    </tr>\n",
       "    <tr>\n",
       "      <th>2</th>\n",
       "      <td>3</td>\n",
       "      <td>1</td>\n",
       "      <td>3</td>\n",
       "      <td>Heikkinen, Miss. Laina</td>\n",
       "      <td>female</td>\n",
       "      <td>26.0</td>\n",
       "      <td>0</td>\n",
       "      <td>0</td>\n",
       "      <td>STON/O2. 3101282</td>\n",
       "      <td>7.9250</td>\n",
       "      <td>NaN</td>\n",
       "      <td>S</td>\n",
       "    </tr>\n",
       "    <tr>\n",
       "      <th>3</th>\n",
       "      <td>4</td>\n",
       "      <td>1</td>\n",
       "      <td>1</td>\n",
       "      <td>Futrelle, Mrs. Jacques Heath (Lily May Peel)</td>\n",
       "      <td>female</td>\n",
       "      <td>35.0</td>\n",
       "      <td>1</td>\n",
       "      <td>0</td>\n",
       "      <td>113803</td>\n",
       "      <td>53.1000</td>\n",
       "      <td>C123</td>\n",
       "      <td>S</td>\n",
       "    </tr>\n",
       "    <tr>\n",
       "      <th>4</th>\n",
       "      <td>5</td>\n",
       "      <td>0</td>\n",
       "      <td>3</td>\n",
       "      <td>Allen, Mr. William Henry</td>\n",
       "      <td>male</td>\n",
       "      <td>35.0</td>\n",
       "      <td>0</td>\n",
       "      <td>0</td>\n",
       "      <td>373450</td>\n",
       "      <td>8.0500</td>\n",
       "      <td>NaN</td>\n",
       "      <td>S</td>\n",
       "    </tr>\n",
       "  </tbody>\n",
       "</table>\n",
       "</div>"
      ],
      "text/plain": [
       "   PassengerId  Survived  Pclass  \\\n",
       "0            1         0       3   \n",
       "1            2         1       1   \n",
       "2            3         1       3   \n",
       "3            4         1       1   \n",
       "4            5         0       3   \n",
       "\n",
       "                                                Name     Sex   Age  SibSp  \\\n",
       "0                            Braund, Mr. Owen Harris    male  22.0      1   \n",
       "1  Cumings, Mrs. John Bradley (Florence Briggs Th...  female  38.0      1   \n",
       "2                             Heikkinen, Miss. Laina  female  26.0      0   \n",
       "3       Futrelle, Mrs. Jacques Heath (Lily May Peel)  female  35.0      1   \n",
       "4                           Allen, Mr. William Henry    male  35.0      0   \n",
       "\n",
       "   Parch            Ticket     Fare Cabin Embarked  \n",
       "0      0         A/5 21171   7.2500   NaN        S  \n",
       "1      0          PC 17599  71.2833   C85        C  \n",
       "2      0  STON/O2. 3101282   7.9250   NaN        S  \n",
       "3      0            113803  53.1000  C123        S  \n",
       "4      0            373450   8.0500   NaN        S  "
      ]
     },
     "execution_count": 7,
     "metadata": {},
     "output_type": "execute_result"
    }
   ],
   "source": [
    "df = pd.read_csv(\"train.csv\")\n",
    "df.head() # read the first five rows"
   ]
  },
  {
   "cell_type": "markdown",
   "id": "d4b1ee9b",
   "metadata": {},
   "source": [
    "### 3. Undertsand the Data"
   ]
  },
  {
   "cell_type": "code",
   "execution_count": 8,
   "id": "d1a3b6d6",
   "metadata": {},
   "outputs": [
    {
     "name": "stdout",
     "output_type": "stream",
     "text": [
      "<class 'pandas.core.frame.DataFrame'>\n",
      "RangeIndex: 891 entries, 0 to 890\n",
      "Data columns (total 12 columns):\n",
      " #   Column       Non-Null Count  Dtype  \n",
      "---  ------       --------------  -----  \n",
      " 0   PassengerId  891 non-null    int64  \n",
      " 1   Survived     891 non-null    int64  \n",
      " 2   Pclass       891 non-null    int64  \n",
      " 3   Name         891 non-null    object \n",
      " 4   Sex          891 non-null    object \n",
      " 5   Age          714 non-null    float64\n",
      " 6   SibSp        891 non-null    int64  \n",
      " 7   Parch        891 non-null    int64  \n",
      " 8   Ticket       891 non-null    object \n",
      " 9   Fare         891 non-null    float64\n",
      " 10  Cabin        204 non-null    object \n",
      " 11  Embarked     889 non-null    object \n",
      "dtypes: float64(2), int64(5), object(5)\n",
      "memory usage: 83.7+ KB\n"
     ]
    }
   ],
   "source": [
    "# display the dataset information\n",
    "df.info()"
   ]
  },
  {
   "cell_type": "markdown",
   "id": "6fe30ccd",
   "metadata": {},
   "source": [
    "**Ordinal Variable** : *PCLASSS* (The order is important and the numericla operation doesnot make any sense.)\n",
    "\n",
    "**Binary Variable** : *Survived*(It has 2 levels : 0 - Not survived, 1- survived), Sex(2 levels : Male & Female)\n",
    "\n",
    "**Nominal variable** : Name,Ticket, Cabin, Embarked\n",
    "\n",
    "**Discrete Numerical Feature** : SibSp, Parch\n",
    "\n",
    "**Continuous Numerical Feature** : Fare, Age"
   ]
  },
  {
   "cell_type": "code",
   "execution_count": 21,
   "id": "ae123335",
   "metadata": {},
   "outputs": [
    {
     "data": {
      "text/html": [
       "<div>\n",
       "<style scoped>\n",
       "    .dataframe tbody tr th:only-of-type {\n",
       "        vertical-align: middle;\n",
       "    }\n",
       "\n",
       "    .dataframe tbody tr th {\n",
       "        vertical-align: top;\n",
       "    }\n",
       "\n",
       "    .dataframe thead th {\n",
       "        text-align: right;\n",
       "    }\n",
       "</style>\n",
       "<table border=\"1\" class=\"dataframe\">\n",
       "  <thead>\n",
       "    <tr style=\"text-align: right;\">\n",
       "      <th></th>\n",
       "      <th>PassengerId</th>\n",
       "      <th>Survived</th>\n",
       "      <th>Pclass</th>\n",
       "      <th>Age</th>\n",
       "      <th>SibSp</th>\n",
       "      <th>Parch</th>\n",
       "      <th>Fare</th>\n",
       "    </tr>\n",
       "  </thead>\n",
       "  <tbody>\n",
       "    <tr>\n",
       "      <th>count</th>\n",
       "      <td>891.000000</td>\n",
       "      <td>891.000000</td>\n",
       "      <td>891.000000</td>\n",
       "      <td>714.000000</td>\n",
       "      <td>891.000000</td>\n",
       "      <td>891.000000</td>\n",
       "      <td>891.000000</td>\n",
       "    </tr>\n",
       "    <tr>\n",
       "      <th>mean</th>\n",
       "      <td>446.000000</td>\n",
       "      <td>0.383838</td>\n",
       "      <td>2.308642</td>\n",
       "      <td>29.699118</td>\n",
       "      <td>0.523008</td>\n",
       "      <td>0.381594</td>\n",
       "      <td>32.204208</td>\n",
       "    </tr>\n",
       "    <tr>\n",
       "      <th>std</th>\n",
       "      <td>257.353842</td>\n",
       "      <td>0.486592</td>\n",
       "      <td>0.836071</td>\n",
       "      <td>14.526497</td>\n",
       "      <td>1.102743</td>\n",
       "      <td>0.806057</td>\n",
       "      <td>49.693429</td>\n",
       "    </tr>\n",
       "    <tr>\n",
       "      <th>min</th>\n",
       "      <td>1.000000</td>\n",
       "      <td>0.000000</td>\n",
       "      <td>1.000000</td>\n",
       "      <td>0.420000</td>\n",
       "      <td>0.000000</td>\n",
       "      <td>0.000000</td>\n",
       "      <td>0.000000</td>\n",
       "    </tr>\n",
       "    <tr>\n",
       "      <th>5%</th>\n",
       "      <td>45.500000</td>\n",
       "      <td>0.000000</td>\n",
       "      <td>1.000000</td>\n",
       "      <td>4.000000</td>\n",
       "      <td>0.000000</td>\n",
       "      <td>0.000000</td>\n",
       "      <td>7.225000</td>\n",
       "    </tr>\n",
       "    <tr>\n",
       "      <th>25%</th>\n",
       "      <td>223.500000</td>\n",
       "      <td>0.000000</td>\n",
       "      <td>2.000000</td>\n",
       "      <td>20.125000</td>\n",
       "      <td>0.000000</td>\n",
       "      <td>0.000000</td>\n",
       "      <td>7.910400</td>\n",
       "    </tr>\n",
       "    <tr>\n",
       "      <th>50%</th>\n",
       "      <td>446.000000</td>\n",
       "      <td>0.000000</td>\n",
       "      <td>3.000000</td>\n",
       "      <td>28.000000</td>\n",
       "      <td>0.000000</td>\n",
       "      <td>0.000000</td>\n",
       "      <td>14.454200</td>\n",
       "    </tr>\n",
       "    <tr>\n",
       "      <th>75%</th>\n",
       "      <td>668.500000</td>\n",
       "      <td>1.000000</td>\n",
       "      <td>3.000000</td>\n",
       "      <td>38.000000</td>\n",
       "      <td>1.000000</td>\n",
       "      <td>0.000000</td>\n",
       "      <td>31.000000</td>\n",
       "    </tr>\n",
       "    <tr>\n",
       "      <th>90%</th>\n",
       "      <td>802.000000</td>\n",
       "      <td>1.000000</td>\n",
       "      <td>3.000000</td>\n",
       "      <td>50.000000</td>\n",
       "      <td>1.000000</td>\n",
       "      <td>2.000000</td>\n",
       "      <td>77.958300</td>\n",
       "    </tr>\n",
       "    <tr>\n",
       "      <th>95%</th>\n",
       "      <td>846.500000</td>\n",
       "      <td>1.000000</td>\n",
       "      <td>3.000000</td>\n",
       "      <td>56.000000</td>\n",
       "      <td>3.000000</td>\n",
       "      <td>2.000000</td>\n",
       "      <td>112.079150</td>\n",
       "    </tr>\n",
       "    <tr>\n",
       "      <th>99%</th>\n",
       "      <td>882.100000</td>\n",
       "      <td>1.000000</td>\n",
       "      <td>3.000000</td>\n",
       "      <td>65.870000</td>\n",
       "      <td>5.000000</td>\n",
       "      <td>4.000000</td>\n",
       "      <td>249.006220</td>\n",
       "    </tr>\n",
       "    <tr>\n",
       "      <th>max</th>\n",
       "      <td>891.000000</td>\n",
       "      <td>1.000000</td>\n",
       "      <td>3.000000</td>\n",
       "      <td>80.000000</td>\n",
       "      <td>8.000000</td>\n",
       "      <td>6.000000</td>\n",
       "      <td>512.329200</td>\n",
       "    </tr>\n",
       "  </tbody>\n",
       "</table>\n",
       "</div>"
      ],
      "text/plain": [
       "       PassengerId    Survived      Pclass         Age       SibSp  \\\n",
       "count   891.000000  891.000000  891.000000  714.000000  891.000000   \n",
       "mean    446.000000    0.383838    2.308642   29.699118    0.523008   \n",
       "std     257.353842    0.486592    0.836071   14.526497    1.102743   \n",
       "min       1.000000    0.000000    1.000000    0.420000    0.000000   \n",
       "5%       45.500000    0.000000    1.000000    4.000000    0.000000   \n",
       "25%     223.500000    0.000000    2.000000   20.125000    0.000000   \n",
       "50%     446.000000    0.000000    3.000000   28.000000    0.000000   \n",
       "75%     668.500000    1.000000    3.000000   38.000000    1.000000   \n",
       "90%     802.000000    1.000000    3.000000   50.000000    1.000000   \n",
       "95%     846.500000    1.000000    3.000000   56.000000    3.000000   \n",
       "99%     882.100000    1.000000    3.000000   65.870000    5.000000   \n",
       "max     891.000000    1.000000    3.000000   80.000000    8.000000   \n",
       "\n",
       "            Parch        Fare  \n",
       "count  891.000000  891.000000  \n",
       "mean     0.381594   32.204208  \n",
       "std      0.806057   49.693429  \n",
       "min      0.000000    0.000000  \n",
       "5%       0.000000    7.225000  \n",
       "25%      0.000000    7.910400  \n",
       "50%      0.000000   14.454200  \n",
       "75%      0.000000   31.000000  \n",
       "90%      2.000000   77.958300  \n",
       "95%      2.000000  112.079150  \n",
       "99%      4.000000  249.006220  \n",
       "max      6.000000  512.329200  "
      ]
     },
     "execution_count": 21,
     "metadata": {},
     "output_type": "execute_result"
    }
   ],
   "source": [
    "## let us check the descriptive statistics of the dataset\n",
    "df.describe(percentiles=[.05,.25,.5,.75,.9,.95,.99]) # it will given the descriptive statistics of all numerical features by default"
   ]
  },
  {
   "cell_type": "markdown",
   "id": "d8305875",
   "metadata": {},
   "source": [
    "**Assumptions:** \n",
    "1. The children less than 2 years old are not charged\n",
    "2. The highest Fare is 512.392 so it might be possible that the passengers are accompanied by their family and their is a combined ticket which is having this much fare. or, The passenger might be travelling in the first class."
   ]
  },
  {
   "cell_type": "code",
   "execution_count": 19,
   "id": "76e344ca",
   "metadata": {},
   "outputs": [
    {
     "data": {
      "text/plain": [
       "891"
      ]
     },
     "execution_count": 19,
     "metadata": {},
     "output_type": "execute_result"
    }
   ],
   "source": [
    "df['PassengerId'].nunique()"
   ]
  },
  {
   "cell_type": "markdown",
   "id": "b54ef165",
   "metadata": {},
   "source": [
    "All the passeneger IDs are unique hence, this columns will not be useful for our analysis"
   ]
  },
  {
   "cell_type": "code",
   "execution_count": 17,
   "id": "71acc962",
   "metadata": {},
   "outputs": [
    {
     "data": {
      "text/html": [
       "<div>\n",
       "<style scoped>\n",
       "    .dataframe tbody tr th:only-of-type {\n",
       "        vertical-align: middle;\n",
       "    }\n",
       "\n",
       "    .dataframe tbody tr th {\n",
       "        vertical-align: top;\n",
       "    }\n",
       "\n",
       "    .dataframe thead th {\n",
       "        text-align: right;\n",
       "    }\n",
       "</style>\n",
       "<table border=\"1\" class=\"dataframe\">\n",
       "  <thead>\n",
       "    <tr style=\"text-align: right;\">\n",
       "      <th></th>\n",
       "      <th>Name</th>\n",
       "      <th>Sex</th>\n",
       "      <th>Ticket</th>\n",
       "      <th>Cabin</th>\n",
       "      <th>Embarked</th>\n",
       "    </tr>\n",
       "  </thead>\n",
       "  <tbody>\n",
       "    <tr>\n",
       "      <th>count</th>\n",
       "      <td>891</td>\n",
       "      <td>891</td>\n",
       "      <td>891</td>\n",
       "      <td>204</td>\n",
       "      <td>889</td>\n",
       "    </tr>\n",
       "    <tr>\n",
       "      <th>unique</th>\n",
       "      <td>891</td>\n",
       "      <td>2</td>\n",
       "      <td>681</td>\n",
       "      <td>147</td>\n",
       "      <td>3</td>\n",
       "    </tr>\n",
       "    <tr>\n",
       "      <th>top</th>\n",
       "      <td>Williams, Mr. Leslie</td>\n",
       "      <td>male</td>\n",
       "      <td>1601</td>\n",
       "      <td>C23 C25 C27</td>\n",
       "      <td>S</td>\n",
       "    </tr>\n",
       "    <tr>\n",
       "      <th>freq</th>\n",
       "      <td>1</td>\n",
       "      <td>577</td>\n",
       "      <td>7</td>\n",
       "      <td>4</td>\n",
       "      <td>644</td>\n",
       "    </tr>\n",
       "  </tbody>\n",
       "</table>\n",
       "</div>"
      ],
      "text/plain": [
       "                        Name   Sex Ticket        Cabin Embarked\n",
       "count                    891   891    891          204      889\n",
       "unique                   891     2    681          147        3\n",
       "top     Williams, Mr. Leslie  male   1601  C23 C25 C27        S\n",
       "freq                       1   577      7            4      644"
      ]
     },
     "execution_count": 17,
     "metadata": {},
     "output_type": "execute_result"
    }
   ],
   "source": [
    "df.describe(include='object') # descriptive statistics of all the categorical features"
   ]
  },
  {
   "cell_type": "markdown",
   "id": "7374404a",
   "metadata": {},
   "source": [
    "**Assumptions:**\n",
    "1. Thre is a family of 7 people who is travlleing on Ticke number *1601*"
   ]
  },
  {
   "cell_type": "code",
   "execution_count": 22,
   "id": "37944100",
   "metadata": {},
   "outputs": [
    {
     "data": {
      "text/plain": [
       "PassengerId     0.00\n",
       "Survived        0.00\n",
       "Pclass          0.00\n",
       "Name            0.00\n",
       "Sex             0.00\n",
       "Age            19.87\n",
       "SibSp           0.00\n",
       "Parch           0.00\n",
       "Ticket          0.00\n",
       "Fare            0.00\n",
       "Cabin          77.10\n",
       "Embarked        0.22\n",
       "dtype: float64"
      ]
     },
     "execution_count": 22,
     "metadata": {},
     "output_type": "execute_result"
    }
   ],
   "source": [
    "### check for the percentage of missing values\n",
    "round((df.isnull().sum()/len(df))*100,2)"
   ]
  },
  {
   "cell_type": "markdown",
   "id": "2d8f8e83",
   "metadata": {},
   "source": [
    "**Observations**\n",
    "1. 20% of the ages are missing\n",
    "2. Almost 78% of the cabin values are missing\n",
    "3. Nearly 0.2% of th emarked values are missing"
   ]
  },
  {
   "cell_type": "markdown",
   "id": "0c183652",
   "metadata": {},
   "source": [
    "## Analyse the Age Column"
   ]
  },
  {
   "cell_type": "code",
   "execution_count": 23,
   "id": "98482cb4",
   "metadata": {},
   "outputs": [
    {
     "data": {
      "text/plain": [
       "count    714.000000\n",
       "mean      29.699118\n",
       "std       14.526497\n",
       "min        0.420000\n",
       "25%       20.125000\n",
       "50%       28.000000\n",
       "75%       38.000000\n",
       "max       80.000000\n",
       "Name: Age, dtype: float64"
      ]
     },
     "execution_count": 23,
     "metadata": {},
     "output_type": "execute_result"
    }
   ],
   "source": [
    "df['Age'].describe()"
   ]
  },
  {
   "cell_type": "code",
   "execution_count": 36,
   "id": "6e0d8b15",
   "metadata": {},
   "outputs": [
    {
     "data": {
      "text/html": [
       "<div>\n",
       "<style scoped>\n",
       "    .dataframe tbody tr th:only-of-type {\n",
       "        vertical-align: middle;\n",
       "    }\n",
       "\n",
       "    .dataframe tbody tr th {\n",
       "        vertical-align: top;\n",
       "    }\n",
       "\n",
       "    .dataframe thead th {\n",
       "        text-align: right;\n",
       "    }\n",
       "</style>\n",
       "<table border=\"1\" class=\"dataframe\">\n",
       "  <thead>\n",
       "    <tr style=\"text-align: right;\">\n",
       "      <th></th>\n",
       "      <th>Sex</th>\n",
       "      <th>Age</th>\n",
       "    </tr>\n",
       "  </thead>\n",
       "  <tbody>\n",
       "    <tr>\n",
       "      <th>0</th>\n",
       "      <td>female</td>\n",
       "      <td>27.915709</td>\n",
       "    </tr>\n",
       "    <tr>\n",
       "      <th>1</th>\n",
       "      <td>male</td>\n",
       "      <td>30.726645</td>\n",
       "    </tr>\n",
       "  </tbody>\n",
       "</table>\n",
       "</div>"
      ],
      "text/plain": [
       "      Sex        Age\n",
       "0  female  27.915709\n",
       "1    male  30.726645"
      ]
     },
     "execution_count": 36,
     "metadata": {},
     "output_type": "execute_result"
    }
   ],
   "source": [
    "#analyse the age on basis of Gender\n",
    "df.groupby('Sex')['Age'].mean().reset_index()"
   ]
  },
  {
   "cell_type": "code",
   "execution_count": 40,
   "id": "6b189508",
   "metadata": {},
   "outputs": [
    {
     "data": {
      "text/plain": [
       "male      124\n",
       "female     53\n",
       "Name: Sex, dtype: int64"
      ]
     },
     "execution_count": 40,
     "metadata": {},
     "output_type": "execute_result"
    }
   ],
   "source": [
    "df.loc[df['Age'].isnull(),'Sex'].value_counts()"
   ]
  },
  {
   "cell_type": "code",
   "execution_count": null,
   "id": "334461dc",
   "metadata": {},
   "outputs": [],
   "source": [
    "# avg age of male children, female children\n",
    "# avg age of youngsters - male & female separately\n",
    "# avg age of old people - male & feamle separatey\n",
    "# we will find the count of age missing on basis of above parameters and thenimpute the values \n",
    "# Why are we doing this.? to minimze Bias(errors) in our dataset"
   ]
  }
 ],
 "metadata": {
  "kernelspec": {
   "display_name": "Python 3",
   "language": "python",
   "name": "python3"
  },
  "language_info": {
   "codemirror_mode": {
    "name": "ipython",
    "version": 3
   },
   "file_extension": ".py",
   "mimetype": "text/x-python",
   "name": "python",
   "nbconvert_exporter": "python",
   "pygments_lexer": "ipython3",
   "version": "3.8.8"
  }
 },
 "nbformat": 4,
 "nbformat_minor": 5
}
