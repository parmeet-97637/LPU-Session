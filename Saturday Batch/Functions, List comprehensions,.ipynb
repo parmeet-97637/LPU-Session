{
 "cells": [
  {
   "cell_type": "markdown",
   "id": "8abdbc60",
   "metadata": {},
   "source": [
    "# Functions"
   ]
  },
  {
   "cell_type": "code",
   "execution_count": null,
   "id": "73fc6b32",
   "metadata": {},
   "outputs": [],
   "source": [
    "def function_name(parameters):\n",
    "    logic"
   ]
  },
  {
   "cell_type": "code",
   "execution_count": 2,
   "id": "02f98946",
   "metadata": {},
   "outputs": [],
   "source": [
    "list1 = [1,2,3,4,5,6,7,8]"
   ]
  },
  {
   "cell_type": "code",
   "execution_count": 17,
   "id": "f972703d",
   "metadata": {},
   "outputs": [],
   "source": [
    "def custom_square(x):\n",
    "    return x*x"
   ]
  },
  {
   "cell_type": "code",
   "execution_count": 10,
   "id": "9bd2f684",
   "metadata": {
    "scrolled": true
   },
   "outputs": [
    {
     "name": "stdout",
     "output_type": "stream",
     "text": [
      "1 : 1\n",
      "2 : 4\n",
      "3 : 9\n",
      "4 : 16\n",
      "5 : 25\n",
      "6 : 36\n",
      "7 : 49\n",
      "8 : 64\n"
     ]
    }
   ],
   "source": [
    "for i in list1:\n",
    "    print(f'{i} : {custom_square(i)}')"
   ]
  },
  {
   "cell_type": "code",
   "execution_count": 22,
   "id": "a4e9738d",
   "metadata": {},
   "outputs": [],
   "source": [
    "def custom_square1(args):\n",
    "    if not isinstance(args, list):\n",
    "        raise \"Invalid type\"\n",
    "    print(args)\n",
    "    print(type(args))"
   ]
  },
  {
   "cell_type": "code",
   "execution_count": 23,
   "id": "50740678",
   "metadata": {},
   "outputs": [
    {
     "name": "stdout",
     "output_type": "stream",
     "text": [
      "[1, 2, 3, 4, 5, 6, 7, 8]\n",
      "<class 'list'>\n"
     ]
    }
   ],
   "source": [
    "custom_square1(list1)"
   ]
  },
  {
   "cell_type": "code",
   "execution_count": 24,
   "id": "bd85e20e",
   "metadata": {},
   "outputs": [
    {
     "ename": "TypeError",
     "evalue": "exceptions must derive from BaseException",
     "output_type": "error",
     "traceback": [
      "\u001b[1;31m---------------------------------------------------------------------------\u001b[0m",
      "\u001b[1;31mTypeError\u001b[0m                                 Traceback (most recent call last)",
      "\u001b[1;32m<ipython-input-24-901509cd3d47>\u001b[0m in \u001b[0;36m<module>\u001b[1;34m\u001b[0m\n\u001b[1;32m----> 1\u001b[1;33m \u001b[0mcustom_square1\u001b[0m\u001b[1;33m(\u001b[0m\u001b[1;36m1\u001b[0m\u001b[1;33m)\u001b[0m\u001b[1;33m\u001b[0m\u001b[1;33m\u001b[0m\u001b[0m\n\u001b[0m",
      "\u001b[1;32m<ipython-input-22-5a86aec9473e>\u001b[0m in \u001b[0;36mcustom_square1\u001b[1;34m(args)\u001b[0m\n\u001b[0;32m      1\u001b[0m \u001b[1;32mdef\u001b[0m \u001b[0mcustom_square1\u001b[0m\u001b[1;33m(\u001b[0m\u001b[0margs\u001b[0m\u001b[1;33m)\u001b[0m\u001b[1;33m:\u001b[0m\u001b[1;33m\u001b[0m\u001b[1;33m\u001b[0m\u001b[0m\n\u001b[0;32m      2\u001b[0m     \u001b[1;32mif\u001b[0m \u001b[1;32mnot\u001b[0m \u001b[0misinstance\u001b[0m\u001b[1;33m(\u001b[0m\u001b[0margs\u001b[0m\u001b[1;33m,\u001b[0m \u001b[0mlist\u001b[0m\u001b[1;33m)\u001b[0m\u001b[1;33m:\u001b[0m\u001b[1;33m\u001b[0m\u001b[1;33m\u001b[0m\u001b[0m\n\u001b[1;32m----> 3\u001b[1;33m         \u001b[1;32mraise\u001b[0m \u001b[1;34m\"Invalid type\"\u001b[0m\u001b[1;33m\u001b[0m\u001b[1;33m\u001b[0m\u001b[0m\n\u001b[0m\u001b[0;32m      4\u001b[0m     \u001b[0mprint\u001b[0m\u001b[1;33m(\u001b[0m\u001b[0margs\u001b[0m\u001b[1;33m)\u001b[0m\u001b[1;33m\u001b[0m\u001b[1;33m\u001b[0m\u001b[0m\n\u001b[0;32m      5\u001b[0m     \u001b[0mprint\u001b[0m\u001b[1;33m(\u001b[0m\u001b[0mtype\u001b[0m\u001b[1;33m(\u001b[0m\u001b[0margs\u001b[0m\u001b[1;33m)\u001b[0m\u001b[1;33m)\u001b[0m\u001b[1;33m\u001b[0m\u001b[1;33m\u001b[0m\u001b[0m\n",
      "\u001b[1;31mTypeError\u001b[0m: exceptions must derive from BaseException"
     ]
    }
   ],
   "source": [
    "custom_square1(1)"
   ]
  },
  {
   "cell_type": "code",
   "execution_count": 25,
   "id": "919dfaf3",
   "metadata": {},
   "outputs": [],
   "source": [
    "def custom_square1(*args):\n",
    "    print(args)\n",
    "    print(type(args))"
   ]
  },
  {
   "cell_type": "code",
   "execution_count": 26,
   "id": "019bdb91",
   "metadata": {
    "scrolled": true
   },
   "outputs": [
    {
     "name": "stdout",
     "output_type": "stream",
     "text": [
      "((1, 2, 5, 6),)\n",
      "<class 'tuple'>\n"
     ]
    }
   ],
   "source": [
    "custom_square1((1,2,5,6))"
   ]
  },
  {
   "cell_type": "code",
   "execution_count": null,
   "id": "8749be74",
   "metadata": {},
   "outputs": [],
   "source": [
    "-> passing parameters as integers/strings\n",
    "-> passing arguments ->*args\n"
   ]
  },
  {
   "cell_type": "code",
   "execution_count": 38,
   "id": "1a1b49d8",
   "metadata": {},
   "outputs": [],
   "source": [
    "def custom_information(**kargs):\n",
    "    print(kargs)\n",
    "    print(type(kargs))"
   ]
  },
  {
   "cell_type": "code",
   "execution_count": 39,
   "id": "fe10bf8a",
   "metadata": {},
   "outputs": [
    {
     "name": "stdout",
     "output_type": "stream",
     "text": [
      "{'Name': 'Parmeet', 'Age': 27, 'Location': 'Indore'}\n",
      "<class 'dict'>\n"
     ]
    }
   ],
   "source": [
    "custom_information(Name ='Parmeet',Age=27,Location='Indore')"
   ]
  },
  {
   "cell_type": "code",
   "execution_count": 40,
   "id": "22581c9b",
   "metadata": {},
   "outputs": [],
   "source": [
    "def custom_information(*args, **kargs):\n",
    "    print(args)\n",
    "    print(type(args))\n",
    "    print(kargs)\n",
    "    print(type(kargs))"
   ]
  },
  {
   "cell_type": "code",
   "execution_count": 41,
   "id": "002041f2",
   "metadata": {
    "scrolled": true
   },
   "outputs": [
    {
     "name": "stdout",
     "output_type": "stream",
     "text": [
      "([1, 2, 3, 4, 5, 6, 7, 8],)\n",
      "<class 'tuple'>\n",
      "{'Name': 'Parmeet', 'Age': 27, 'Location': 'Indore'}\n",
      "<class 'dict'>\n"
     ]
    }
   ],
   "source": [
    "custom_information(list1,Name ='Parmeet',Age=27,Location='Indore')"
   ]
  },
  {
   "cell_type": "code",
   "execution_count": 45,
   "id": "e11ecc5d",
   "metadata": {},
   "outputs": [],
   "source": [
    "def custom_add(x,y=None):\n",
    "    if y == None:\n",
    "        return x*x\n",
    "    else:\n",
    "        return x+y"
   ]
  },
  {
   "cell_type": "code",
   "execution_count": 47,
   "id": "083d91a2",
   "metadata": {},
   "outputs": [
    {
     "data": {
      "text/plain": [
       "12"
      ]
     },
     "execution_count": 47,
     "metadata": {},
     "output_type": "execute_result"
    }
   ],
   "source": [
    "custom_add(5,7)"
   ]
  },
  {
   "cell_type": "markdown",
   "id": "4d0aaf65",
   "metadata": {},
   "source": [
    "## lambda Function"
   ]
  },
  {
   "cell_type": "code",
   "execution_count": 50,
   "id": "82622978",
   "metadata": {},
   "outputs": [],
   "source": [
    "def square(x):\n",
    "    return x*x"
   ]
  },
  {
   "cell_type": "code",
   "execution_count": 52,
   "id": "5c9d95fb",
   "metadata": {},
   "outputs": [],
   "source": [
    "s = lambda x: x*x"
   ]
  },
  {
   "cell_type": "code",
   "execution_count": 54,
   "id": "8172986d",
   "metadata": {},
   "outputs": [
    {
     "data": {
      "text/plain": [
       "4"
      ]
     },
     "execution_count": 54,
     "metadata": {},
     "output_type": "execute_result"
    }
   ],
   "source": [
    "square(2)"
   ]
  },
  {
   "cell_type": "code",
   "execution_count": 55,
   "id": "d7592a2e",
   "metadata": {},
   "outputs": [
    {
     "data": {
      "text/plain": [
       "4"
      ]
     },
     "execution_count": 55,
     "metadata": {},
     "output_type": "execute_result"
    }
   ],
   "source": [
    "s(2)"
   ]
  },
  {
   "cell_type": "code",
   "execution_count": 56,
   "id": "fe730e5c",
   "metadata": {},
   "outputs": [],
   "source": [
    "def custom_add(x,y):\n",
    "    return x+y"
   ]
  },
  {
   "cell_type": "code",
   "execution_count": 58,
   "id": "34ac8b72",
   "metadata": {},
   "outputs": [],
   "source": [
    "a = lambda x,y : x+y"
   ]
  },
  {
   "cell_type": "code",
   "execution_count": 59,
   "id": "d7f6271b",
   "metadata": {},
   "outputs": [
    {
     "data": {
      "text/plain": [
       "9"
      ]
     },
     "execution_count": 59,
     "metadata": {},
     "output_type": "execute_result"
    }
   ],
   "source": [
    "custom_add(4,5)"
   ]
  },
  {
   "cell_type": "code",
   "execution_count": 61,
   "id": "d250bad9",
   "metadata": {},
   "outputs": [
    {
     "data": {
      "text/plain": [
       "9"
      ]
     },
     "execution_count": 61,
     "metadata": {},
     "output_type": "execute_result"
    }
   ],
   "source": [
    "a(4,5)"
   ]
  },
  {
   "cell_type": "code",
   "execution_count": 62,
   "id": "222f0beb",
   "metadata": {},
   "outputs": [],
   "source": [
    "def greater(x,y):\n",
    "    if x>y:\n",
    "        return x\n",
    "    else:\n",
    "        return y"
   ]
  },
  {
   "cell_type": "code",
   "execution_count": null,
   "id": "89b316df",
   "metadata": {},
   "outputs": [],
   "source": [
    "lambda x,y : True_condition if condition else False_condition"
   ]
  },
  {
   "cell_type": "code",
   "execution_count": 64,
   "id": "eaf3ab24",
   "metadata": {},
   "outputs": [],
   "source": [
    "g = lambda x,y : x if x>y else y"
   ]
  },
  {
   "cell_type": "code",
   "execution_count": 65,
   "id": "4c4ec3f7",
   "metadata": {},
   "outputs": [
    {
     "data": {
      "text/plain": [
       "5"
      ]
     },
     "execution_count": 65,
     "metadata": {},
     "output_type": "execute_result"
    }
   ],
   "source": [
    "greater(5,4)"
   ]
  },
  {
   "cell_type": "code",
   "execution_count": 66,
   "id": "f4b1d2a0",
   "metadata": {},
   "outputs": [
    {
     "data": {
      "text/plain": [
       "5"
      ]
     },
     "execution_count": 66,
     "metadata": {},
     "output_type": "execute_result"
    }
   ],
   "source": [
    "g(5,4)"
   ]
  },
  {
   "cell_type": "code",
   "execution_count": 67,
   "id": "8a7baa05",
   "metadata": {},
   "outputs": [
    {
     "data": {
      "text/plain": [
       "51"
      ]
     },
     "execution_count": 67,
     "metadata": {},
     "output_type": "execute_result"
    }
   ],
   "source": [
    "greater(5,51)"
   ]
  },
  {
   "cell_type": "code",
   "execution_count": 68,
   "id": "9d22d1c5",
   "metadata": {},
   "outputs": [
    {
     "data": {
      "text/plain": [
       "51"
      ]
     },
     "execution_count": 68,
     "metadata": {},
     "output_type": "execute_result"
    }
   ],
   "source": [
    "g (5,51)"
   ]
  },
  {
   "cell_type": "code",
   "execution_count": null,
   "id": "e497935a",
   "metadata": {},
   "outputs": [],
   "source": [
    "## For loops should be avoided"
   ]
  },
  {
   "cell_type": "code",
   "execution_count": null,
   "id": "7fa806a8",
   "metadata": {},
   "outputs": [],
   "source": []
  },
  {
   "cell_type": "markdown",
   "id": "8acc1464",
   "metadata": {},
   "source": [
    "## Map Filter Reduce"
   ]
  },
  {
   "cell_type": "code",
   "execution_count": 1,
   "id": "10444a49",
   "metadata": {},
   "outputs": [],
   "source": [
    "list1 = [1,2,3,4,5,6,7,8]"
   ]
  },
  {
   "cell_type": "code",
   "execution_count": 69,
   "id": "1425db89",
   "metadata": {},
   "outputs": [],
   "source": [
    "# I want to square each number in the list - [1,4,9.....]\n",
    "def square(x):\n",
    "    return x*x"
   ]
  },
  {
   "cell_type": "code",
   "execution_count": 72,
   "id": "4a15790d",
   "metadata": {},
   "outputs": [
    {
     "name": "stdout",
     "output_type": "stream",
     "text": [
      "[1, 4, 9, 16, 25, 36, 49, 64]\n"
     ]
    }
   ],
   "source": [
    "new_list= []\n",
    "for ele in list1:\n",
    "    new_list.append(square(ele))\n",
    "print(new_list)"
   ]
  },
  {
   "cell_type": "code",
   "execution_count": 74,
   "id": "3b1da450",
   "metadata": {},
   "outputs": [
    {
     "name": "stdout",
     "output_type": "stream",
     "text": [
      "[1, 4, 9, 16, 25, 36, 49, 64]\n"
     ]
    }
   ],
   "source": [
    "# list comprehensions \n",
    "new_list = [ele * ele for ele in list1]\n",
    "print(new_list)"
   ]
  },
  {
   "cell_type": "code",
   "execution_count": null,
   "id": "f83a445f",
   "metadata": {},
   "outputs": [],
   "source": [
    "# Map ->iterables->list,tuples,dictionaries,sets,strings\n",
    "map(function_name,iterables)"
   ]
  },
  {
   "cell_type": "code",
   "execution_count": 75,
   "id": "ea4ab8a8",
   "metadata": {},
   "outputs": [
    {
     "data": {
      "text/plain": [
       "<map at 0x26930a17460>"
      ]
     },
     "execution_count": 75,
     "metadata": {},
     "output_type": "execute_result"
    }
   ],
   "source": [
    "map(lambda x: x*x, list1) -> return object, map this to another iterable to gte the output"
   ]
  },
  {
   "cell_type": "code",
   "execution_count": 77,
   "id": "3576fd4a",
   "metadata": {},
   "outputs": [
    {
     "data": {
      "text/plain": [
       "[1, 4, 9, 16, 25, 36, 49, 64]"
      ]
     },
     "execution_count": 77,
     "metadata": {},
     "output_type": "execute_result"
    }
   ],
   "source": [
    "list(map(lambda x: x*x, list1))"
   ]
  },
  {
   "cell_type": "code",
   "execution_count": 78,
   "id": "d7d63fab",
   "metadata": {},
   "outputs": [
    {
     "data": {
      "text/plain": [
       "[1, 2, 3, 4, 5, 6, 7, 8]"
      ]
     },
     "execution_count": 78,
     "metadata": {},
     "output_type": "execute_result"
    }
   ],
   "source": [
    "list1"
   ]
  },
  {
   "cell_type": "code",
   "execution_count": null,
   "id": "33242247",
   "metadata": {},
   "outputs": [],
   "source": [
    "map(funtion_name,iterables) ->object\n",
    "list(map(funtion_name,iterables))"
   ]
  },
  {
   "cell_type": "code",
   "execution_count": 79,
   "id": "05eda7f8",
   "metadata": {},
   "outputs": [
    {
     "data": {
      "text/plain": [
       "[1, 2, 3, 4, 5, 6, 7, 8]"
      ]
     },
     "execution_count": 79,
     "metadata": {},
     "output_type": "execute_result"
    }
   ],
   "source": [
    "list1"
   ]
  },
  {
   "cell_type": "code",
   "execution_count": 80,
   "id": "89f6bf02",
   "metadata": {},
   "outputs": [
    {
     "data": {
      "text/plain": [
       "[1, 8, 27, 64, 125, 216, 343, 512]"
      ]
     },
     "execution_count": 80,
     "metadata": {},
     "output_type": "execute_result"
    }
   ],
   "source": [
    "list(map(lambda x: x**3, list1))"
   ]
  },
  {
   "cell_type": "code",
   "execution_count": 81,
   "id": "f65c3855",
   "metadata": {},
   "outputs": [],
   "source": [
    "def odd_even(x):\n",
    "    if x%2==0:\n",
    "        return x**2\n",
    "    else:\n",
    "        return x**3"
   ]
  },
  {
   "cell_type": "code",
   "execution_count": 85,
   "id": "f6dd0645",
   "metadata": {},
   "outputs": [
    {
     "data": {
      "text/plain": [
       "[1, 4, 27, 16, 125, 36, 343, 64]"
      ]
     },
     "execution_count": 85,
     "metadata": {},
     "output_type": "execute_result"
    }
   ],
   "source": [
    "list(map(odd_even,list1))"
   ]
  },
  {
   "cell_type": "code",
   "execution_count": 87,
   "id": "d91d470b",
   "metadata": {},
   "outputs": [
    {
     "data": {
      "text/plain": [
       "[1, 4, 27, 16, 125, 36, 343, 64]"
      ]
     },
     "execution_count": 87,
     "metadata": {},
     "output_type": "execute_result"
    }
   ],
   "source": [
    "list(map(lambda x: x**2 if x%2==0 else x**3,list1))"
   ]
  },
  {
   "cell_type": "code",
   "execution_count": 88,
   "id": "175e23f1",
   "metadata": {},
   "outputs": [
    {
     "data": {
      "text/plain": [
       "[1, 2, 3, 4, 5, 6, 7, 8]"
      ]
     },
     "execution_count": 88,
     "metadata": {},
     "output_type": "execute_result"
    }
   ],
   "source": [
    "list1"
   ]
  },
  {
   "cell_type": "code",
   "execution_count": null,
   "id": "a56a94a1",
   "metadata": {},
   "outputs": [],
   "source": [
    "# ouput should be all odd numbers -> [1,3,5,7]\n",
    "# filter\n",
    "filter(function_name,iterables)"
   ]
  },
  {
   "cell_type": "code",
   "execution_count": 92,
   "id": "aebe8dfb",
   "metadata": {},
   "outputs": [
    {
     "data": {
      "text/plain": [
       "[1, 3, 5, 7]"
      ]
     },
     "execution_count": 92,
     "metadata": {},
     "output_type": "execute_result"
    }
   ],
   "source": [
    "list(filter(lambda x: x%2!=0,list1))"
   ]
  },
  {
   "cell_type": "code",
   "execution_count": 93,
   "id": "3e2caa03",
   "metadata": {},
   "outputs": [
    {
     "data": {
      "text/plain": [
       "[2, 4, 6, 8]"
      ]
     },
     "execution_count": 93,
     "metadata": {},
     "output_type": "execute_result"
    }
   ],
   "source": [
    "list(filter(lambda x: x%2==0,list1))"
   ]
  },
  {
   "cell_type": "markdown",
   "id": "7a9f8595",
   "metadata": {},
   "source": [
    "# reduce -> it will return only single output\n",
    "reduce(function_name,iterables)\n"
   ]
  },
  {
   "cell_type": "code",
   "execution_count": 94,
   "id": "af0336d0",
   "metadata": {},
   "outputs": [
    {
     "data": {
      "text/plain": [
       "[1, 2, 3, 4, 5, 6, 7, 8]"
      ]
     },
     "execution_count": 94,
     "metadata": {},
     "output_type": "execute_result"
    }
   ],
   "source": [
    "list1 -> sum"
   ]
  },
  {
   "cell_type": "code",
   "execution_count": 95,
   "id": "46f25986",
   "metadata": {},
   "outputs": [],
   "source": [
    "from functools import reduce"
   ]
  },
  {
   "cell_type": "code",
   "execution_count": 96,
   "id": "f1170e48",
   "metadata": {},
   "outputs": [
    {
     "data": {
      "text/plain": [
       "36"
      ]
     },
     "execution_count": 96,
     "metadata": {},
     "output_type": "execute_result"
    }
   ],
   "source": [
    "reduce(lambda x,y : x+y, list1)"
   ]
  },
  {
   "cell_type": "code",
   "execution_count": 97,
   "id": "54aff52f",
   "metadata": {},
   "outputs": [],
   "source": [
    "list2 = [4,87,234,7,2,0,1]"
   ]
  },
  {
   "cell_type": "code",
   "execution_count": 101,
   "id": "40a32909",
   "metadata": {},
   "outputs": [
    {
     "data": {
      "text/plain": [
       "234"
      ]
     },
     "execution_count": 101,
     "metadata": {},
     "output_type": "execute_result"
    }
   ],
   "source": [
    "reduce(lambda x,y : x if x>y else y, list2)"
   ]
  },
  {
   "cell_type": "code",
   "execution_count": null,
   "id": "25013921",
   "metadata": {},
   "outputs": [],
   "source": [
    "# Map -> it will map each element and retun the same number of elements\n",
    "# Filter -> it ill filter the elements based on the conditions\n",
    "# Reduce -> will reduce the iterables and return the single output\n"
   ]
  },
  {
   "cell_type": "code",
   "execution_count": 102,
   "id": "c807d241",
   "metadata": {},
   "outputs": [
    {
     "data": {
      "text/plain": [
       "[1, 2, 3, 4, 5, 6, 7, 8]"
      ]
     },
     "execution_count": 102,
     "metadata": {},
     "output_type": "execute_result"
    }
   ],
   "source": [
    "list1"
   ]
  },
  {
   "cell_type": "code",
   "execution_count": null,
   "id": "5cab71f7",
   "metadata": {},
   "outputs": [],
   "source": [
    "{1:1,2:4,3:9,4:16,5:25}"
   ]
  },
  {
   "cell_type": "code",
   "execution_count": 103,
   "id": "4c650748",
   "metadata": {},
   "outputs": [
    {
     "data": {
      "text/plain": [
       "{1: 1, 2: 4, 3: 9, 4: 16, 5: 25, 6: 36, 7: 49, 8: 64}"
      ]
     },
     "execution_count": 103,
     "metadata": {},
     "output_type": "execute_result"
    }
   ],
   "source": [
    "dict1={}\n",
    "for ele in list1:\n",
    "    dict1[ele] = ele* ele\n",
    "dict1"
   ]
  },
  {
   "cell_type": "code",
   "execution_count": 104,
   "id": "d8858d5b",
   "metadata": {},
   "outputs": [],
   "source": [
    "dict1 = {ele:ele*ele for ele in list1}"
   ]
  },
  {
   "cell_type": "code",
   "execution_count": 105,
   "id": "3339f26b",
   "metadata": {},
   "outputs": [
    {
     "data": {
      "text/plain": [
       "{1: 1, 2: 4, 3: 9, 4: 16, 5: 25, 6: 36, 7: 49, 8: 64}"
      ]
     },
     "execution_count": 105,
     "metadata": {},
     "output_type": "execute_result"
    }
   ],
   "source": [
    "dict1"
   ]
  },
  {
   "cell_type": "code",
   "execution_count": null,
   "id": "e461f80c",
   "metadata": {},
   "outputs": [],
   "source": []
  },
  {
   "cell_type": "code",
   "execution_count": null,
   "id": "89b9389b",
   "metadata": {},
   "outputs": [],
   "source": []
  }
 ],
 "metadata": {
  "kernelspec": {
   "display_name": "Python 3",
   "language": "python",
   "name": "python3"
  },
  "language_info": {
   "codemirror_mode": {
    "name": "ipython",
    "version": 3
   },
   "file_extension": ".py",
   "mimetype": "text/x-python",
   "name": "python",
   "nbconvert_exporter": "python",
   "pygments_lexer": "ipython3",
   "version": "3.8.8"
  }
 },
 "nbformat": 4,
 "nbformat_minor": 5
}
